{
 "cells": [
  {
   "cell_type": "code",
   "execution_count": 1,
   "id": "73117e43",
   "metadata": {},
   "outputs": [
    {
     "name": "stdout",
     "output_type": "stream",
     "text": [
      "Collecting imbalanced-learn\n",
      "  Downloading imbalanced_learn-0.12.3-py3-none-any.whl (258 kB)\n",
      "\u001b[K     |████████████████████████████████| 258 kB 1.2 MB/s eta 0:00:01\n",
      "\u001b[?25hRequirement already satisfied: threadpoolctl>=2.0.0 in /opt/conda/lib/python3.9/site-packages (from imbalanced-learn) (3.1.0)\n",
      "Requirement already satisfied: scipy>=1.5.0 in /opt/conda/lib/python3.9/site-packages (from imbalanced-learn) (1.9.1)\n",
      "Requirement already satisfied: numpy>=1.17.3 in /opt/conda/lib/python3.9/site-packages (from imbalanced-learn) (1.21.1)\n",
      "Collecting scikit-learn>=1.0.2\n",
      "  Downloading scikit_learn-1.5.1-cp39-cp39-manylinux_2_17_x86_64.manylinux2014_x86_64.whl (13.4 MB)\n",
      "\u001b[K     |████████████████████████████████| 13.4 MB 15.9 MB/s eta 0:00:01\n",
      "\u001b[?25hCollecting joblib>=1.1.1\n",
      "  Downloading joblib-1.4.2-py3-none-any.whl (301 kB)\n",
      "\u001b[K     |████████████████████████████████| 301 kB 63.3 MB/s eta 0:00:01\n",
      "\u001b[?25hInstalling collected packages: joblib, scikit-learn, imbalanced-learn\n",
      "  Attempting uninstall: joblib\n",
      "    Found existing installation: joblib 1.1.0\n",
      "    Uninstalling joblib-1.1.0:\n",
      "      Successfully uninstalled joblib-1.1.0\n",
      "  Attempting uninstall: scikit-learn\n",
      "    Found existing installation: scikit-learn 0.24.1\n",
      "    Uninstalling scikit-learn-0.24.1:\n",
      "      Successfully uninstalled scikit-learn-0.24.1\n",
      "Successfully installed imbalanced-learn-0.12.3 joblib-1.4.2 scikit-learn-1.5.1\n",
      "Collecting shap\n",
      "  Downloading shap-0.46.0-cp39-cp39-manylinux_2_12_x86_64.manylinux2010_x86_64.manylinux_2_17_x86_64.manylinux2014_x86_64.whl (539 kB)\n",
      "\u001b[K     |████████████████████████████████| 539 kB 1.1 MB/s eta 0:00:01\n",
      "\u001b[?25hRequirement already satisfied: numpy in /opt/conda/lib/python3.9/site-packages (from shap) (1.21.1)\n",
      "Requirement already satisfied: tqdm>=4.27.0 in /opt/conda/lib/python3.9/site-packages (from shap) (4.61.2)\n",
      "Collecting slicer==0.0.8\n",
      "  Downloading slicer-0.0.8-py3-none-any.whl (15 kB)\n",
      "Requirement already satisfied: pandas in /opt/conda/lib/python3.9/site-packages (from shap) (1.2.4)\n",
      "Requirement already satisfied: scipy in /opt/conda/lib/python3.9/site-packages (from shap) (1.9.1)\n",
      "Requirement already satisfied: numba in /opt/conda/lib/python3.9/site-packages (from shap) (0.56.0)\n",
      "Requirement already satisfied: packaging>20.9 in /opt/conda/lib/python3.9/site-packages (from shap) (21.3)\n",
      "Requirement already satisfied: scikit-learn in /opt/conda/lib/python3.9/site-packages (from shap) (1.5.1)\n",
      "Collecting cloudpickle\n",
      "  Downloading cloudpickle-3.0.0-py3-none-any.whl (20 kB)\n",
      "Requirement already satisfied: pyparsing!=3.0.5,>=2.0.2 in /opt/conda/lib/python3.9/site-packages (from packaging>20.9->shap) (2.4.7)\n",
      "Requirement already satisfied: llvmlite<0.40,>=0.39.0dev0 in /opt/conda/lib/python3.9/site-packages (from numba->shap) (0.39.0)\n",
      "Requirement already satisfied: setuptools in /opt/conda/lib/python3.9/site-packages (from numba->shap) (49.6.0.post20210108)\n",
      "Requirement already satisfied: python-dateutil>=2.7.3 in /opt/conda/lib/python3.9/site-packages (from pandas->shap) (2.8.1)\n",
      "Requirement already satisfied: pytz>=2017.3 in /opt/conda/lib/python3.9/site-packages (from pandas->shap) (2021.1)\n",
      "Requirement already satisfied: six>=1.5 in /opt/conda/lib/python3.9/site-packages (from python-dateutil>=2.7.3->pandas->shap) (1.16.0)\n",
      "Requirement already satisfied: joblib>=1.2.0 in /opt/conda/lib/python3.9/site-packages (from scikit-learn->shap) (1.4.2)\n",
      "Requirement already satisfied: threadpoolctl>=3.1.0 in /opt/conda/lib/python3.9/site-packages (from scikit-learn->shap) (3.1.0)\n",
      "Installing collected packages: slicer, cloudpickle, shap\n",
      "Successfully installed cloudpickle-3.0.0 shap-0.46.0 slicer-0.0.8\n"
     ]
    }
   ],
   "source": [
    "!pip install -U imbalanced-learn\n",
    "!pip install phik -q\n",
    "!pip install shap"
   ]
  },
  {
   "cell_type": "markdown",
   "id": "b13d896f",
   "metadata": {},
   "source": [
    "# Проект: Предсказание стартапов"
   ]
  },
  {
   "cell_type": "markdown",
   "id": "f566b967",
   "metadata": {},
   "source": [
    "<b>Цель проекта:</b> разработать модель машинного обучения для предсказания продолжения деятельности стартапа. А так же провести полноценный разведочный анализ и сформировать рекомендации будущим создателям стартапов (какие факторы влияют на успешность стартапа)."
   ]
  },
  {
   "cell_type": "markdown",
   "id": "7902fff1",
   "metadata": {},
   "source": [
    "<b>Этапы проекта: </b>\n",
    "   1. Открыть файлы с данными.\n",
    "   2. Провести предобработку данных.\n",
    "   3. Провести исследовательский анализ данных.\n",
    "   4. Провести корреляционный анализ признаков данных.\n",
    "   4. Обучить несколько моделей и выбрать лучшую.\n",
    "   2. Оценить важность признаков."
   ]
  },
  {
   "cell_type": "markdown",
   "id": "b7fc54bf",
   "metadata": {},
   "source": [
    "<b> Описание данных: </b>  \n",
    "Работа ведется с двумя датасетами.  \n",
    "\n",
    "\n",
    "`kaggle_startups_train_01.csv` - информация (53 000) о стартапах, которые будут использоваться в качестве обучающих данных.  \n",
    "`kaggle_startups_test_01.csv` - информация (13 000) о стартапах, которые будут использоваться в качестве тестовых данных.  \n",
    "\n",
    "Описание полей данных  \n",
    "* `name` - Название стартапа. Идентификатор.  \n",
    "* `category_list` - Список категорий, к которым относится стартап.  \n",
    "* `funding_total_usd` - Общая сумма финансирования в USD.  \n",
    "* `status` - Статус стартапа (закрыт или действующий), целевой признак.  \n",
    "* `country_code` - Код страны.  \n",
    "* `state_code` - Код штата.  \n",
    "* `region` - Регион.  \n",
    "* `city` - Город.  \n",
    "* `funding_rounds` - Количество раундов финансирования.  \n",
    "* `founded_at` - Дата основания.  \n",
    "* `first_funding_at` - Дата первого раунда финансирования.  \n",
    "* `last_funding_at` - Дата последнего раунда финансирования.  \n",
    "* `closed_at` - Дата закрытия стартапа (если применимо).  \n",
    "* `lifetime` - Время существования стартапа в днях.  "
   ]
  },
  {
   "cell_type": "markdown",
   "id": "c40d65b8",
   "metadata": {},
   "source": [
    "### Загрузка данных\n"
   ]
  },
  {
   "cell_type": "markdown",
   "id": "9ddbcf9f",
   "metadata": {},
   "source": [
    "Импортируем библиотеки"
   ]
  },
  {
   "cell_type": "code",
   "execution_count": 2,
   "id": "e26cd8fd",
   "metadata": {},
   "outputs": [],
   "source": [
    "import warnings\n",
    "warnings.filterwarnings(\"ignore\")\n",
    "\n",
    "import numpy as np\n",
    "import pandas as pd\n",
    "import seaborn as sns\n",
    "import matplotlib.pyplot as plt\n",
    "from sklearn.compose import ColumnTransformer\n",
    "from sklearn.impute import SimpleImputer\n",
    "from sklearn.linear_model import LinearRegression, LogisticRegression\n",
    "from sklearn.metrics import mean_squared_error, roc_auc_score, make_scorer\n",
    "from sklearn.model_selection import RandomizedSearchCV, train_test_split\n",
    "from sklearn.neighbors import KNeighborsClassifier\n",
    "from sklearn.pipeline import Pipeline\n",
    "from sklearn.preprocessing import (\n",
    "    FunctionTransformer,\n",
    "    MinMaxScaler,\n",
    "    OneHotEncoder,\n",
    "    StandardScaler\n",
    ")\n",
    "from sklearn.svm import SVC\n",
    "from sklearn.tree import DecisionTreeClassifier, DecisionTreeRegressor\n",
    "import phik\n",
    "from datetime import datetime\n",
    "from imblearn.over_sampling import RandomOverSampler\n",
    "from sklearn.metrics import f1_score\n",
    "import shap\n",
    "from sklearn.metrics import roc_auc_score, accuracy_score, confusion_matrix\n",
    "from sklearn.compose import ColumnTransformer, make_column_selector, make_column_transformer\n",
    "from sklearn.linear_model import Ridge, LinearRegression\n",
    "from catboost import CatBoostClassifier, CatBoostRegressor\n",
    "from sklearn.metrics import confusion_matrix, precision_score, recall_score"
   ]
  },
  {
   "cell_type": "code",
   "execution_count": 3,
   "id": "a592e769",
   "metadata": {},
   "outputs": [],
   "source": [
    "# Определение констант\n",
    "RANDOM_STATE = 42\n",
    "END_OF_DATE = '2018-01-01'"
   ]
  },
  {
   "cell_type": "markdown",
   "id": "89f72aec",
   "metadata": {},
   "source": [
    "Загружаем данные"
   ]
  },
  {
   "cell_type": "code",
   "execution_count": 4,
   "id": "82bbad22",
   "metadata": {},
   "outputs": [],
   "source": [
    "data_train = pd.read_csv('kaggle_startups_train_28062024.csv')\n",
    "data_test = pd.read_csv('kaggle_startups_test_28062024.csv')"
   ]
  },
  {
   "cell_type": "markdown",
   "id": "daebace5",
   "metadata": {},
   "source": [
    "Посмотрим на общую информацию и на первые 5 строк датасетов"
   ]
  },
  {
   "cell_type": "code",
   "execution_count": 5,
   "id": "26b4f08c",
   "metadata": {},
   "outputs": [
    {
     "name": "stdout",
     "output_type": "stream",
     "text": [
      "<class 'pandas.core.frame.DataFrame'>\n",
      "RangeIndex: 52516 entries, 0 to 52515\n",
      "Data columns (total 13 columns):\n",
      " #   Column             Non-Null Count  Dtype  \n",
      "---  ------             --------------  -----  \n",
      " 0   name               52515 non-null  object \n",
      " 1   category_list      50051 non-null  object \n",
      " 2   funding_total_usd  42447 non-null  float64\n",
      " 3   status             52516 non-null  object \n",
      " 4   country_code       47014 non-null  object \n",
      " 5   state_code         45753 non-null  object \n",
      " 6   region             46157 non-null  object \n",
      " 7   city               46157 non-null  object \n",
      " 8   funding_rounds     52516 non-null  int64  \n",
      " 9   founded_at         52516 non-null  object \n",
      " 10  first_funding_at   52516 non-null  object \n",
      " 11  last_funding_at    52516 non-null  object \n",
      " 12  closed_at          4917 non-null   object \n",
      "dtypes: float64(1), int64(1), object(11)\n",
      "memory usage: 5.2+ MB\n"
     ]
    },
    {
     "data": {
      "text/plain": [
       "None"
      ]
     },
     "metadata": {},
     "output_type": "display_data"
    },
    {
     "data": {
      "text/html": [
       "<div>\n",
       "<style scoped>\n",
       "    .dataframe tbody tr th:only-of-type {\n",
       "        vertical-align: middle;\n",
       "    }\n",
       "\n",
       "    .dataframe tbody tr th {\n",
       "        vertical-align: top;\n",
       "    }\n",
       "\n",
       "    .dataframe thead th {\n",
       "        text-align: right;\n",
       "    }\n",
       "</style>\n",
       "<table border=\"1\" class=\"dataframe\">\n",
       "  <thead>\n",
       "    <tr style=\"text-align: right;\">\n",
       "      <th></th>\n",
       "      <th>name</th>\n",
       "      <th>category_list</th>\n",
       "      <th>funding_total_usd</th>\n",
       "      <th>status</th>\n",
       "      <th>country_code</th>\n",
       "      <th>state_code</th>\n",
       "      <th>region</th>\n",
       "      <th>city</th>\n",
       "      <th>funding_rounds</th>\n",
       "      <th>founded_at</th>\n",
       "      <th>first_funding_at</th>\n",
       "      <th>last_funding_at</th>\n",
       "      <th>closed_at</th>\n",
       "    </tr>\n",
       "  </thead>\n",
       "  <tbody>\n",
       "    <tr>\n",
       "      <th>0</th>\n",
       "      <td>Lunchgate</td>\n",
       "      <td>Online Reservations|Restaurants</td>\n",
       "      <td>828626.0</td>\n",
       "      <td>operating</td>\n",
       "      <td>CHE</td>\n",
       "      <td>25</td>\n",
       "      <td>Zurich</td>\n",
       "      <td>Zürich</td>\n",
       "      <td>2</td>\n",
       "      <td>2009-10-17</td>\n",
       "      <td>2011-05-01</td>\n",
       "      <td>2014-12-01</td>\n",
       "      <td>NaN</td>\n",
       "    </tr>\n",
       "    <tr>\n",
       "      <th>1</th>\n",
       "      <td>EarLens</td>\n",
       "      <td>Manufacturing|Medical|Medical Devices</td>\n",
       "      <td>42935019.0</td>\n",
       "      <td>operating</td>\n",
       "      <td>USA</td>\n",
       "      <td>CA</td>\n",
       "      <td>SF Bay Area</td>\n",
       "      <td>Redwood City</td>\n",
       "      <td>4</td>\n",
       "      <td>2005-01-01</td>\n",
       "      <td>2010-05-04</td>\n",
       "      <td>2014-02-25</td>\n",
       "      <td>NaN</td>\n",
       "    </tr>\n",
       "    <tr>\n",
       "      <th>2</th>\n",
       "      <td>Reviva Pharmaceuticals</td>\n",
       "      <td>Biotechnology</td>\n",
       "      <td>35456381.0</td>\n",
       "      <td>operating</td>\n",
       "      <td>USA</td>\n",
       "      <td>CA</td>\n",
       "      <td>SF Bay Area</td>\n",
       "      <td>San Jose</td>\n",
       "      <td>3</td>\n",
       "      <td>2006-01-01</td>\n",
       "      <td>2012-08-20</td>\n",
       "      <td>2014-07-02</td>\n",
       "      <td>NaN</td>\n",
       "    </tr>\n",
       "    <tr>\n",
       "      <th>3</th>\n",
       "      <td>Sancilio and Company</td>\n",
       "      <td>Health Care</td>\n",
       "      <td>22250000.0</td>\n",
       "      <td>operating</td>\n",
       "      <td>NaN</td>\n",
       "      <td>NaN</td>\n",
       "      <td>NaN</td>\n",
       "      <td>NaN</td>\n",
       "      <td>3</td>\n",
       "      <td>2004-01-01</td>\n",
       "      <td>2011-09-01</td>\n",
       "      <td>2014-07-18</td>\n",
       "      <td>NaN</td>\n",
       "    </tr>\n",
       "    <tr>\n",
       "      <th>4</th>\n",
       "      <td>WireTough Cylinders</td>\n",
       "      <td>Manufacturing</td>\n",
       "      <td>NaN</td>\n",
       "      <td>operating</td>\n",
       "      <td>USA</td>\n",
       "      <td>VA</td>\n",
       "      <td>VA - Other</td>\n",
       "      <td>Bristol</td>\n",
       "      <td>1</td>\n",
       "      <td>2010-05-12</td>\n",
       "      <td>2012-02-01</td>\n",
       "      <td>2012-02-01</td>\n",
       "      <td>NaN</td>\n",
       "    </tr>\n",
       "  </tbody>\n",
       "</table>\n",
       "</div>"
      ],
      "text/plain": [
       "                     name                          category_list  \\\n",
       "0               Lunchgate        Online Reservations|Restaurants   \n",
       "1                 EarLens  Manufacturing|Medical|Medical Devices   \n",
       "2  Reviva Pharmaceuticals                          Biotechnology   \n",
       "3    Sancilio and Company                            Health Care   \n",
       "4     WireTough Cylinders                          Manufacturing   \n",
       "\n",
       "   funding_total_usd     status country_code state_code       region  \\\n",
       "0           828626.0  operating          CHE         25       Zurich   \n",
       "1         42935019.0  operating          USA         CA  SF Bay Area   \n",
       "2         35456381.0  operating          USA         CA  SF Bay Area   \n",
       "3         22250000.0  operating          NaN        NaN          NaN   \n",
       "4                NaN  operating          USA         VA   VA - Other   \n",
       "\n",
       "           city  funding_rounds  founded_at first_funding_at last_funding_at  \\\n",
       "0        Zürich               2  2009-10-17       2011-05-01      2014-12-01   \n",
       "1  Redwood City               4  2005-01-01       2010-05-04      2014-02-25   \n",
       "2      San Jose               3  2006-01-01       2012-08-20      2014-07-02   \n",
       "3           NaN               3  2004-01-01       2011-09-01      2014-07-18   \n",
       "4       Bristol               1  2010-05-12       2012-02-01      2012-02-01   \n",
       "\n",
       "  closed_at  \n",
       "0       NaN  \n",
       "1       NaN  \n",
       "2       NaN  \n",
       "3       NaN  \n",
       "4       NaN  "
      ]
     },
     "metadata": {},
     "output_type": "display_data"
    }
   ],
   "source": [
    "display (data_train.info())\n",
    "display (data_train.head())"
   ]
  },
  {
   "cell_type": "code",
   "execution_count": 6,
   "id": "96e06ab7",
   "metadata": {},
   "outputs": [
    {
     "name": "stdout",
     "output_type": "stream",
     "text": [
      "<class 'pandas.core.frame.DataFrame'>\n",
      "RangeIndex: 13125 entries, 0 to 13124\n",
      "Data columns (total 11 columns):\n",
      " #   Column             Non-Null Count  Dtype  \n",
      "---  ------             --------------  -----  \n",
      " 0   name               13125 non-null  object \n",
      " 1   category_list      12534 non-null  object \n",
      " 2   funding_total_usd  10547 non-null  float64\n",
      " 3   country_code       11743 non-null  object \n",
      " 4   state_code         11430 non-null  object \n",
      " 5   region             11536 non-null  object \n",
      " 6   city               11538 non-null  object \n",
      " 7   funding_rounds     13125 non-null  int64  \n",
      " 8   first_funding_at   13125 non-null  object \n",
      " 9   last_funding_at    13125 non-null  object \n",
      " 10  lifetime           13125 non-null  int64  \n",
      "dtypes: float64(1), int64(2), object(8)\n",
      "memory usage: 1.1+ MB\n"
     ]
    },
    {
     "data": {
      "text/plain": [
       "None"
      ]
     },
     "metadata": {},
     "output_type": "display_data"
    },
    {
     "data": {
      "text/html": [
       "<div>\n",
       "<style scoped>\n",
       "    .dataframe tbody tr th:only-of-type {\n",
       "        vertical-align: middle;\n",
       "    }\n",
       "\n",
       "    .dataframe tbody tr th {\n",
       "        vertical-align: top;\n",
       "    }\n",
       "\n",
       "    .dataframe thead th {\n",
       "        text-align: right;\n",
       "    }\n",
       "</style>\n",
       "<table border=\"1\" class=\"dataframe\">\n",
       "  <thead>\n",
       "    <tr style=\"text-align: right;\">\n",
       "      <th></th>\n",
       "      <th>name</th>\n",
       "      <th>category_list</th>\n",
       "      <th>funding_total_usd</th>\n",
       "      <th>country_code</th>\n",
       "      <th>state_code</th>\n",
       "      <th>region</th>\n",
       "      <th>city</th>\n",
       "      <th>funding_rounds</th>\n",
       "      <th>first_funding_at</th>\n",
       "      <th>last_funding_at</th>\n",
       "      <th>lifetime</th>\n",
       "    </tr>\n",
       "  </thead>\n",
       "  <tbody>\n",
       "    <tr>\n",
       "      <th>0</th>\n",
       "      <td>Crystalsol</td>\n",
       "      <td>Clean Technology</td>\n",
       "      <td>2819200.0</td>\n",
       "      <td>NIC</td>\n",
       "      <td>17</td>\n",
       "      <td>NaN</td>\n",
       "      <td>NaN</td>\n",
       "      <td>1</td>\n",
       "      <td>2009-07-01</td>\n",
       "      <td>2009-07-01</td>\n",
       "      <td>3501</td>\n",
       "    </tr>\n",
       "    <tr>\n",
       "      <th>1</th>\n",
       "      <td>JBI Fish &amp; Wings</td>\n",
       "      <td>Hospitality</td>\n",
       "      <td>NaN</td>\n",
       "      <td>USA</td>\n",
       "      <td>TN</td>\n",
       "      <td>TN - Other</td>\n",
       "      <td>Humboldt</td>\n",
       "      <td>1</td>\n",
       "      <td>2010-07-28</td>\n",
       "      <td>2010-07-28</td>\n",
       "      <td>2717</td>\n",
       "    </tr>\n",
       "    <tr>\n",
       "      <th>2</th>\n",
       "      <td>COINPLUS</td>\n",
       "      <td>Finance</td>\n",
       "      <td>428257.0</td>\n",
       "      <td>LUX</td>\n",
       "      <td>3</td>\n",
       "      <td>Esch-sur-alzette</td>\n",
       "      <td>Esch-sur-alzette</td>\n",
       "      <td>2</td>\n",
       "      <td>2014-05-15</td>\n",
       "      <td>2014-09-18</td>\n",
       "      <td>1295</td>\n",
       "    </tr>\n",
       "    <tr>\n",
       "      <th>3</th>\n",
       "      <td>Imagine Communications</td>\n",
       "      <td>Software|Video|Video Streaming</td>\n",
       "      <td>34700000.0</td>\n",
       "      <td>USA</td>\n",
       "      <td>CA</td>\n",
       "      <td>San Diego</td>\n",
       "      <td>San Diego</td>\n",
       "      <td>4</td>\n",
       "      <td>2005-01-01</td>\n",
       "      <td>2010-04-20</td>\n",
       "      <td>4748</td>\n",
       "    </tr>\n",
       "    <tr>\n",
       "      <th>4</th>\n",
       "      <td>DNA13</td>\n",
       "      <td>Software</td>\n",
       "      <td>4530000.0</td>\n",
       "      <td>CAN</td>\n",
       "      <td>ON</td>\n",
       "      <td>Ottawa</td>\n",
       "      <td>Ottawa</td>\n",
       "      <td>1</td>\n",
       "      <td>2007-05-08</td>\n",
       "      <td>2007-05-08</td>\n",
       "      <td>6209</td>\n",
       "    </tr>\n",
       "  </tbody>\n",
       "</table>\n",
       "</div>"
      ],
      "text/plain": [
       "                     name                   category_list  funding_total_usd  \\\n",
       "0              Crystalsol                Clean Technology          2819200.0   \n",
       "1        JBI Fish & Wings                     Hospitality                NaN   \n",
       "2                COINPLUS                         Finance           428257.0   \n",
       "3  Imagine Communications  Software|Video|Video Streaming         34700000.0   \n",
       "4                   DNA13                        Software          4530000.0   \n",
       "\n",
       "  country_code state_code            region              city  funding_rounds  \\\n",
       "0          NIC         17               NaN               NaN               1   \n",
       "1          USA         TN        TN - Other          Humboldt               1   \n",
       "2          LUX          3  Esch-sur-alzette  Esch-sur-alzette               2   \n",
       "3          USA         CA         San Diego         San Diego               4   \n",
       "4          CAN         ON            Ottawa            Ottawa               1   \n",
       "\n",
       "  first_funding_at last_funding_at  lifetime  \n",
       "0       2009-07-01      2009-07-01      3501  \n",
       "1       2010-07-28      2010-07-28      2717  \n",
       "2       2014-05-15      2014-09-18      1295  \n",
       "3       2005-01-01      2010-04-20      4748  \n",
       "4       2007-05-08      2007-05-08      6209  "
      ]
     },
     "metadata": {},
     "output_type": "display_data"
    }
   ],
   "source": [
    "display (data_test.info())\n",
    "display (data_test.head())"
   ]
  },
  {
   "cell_type": "markdown",
   "id": "afd3cc4f",
   "metadata": {},
   "source": [
    "В работе будет использоваться 2 датафрейма. В обоих датафремах необходимо преобразовать столбцы с датами (`founded_at`, `first_funding_at`, `last_funding_at`, `closed_at`) в формат datetime для удобства работы с датами. В таблице data_train необходимо рассчитать время существования стартапа в днях на основе даты основания."
   ]
  },
  {
   "cell_type": "markdown",
   "id": "e73320d8",
   "metadata": {},
   "source": [
    "### Предобработка данных"
   ]
  },
  {
   "cell_type": "markdown",
   "id": "3573df50",
   "metadata": {},
   "source": [
    "#### Проверка дубликатов"
   ]
  },
  {
   "cell_type": "markdown",
   "id": "b9d0a0e1",
   "metadata": {},
   "source": [
    "Проверим наличие явных дубликатов и дубликатов в поле `name` в тренировочном датасете."
   ]
  },
  {
   "cell_type": "code",
   "execution_count": 7,
   "id": "42a91a4c",
   "metadata": {},
   "outputs": [
    {
     "name": "stdout",
     "output_type": "stream",
     "text": [
      "Количество явных дубликатов: 0\n",
      "Количество дубликатов в столбце name: 0\n"
     ]
    }
   ],
   "source": [
    "print (f'Количество явных дубликатов: {data_train.duplicated().sum()}')\n",
    "print (f'Количество дубликатов в столбце name: {data_train[\"name\"].duplicated().sum()}')"
   ]
  },
  {
   "cell_type": "markdown",
   "id": "f0cc6741",
   "metadata": {},
   "source": [
    "#### Проверка пустых значений"
   ]
  },
  {
   "cell_type": "markdown",
   "id": "146b4e07",
   "metadata": {},
   "source": [
    "Проверим наличие пустых значений в тренировочной таблице."
   ]
  },
  {
   "cell_type": "code",
   "execution_count": 8,
   "id": "fe4b86dc",
   "metadata": {},
   "outputs": [
    {
     "data": {
      "image/png": "[encoded data removed]",
      "text/plain": [
       "<Figure size 1368x432 with 1 Axes>"
      ]
     },
     "metadata": {
      "needs_background": "light"
     },
     "output_type": "display_data"
    }
   ],
   "source": [
    "def pass_value_barh(df):\n",
    "    try:\n",
    "        (\n",
    "            (df.isna().mean()*100)\n",
    "            .to_frame()\n",
    "            .rename(columns = {0:'space'})\n",
    "            .query('space > 0')\n",
    "            .sort_values(by = 'space', ascending = True)\n",
    "            .plot(kind = 'barh', figsize = (19,6), rot = 0, legend = False, fontsize = 12, grid = True)\n",
    "            .set_title('Процент записей с пропусками' + \"\\n\", fontsize = 16) \n",
    "           );    \n",
    "    except:\n",
    "        display('пропусков не осталось')\n",
    "        \n",
    "pass_value_barh(data_train)"
   ]
  },
  {
   "cell_type": "markdown",
   "id": "a8f0ab7d",
   "metadata": {},
   "source": [
    "В тренировочном датасете, в некоторых строках отсутствуют значения для столбцов `name`, `category_list`, `funding_total_usd`, `country_code`, `state_code`, `region`, `city`, `closed_at`.\n",
    "Особенно много пропусков в столбце `closed_at`."
   ]
  },
  {
   "cell_type": "markdown",
   "id": "eca974e9",
   "metadata": {},
   "source": [
    "Заполним пропуски в столбце `closed_at`. Датой закрытия будем считать дату выгрузки 01.01.2018.  \n",
    "Пропуски в столбце `funding_total_usd` заполним 0 и разделим на 1000000 для упрощения вычислений."
   ]
  },
  {
   "cell_type": "code",
   "execution_count": 9,
   "id": "41248aea",
   "metadata": {},
   "outputs": [],
   "source": [
    "data_train['closed_at'] = data_train['closed_at'].fillna(END_OF_DATE)\n",
    "data_train['funding_total_usd'] = data_train['funding_total_usd'].fillna(0)\n",
    "data_train['funding_total_usd'] = data_train['funding_total_usd'] / 1000000"
   ]
  },
  {
   "cell_type": "markdown",
   "id": "6851f1bc",
   "metadata": {},
   "source": [
    "Сразу приведем столбцы с датой к соответствующему формату и рассчитаем время существования стартапа в днях."
   ]
  },
  {
   "cell_type": "code",
   "execution_count": 10,
   "id": "17e6edfd",
   "metadata": {},
   "outputs": [],
   "source": [
    "def datetime(df, columns, date_format='%Y-%m-%d'):\n",
    "    for column in columns:\n",
    "        df[column] = pd.to_datetime(df[column], format=date_format)\n",
    "    return df\n",
    "\n",
    "data_train = datetime(data_train, ['founded_at', 'first_funding_at', 'last_funding_at', 'closed_at'])\n",
    "\n",
    "data_train['lifetime'] = (data_train['closed_at'] - data_train['founded_at']).dt.days"
   ]
  },
  {
   "cell_type": "markdown",
   "id": "3af00537",
   "metadata": {},
   "source": [
    "Пропуски в `name`, `category_list`, `country_code`, `state_code`, `region`, `city` заполним значением \"unknown\". Пропуски заполним в пайплайне."
   ]
  },
  {
   "cell_type": "code",
   "execution_count": 11,
   "id": "ffd9fee3",
   "metadata": {},
   "outputs": [],
   "source": [
    "# Создаем пайплайн для обработки пропущенных значений\n",
    "nan_pipeline = Pipeline([\n",
    "    \n",
    "    ('fillna_unknown', SimpleImputer(missing_values=np.nan, strategy='constant', fill_value='unknown')),    \n",
    "])\n",
    "\n",
    "columns_to_transform = ['name', 'category_list', 'country_code', 'state_code', 'region', 'city']\n",
    "\n",
    "# Применяем пайплайн к выбранным столбцам\n",
    "data_train[columns_to_transform] = nan_pipeline.fit_transform(data_train[columns_to_transform])"
   ]
  },
  {
   "cell_type": "markdown",
   "id": "8c7feb91",
   "metadata": {},
   "source": [
    "По аналогии с предыдущими действиями проверим и обработаем пропуски в таблице `data_test`."
   ]
  },
  {
   "cell_type": "code",
   "execution_count": 12,
   "id": "d917cad3",
   "metadata": {},
   "outputs": [
    {
     "data": {
      "image/png": "[encoded data removed]",
      "text/plain": [
       "<Figure size 1368x432 with 1 Axes>"
      ]
     },
     "metadata": {
      "needs_background": "light"
     },
     "output_type": "display_data"
    }
   ],
   "source": [
    "pass_value_barh(data_test)"
   ]
  },
  {
   "cell_type": "markdown",
   "id": "12ce7c5a",
   "metadata": {},
   "source": [
    "В тестовом датасете, в некоторых строках также отсутствуют значения. Есть пропуски для столбцов `category_list`, `funding_total_usd`, `country_code`, `state_code`, `region`, `city`. Больше всего пропусков в столбце `funding_total_usd`."
   ]
  },
  {
   "cell_type": "code",
   "execution_count": 13,
   "id": "4f23d4c7",
   "metadata": {},
   "outputs": [],
   "source": [
    "data_test['funding_total_usd'] = data_test['funding_total_usd'].fillna(0)\n",
    "data_test[columns_to_transform] = nan_pipeline.fit_transform(data_test[columns_to_transform])\n",
    "data_test['category_list'] = data_test['category_list'].str.split('|').str[0]\n",
    "data_test = datetime(data_test, ['first_funding_at', 'last_funding_at'])\n",
    "data_test['funding_total_usd'] = data_test['funding_total_usd'] / 1000000"
   ]
  },
  {
   "cell_type": "markdown",
   "id": "c2f6e18b",
   "metadata": {},
   "source": [
    "#### Проверка уникальных значений"
   ]
  },
  {
   "cell_type": "markdown",
   "id": "ce57f6a1",
   "metadata": {},
   "source": [
    "Посмотрим на уникальные значения в столбце `category_list`"
   ]
  },
  {
   "cell_type": "code",
   "execution_count": 14,
   "id": "4e7e30f0",
   "metadata": {},
   "outputs": [
    {
     "data": {
      "text/plain": [
       "22106"
      ]
     },
     "execution_count": 14,
     "metadata": {},
     "output_type": "execute_result"
    }
   ],
   "source": [
    "data_train['category_list'].nunique()"
   ]
  },
  {
   "cell_type": "code",
   "execution_count": 15,
   "id": "5b3ec089",
   "metadata": {
    "scrolled": false
   },
   "outputs": [
    {
     "data": {
      "text/plain": [
       "array(['Online Reservations|Restaurants',\n",
       "       'Manufacturing|Medical|Medical Devices', 'Biotechnology', ...,\n",
       "       'Gambling|Games|Online Gaming|Sports',\n",
       "       'Aerospace|Mobile|Transportation|Travel',\n",
       "       'Online Rental|Parking|Price Comparison'], dtype=object)"
      ]
     },
     "execution_count": 15,
     "metadata": {},
     "output_type": "execute_result"
    }
   ],
   "source": [
    "data_train['category_list'].unique()"
   ]
  },
  {
   "cell_type": "markdown",
   "id": "2c6ec8c9",
   "metadata": {},
   "source": [
    "Приведем написание всех категорий к нижнему ригистру и заменим символ ' & ' на слово 'and'"
   ]
  },
  {
   "cell_type": "code",
   "execution_count": 16,
   "id": "1731bf29",
   "metadata": {},
   "outputs": [],
   "source": [
    "data_train['category_list'] = data_train['category_list'].str.lower()\n",
    "data_train['category_list'] = data_train['category_list'].str.replace(' & ', 'and')"
   ]
  },
  {
   "cell_type": "markdown",
   "id": "3f41801a",
   "metadata": {},
   "source": [
    "Мы создадим словарь, в котором будут отражены основные слова из категорий, и сгруппируем их для упрощения анализа. В дальнейшем этот словарь, не смотря на большой объем, будет удобно дополнять и редактировать."
   ]
  },
  {
   "cell_type": "code",
   "execution_count": 17,
   "id": "9709dd2b",
   "metadata": {},
   "outputs": [],
   "source": [
    "category_map = {\n",
    "    'social': 'social',\n",
    "    'service': 'social',\n",
    "    'demographies': 'social',\n",
    "    'commu': 'social',\n",
    "    'retirement': 'social',\n",
    "    'forum': 'social',\n",
    "    'women': 'social',\n",
    "    'gener': 'social',\n",
    "    'senior': 'social',\n",
    "    'survey': 'social',\n",
    "    'charit': 'social',\n",
    "    'bab': 'social',\n",
    "    'young': 'social',\n",
    "    'speak': 'social',\n",
    "    'parenting': 'social',\n",
    "    'families': 'social',\n",
    "    'security': 'social',\n",
    "    'fraud': 'social',\n",
    "    'match': 'social',\n",
    "    'kids': 'social',\n",
    "    'indians': 'social',\n",
    "    'polling': 'social',\n",
    "    'politic': 'social',\n",
    "    'alumni': 'social',\n",
    "    'identity': 'social',\n",
    "    'insurance': 'social',\n",
    "    'government': 'social',\n",
    "    'analytic': 'social',\n",
    "    'opinion': 'social',\n",
    "    'local': 'social',\n",
    "    'translation': 'social',\n",
    "    'chat': 'social',\n",
    "    'care': 'social',\n",
    "    'relig': 'social',\n",
    "    'messag': 'social',\n",
    "    'collabor': 'social',\n",
    "    'incentives': 'social',\n",
    "    'mobility': 'social',\n",
    "    'infrastructure': 'social',\n",
    "    'iaas': 'social',\n",
    "    'assisted': 'social',\n",
    "    'sns': 'social',\n",
    "    'q&a': 'social',   \n",
    "    'center': 'social',  \n",
    "    'public': 'social',\n",
    "    'law': 'social', \n",
    "    'privacy': 'social', \n",
    "    'health': 'health',\n",
    "    'doctor': 'health',\n",
    "    'therap': 'health',\n",
    "    'beauty': 'health',\n",
    "    'medical': 'health',\n",
    "    'medicin': 'health',\n",
    "    'clinic': 'health',\n",
    "    'dental': 'health',\n",
    "    'hosp': 'health',\n",
    "    'fertility': 'health',\n",
    "    'swimming': 'health',\n",
    "    'exercise': 'health',\n",
    "    'pharm': 'health',\n",
    "    'physi': 'health',\n",
    "    'diagn': 'health',\n",
    "    'genetic': 'health',\n",
    "    'fitness': 'health',\n",
    "    'cosmetic': 'health',\n",
    "    'psy': 'health',\n",
    "    'diabetes': 'health',\n",
    "    'wellness': 'health',\n",
    "    'sports': 'health',\n",
    "    'lingerie': 'health',\n",
    "    'soccer': 'health',\n",
    "    'dietary': 'health',\n",
    "    'tech': 'tech',\n",
    "    'rfid': 'tech',\n",
    "    'augmented': 'tech',\n",
    "    'wireless': 'tech',\n",
    "    'technolog': 'tech',\n",
    "    'internet': 'tech',\n",
    "    'elect': 'tech',\n",
    "    'ict': 'tech',   \n",
    "    'saas': 'tech',\n",
    "    'ios': 'tech',\n",
    "    'time': 'tech',\n",
    "    'biometrics': 'tech',\n",
    "    'developer': 'tech',\n",
    "    'bioinformati': 'tech',\n",
    "    'android': 'tech',\n",
    "    'corporate it': 'tech',\n",
    "    'algorithms': 'tech',\n",
    "    'browser': 'tech',\n",
    "    'm2m': 'tech',\n",
    "    'ipad': 'goods and services',\n",
    "    'app': 'tech',\n",
    "    'military': 'tech',\n",
    "    'linux': 'education & science',\n",
    "    'cad': 'tech',\n",
    "    'peer': 'tech',\n",
    "    'paas': 'tech',\n",
    "    'digital': 'tech',\n",
    "    'system': 'tech',\n",
    "    'smart': 'tech',\n",
    "    'ware': 'tech',\n",
    "    'user': 'tech',\n",
    "    'utilities': 'tech',\n",
    "    'mechanical': 'tech',\n",
    "    'semiconductors': 'tech',\n",
    "    'virtual': 'tech',\n",
    "    'nutrition': 'health',\n",
    "    'iphone': 'goods and services',\n",
    "    'qr': 'tech',\n",
    "    'cloud': 'tech',\n",
    "    'data': 'tech',\n",
    "    'robot': 'tech',\n",
    "    'comp': 'goods and services',\n",
    "    'mobile': 'tech',\n",
    "    'email': 'marketing',\n",
    "    '3d': 'tech',\n",
    "    'aerospace': 'education & science',\n",
    "    'displays': 'goods and services',\n",
    "    'automat': 'tech',\n",
    "    'kinect': 'tech',\n",
    "    'gadget': 'education & science',\n",
    "    'video': 'tech',\n",
    "    'prin':'tech',\n",
    "    'cyber':'tech',\n",
    "    'file':'tech',\n",
    "    'voip':'tech',\n",
    "    'industrial':'tech',\n",
    "    'drones':'tech',\n",
    "    'recognition':'tech',\n",
    "    'education': 'education & science',\n",
    "    'learn': 'education & science',\n",
    "    'humanitarian': 'education & science',\n",
    "    'colleg': 'education & science',\n",
    "    'schoo': 'education & science',\n",
    "    'universit': 'education & science',\n",
    "    'edutainment': 'education & science',\n",
    "    'artists': 'education & science',\n",
    "    'chemical': 'education & science',\n",
    "    'training': 'education & science',\n",
    "    'tutor': 'education & science',\n",
    "    'science': 'education & science',\n",
    "    'skill': 'education & science',\n",
    "    'veterinary': 'education & science',\n",
    "    'optimization': 'education & science',\n",
    "    'synchronization': 'education & science',\n",
    "    'ediscovery': 'education & science',\n",
    "    'architecture': 'education & science',\n",
    "    'accounting': 'education & science',\n",
    "    'self': 'education & science',\n",
    "    'intellectual': 'education & science',\n",
    "    'engineer': 'education & science',\n",
    "    'construction': 'education & science',\n",
    "    'finan': 'finance',\n",
    "    'bank': 'finance',\n",
    "    'pay': 'finance',\n",
    "    'monetization': 'finance',\n",
    "    'credit': 'finance',\n",
    "    'money': 'finance',\n",
    "    'invest': 'finance',\n",
    "    'fund': 'finance',\n",
    "    'owners': 'finance',\n",
    "    'consumer': 'finance',\n",
    "    'commerce': 'finance',\n",
    "    'brokers': 'finance',\n",
    "    'trading': 'finance',\n",
    "    'auctions': 'finance',\n",
    "    'business': 'finance',\n",
    "    'ticketing': 'finance',\n",
    "    'ventur': 'finance',\n",
    "    'exchange': 'finance',\n",
    "    'quoting': 'finance',\n",
    "    'coin': 'finance',\n",
    "    'firm': 'finance',\n",
    "    'debt': 'finance',\n",
    "    'entrepreneur': 'finance',\n",
    "    'capital': 'finance',\n",
    "    'sponsorship': 'finance',\n",
    "    'online': 'tech',\n",
    "    'web': 'tech',\n",
    "    'simulation': 'education & science',\n",
    "    'media': 'media & entertainment',\n",
    "    'entertainment': 'media & entertainment',\n",
    "    'film': 'media & entertainment',\n",
    "    'music': 'media & entertainment',\n",
    "    'gam': 'media & entertainment',\n",
    "    'books': 'media & entertainment',\n",
    "    'wedd': 'media & entertainment',\n",
    "    'life': 'media & entertainment',\n",
    "    'news': 'media & entertainment',\n",
    "    'even': 'media & entertainment',\n",
    "    'gift': 'media & entertainment',\n",
    "    'telev': 'media & entertainment',\n",
    "    'photo': 'media & entertainment',\n",
    "    'audio': 'media & entertainment',\n",
    "    'fashion': 'media & entertainment',\n",
    "    'celebrity': 'media & entertainment',\n",
    "    'collectibles': 'media & entertainment',\n",
    "    'lotteries': 'media & entertainment',\n",
    "    'handmade': 'media & entertainment',\n",
    "    'home': 'media & entertainment',\n",
    "    'design': 'media & entertainment',\n",
    "    'creative': 'media & entertainment',\n",
    "    'cooking': 'media & entertainment',\n",
    "    'art': 'media & entertainment',\n",
    "    'concert': 'media & entertainment',\n",
    "    'landscaping': 'media & entertainment',\n",
    "    'diy': 'media & entertainment',\n",
    "    'leisure': 'media & entertainment',\n",
    "    'brewing': 'media & entertainment',\n",
    "    'content': 'media & entertainment',\n",
    "    'publishing': 'media & entertainment',\n",
    "    'contests': 'media & entertainment',\n",
    "    'restaurants': 'media & entertainment',\n",
    "    'journalism': 'media & entertainment',\n",
    "    'reputation': 'media & entertainment',\n",
    "    'broadcasting': 'media & entertainment',\n",
    "    'travel': 'tourism',\n",
    "    'rental': 'tourism',\n",
    "    'hotel': 'tourism',\n",
    "    'spas': 'tourism',\n",
    "    'guid': 'tourism',\n",
    "    'maps': 'tourism',\n",
    "    'recreation': 'tourism',\n",
    "    'resort': 'tourism',\n",
    "    'cars': 'transport',\n",
    "    'fuel': 'transport',\n",
    "    'air': 'transport', \n",
    "    'shipping': 'transport', \n",
    "    'bicycle': 'transport',\n",
    "    'ride': 'transport',\n",
    "    'transportation': 'transport',\n",
    "    'parking': 'transport',\n",
    "    'racing': 'transport',\n",
    "    'automotive': 'transport',\n",
    "    'geospatial': 'transport',\n",
    "    'gps': 'transport',\n",
    "    'navigation': 'transport',\n",
    "    'taxis': 'transport',\n",
    "    'limousines': 'transport',\n",
    "    'boat': 'transport',\n",
    "    'blog': 'social',\n",
    "    'stud': 'education & science',\n",
    "    'manag': 'management',\n",
    "    'human': 'management',\n",
    "    'enterprise': 'management',\n",
    "    'coworking': 'management',\n",
    "    'network': 'management',\n",
    "    'logistic': 'management',\n",
    "    'employ': 'management',\n",
    "    'recruiting': 'management',\n",
    "    'crowdsourcing': 'management',\n",
    "    'outsourcing': 'management',\n",
    "    'legal': 'management',\n",
    "    'governance': 'management',\n",
    "    'source': 'management',\n",
    "    'freelancers': 'management',\n",
    "    'solar': 'eco',\n",
    "    'seed': 'eco',\n",
    "    'organic': 'eco',\n",
    "    'energ': 'eco',\n",
    "    'water': 'eco',\n",
    "    'oil': 'eco',\n",
    "    'recycl': 'eco',\n",
    "    'green': 'eco',\n",
    "    'natural': 'eco',\n",
    "    'carbon': 'eco',\n",
    "    'agriculture': 'eco',\n",
    "    'environmental': 'eco',\n",
    "    'incubator': 'eco',\n",
    "    'processing': 'eco',\n",
    "    'gas': 'eco',\n",
    "    'farming': 'eco',\n",
    "    'mineral': 'eco',\n",
    "    'aquaculture': 'eco',\n",
    "    'mark': 'marketing',\n",
    "    'sale': 'marketing',\n",
    "    'buy': 'marketing',\n",
    "    'retail': 'marketing',\n",
    "    'vending': 'marketing',\n",
    "    'toy': 'marketing',\n",
    "    'coupon': 'marketing',\n",
    "    'realtor': 'marketing',\n",
    "    'personal': 'marketing',\n",
    "    'golf': 'marketing',\n",
    "    'shopping': 'marketing',\n",
    "    'loyalty': 'marketing',\n",
    "    'industry': 'marketing',\n",
    "    'presentations': 'marketing',\n",
    "    'discounts': 'marketing',\n",
    "    'delivery': 'marketing',\n",
    "    'product': 'marketing',\n",
    "    'platform': 'marketing',\n",
    "    'price': 'marketing',\n",
    "    'procurement': 'marketing',\n",
    "    'estate': 'marketing',\n",
    "    'b2b': 'marketing',\n",
    "    'fmcg': 'marketing',\n",
    "    'freemium': 'marketing',\n",
    "    'advertising': 'marketing',\n",
    "    'promo': 'marketing',\n",
    "    'distribu': 'marketing',\n",
    "    'customization': 'marketing',\n",
    "    'reviews': 'marketing',\n",
    "    'crm': 'marketing',\n",
    "    'targeting': 'marketing',\n",
    "    'billing': 'marketing',\n",
    "    'seo': 'marketing',\n",
    "    'customer': 'marketing',\n",
    "    'flower': 'goods and services',    \n",
    "    'tea': 'goods and services',\n",
    "    'products': 'goods and services',\n",
    "    'shoes': 'goods and services',\n",
    "    'foods': 'goods and services',\n",
    "    'coffee': 'goods and services',\n",
    "    'eyewear': 'goods and services',    \n",
    "    'cannabis': 'goods and services',\n",
    "    'furniture': 'goods and services',\n",
    "    'comics': 'goods and services',\n",
    "    'jewelry': 'goods and services',\n",
    "    'batteries': 'goods and services',\n",
    "    'pets': 'goods and services',    \n",
    "    'auto': 'transport',     \n",
    "    'manufacturing': 'goods and services', \n",
    "    'groceries': 'goods and services', \n",
    "    'material': 'goods and services', \n",
    "    'plumbers': 'goods and services', \n",
    "    'fruit': 'goods and services',    \n",
    "    'watch': 'goods and services',\n",
    "    'gold': 'goods and services',\n",
    "    'classifieds': 'goods and services',\n",
    "    'wine': 'goods and services',\n",
    "    'advice': 'goods and services',\n",
    "    'graph': 'goods and services',\n",
    "    'beer': 'goods and services',    \n",
    "    'textil': 'goods and services',\n",
    "    'feed': 'goods and services',\n",
    "    'cable': 'goods and services',\n",
    "    'registrar': 'goods and services',\n",
    "    'domains': 'goods and services',\n",
    "    'angels': 'goods and services',\n",
    "    'wearables': 'goods and services',   \n",
    "    'lasers': 'goods and services',\n",
    "    'storage': 'goods and services',\n",
    "    'portals': 'goods and services',\n",
    "    'sensors': 'goods and services',\n",
    "    'goods': 'goods and services',\n",
    "    'licensing': 'goods and services',\n",
    "    'test': 'goods and services',\n",
    "    'indoor': 'goods and services',\n",
    "    'rapidly': 'goods and services',\n",
    "    'office': 'goods and services',\n",
    "    'commodities': 'goods and services',   \n",
    "    'defense': 'goods and services',\n",
    "    'search': 'goods and services',\n",
    "    'glass': 'goods and services',\n",
    "    'equipment': 'goods and services',\n",
    "    'sms': 'goods and services',\n",
    "    'model': 'goods and services',\n",
    "    'outdoors': 'goods and services',    \n",
    "    'lighting': 'goods and services',\n",
    "    'distribution': 'goods and services',\n",
    "    'archiving': 'goods and services',\n",
    "    'tracking': 'goods and services',\n",
    "    'nonprofits': 'goods and services',\n",
    "    'consulting': 'goods and services',\n",
    "    'non profit': 'goods and services',\n",
    "    'usability': 'goods and services',\n",
    "    'eda tools': 'goods and services',\n",
    "    \n",
    "}"
   ]
  },
  {
   "cell_type": "code",
   "execution_count": 18,
   "id": "1427ba88",
   "metadata": {},
   "outputs": [],
   "source": [
    "# Функция для замены категорий по маппингу\n",
    "def replace_categories(categories):\n",
    "    categories = categories.split(',')\n",
    "    new_categories = []\n",
    "    for category in categories:\n",
    "        replaced = False\n",
    "        for key in category_map:\n",
    "            if key in category:\n",
    "                new_categories.append(category_map[key])\n",
    "                replaced = True\n",
    "                break\n",
    "        if not replaced:\n",
    "            new_categories.append(category)\n",
    "    new_categories = list(dict.fromkeys(new_categories))\n",
    "    new_categories.sort()\n",
    "    return ', '.join(new_categories)\n",
    "\n",
    "# Заменить символ '|' на ',' и применить замену категорий\n",
    "data_train['category_list'] = data_train['category_list'].str.replace('|', ', ').apply(replace_categories)"
   ]
  },
  {
   "cell_type": "code",
   "execution_count": 19,
   "id": "eae6f828",
   "metadata": {},
   "outputs": [
    {
     "data": {
      "text/html": [
       "<div>\n",
       "<style scoped>\n",
       "    .dataframe tbody tr th:only-of-type {\n",
       "        vertical-align: middle;\n",
       "    }\n",
       "\n",
       "    .dataframe tbody tr th {\n",
       "        vertical-align: top;\n",
       "    }\n",
       "\n",
       "    .dataframe thead th {\n",
       "        text-align: right;\n",
       "    }\n",
       "</style>\n",
       "<table border=\"1\" class=\"dataframe\">\n",
       "  <thead>\n",
       "    <tr style=\"text-align: right;\">\n",
       "      <th></th>\n",
       "      <th>name</th>\n",
       "      <th>category_list</th>\n",
       "      <th>funding_total_usd</th>\n",
       "      <th>status</th>\n",
       "      <th>country_code</th>\n",
       "      <th>state_code</th>\n",
       "      <th>region</th>\n",
       "      <th>city</th>\n",
       "      <th>funding_rounds</th>\n",
       "      <th>founded_at</th>\n",
       "      <th>first_funding_at</th>\n",
       "      <th>last_funding_at</th>\n",
       "      <th>closed_at</th>\n",
       "      <th>lifetime</th>\n",
       "    </tr>\n",
       "  </thead>\n",
       "  <tbody>\n",
       "    <tr>\n",
       "      <th>0</th>\n",
       "      <td>Lunchgate</td>\n",
       "      <td>media &amp; entertainment, tech</td>\n",
       "      <td>0.828626</td>\n",
       "      <td>operating</td>\n",
       "      <td>CHE</td>\n",
       "      <td>25</td>\n",
       "      <td>Zurich</td>\n",
       "      <td>Zürich</td>\n",
       "      <td>2</td>\n",
       "      <td>2009-10-17</td>\n",
       "      <td>2011-05-01</td>\n",
       "      <td>2014-12-01</td>\n",
       "      <td>2018-01-01</td>\n",
       "      <td>2998</td>\n",
       "    </tr>\n",
       "    <tr>\n",
       "      <th>1</th>\n",
       "      <td>EarLens</td>\n",
       "      <td>goods and services, health</td>\n",
       "      <td>42.935019</td>\n",
       "      <td>operating</td>\n",
       "      <td>USA</td>\n",
       "      <td>CA</td>\n",
       "      <td>SF Bay Area</td>\n",
       "      <td>Redwood City</td>\n",
       "      <td>4</td>\n",
       "      <td>2005-01-01</td>\n",
       "      <td>2010-05-04</td>\n",
       "      <td>2014-02-25</td>\n",
       "      <td>2018-01-01</td>\n",
       "      <td>4748</td>\n",
       "    </tr>\n",
       "    <tr>\n",
       "      <th>2</th>\n",
       "      <td>Reviva Pharmaceuticals</td>\n",
       "      <td>tech</td>\n",
       "      <td>35.456381</td>\n",
       "      <td>operating</td>\n",
       "      <td>USA</td>\n",
       "      <td>CA</td>\n",
       "      <td>SF Bay Area</td>\n",
       "      <td>San Jose</td>\n",
       "      <td>3</td>\n",
       "      <td>2006-01-01</td>\n",
       "      <td>2012-08-20</td>\n",
       "      <td>2014-07-02</td>\n",
       "      <td>2018-01-01</td>\n",
       "      <td>4383</td>\n",
       "    </tr>\n",
       "    <tr>\n",
       "      <th>3</th>\n",
       "      <td>Sancilio and Company</td>\n",
       "      <td>social</td>\n",
       "      <td>22.250000</td>\n",
       "      <td>operating</td>\n",
       "      <td>unknown</td>\n",
       "      <td>unknown</td>\n",
       "      <td>unknown</td>\n",
       "      <td>unknown</td>\n",
       "      <td>3</td>\n",
       "      <td>2004-01-01</td>\n",
       "      <td>2011-09-01</td>\n",
       "      <td>2014-07-18</td>\n",
       "      <td>2018-01-01</td>\n",
       "      <td>5114</td>\n",
       "    </tr>\n",
       "    <tr>\n",
       "      <th>4</th>\n",
       "      <td>WireTough Cylinders</td>\n",
       "      <td>goods and services</td>\n",
       "      <td>0.000000</td>\n",
       "      <td>operating</td>\n",
       "      <td>USA</td>\n",
       "      <td>VA</td>\n",
       "      <td>VA - Other</td>\n",
       "      <td>Bristol</td>\n",
       "      <td>1</td>\n",
       "      <td>2010-05-12</td>\n",
       "      <td>2012-02-01</td>\n",
       "      <td>2012-02-01</td>\n",
       "      <td>2018-01-01</td>\n",
       "      <td>2791</td>\n",
       "    </tr>\n",
       "  </tbody>\n",
       "</table>\n",
       "</div>"
      ],
      "text/plain": [
       "                     name                category_list  funding_total_usd  \\\n",
       "0               Lunchgate  media & entertainment, tech           0.828626   \n",
       "1                 EarLens   goods and services, health          42.935019   \n",
       "2  Reviva Pharmaceuticals                         tech          35.456381   \n",
       "3    Sancilio and Company                       social          22.250000   \n",
       "4     WireTough Cylinders           goods and services           0.000000   \n",
       "\n",
       "      status country_code state_code       region          city  \\\n",
       "0  operating          CHE         25       Zurich        Zürich   \n",
       "1  operating          USA         CA  SF Bay Area  Redwood City   \n",
       "2  operating          USA         CA  SF Bay Area      San Jose   \n",
       "3  operating      unknown    unknown      unknown       unknown   \n",
       "4  operating          USA         VA   VA - Other       Bristol   \n",
       "\n",
       "   funding_rounds founded_at first_funding_at last_funding_at  closed_at  \\\n",
       "0               2 2009-10-17       2011-05-01      2014-12-01 2018-01-01   \n",
       "1               4 2005-01-01       2010-05-04      2014-02-25 2018-01-01   \n",
       "2               3 2006-01-01       2012-08-20      2014-07-02 2018-01-01   \n",
       "3               3 2004-01-01       2011-09-01      2014-07-18 2018-01-01   \n",
       "4               1 2010-05-12       2012-02-01      2012-02-01 2018-01-01   \n",
       "\n",
       "   lifetime  \n",
       "0      2998  \n",
       "1      4748  \n",
       "2      4383  \n",
       "3      5114  \n",
       "4      2791  "
      ]
     },
     "execution_count": 19,
     "metadata": {},
     "output_type": "execute_result"
    }
   ],
   "source": [
    "data_train.head()"
   ]
  },
  {
   "cell_type": "code",
   "execution_count": 20,
   "id": "6ece8786",
   "metadata": {},
   "outputs": [
    {
     "data": {
      "text/plain": [
       "1228"
      ]
     },
     "execution_count": 20,
     "metadata": {},
     "output_type": "execute_result"
    }
   ],
   "source": [
    "data_train['category_list'].nunique()"
   ]
  },
  {
   "cell_type": "code",
   "execution_count": 21,
   "id": "a009a04a",
   "metadata": {},
   "outputs": [
    {
     "data": {
      "text/plain": [
       "array(['media & entertainment, tech', 'goods and services, health',\n",
       "       'tech', ...,\n",
       "       'eco, education & science, finance, goods and services, tech',\n",
       "       ' teenagers, goods and services, social, tech',\n",
       "       'goods and services, health, marketing, media & entertainment, social, tech'],\n",
       "      dtype=object)"
      ]
     },
     "execution_count": 21,
     "metadata": {},
     "output_type": "execute_result"
    }
   ],
   "source": [
    "data_train['category_list'].unique()"
   ]
  },
  {
   "cell_type": "markdown",
   "id": "7d915ca3",
   "metadata": {},
   "source": [
    "В результате применения функции, количество категорий уменьшилось с 22106 до 1228"
   ]
  },
  {
   "cell_type": "markdown",
   "id": "c5aa5d66",
   "metadata": {},
   "source": [
    "Посмотрим на уникальные значения в столбце `country_code`"
   ]
  },
  {
   "cell_type": "code",
   "execution_count": 22,
   "id": "86f5f057",
   "metadata": {},
   "outputs": [
    {
     "data": {
      "text/plain": [
       "array(['CHE', 'USA', 'unknown', 'GBR', 'RUS', 'ESP', 'FRA', 'SWE', 'IND',\n",
       "       'KOR', 'AUS', 'TWN', 'CHN', 'HUN', 'CAN', 'FIN', 'BRA', 'EGY',\n",
       "       'PRT', 'ISR', 'CHL', 'SVK', 'NLD', 'ARG', 'ARE', 'JPN', 'IRL',\n",
       "       'DEU', 'LBN', 'EST', 'IDN', 'BEL', 'MEX', 'DNK', 'ITA', 'GRC',\n",
       "       'ROM', 'TUR', 'SGP', 'SAU', 'MYS', 'NGA', 'QAT', 'VNM', 'BGR',\n",
       "       'GHA', 'UGA', 'JOR', 'AUT', 'PAK', 'NZL', 'HKG', 'ZAF', 'LVA',\n",
       "       'NOR', 'HRV', 'VEN', 'PER', 'LUX', 'SVN', 'POL', 'PHL', 'NIC',\n",
       "       'CZE', 'ISL', 'PAN', 'URY', 'BGD', 'MCO', 'GTM', 'THA', 'TTO',\n",
       "       'UKR', 'KEN', 'CRI', 'DZA', 'LTU', 'CYM', 'MUS', 'BLR', 'SLV',\n",
       "       'COL', 'MLT', 'PSE', 'BLZ', 'CYP', 'MMR', 'MKD', 'KHM', 'GIB',\n",
       "       'SRB', 'DOM', 'BWA', 'BLM', 'PRY', 'BMU', 'TAN', 'LIE', 'GRD',\n",
       "       'UZB', 'GEO', 'SEN', 'ALB', 'ECU', 'MOZ', 'LKA', 'LAO', 'TUN',\n",
       "       'HND', 'ZWE', 'BAH', 'MDA', 'MAF', 'BHR', 'AZE', 'MAR', 'KWT',\n",
       "       'IRN', 'GGY', 'KNA', 'PRI', 'OMN', 'KAZ', 'JAM', 'NPL', 'ARM',\n",
       "       'TGO', 'RWA', 'BRN', 'JEY', 'SOM', 'CMR', 'MNE', 'SYC', 'ZMB'],\n",
       "      dtype=object)"
      ]
     },
     "metadata": {},
     "output_type": "display_data"
    },
    {
     "data": {
      "text/plain": [
       "135"
      ]
     },
     "metadata": {},
     "output_type": "display_data"
    }
   ],
   "source": [
    "display (data_train['country_code'].unique())\n",
    "display (data_train['country_code'].nunique())"
   ]
  },
  {
   "cell_type": "code",
   "execution_count": 23,
   "id": "e32924c6",
   "metadata": {},
   "outputs": [
    {
     "data": {
      "text/plain": [
       "array(['Zurich', 'SF Bay Area', 'unknown', ..., 'Haywards Heath',\n",
       "       'Herzogenaurach', 'Doncaster'], dtype=object)"
      ]
     },
     "metadata": {},
     "output_type": "display_data"
    },
    {
     "data": {
      "text/plain": [
       "1037"
      ]
     },
     "metadata": {},
     "output_type": "display_data"
    }
   ],
   "source": [
    "display (data_train['region'].unique())\n",
    "display (data_train['region'].nunique())"
   ]
  },
  {
   "cell_type": "markdown",
   "id": "6d87dbda",
   "metadata": {},
   "source": [
    "Можно сгруппировать страны по регионам на основе кодов их стран."
   ]
  },
  {
   "cell_type": "code",
   "execution_count": 24,
   "id": "7f3a0999",
   "metadata": {},
   "outputs": [],
   "source": [
    "def group_by_region(country_code):\n",
    "    regions = {\n",
    "        'North America': ['USA', 'CAN', 'MEX'],\n",
    "        'South America': ['ARG', 'BRA', 'CHL', 'COL', 'PER', 'URY', 'VEN', 'PRY', 'ECU'],\n",
    "        'Europe': ['CHE', 'GBR', 'RUS', 'ESP', 'FRA', 'SWE', 'HUN', 'FIN', 'PRT', 'NLD', 'IRL', 'DEU', 'EST', 'BEL', 'DNK', 'ITA', 'GRC', 'ROM', 'AUT', 'LVA', 'NOR', 'HRV', 'LUX', 'SVN', 'POL', 'CZE', 'ISL', 'LIE', 'LTU', 'CYP', 'MKD', 'GIB', 'SRB', 'ALB', 'MDA', 'MAF', 'GGY', 'JEY'],\n",
    "        'Asia': ['IND', 'KOR', 'TWN', 'CHN', 'ISR', 'JPN', 'TUR', 'SGP', 'MYS', 'VNM', 'PHL', 'THA', 'BGD', 'LBN', 'IDN', 'KAZ', 'IRN', 'QAT', 'ARE', 'SAU', 'JOR', 'UZB', 'ARM', 'TGO', 'RWA', 'BRN', 'SOM', 'CMR', 'MNE', 'SYC'],\n",
    "        'Africa': ['EGY', 'NGA', 'GHA', 'UGA', 'ZAF', 'DZA', 'TUN', 'KEN', 'MOZ', 'MAR', 'TAN', 'ZMB'],\n",
    "        'Oceania': ['AUS', 'NZL', 'FJI'],\n",
    "        'Central America and the Caribbean': ['CUB', 'DOM', 'GRD', 'PRI', 'TTO', 'BLZ', 'BMU', 'PAN', 'SLV', 'HND', 'NCA', 'CRC', 'GUY', 'HTI', 'JAM', 'KNA', 'BHS', 'BRB', 'DMA', 'ATG', 'VCT', 'VGB'],\n",
    "        'Other': ['unknown']\n",
    "    }\n",
    "    \n",
    "    for region, countries in regions.items():\n",
    "        if country_code in countries:\n",
    "            return region\n",
    "    return 'Other'\n",
    "\n",
    "# Применение функции к столбцу country_code\n",
    "data_train['region'] = data_train['country_code'].apply(group_by_region)"
   ]
  },
  {
   "cell_type": "markdown",
   "id": "f7ab08bb",
   "metadata": {},
   "source": [
    "По аналогии обработаем уникальные значения в тестовом датасете."
   ]
  },
  {
   "cell_type": "code",
   "execution_count": 25,
   "id": "49a283d4",
   "metadata": {},
   "outputs": [],
   "source": [
    "data_test['category_list'] = data_test['category_list'].str.lower()\n",
    "data_test['category_list'] = data_test['category_list'].str.replace(' & ', 'and')"
   ]
  },
  {
   "cell_type": "code",
   "execution_count": 26,
   "id": "fd76fe38",
   "metadata": {},
   "outputs": [],
   "source": [
    "data_test['category_list'] = data_test['category_list'].apply(replace_categories)"
   ]
  },
  {
   "cell_type": "code",
   "execution_count": 27,
   "id": "19763023",
   "metadata": {},
   "outputs": [
    {
     "data": {
      "text/plain": [
       "13"
      ]
     },
     "execution_count": 27,
     "metadata": {},
     "output_type": "execute_result"
    }
   ],
   "source": [
    "data_test['category_list'].nunique()"
   ]
  },
  {
   "cell_type": "code",
   "execution_count": 28,
   "id": "bce6016f",
   "metadata": {},
   "outputs": [
    {
     "data": {
      "text/plain": [
       "array(['tech', 'health', 'finance', 'media & entertainment', 'social',\n",
       "       'goods and services', 'marketing', 'management',\n",
       "       'education & science', 'unknown', 'tourism', 'transport', 'eco'],\n",
       "      dtype=object)"
      ]
     },
     "execution_count": 28,
     "metadata": {},
     "output_type": "execute_result"
    }
   ],
   "source": [
    "data_test['category_list'].unique()"
   ]
  },
  {
   "cell_type": "markdown",
   "id": "caa6f964",
   "metadata": {},
   "source": [
    "Добавим 3 новых признака. Рассчитаем количество лет между первым и последним раундом финансирования, среднее финансирование на раунд и год первого финансирования."
   ]
  },
  {
   "cell_type": "code",
   "execution_count": 29,
   "id": "3a1c49b8",
   "metadata": {
    "scrolled": false
   },
   "outputs": [],
   "source": [
    "# Среднее финансирование на раунд:\n",
    "data_train['avg_funding_per_round'] = data_train['funding_total_usd'] / data_train['funding_rounds']\n",
    "data_test['avg_funding_per_round'] = data_test['funding_total_usd'] / data_test['funding_rounds']\n",
    "\n",
    "data_train['first_funding_year'] = data_train['first_funding_at'].dt.year\n",
    "data_test['first_funding_year'] = data_test['first_funding_at'].dt.year"
   ]
  },
  {
   "cell_type": "code",
   "execution_count": 30,
   "id": "1951076a",
   "metadata": {
    "scrolled": true
   },
   "outputs": [
    {
     "data": {
      "text/html": [
       "<div>\n",
       "<style scoped>\n",
       "    .dataframe tbody tr th:only-of-type {\n",
       "        vertical-align: middle;\n",
       "    }\n",
       "\n",
       "    .dataframe tbody tr th {\n",
       "        vertical-align: top;\n",
       "    }\n",
       "\n",
       "    .dataframe thead th {\n",
       "        text-align: right;\n",
       "    }\n",
       "</style>\n",
       "<table border=\"1\" class=\"dataframe\">\n",
       "  <thead>\n",
       "    <tr style=\"text-align: right;\">\n",
       "      <th></th>\n",
       "      <th>name</th>\n",
       "      <th>category_list</th>\n",
       "      <th>funding_total_usd</th>\n",
       "      <th>status</th>\n",
       "      <th>country_code</th>\n",
       "      <th>state_code</th>\n",
       "      <th>region</th>\n",
       "      <th>city</th>\n",
       "      <th>funding_rounds</th>\n",
       "      <th>founded_at</th>\n",
       "      <th>first_funding_at</th>\n",
       "      <th>last_funding_at</th>\n",
       "      <th>closed_at</th>\n",
       "      <th>lifetime</th>\n",
       "      <th>avg_funding_per_round</th>\n",
       "      <th>first_funding_year</th>\n",
       "      <th>years_between_fundings</th>\n",
       "    </tr>\n",
       "  </thead>\n",
       "  <tbody>\n",
       "    <tr>\n",
       "      <th>0</th>\n",
       "      <td>Lunchgate</td>\n",
       "      <td>media &amp; entertainment, tech</td>\n",
       "      <td>0.828626</td>\n",
       "      <td>operating</td>\n",
       "      <td>CHE</td>\n",
       "      <td>25</td>\n",
       "      <td>Europe</td>\n",
       "      <td>Zürich</td>\n",
       "      <td>2</td>\n",
       "      <td>2009-10-17</td>\n",
       "      <td>2011-05-01</td>\n",
       "      <td>2014-12-01</td>\n",
       "      <td>2018-01-01</td>\n",
       "      <td>2998</td>\n",
       "      <td>0.414313</td>\n",
       "      <td>2011</td>\n",
       "      <td>4.0</td>\n",
       "    </tr>\n",
       "    <tr>\n",
       "      <th>1</th>\n",
       "      <td>EarLens</td>\n",
       "      <td>goods and services, health</td>\n",
       "      <td>42.935019</td>\n",
       "      <td>operating</td>\n",
       "      <td>USA</td>\n",
       "      <td>CA</td>\n",
       "      <td>North America</td>\n",
       "      <td>Redwood City</td>\n",
       "      <td>4</td>\n",
       "      <td>2005-01-01</td>\n",
       "      <td>2010-05-04</td>\n",
       "      <td>2014-02-25</td>\n",
       "      <td>2018-01-01</td>\n",
       "      <td>4748</td>\n",
       "      <td>10.733755</td>\n",
       "      <td>2010</td>\n",
       "      <td>4.0</td>\n",
       "    </tr>\n",
       "    <tr>\n",
       "      <th>2</th>\n",
       "      <td>Reviva Pharmaceuticals</td>\n",
       "      <td>tech</td>\n",
       "      <td>35.456381</td>\n",
       "      <td>operating</td>\n",
       "      <td>USA</td>\n",
       "      <td>CA</td>\n",
       "      <td>North America</td>\n",
       "      <td>San Jose</td>\n",
       "      <td>3</td>\n",
       "      <td>2006-01-01</td>\n",
       "      <td>2012-08-20</td>\n",
       "      <td>2014-07-02</td>\n",
       "      <td>2018-01-01</td>\n",
       "      <td>4383</td>\n",
       "      <td>11.818794</td>\n",
       "      <td>2012</td>\n",
       "      <td>2.0</td>\n",
       "    </tr>\n",
       "    <tr>\n",
       "      <th>3</th>\n",
       "      <td>Sancilio and Company</td>\n",
       "      <td>social</td>\n",
       "      <td>22.250000</td>\n",
       "      <td>operating</td>\n",
       "      <td>unknown</td>\n",
       "      <td>unknown</td>\n",
       "      <td>Other</td>\n",
       "      <td>unknown</td>\n",
       "      <td>3</td>\n",
       "      <td>2004-01-01</td>\n",
       "      <td>2011-09-01</td>\n",
       "      <td>2014-07-18</td>\n",
       "      <td>2018-01-01</td>\n",
       "      <td>5114</td>\n",
       "      <td>7.416667</td>\n",
       "      <td>2011</td>\n",
       "      <td>3.0</td>\n",
       "    </tr>\n",
       "    <tr>\n",
       "      <th>4</th>\n",
       "      <td>WireTough Cylinders</td>\n",
       "      <td>goods and services</td>\n",
       "      <td>0.000000</td>\n",
       "      <td>operating</td>\n",
       "      <td>USA</td>\n",
       "      <td>VA</td>\n",
       "      <td>North America</td>\n",
       "      <td>Bristol</td>\n",
       "      <td>1</td>\n",
       "      <td>2010-05-12</td>\n",
       "      <td>2012-02-01</td>\n",
       "      <td>2012-02-01</td>\n",
       "      <td>2018-01-01</td>\n",
       "      <td>2791</td>\n",
       "      <td>0.000000</td>\n",
       "      <td>2012</td>\n",
       "      <td>0.0</td>\n",
       "    </tr>\n",
       "  </tbody>\n",
       "</table>\n",
       "</div>"
      ],
      "text/plain": [
       "                     name                category_list  funding_total_usd  \\\n",
       "0               Lunchgate  media & entertainment, tech           0.828626   \n",
       "1                 EarLens   goods and services, health          42.935019   \n",
       "2  Reviva Pharmaceuticals                         tech          35.456381   \n",
       "3    Sancilio and Company                       social          22.250000   \n",
       "4     WireTough Cylinders           goods and services           0.000000   \n",
       "\n",
       "      status country_code state_code         region          city  \\\n",
       "0  operating          CHE         25         Europe        Zürich   \n",
       "1  operating          USA         CA  North America  Redwood City   \n",
       "2  operating          USA         CA  North America      San Jose   \n",
       "3  operating      unknown    unknown          Other       unknown   \n",
       "4  operating          USA         VA  North America       Bristol   \n",
       "\n",
       "   funding_rounds founded_at first_funding_at last_funding_at  closed_at  \\\n",
       "0               2 2009-10-17       2011-05-01      2014-12-01 2018-01-01   \n",
       "1               4 2005-01-01       2010-05-04      2014-02-25 2018-01-01   \n",
       "2               3 2006-01-01       2012-08-20      2014-07-02 2018-01-01   \n",
       "3               3 2004-01-01       2011-09-01      2014-07-18 2018-01-01   \n",
       "4               1 2010-05-12       2012-02-01      2012-02-01 2018-01-01   \n",
       "\n",
       "   lifetime  avg_funding_per_round  first_funding_year  years_between_fundings  \n",
       "0      2998               0.414313                2011                     4.0  \n",
       "1      4748              10.733755                2010                     4.0  \n",
       "2      4383              11.818794                2012                     2.0  \n",
       "3      5114               7.416667                2011                     3.0  \n",
       "4      2791               0.000000                2012                     0.0  "
      ]
     },
     "execution_count": 30,
     "metadata": {},
     "output_type": "execute_result"
    }
   ],
   "source": [
    "# Рассчитываем разницу между последним и первым раундомю Результат округлим до целового.\n",
    "data_train['years_between_fundings'] = ((data_train['last_funding_at'] - data_train['first_funding_at']) / \\\n",
    "    pd.Timedelta(days=365.25)).round()\n",
    "data_train.head()"
   ]
  },
  {
   "cell_type": "code",
   "execution_count": null,
   "id": "aa5f9542",
   "metadata": {},
   "outputs": [],
   "source": []
  },
  {
   "cell_type": "code",
   "execution_count": 31,
   "id": "b70919b9",
   "metadata": {},
   "outputs": [
    {
     "data": {
      "text/html": [
       "<div>\n",
       "<style scoped>\n",
       "    .dataframe tbody tr th:only-of-type {\n",
       "        vertical-align: middle;\n",
       "    }\n",
       "\n",
       "    .dataframe tbody tr th {\n",
       "        vertical-align: top;\n",
       "    }\n",
       "\n",
       "    .dataframe thead th {\n",
       "        text-align: right;\n",
       "    }\n",
       "</style>\n",
       "<table border=\"1\" class=\"dataframe\">\n",
       "  <thead>\n",
       "    <tr style=\"text-align: right;\">\n",
       "      <th></th>\n",
       "      <th>name</th>\n",
       "      <th>category_list</th>\n",
       "      <th>funding_total_usd</th>\n",
       "      <th>country_code</th>\n",
       "      <th>state_code</th>\n",
       "      <th>region</th>\n",
       "      <th>city</th>\n",
       "      <th>funding_rounds</th>\n",
       "      <th>first_funding_at</th>\n",
       "      <th>last_funding_at</th>\n",
       "      <th>lifetime</th>\n",
       "      <th>avg_funding_per_round</th>\n",
       "      <th>first_funding_year</th>\n",
       "      <th>years_between_fundings</th>\n",
       "    </tr>\n",
       "  </thead>\n",
       "  <tbody>\n",
       "    <tr>\n",
       "      <th>0</th>\n",
       "      <td>Crystalsol</td>\n",
       "      <td>tech</td>\n",
       "      <td>2.819200</td>\n",
       "      <td>NIC</td>\n",
       "      <td>17</td>\n",
       "      <td>Other</td>\n",
       "      <td>unknown</td>\n",
       "      <td>1</td>\n",
       "      <td>2009-07-01</td>\n",
       "      <td>2009-07-01</td>\n",
       "      <td>3501</td>\n",
       "      <td>2.819200</td>\n",
       "      <td>2009</td>\n",
       "      <td>0.0</td>\n",
       "    </tr>\n",
       "    <tr>\n",
       "      <th>1</th>\n",
       "      <td>JBI Fish &amp; Wings</td>\n",
       "      <td>health</td>\n",
       "      <td>0.000000</td>\n",
       "      <td>USA</td>\n",
       "      <td>TN</td>\n",
       "      <td>North America</td>\n",
       "      <td>Humboldt</td>\n",
       "      <td>1</td>\n",
       "      <td>2010-07-28</td>\n",
       "      <td>2010-07-28</td>\n",
       "      <td>2717</td>\n",
       "      <td>0.000000</td>\n",
       "      <td>2010</td>\n",
       "      <td>0.0</td>\n",
       "    </tr>\n",
       "    <tr>\n",
       "      <th>2</th>\n",
       "      <td>COINPLUS</td>\n",
       "      <td>finance</td>\n",
       "      <td>0.428257</td>\n",
       "      <td>LUX</td>\n",
       "      <td>3</td>\n",
       "      <td>Europe</td>\n",
       "      <td>Esch-sur-alzette</td>\n",
       "      <td>2</td>\n",
       "      <td>2014-05-15</td>\n",
       "      <td>2014-09-18</td>\n",
       "      <td>1295</td>\n",
       "      <td>0.214128</td>\n",
       "      <td>2014</td>\n",
       "      <td>0.0</td>\n",
       "    </tr>\n",
       "    <tr>\n",
       "      <th>3</th>\n",
       "      <td>Imagine Communications</td>\n",
       "      <td>tech</td>\n",
       "      <td>34.700000</td>\n",
       "      <td>USA</td>\n",
       "      <td>CA</td>\n",
       "      <td>North America</td>\n",
       "      <td>San Diego</td>\n",
       "      <td>4</td>\n",
       "      <td>2005-01-01</td>\n",
       "      <td>2010-04-20</td>\n",
       "      <td>4748</td>\n",
       "      <td>8.675000</td>\n",
       "      <td>2005</td>\n",
       "      <td>5.0</td>\n",
       "    </tr>\n",
       "    <tr>\n",
       "      <th>4</th>\n",
       "      <td>DNA13</td>\n",
       "      <td>tech</td>\n",
       "      <td>4.530000</td>\n",
       "      <td>CAN</td>\n",
       "      <td>ON</td>\n",
       "      <td>North America</td>\n",
       "      <td>Ottawa</td>\n",
       "      <td>1</td>\n",
       "      <td>2007-05-08</td>\n",
       "      <td>2007-05-08</td>\n",
       "      <td>6209</td>\n",
       "      <td>4.530000</td>\n",
       "      <td>2007</td>\n",
       "      <td>0.0</td>\n",
       "    </tr>\n",
       "  </tbody>\n",
       "</table>\n",
       "</div>"
      ],
      "text/plain": [
       "                     name category_list  funding_total_usd country_code  \\\n",
       "0              Crystalsol          tech           2.819200          NIC   \n",
       "1        JBI Fish & Wings        health           0.000000          USA   \n",
       "2                COINPLUS       finance           0.428257          LUX   \n",
       "3  Imagine Communications          tech          34.700000          USA   \n",
       "4                   DNA13          tech           4.530000          CAN   \n",
       "\n",
       "  state_code         region              city  funding_rounds  \\\n",
       "0         17          Other           unknown               1   \n",
       "1         TN  North America          Humboldt               1   \n",
       "2          3         Europe  Esch-sur-alzette               2   \n",
       "3         CA  North America         San Diego               4   \n",
       "4         ON  North America            Ottawa               1   \n",
       "\n",
       "  first_funding_at last_funding_at  lifetime  avg_funding_per_round  \\\n",
       "0       2009-07-01      2009-07-01      3501               2.819200   \n",
       "1       2010-07-28      2010-07-28      2717               0.000000   \n",
       "2       2014-05-15      2014-09-18      1295               0.214128   \n",
       "3       2005-01-01      2010-04-20      4748               8.675000   \n",
       "4       2007-05-08      2007-05-08      6209               4.530000   \n",
       "\n",
       "   first_funding_year  years_between_fundings  \n",
       "0                2009                     0.0  \n",
       "1                2010                     0.0  \n",
       "2                2014                     0.0  \n",
       "3                2005                     5.0  \n",
       "4                2007                     0.0  "
      ]
     },
     "execution_count": 31,
     "metadata": {},
     "output_type": "execute_result"
    }
   ],
   "source": [
    "data_test['years_between_fundings'] = ((data_test['last_funding_at'] - data_test['first_funding_at']) / \\\n",
    "    pd.Timedelta(days=365.25)).round()\n",
    "\n",
    "data_test['region'] = data_test['country_code'].apply(group_by_region)\n",
    "data_test.head()"
   ]
  },
  {
   "cell_type": "markdown",
   "id": "d36505d9",
   "metadata": {},
   "source": [
    "В результате предобработки данных мы заполнили пропуски в столбцах, привели столбцы с датами к соответствующему видую. Преобразовали столбцы `category_list` и `region`. Добавили новый признак, рассчитав количество лет между первым и последним раундом финансирования."
   ]
  },
  {
   "cell_type": "markdown",
   "id": "22d37628",
   "metadata": {},
   "source": [
    "### Исследовательский анализ данных"
   ]
  },
  {
   "cell_type": "markdown",
   "id": "c0ceaea0",
   "metadata": {},
   "source": [
    "#### Статистический анализ таблицы data_train"
   ]
  },
  {
   "cell_type": "markdown",
   "id": "dcc300d7",
   "metadata": {},
   "source": [
    "Рассмотрим таблицу которая содержит тренировочную выборку данных."
   ]
  },
  {
   "cell_type": "code",
   "execution_count": 32,
   "id": "b8440429",
   "metadata": {},
   "outputs": [
    {
     "data": {
      "image/png": "[encoded data removed]",
      "text/plain": [
       "<Figure size 720x720 with 12 Axes>"
      ]
     },
     "metadata": {
      "needs_background": "light"
     },
     "output_type": "display_data"
    }
   ],
   "source": [
    "data_train.hist(figsize=(10, 10));"
   ]
  },
  {
   "cell_type": "markdown",
   "id": "369fd7be",
   "metadata": {},
   "source": [
    "Из гистограмм выше, видно, что в некоторых данных есть выбивающиеся значения. Рассмотрим данные подробнее."
   ]
  },
  {
   "cell_type": "code",
   "execution_count": 33,
   "id": "f43d555d",
   "metadata": {},
   "outputs": [
    {
     "data": {
      "text/html": [
       "<div>\n",
       "<style scoped>\n",
       "    .dataframe tbody tr th:only-of-type {\n",
       "        vertical-align: middle;\n",
       "    }\n",
       "\n",
       "    .dataframe tbody tr th {\n",
       "        vertical-align: top;\n",
       "    }\n",
       "\n",
       "    .dataframe thead th {\n",
       "        text-align: right;\n",
       "    }\n",
       "</style>\n",
       "<table border=\"1\" class=\"dataframe\">\n",
       "  <thead>\n",
       "    <tr style=\"text-align: right;\">\n",
       "      <th></th>\n",
       "      <th>name</th>\n",
       "      <th>category_list</th>\n",
       "      <th>funding_total_usd</th>\n",
       "      <th>status</th>\n",
       "      <th>country_code</th>\n",
       "      <th>state_code</th>\n",
       "      <th>region</th>\n",
       "      <th>city</th>\n",
       "      <th>funding_rounds</th>\n",
       "      <th>founded_at</th>\n",
       "      <th>first_funding_at</th>\n",
       "      <th>last_funding_at</th>\n",
       "      <th>closed_at</th>\n",
       "      <th>lifetime</th>\n",
       "      <th>avg_funding_per_round</th>\n",
       "      <th>first_funding_year</th>\n",
       "      <th>years_between_fundings</th>\n",
       "    </tr>\n",
       "  </thead>\n",
       "  <tbody>\n",
       "    <tr>\n",
       "      <th>0</th>\n",
       "      <td>Lunchgate</td>\n",
       "      <td>media &amp; entertainment, tech</td>\n",
       "      <td>0.828626</td>\n",
       "      <td>operating</td>\n",
       "      <td>CHE</td>\n",
       "      <td>25</td>\n",
       "      <td>Europe</td>\n",
       "      <td>Zürich</td>\n",
       "      <td>2</td>\n",
       "      <td>2009-10-17</td>\n",
       "      <td>2011-05-01</td>\n",
       "      <td>2014-12-01</td>\n",
       "      <td>2018-01-01</td>\n",
       "      <td>2998</td>\n",
       "      <td>0.414313</td>\n",
       "      <td>2011</td>\n",
       "      <td>4.0</td>\n",
       "    </tr>\n",
       "    <tr>\n",
       "      <th>1</th>\n",
       "      <td>EarLens</td>\n",
       "      <td>goods and services, health</td>\n",
       "      <td>42.935019</td>\n",
       "      <td>operating</td>\n",
       "      <td>USA</td>\n",
       "      <td>CA</td>\n",
       "      <td>North America</td>\n",
       "      <td>Redwood City</td>\n",
       "      <td>4</td>\n",
       "      <td>2005-01-01</td>\n",
       "      <td>2010-05-04</td>\n",
       "      <td>2014-02-25</td>\n",
       "      <td>2018-01-01</td>\n",
       "      <td>4748</td>\n",
       "      <td>10.733755</td>\n",
       "      <td>2010</td>\n",
       "      <td>4.0</td>\n",
       "    </tr>\n",
       "    <tr>\n",
       "      <th>2</th>\n",
       "      <td>Reviva Pharmaceuticals</td>\n",
       "      <td>tech</td>\n",
       "      <td>35.456381</td>\n",
       "      <td>operating</td>\n",
       "      <td>USA</td>\n",
       "      <td>CA</td>\n",
       "      <td>North America</td>\n",
       "      <td>San Jose</td>\n",
       "      <td>3</td>\n",
       "      <td>2006-01-01</td>\n",
       "      <td>2012-08-20</td>\n",
       "      <td>2014-07-02</td>\n",
       "      <td>2018-01-01</td>\n",
       "      <td>4383</td>\n",
       "      <td>11.818794</td>\n",
       "      <td>2012</td>\n",
       "      <td>2.0</td>\n",
       "    </tr>\n",
       "    <tr>\n",
       "      <th>3</th>\n",
       "      <td>Sancilio and Company</td>\n",
       "      <td>social</td>\n",
       "      <td>22.250000</td>\n",
       "      <td>operating</td>\n",
       "      <td>unknown</td>\n",
       "      <td>unknown</td>\n",
       "      <td>Other</td>\n",
       "      <td>unknown</td>\n",
       "      <td>3</td>\n",
       "      <td>2004-01-01</td>\n",
       "      <td>2011-09-01</td>\n",
       "      <td>2014-07-18</td>\n",
       "      <td>2018-01-01</td>\n",
       "      <td>5114</td>\n",
       "      <td>7.416667</td>\n",
       "      <td>2011</td>\n",
       "      <td>3.0</td>\n",
       "    </tr>\n",
       "    <tr>\n",
       "      <th>4</th>\n",
       "      <td>WireTough Cylinders</td>\n",
       "      <td>goods and services</td>\n",
       "      <td>0.000000</td>\n",
       "      <td>operating</td>\n",
       "      <td>USA</td>\n",
       "      <td>VA</td>\n",
       "      <td>North America</td>\n",
       "      <td>Bristol</td>\n",
       "      <td>1</td>\n",
       "      <td>2010-05-12</td>\n",
       "      <td>2012-02-01</td>\n",
       "      <td>2012-02-01</td>\n",
       "      <td>2018-01-01</td>\n",
       "      <td>2791</td>\n",
       "      <td>0.000000</td>\n",
       "      <td>2012</td>\n",
       "      <td>0.0</td>\n",
       "    </tr>\n",
       "  </tbody>\n",
       "</table>\n",
       "</div>"
      ],
      "text/plain": [
       "                     name                category_list  funding_total_usd  \\\n",
       "0               Lunchgate  media & entertainment, tech           0.828626   \n",
       "1                 EarLens   goods and services, health          42.935019   \n",
       "2  Reviva Pharmaceuticals                         tech          35.456381   \n",
       "3    Sancilio and Company                       social          22.250000   \n",
       "4     WireTough Cylinders           goods and services           0.000000   \n",
       "\n",
       "      status country_code state_code         region          city  \\\n",
       "0  operating          CHE         25         Europe        Zürich   \n",
       "1  operating          USA         CA  North America  Redwood City   \n",
       "2  operating          USA         CA  North America      San Jose   \n",
       "3  operating      unknown    unknown          Other       unknown   \n",
       "4  operating          USA         VA  North America       Bristol   \n",
       "\n",
       "   funding_rounds founded_at first_funding_at last_funding_at  closed_at  \\\n",
       "0               2 2009-10-17       2011-05-01      2014-12-01 2018-01-01   \n",
       "1               4 2005-01-01       2010-05-04      2014-02-25 2018-01-01   \n",
       "2               3 2006-01-01       2012-08-20      2014-07-02 2018-01-01   \n",
       "3               3 2004-01-01       2011-09-01      2014-07-18 2018-01-01   \n",
       "4               1 2010-05-12       2012-02-01      2012-02-01 2018-01-01   \n",
       "\n",
       "   lifetime  avg_funding_per_round  first_funding_year  years_between_fundings  \n",
       "0      2998               0.414313                2011                     4.0  \n",
       "1      4748              10.733755                2010                     4.0  \n",
       "2      4383              11.818794                2012                     2.0  \n",
       "3      5114               7.416667                2011                     3.0  \n",
       "4      2791               0.000000                2012                     0.0  "
      ]
     },
     "execution_count": 33,
     "metadata": {},
     "output_type": "execute_result"
    }
   ],
   "source": [
    "data_train.head()"
   ]
  },
  {
   "cell_type": "code",
   "execution_count": 34,
   "id": "2d5105ed",
   "metadata": {},
   "outputs": [
    {
     "data": {
      "image/png": "[encoded data removed]",
      "text/plain": [
       "<Figure size 360x360 with 1 Axes>"
      ]
     },
     "metadata": {},
     "output_type": "display_data"
    }
   ],
   "source": [
    "data_train.value_counts('status').plot(y = 'count', kind='pie', \n",
    "                        figsize=(5, 5), label='', title = 'Распределение количества закрытых и действующих стартапов' )\n",
    "plt.show()\n"
   ]
  },
  {
   "cell_type": "markdown",
   "id": "af74ee60",
   "metadata": {},
   "source": [
    "Как видно из графика, в тренировочном датафрейме подавляющее большинство составляют действующие стартапы."
   ]
  },
  {
   "cell_type": "code",
   "execution_count": 35,
   "id": "b0de408c",
   "metadata": {},
   "outputs": [
    {
     "data": {
      "text/html": [
       "<div>\n",
       "<style scoped>\n",
       "    .dataframe tbody tr th:only-of-type {\n",
       "        vertical-align: middle;\n",
       "    }\n",
       "\n",
       "    .dataframe tbody tr th {\n",
       "        vertical-align: top;\n",
       "    }\n",
       "\n",
       "    .dataframe thead th {\n",
       "        text-align: right;\n",
       "    }\n",
       "</style>\n",
       "<table border=\"1\" class=\"dataframe\">\n",
       "  <thead>\n",
       "    <tr style=\"text-align: right;\">\n",
       "      <th></th>\n",
       "      <th>funding_total_usd</th>\n",
       "    </tr>\n",
       "  </thead>\n",
       "  <tbody>\n",
       "    <tr>\n",
       "      <th>count</th>\n",
       "      <td>52516.000000</td>\n",
       "    </tr>\n",
       "    <tr>\n",
       "      <th>mean</th>\n",
       "      <td>14.748854</td>\n",
       "    </tr>\n",
       "    <tr>\n",
       "      <th>std</th>\n",
       "      <td>168.378343</td>\n",
       "    </tr>\n",
       "    <tr>\n",
       "      <th>min</th>\n",
       "      <td>0.000000</td>\n",
       "    </tr>\n",
       "    <tr>\n",
       "      <th>25%</th>\n",
       "      <td>0.040000</td>\n",
       "    </tr>\n",
       "    <tr>\n",
       "      <th>50%</th>\n",
       "      <td>1.000000</td>\n",
       "    </tr>\n",
       "    <tr>\n",
       "      <th>75%</th>\n",
       "      <td>6.788929</td>\n",
       "    </tr>\n",
       "    <tr>\n",
       "      <th>max</th>\n",
       "      <td>30079.503000</td>\n",
       "    </tr>\n",
       "  </tbody>\n",
       "</table>\n",
       "</div>"
      ],
      "text/plain": [
       "       funding_total_usd\n",
       "count       52516.000000\n",
       "mean           14.748854\n",
       "std           168.378343\n",
       "min             0.000000\n",
       "25%             0.040000\n",
       "50%             1.000000\n",
       "75%             6.788929\n",
       "max         30079.503000"
      ]
     },
     "metadata": {},
     "output_type": "display_data"
    },
    {
     "data": {
      "image/png": "[encoded data removed]",
      "text/plain": [
       "<Figure size 1224x144 with 1 Axes>"
      ]
     },
     "metadata": {
      "needs_background": "light"
     },
     "output_type": "display_data"
    }
   ],
   "source": [
    "fig, ax = plt.subplots(figsize = (17,2))\n",
    "ax = data_train[['funding_total_usd']].boxplot(vert = False, ax = ax)\n",
    "ax.set_title('Диаграмма размаха общей суммы финансирования в USD');\n",
    "display(data_train[['funding_total_usd']].describe())"
   ]
  },
  {
   "cell_type": "markdown",
   "id": "f377e76f",
   "metadata": {},
   "source": [
    "В данных есть одно сильно большое, выбивающиеся значение. Это может быть обусловлено исключительным стартапом с очень высоким финансированием, либо ошибкой в данных. Средняя сумма финансирования составляет около 14.7 миллионов долларов.  \n",
    "Медианное значение (1 миллион долларов) показывает, что половина стартапов получили финансирование менее этой суммы, что значительно ниже среднего значения, подтверждая наличие нескольких стартапов с очень высокими суммами финансирования.  \n",
    "Максимальное значение финансирования (30 миллиардов долларов).  \n",
    "Эти данные показывают, что большинство стартапов получают относительно небольшие суммы финансирования, в то время как несколько стартапов получают чрезвычайно большие суммы, значительно влияя на среднее значение.  "
   ]
  },
  {
   "cell_type": "code",
   "execution_count": 36,
   "id": "39ef94b3",
   "metadata": {},
   "outputs": [
    {
     "data": {
      "image/png": "[encoded data removed]",
      "text/plain": [
       "<Figure size 720x432 with 1 Axes>"
      ]
     },
     "metadata": {
      "needs_background": "light"
     },
     "output_type": "display_data"
    }
   ],
   "source": [
    "data_train.pivot_table(index = 'region', values = 'name', aggfunc='count') \\\n",
    ".sort_values(by = 'name', ascending = True) \\\n",
    ".plot(kind = 'barh', figsize = (10,6), fontsize = 12, grid = True, legend = False)\n",
    "plt.title(label = 'Соотношение количества стартапов по регионам' + \"\\n\")\n",
    "plt.ylabel('')\n",
    "plt.xlabel('Количество стартапов')\n",
    "plt.show()\n"
   ]
  },
  {
   "cell_type": "markdown",
   "id": "a2536ea0",
   "metadata": {},
   "source": [
    "Большое количество стартапов приходится на Северную Америку, следом идет Европа, затем категория, куда были отнесены стартапы с отсутствующими значениями."
   ]
  },
  {
   "cell_type": "code",
   "execution_count": 37,
   "id": "1049464d",
   "metadata": {},
   "outputs": [
    {
     "data": {
      "image/png": "[encoded data removed]",
      "text/plain": [
       "<Figure size 720x432 with 1 Axes>"
      ]
     },
     "metadata": {
      "needs_background": "light"
     },
     "output_type": "display_data"
    }
   ],
   "source": [
    "data_train.pivot_table(index = 'funding_rounds', values = 'name', aggfunc='count') \\\n",
    ".sort_values(by = 'name', ascending = True) \\\n",
    ".plot(kind = 'barh', figsize = (10,6), fontsize = 12, grid = True, legend = False)\n",
    "plt.title(label = 'Соотношение количества стартапов по количеству раундов финансирования' + \"\\n\")\n",
    "plt.ylabel('')\n",
    "plt.xlabel('Количество стартапов')\n",
    "plt.show()\n"
   ]
  },
  {
   "cell_type": "code",
   "execution_count": 38,
   "id": "b628d5f2",
   "metadata": {},
   "outputs": [
    {
     "data": {
      "text/html": [
       "<div>\n",
       "<style scoped>\n",
       "    .dataframe tbody tr th:only-of-type {\n",
       "        vertical-align: middle;\n",
       "    }\n",
       "\n",
       "    .dataframe tbody tr th {\n",
       "        vertical-align: top;\n",
       "    }\n",
       "\n",
       "    .dataframe thead th {\n",
       "        text-align: right;\n",
       "    }\n",
       "</style>\n",
       "<table border=\"1\" class=\"dataframe\">\n",
       "  <thead>\n",
       "    <tr style=\"text-align: right;\">\n",
       "      <th></th>\n",
       "      <th>lifetime</th>\n",
       "    </tr>\n",
       "  </thead>\n",
       "  <tbody>\n",
       "    <tr>\n",
       "      <th>count</th>\n",
       "      <td>52516.000000</td>\n",
       "    </tr>\n",
       "    <tr>\n",
       "      <th>mean</th>\n",
       "      <td>3140.828129</td>\n",
       "    </tr>\n",
       "    <tr>\n",
       "      <th>std</th>\n",
       "      <td>2147.821070</td>\n",
       "    </tr>\n",
       "    <tr>\n",
       "      <th>min</th>\n",
       "      <td>19.000000</td>\n",
       "    </tr>\n",
       "    <tr>\n",
       "      <th>25%</th>\n",
       "      <td>1739.000000</td>\n",
       "    </tr>\n",
       "    <tr>\n",
       "      <th>50%</th>\n",
       "      <td>2557.000000</td>\n",
       "    </tr>\n",
       "    <tr>\n",
       "      <th>75%</th>\n",
       "      <td>4018.000000</td>\n",
       "    </tr>\n",
       "    <tr>\n",
       "      <th>max</th>\n",
       "      <td>17378.000000</td>\n",
       "    </tr>\n",
       "  </tbody>\n",
       "</table>\n",
       "</div>"
      ],
      "text/plain": [
       "           lifetime\n",
       "count  52516.000000\n",
       "mean    3140.828129\n",
       "std     2147.821070\n",
       "min       19.000000\n",
       "25%     1739.000000\n",
       "50%     2557.000000\n",
       "75%     4018.000000\n",
       "max    17378.000000"
      ]
     },
     "metadata": {},
     "output_type": "display_data"
    },
    {
     "data": {
      "image/png": "[encoded data removed]",
      "text/plain": [
       "<Figure size 1224x144 with 1 Axes>"
      ]
     },
     "metadata": {
      "needs_background": "light"
     },
     "output_type": "display_data"
    }
   ],
   "source": [
    "fig, ax = plt.subplots(figsize = (17,2))\n",
    "ax = data_train[['lifetime']].boxplot(vert = False, ax = ax)\n",
    "ax.set_title('Диаграмма размаха времени существования стартапа в днях');\n",
    "display(data_train[['lifetime']].describe())"
   ]
  },
  {
   "cell_type": "markdown",
   "id": "0aeb1339",
   "metadata": {},
   "source": [
    "Средняя продолжительность деятельности стартапов составляет примерно 3 141 день (около 8,6 лет), при этом стандартное отклонение равно 2 148 дням (около 5,9 лет). Минимальный срок существования составляет 19 дней, а максимальный — 17 378 дней (около 47,6 лет). Медианное значение равно 2 557 дням (около 7 лет), что свидетельствует о том, что половина стартапов существовала менее 7 лет."
   ]
  },
  {
   "cell_type": "code",
   "execution_count": 39,
   "id": "15ec2e07",
   "metadata": {},
   "outputs": [
    {
     "data": {
      "image/png": "[encoded data removed]",
      "text/plain": [
       "<Figure size 720x432 with 1 Axes>"
      ]
     },
     "metadata": {
      "needs_background": "light"
     },
     "output_type": "display_data"
    }
   ],
   "source": [
    "data_train.pivot_table(index = 'years_between_fundings', values = 'name', aggfunc='count') \\\n",
    ".sort_values(by = 'name', ascending = True) \\\n",
    ".plot(kind = 'barh', figsize = (10,6), fontsize = 12, grid = True, legend = False)\n",
    "plt.title(label = 'Соотношение количества стартапов по количеству лет между раундами финансирования' + \"\\n\")\n",
    "plt.ylabel('')\n",
    "plt.xlabel('Количество стартапов')\n",
    "plt.show()\n"
   ]
  },
  {
   "cell_type": "markdown",
   "id": "625de4ee",
   "metadata": {},
   "source": [
    "#### Статистический анализ таблицы data_test"
   ]
  },
  {
   "cell_type": "code",
   "execution_count": 40,
   "id": "88c1f414",
   "metadata": {
    "scrolled": false
   },
   "outputs": [
    {
     "data": {
      "image/png": "[encoded data removed]",
      "text/plain": [
       "<Figure size 720x432 with 1 Axes>"
      ]
     },
     "metadata": {
      "needs_background": "light"
     },
     "output_type": "display_data"
    }
   ],
   "source": [
    "data_test.pivot_table(index = 'category_list', values = 'name', aggfunc='count') \\\n",
    ".sort_values(by = 'name', ascending = True) \\\n",
    ".plot(kind = 'barh', figsize = (10,6), fontsize = 12, grid = True, legend = False)\n",
    "plt.title(label = 'Соотношение количества стартапов по категориям' + \"\\n\")\n",
    "plt.ylabel('')\n",
    "plt.xlabel('Количество стартапов')\n",
    "plt.show()\n"
   ]
  },
  {
   "cell_type": "markdown",
   "id": "ae4d5aad",
   "metadata": {},
   "source": [
    "Больше всего стартапов в категории \"Технологии\", затем \"Социальные\" и примерно равное количество у \"Финансы\" и \"Медиа и развлечения\"."
   ]
  },
  {
   "cell_type": "code",
   "execution_count": 41,
   "id": "bfc95d18",
   "metadata": {},
   "outputs": [
    {
     "data": {
      "text/html": [
       "<div>\n",
       "<style scoped>\n",
       "    .dataframe tbody tr th:only-of-type {\n",
       "        vertical-align: middle;\n",
       "    }\n",
       "\n",
       "    .dataframe tbody tr th {\n",
       "        vertical-align: top;\n",
       "    }\n",
       "\n",
       "    .dataframe thead th {\n",
       "        text-align: right;\n",
       "    }\n",
       "</style>\n",
       "<table border=\"1\" class=\"dataframe\">\n",
       "  <thead>\n",
       "    <tr style=\"text-align: right;\">\n",
       "      <th></th>\n",
       "      <th>funding_total_usd</th>\n",
       "    </tr>\n",
       "  </thead>\n",
       "  <tbody>\n",
       "    <tr>\n",
       "      <th>count</th>\n",
       "      <td>13125.000000</td>\n",
       "    </tr>\n",
       "    <tr>\n",
       "      <th>mean</th>\n",
       "      <td>13.298544</td>\n",
       "    </tr>\n",
       "    <tr>\n",
       "      <th>std</th>\n",
       "      <td>82.886614</td>\n",
       "    </tr>\n",
       "    <tr>\n",
       "      <th>min</th>\n",
       "      <td>0.000000</td>\n",
       "    </tr>\n",
       "    <tr>\n",
       "      <th>25%</th>\n",
       "      <td>0.040000</td>\n",
       "    </tr>\n",
       "    <tr>\n",
       "      <th>50%</th>\n",
       "      <td>0.950000</td>\n",
       "    </tr>\n",
       "    <tr>\n",
       "      <th>75%</th>\n",
       "      <td>6.513865</td>\n",
       "    </tr>\n",
       "    <tr>\n",
       "      <th>max</th>\n",
       "      <td>4715.000000</td>\n",
       "    </tr>\n",
       "  </tbody>\n",
       "</table>\n",
       "</div>"
      ],
      "text/plain": [
       "       funding_total_usd\n",
       "count       13125.000000\n",
       "mean           13.298544\n",
       "std            82.886614\n",
       "min             0.000000\n",
       "25%             0.040000\n",
       "50%             0.950000\n",
       "75%             6.513865\n",
       "max          4715.000000"
      ]
     },
     "metadata": {},
     "output_type": "display_data"
    },
    {
     "data": {
      "image/png": "[encoded data removed]",
      "text/plain": [
       "<Figure size 1224x144 with 1 Axes>"
      ]
     },
     "metadata": {
      "needs_background": "light"
     },
     "output_type": "display_data"
    }
   ],
   "source": [
    "fig, ax = plt.subplots(figsize = (17,2))\n",
    "ax = data_test[['funding_total_usd']].boxplot(vert = False, ax = ax)\n",
    "ax.set_title('Диаграмма размаха общей суммы финансирования в USD');\n",
    "display(data_test[['funding_total_usd']].describe())"
   ]
  },
  {
   "cell_type": "markdown",
   "id": "baf0845f",
   "metadata": {},
   "source": [
    "Среднее финансирование составляет около 13,3 миллионов долларов, при этом стандартное отклонение равно 82,9 миллионам долларов, что свидетельствует о значительной вариативности в объемах финансирования. Минимальное значение финансирования равно 0 долларов, а максимальное — 4,715 миллиардов долларов. Медианное значение составляет 0,95 миллиона долларов, что указывает на то, что половина стартапов привлекла менее этого значения."
   ]
  },
  {
   "cell_type": "code",
   "execution_count": 42,
   "id": "57181280",
   "metadata": {},
   "outputs": [
    {
     "data": {
      "image/png": "[encoded data removed]",
      "text/plain": [
       "<Figure size 720x432 with 1 Axes>"
      ]
     },
     "metadata": {
      "needs_background": "light"
     },
     "output_type": "display_data"
    }
   ],
   "source": [
    "data_test.pivot_table(index = 'region', values = 'name', aggfunc='count') \\\n",
    ".sort_values(by = 'name', ascending = True) \\\n",
    ".plot(kind = 'barh', figsize = (10,6), fontsize = 12, grid = True, legend = False)\n",
    "plt.title(label = 'Соотношение количества стартапов по регионам' + \"\\n\")\n",
    "plt.ylabel('')\n",
    "plt.xlabel('Количество стартапов')\n",
    "plt.show()\n"
   ]
  },
  {
   "cell_type": "code",
   "execution_count": 43,
   "id": "5811276a",
   "metadata": {},
   "outputs": [
    {
     "data": {
      "image/png": "[encoded data removed]",
      "text/plain": [
       "<Figure size 720x432 with 1 Axes>"
      ]
     },
     "metadata": {
      "needs_background": "light"
     },
     "output_type": "display_data"
    }
   ],
   "source": [
    "data_test.pivot_table(index = 'funding_rounds', values = 'name', aggfunc='count') \\\n",
    ".sort_values(by = 'name', ascending = True) \\\n",
    ".plot(kind = 'barh', figsize = (10,6), fontsize = 12, grid = True, legend = False)\n",
    "plt.title(label = 'Соотношение количества стартапов по количеству раундов финансирования' + \"\\n\")\n",
    "plt.ylabel('')\n",
    "plt.xlabel('Количество стартапов')\n",
    "plt.show()\n"
   ]
  },
  {
   "cell_type": "code",
   "execution_count": 44,
   "id": "12961b2a",
   "metadata": {},
   "outputs": [
    {
     "data": {
      "text/html": [
       "<div>\n",
       "<style scoped>\n",
       "    .dataframe tbody tr th:only-of-type {\n",
       "        vertical-align: middle;\n",
       "    }\n",
       "\n",
       "    .dataframe tbody tr th {\n",
       "        vertical-align: top;\n",
       "    }\n",
       "\n",
       "    .dataframe thead th {\n",
       "        text-align: right;\n",
       "    }\n",
       "</style>\n",
       "<table border=\"1\" class=\"dataframe\">\n",
       "  <thead>\n",
       "    <tr style=\"text-align: right;\">\n",
       "      <th></th>\n",
       "      <th>lifetime</th>\n",
       "    </tr>\n",
       "  </thead>\n",
       "  <tbody>\n",
       "    <tr>\n",
       "      <th>count</th>\n",
       "      <td>13125.000000</td>\n",
       "    </tr>\n",
       "    <tr>\n",
       "      <th>mean</th>\n",
       "      <td>3097.609524</td>\n",
       "    </tr>\n",
       "    <tr>\n",
       "      <th>std</th>\n",
       "      <td>2128.356554</td>\n",
       "    </tr>\n",
       "    <tr>\n",
       "      <th>min</th>\n",
       "      <td>52.000000</td>\n",
       "    </tr>\n",
       "    <tr>\n",
       "      <th>25%</th>\n",
       "      <td>1726.000000</td>\n",
       "    </tr>\n",
       "    <tr>\n",
       "      <th>50%</th>\n",
       "      <td>2526.000000</td>\n",
       "    </tr>\n",
       "    <tr>\n",
       "      <th>75%</th>\n",
       "      <td>3866.000000</td>\n",
       "    </tr>\n",
       "    <tr>\n",
       "      <th>max</th>\n",
       "      <td>17167.000000</td>\n",
       "    </tr>\n",
       "  </tbody>\n",
       "</table>\n",
       "</div>"
      ],
      "text/plain": [
       "           lifetime\n",
       "count  13125.000000\n",
       "mean    3097.609524\n",
       "std     2128.356554\n",
       "min       52.000000\n",
       "25%     1726.000000\n",
       "50%     2526.000000\n",
       "75%     3866.000000\n",
       "max    17167.000000"
      ]
     },
     "metadata": {},
     "output_type": "display_data"
    },
    {
     "data": {
      "image/png": "[encoded data removed]",
      "text/plain": [
       "<Figure size 1224x144 with 1 Axes>"
      ]
     },
     "metadata": {
      "needs_background": "light"
     },
     "output_type": "display_data"
    }
   ],
   "source": [
    "fig, ax = plt.subplots(figsize = (17,2))\n",
    "ax = data_test[['lifetime']].boxplot(vert = False, ax = ax)\n",
    "ax.set_title('Диаграмма размаха времени существования стартапа в днях');\n",
    "display(data_test[['lifetime']].describe())"
   ]
  },
  {
   "cell_type": "markdown",
   "id": "0bd66fd0",
   "metadata": {},
   "source": [
    "Средняя продолжительность стартапа составляет около 3097,6 дней (около 8,5 лет). Минимальная продолжительность составляет 52 дня, а максимальная — 17 167 дней (почти 47 лет). Медианное значение составляет 2526 дней (около 7 лет), что означает, что половина стартапов существовала менее этого срока."
   ]
  },
  {
   "cell_type": "markdown",
   "id": "03d15ce2",
   "metadata": {},
   "source": [
    "* Тренировочный и тестовый датасеты содержат аналогичные данные. Наибольшее число стартапов относится к категории \"Технологии\", что объясняется перспективностью и инновационностью данного направления. На втором месте по численности находятся социальные стартапы. Категории \"Медиа и развлечения\" и \"Финансы\" имеют примерно одинаковое количество стартапов.  \n",
    "* В данных присутствует одно сильно выбивающееся значение, что может быть обусловлено либо исключительным стартапом с очень высоким финансированием, либо ошибкой в данных. Средняя сумма финансирования составляет около 14.7 миллионов, однако медианное значение составляет всего 1 миллион долларов. Это указывает на то, что половина стартапов получила финансирование менее этой суммы, что значительно ниже среднего значения. Максимальное значение финансирования составляет 30 миллиардов.  \n",
    "* Большинство стартапов приходится на Северную Америку, следом идет Европа, затем категория, куда были отнесены стартапы с отсутствующими значениями.  \n",
    "* Средняя продолжительность деятельности стартапов составляет около 8,6 лет. Минимальный срок существования составляет 19 дней, а максимальный — 17 378 дней (около 47,6 лет). Медианное значение равно 2 557 дням (около 7 лет).\n",
    "* Эти данные подчеркивают, что, несмотря на наличие нескольких стартапов с чрезвычайно высокими суммами финансирования, большинство стартапов получают относительно небольшие суммы и имеют среднюю продолжительность существования около 7-8 лет.  \n",
    "\n",
    "\n",
    "\n",
    "\n",
    "\n"
   ]
  },
  {
   "cell_type": "markdown",
   "id": "6fedef29",
   "metadata": {},
   "source": [
    "### Корреляционный анализ"
   ]
  },
  {
   "cell_type": "markdown",
   "id": "0d546626",
   "metadata": {},
   "source": [
    "Преобразуем целевой признак `status` в бинарный вид. \n",
    "Удалим столбцы с датами и среди схожиех признаки `country_code`, `state_code`,\t`city`, `region`  оставим только преобразованный `region`. Так же удалим уникальный столбец `name`"
   ]
  },
  {
   "cell_type": "code",
   "execution_count": 45,
   "id": "40478475",
   "metadata": {},
   "outputs": [
    {
     "data": {
      "text/html": [
       "<div>\n",
       "<style scoped>\n",
       "    .dataframe tbody tr th:only-of-type {\n",
       "        vertical-align: middle;\n",
       "    }\n",
       "\n",
       "    .dataframe tbody tr th {\n",
       "        vertical-align: top;\n",
       "    }\n",
       "\n",
       "    .dataframe thead th {\n",
       "        text-align: right;\n",
       "    }\n",
       "</style>\n",
       "<table border=\"1\" class=\"dataframe\">\n",
       "  <thead>\n",
       "    <tr style=\"text-align: right;\">\n",
       "      <th></th>\n",
       "      <th>category_list</th>\n",
       "      <th>funding_total_usd</th>\n",
       "      <th>region</th>\n",
       "      <th>city</th>\n",
       "      <th>funding_rounds</th>\n",
       "      <th>lifetime</th>\n",
       "      <th>avg_funding_per_round</th>\n",
       "      <th>first_funding_year</th>\n",
       "      <th>years_between_fundings</th>\n",
       "      <th>status_bin</th>\n",
       "    </tr>\n",
       "  </thead>\n",
       "  <tbody>\n",
       "    <tr>\n",
       "      <th>0</th>\n",
       "      <td>media &amp; entertainment, tech</td>\n",
       "      <td>0.828626</td>\n",
       "      <td>Europe</td>\n",
       "      <td>Zürich</td>\n",
       "      <td>2</td>\n",
       "      <td>2998</td>\n",
       "      <td>0.414313</td>\n",
       "      <td>2011</td>\n",
       "      <td>4.0</td>\n",
       "      <td>1</td>\n",
       "    </tr>\n",
       "    <tr>\n",
       "      <th>1</th>\n",
       "      <td>goods and services, health</td>\n",
       "      <td>42.935019</td>\n",
       "      <td>North America</td>\n",
       "      <td>Redwood City</td>\n",
       "      <td>4</td>\n",
       "      <td>4748</td>\n",
       "      <td>10.733755</td>\n",
       "      <td>2010</td>\n",
       "      <td>4.0</td>\n",
       "      <td>1</td>\n",
       "    </tr>\n",
       "    <tr>\n",
       "      <th>2</th>\n",
       "      <td>tech</td>\n",
       "      <td>35.456381</td>\n",
       "      <td>North America</td>\n",
       "      <td>San Jose</td>\n",
       "      <td>3</td>\n",
       "      <td>4383</td>\n",
       "      <td>11.818794</td>\n",
       "      <td>2012</td>\n",
       "      <td>2.0</td>\n",
       "      <td>1</td>\n",
       "    </tr>\n",
       "    <tr>\n",
       "      <th>3</th>\n",
       "      <td>social</td>\n",
       "      <td>22.250000</td>\n",
       "      <td>Other</td>\n",
       "      <td>unknown</td>\n",
       "      <td>3</td>\n",
       "      <td>5114</td>\n",
       "      <td>7.416667</td>\n",
       "      <td>2011</td>\n",
       "      <td>3.0</td>\n",
       "      <td>1</td>\n",
       "    </tr>\n",
       "    <tr>\n",
       "      <th>4</th>\n",
       "      <td>goods and services</td>\n",
       "      <td>0.000000</td>\n",
       "      <td>North America</td>\n",
       "      <td>Bristol</td>\n",
       "      <td>1</td>\n",
       "      <td>2791</td>\n",
       "      <td>0.000000</td>\n",
       "      <td>2012</td>\n",
       "      <td>0.0</td>\n",
       "      <td>1</td>\n",
       "    </tr>\n",
       "  </tbody>\n",
       "</table>\n",
       "</div>"
      ],
      "text/plain": [
       "                 category_list  funding_total_usd         region  \\\n",
       "0  media & entertainment, tech           0.828626         Europe   \n",
       "1   goods and services, health          42.935019  North America   \n",
       "2                         tech          35.456381  North America   \n",
       "3                       social          22.250000          Other   \n",
       "4           goods and services           0.000000  North America   \n",
       "\n",
       "           city  funding_rounds  lifetime  avg_funding_per_round  \\\n",
       "0        Zürich               2      2998               0.414313   \n",
       "1  Redwood City               4      4748              10.733755   \n",
       "2      San Jose               3      4383              11.818794   \n",
       "3       unknown               3      5114               7.416667   \n",
       "4       Bristol               1      2791               0.000000   \n",
       "\n",
       "   first_funding_year  years_between_fundings  status_bin  \n",
       "0                2011                     4.0           1  \n",
       "1                2010                     4.0           1  \n",
       "2                2012                     2.0           1  \n",
       "3                2011                     3.0           1  \n",
       "4                2012                     0.0           1  "
      ]
     },
     "execution_count": 45,
     "metadata": {},
     "output_type": "execute_result"
    }
   ],
   "source": [
    "data_train['status_bin'] = data_train['status'].apply \\\n",
    "(lambda x: 1 if x == \"operating\" else 0)\n",
    "data_train = data_train.drop([], axis=1)\n",
    "data_train = data_train.drop(columns=['country_code', 'state_code', 'status', 'name',\n",
    "                                      'founded_at', 'first_funding_at', 'last_funding_at', 'closed_at'])\n",
    "data_train.head()"
   ]
  },
  {
   "cell_type": "markdown",
   "id": "c0ed0079",
   "metadata": {},
   "source": [
    "После удаления стобца name с уникальными значениями, нужно еще раз проверить дубликаты."
   ]
  },
  {
   "cell_type": "code",
   "execution_count": 46,
   "id": "45462bc6",
   "metadata": {},
   "outputs": [
    {
     "data": {
      "text/plain": [
       "149"
      ]
     },
     "execution_count": 46,
     "metadata": {},
     "output_type": "execute_result"
    }
   ],
   "source": [
    "data_train.duplicated().sum()"
   ]
  },
  {
   "cell_type": "markdown",
   "id": "e03f4b8a",
   "metadata": {},
   "source": [
    "Удалим их"
   ]
  },
  {
   "cell_type": "code",
   "execution_count": 47,
   "id": "44dde99f",
   "metadata": {},
   "outputs": [],
   "source": [
    "data_train.drop_duplicates(inplace=True)"
   ]
  },
  {
   "cell_type": "markdown",
   "id": "a8576778",
   "metadata": {},
   "source": [
    "#### Рассчет коэффициентов корреляции между всеми признаками."
   ]
  },
  {
   "cell_type": "code",
   "execution_count": 48,
   "id": "1a68b480",
   "metadata": {},
   "outputs": [
    {
     "name": "stdout",
     "output_type": "stream",
     "text": [
      "interval columns not set, guessing: ['funding_total_usd', 'funding_rounds', 'lifetime', 'avg_funding_per_round', 'first_funding_year', 'years_between_fundings', 'status_bin']\n"
     ]
    },
    {
     "data": {
      "image/png": "[encoded data removed]",
      "text/plain": [
       "<Figure size 1080x720 with 2 Axes>"
      ]
     },
     "metadata": {
      "needs_background": "light"
     },
     "output_type": "display_data"
    }
   ],
   "source": [
    "# Вычислим матрицу корреляции с использованием phik\n",
    "corr_matrix = data_train.phik_matrix()\n",
    "\n",
    "# Визуализируем матрицу корреляции\n",
    "\n",
    "plt.figure(figsize = (15, 10))\n",
    "sns.heatmap(corr_matrix, annot = True, cmap = 'coolwarm')\n",
    "plt.show()"
   ]
  },
  {
   "cell_type": "markdown",
   "id": "b56bd51e",
   "metadata": {},
   "source": [
    "Существует умеренная положительная корреляция (0,46) между количеством раундов финансирования и годами между раундами. \n",
    "Существует сильная положительная корреляция (0,54) между lifetime и status_bin. А так же сильная корреляция (0,66) между lifetime и годом первого финансирования."
   ]
  },
  {
   "cell_type": "markdown",
   "id": "67c45805",
   "metadata": {},
   "source": [
    "Посмотрим на корреляцию открытых и закрытых стартапов отдельно."
   ]
  },
  {
   "cell_type": "code",
   "execution_count": 49,
   "id": "951a83d4",
   "metadata": {},
   "outputs": [
    {
     "name": "stdout",
     "output_type": "stream",
     "text": [
      "interval columns not set, guessing: ['funding_total_usd', 'funding_rounds', 'lifetime', 'avg_funding_per_round', 'first_funding_year', 'years_between_fundings', 'status_bin']\n"
     ]
    },
    {
     "data": {
      "image/png": "[encoded data removed]",
      "text/plain": [
       "<Figure size 1080x720 with 2 Axes>"
      ]
     },
     "metadata": {
      "needs_background": "light"
     },
     "output_type": "display_data"
    }
   ],
   "source": [
    "corr_matrix_pr = data_train.query('status_bin == 1').phik_matrix()\n",
    "\n",
    "# Визуализация матрицы корреляции\n",
    "\n",
    "plt.figure(figsize=(15, 10))\n",
    "sns.heatmap(corr_matrix_pr, annot=True, cmap='coolwarm')\n",
    "plt.title('действующий статус')\n",
    "plt.show()"
   ]
  },
  {
   "cell_type": "markdown",
   "id": "d22f6a05",
   "metadata": {},
   "source": [
    "Существует умеренная положительная корреляция (0,47) между количеством раундов финансирования и годами между раундами.  Существует сильная положительная корреляция (0,65) между lifetime и городом. А так же корреляция (0,77) между lifetime и перым годом финансирования."
   ]
  },
  {
   "cell_type": "code",
   "execution_count": 50,
   "id": "9df5f04c",
   "metadata": {},
   "outputs": [
    {
     "name": "stdout",
     "output_type": "stream",
     "text": [
      "interval columns not set, guessing: ['funding_total_usd', 'funding_rounds', 'lifetime', 'avg_funding_per_round', 'first_funding_year', 'years_between_fundings', 'status_bin']\n"
     ]
    },
    {
     "data": {
      "image/png": "[encoded data removed]",
      "text/plain": [
       "<Figure size 1080x720 with 2 Axes>"
      ]
     },
     "metadata": {
      "needs_background": "light"
     },
     "output_type": "display_data"
    }
   ],
   "source": [
    "corr_matrix_pr = data_train.query('status_bin == 0').phik_matrix()\n",
    "\n",
    "# Визуализация матрицы корреляции\n",
    "\n",
    "plt.figure(figsize=(15, 10))\n",
    "sns.heatmap(corr_matrix_pr, annot=True, cmap='coolwarm')\n",
    "plt.title('закрытый статус')\n",
    "plt.show()"
   ]
  },
  {
   "cell_type": "markdown",
   "id": "df3c009f",
   "metadata": {},
   "source": [
    "Существует сильная положительная корреляция (0,74) между количеством раундов финансирования и годами между раундами. Сильная положительная корреляция (0,78) между lifetime и городом, (0,58) между lifetime и годами между раундами, (0,66) между городом и годами между раундами. А так же (0,6) между ркгионом и категорией стартапа."
   ]
  },
  {
   "cell_type": "markdown",
   "id": "88ad5706",
   "metadata": {},
   "source": [
    "На всех матрицах корреляции наблюдается мультиколленеарность между городом и регионом. Но при этом регион хорошо коррелирует с категориями стартапа, а город с lifetime и годами между раундами"
   ]
  },
  {
   "cell_type": "markdown",
   "id": "159d6392",
   "metadata": {},
   "source": [
    "### Использование пайплайнов"
   ]
  },
  {
   "cell_type": "code",
   "execution_count": 51,
   "id": "81a7bcc5",
   "metadata": {},
   "outputs": [
    {
     "name": "stdout",
     "output_type": "stream",
     "text": [
      "<class 'pandas.core.frame.DataFrame'>\n",
      "Int64Index: 52367 entries, 0 to 52515\n",
      "Data columns (total 10 columns):\n",
      " #   Column                  Non-Null Count  Dtype  \n",
      "---  ------                  --------------  -----  \n",
      " 0   category_list           52367 non-null  object \n",
      " 1   funding_total_usd       52367 non-null  float64\n",
      " 2   region                  52367 non-null  object \n",
      " 3   city                    52367 non-null  object \n",
      " 4   funding_rounds          52367 non-null  int64  \n",
      " 5   lifetime                52367 non-null  int64  \n",
      " 6   avg_funding_per_round   52367 non-null  float64\n",
      " 7   first_funding_year      52367 non-null  int64  \n",
      " 8   years_between_fundings  52367 non-null  float64\n",
      " 9   status_bin              52367 non-null  int64  \n",
      "dtypes: float64(3), int64(4), object(3)\n",
      "memory usage: 4.4+ MB\n"
     ]
    }
   ],
   "source": [
    "data_train.info()"
   ]
  },
  {
   "cell_type": "code",
   "execution_count": 52,
   "id": "fcb794e1",
   "metadata": {},
   "outputs": [
    {
     "data": {
      "text/plain": [
       "((39275, 9), (13092, 9))"
      ]
     },
     "execution_count": 52,
     "metadata": {},
     "output_type": "execute_result"
    }
   ],
   "source": [
    "# загружаем данные\n",
    "TEST_SIZE = 0.25\n",
    "\n",
    "X = data_train.drop(['status_bin'], axis=1)\n",
    "y = data_train['status_bin']\n",
    "X_train, X_test, y_train, y_test = train_test_split(\n",
    "    X, \n",
    "    y, \n",
    "    test_size = TEST_SIZE, \n",
    "    random_state = RANDOM_STATE,\n",
    "    stratify = data_train['status_bin']\n",
    ")\n",
    "\n",
    "X_train.shape, X_test.shape"
   ]
  },
  {
   "cell_type": "code",
   "execution_count": 53,
   "id": "f8626e00",
   "metadata": {},
   "outputs": [
    {
     "name": "stdout",
     "output_type": "stream",
     "text": [
      "Тренировочные данные до сэмплирования:\n",
      "1    35592\n",
      "0     3683\n",
      "Name: status_bin, dtype: int64\n",
      "\n",
      "Тренировочные данные после сэмплирования:\n",
      "0    35592\n",
      "1    35592\n",
      "Name: status_bin, dtype: int64\n"
     ]
    }
   ],
   "source": [
    "# создаем экземпляр класса RandomOverSampler с фиксированным random_state\n",
    "sampler = RandomOverSampler(random_state=42)\n",
    "\n",
    "# сэмплируем данные методов оверсэмплинга одной командой\n",
    "X_train_sampled, y_train_sampled = sampler.fit_resample(X_train,y_train) \n",
    "\n",
    "print(f'Тренировочные данные до сэмплирования:\\n{y_train.value_counts()}')\n",
    "print(f'\\nТренировочные данные после сэмплирования:\\n{y_train_sampled.value_counts()}')"
   ]
  },
  {
   "cell_type": "code",
   "execution_count": 54,
   "id": "f5f99a8a",
   "metadata": {},
   "outputs": [],
   "source": [
    "# создаём списки с названиями признаков\n",
    "\n",
    "ohe_columns = X.select_dtypes(include='object').columns.tolist()\n",
    "num_columns = X.select_dtypes(include='number').columns.tolist()\n"
   ]
  },
  {
   "cell_type": "code",
   "execution_count": 55,
   "id": "933c0f3a",
   "metadata": {},
   "outputs": [],
   "source": [
    "RANDOM_STATE = 50\n",
    "\n",
    "\n",
    "# Создание пайплайна для обработки признаков\n",
    "ohe_pipeline = Pipeline(\n",
    "    [\n",
    "        ('encoder_ohe', OneHotEncoder(drop='first', handle_unknown='ignore'))\n",
    "])\n",
    "\n",
    "\n",
    "# создаём общий пайплайн для подготовки данных\n",
    "data_preprocessor = ColumnTransformer(\n",
    "    [('categorical', ohe_pipeline, ohe_columns),\n",
    "     ('num', MinMaxScaler(), num_columns)\n",
    "    ], \n",
    "    remainder = 'passthrough'\n",
    ")\n",
    "\n",
    "# создаём итоговый пайплайн: подготовка данных и модель\n",
    "pipe_final = Pipeline(\n",
    "    [\n",
    "    ('preprocessor', data_preprocessor),\n",
    "    ('models', LinearRegression())\n",
    "])       \n",
    "   "
   ]
  },
  {
   "cell_type": "code",
   "execution_count": 56,
   "id": "a710b571",
   "metadata": {},
   "outputs": [],
   "source": [
    "param_grid = [\n",
    "    # словарь для модели DecisionTreeClassifier()\n",
    "    {\n",
    "        'models': [DecisionTreeClassifier(random_state=RANDOM_STATE)],\n",
    "        'models__max_depth': range(2, 5),\n",
    "        'models__max_features': range(2, 5),\n",
    "        'preprocessor__num': [StandardScaler(), MinMaxScaler(), 'passthrough']\n",
    "    },\n",
    "    \n",
    "    # словарь для модели KNeighborsClassifier() \n",
    "    {\n",
    "        'models': [KNeighborsClassifier()],\n",
    "        'models__n_neighbors': range(2, 5),\n",
    "        'preprocessor__num': [StandardScaler(), MinMaxScaler(), 'passthrough'] \n",
    "    },\n",
    "\n",
    "    # словарь для модели LogisticRegression()\n",
    "    {   \n",
    "        'models': [LogisticRegression(random_state=42, solver='liblinear', penalty='l1')],\n",
    "        'models__C': range(1, 3),\n",
    "        'preprocessor__num': [StandardScaler(), MinMaxScaler(), 'passthrough']\n",
    "     },\n",
    "    \n",
    "    # словарь для модели CatBoostClassifier()    \n",
    "        {\n",
    "        'models': [CatBoostClassifier(random_state=RANDOM_STATE, silent=True)],\n",
    "        'models__iterations': [100, 200, 300],\n",
    "        'models__depth': [4, 6, 8],\n",
    "        'models__learning_rate': [0.01, 0.05, 0.1],\n",
    "        'models__l2_leaf_reg': [1, 3, 5, 7],\n",
    "        'preprocessor__num': [StandardScaler(), MinMaxScaler(), 'passthrough']\n",
    "    },\n",
    "]"
   ]
  },
  {
   "cell_type": "code",
   "execution_count": 57,
   "id": "908e6210",
   "metadata": {
    "scrolled": false
   },
   "outputs": [
    {
     "name": "stdout",
     "output_type": "stream",
     "text": [
      "Лучшая модель и её параметры:\n",
      "\n",
      " Pipeline(steps=[('preprocessor',\n",
      "                 ColumnTransformer(remainder='passthrough',\n",
      "                                   transformers=[('categorical',\n",
      "                                                  Pipeline(steps=[('encoder_ohe',\n",
      "                                                                   OneHotEncoder(drop='first',\n",
      "                                                                                 handle_unknown='ignore'))]),\n",
      "                                                  ['category_list', 'region',\n",
      "                                                   'city']),\n",
      "                                                 ('num', 'passthrough',\n",
      "                                                  ['funding_total_usd',\n",
      "                                                   'funding_rounds', 'lifetime',\n",
      "                                                   'avg_funding_per_round',\n",
      "                                                   'first_funding_year',\n",
      "                                                   'years_between_fundings'])])),\n",
      "                ('models',\n",
      "                 <catboost.core.CatBoostClassifier object at 0x7ff00df97700>)])\n",
      "Метрика лучшей модели на тренировочной выборке: 0.5886455697584967\n"
     ]
    }
   ],
   "source": [
    "randomized_search = RandomizedSearchCV(\n",
    "    pipe_final, \n",
    "    param_grid, \n",
    "    cv=5,\n",
    "    scoring='f1',\n",
    "    random_state=RANDOM_STATE,\n",
    "    n_jobs=-1\n",
    "   )\n",
    "randomized_search.fit(X_train_sampled, y_train_sampled)\n",
    "\n",
    "print('Лучшая модель и её параметры:\\n\\n', randomized_search.best_estimator_)\n",
    "print ('Метрика лучшей модели на тренировочной выборке:', randomized_search.best_score_)"
   ]
  },
  {
   "cell_type": "code",
   "execution_count": 58,
   "id": "698da5ac",
   "metadata": {},
   "outputs": [
    {
     "name": "stdout",
     "output_type": "stream",
     "text": [
      "Метрика f1 score на тестовой выборке: 0.9817243421609273\n"
     ]
    }
   ],
   "source": [
    "# рассчитаем прогноз на тестовых данных\n",
    "y_test_pred = randomized_search.predict(X_test)\n",
    "print(f'Метрика f1 score на тестовой выборке: {f1_score(y_test, y_test_pred)}')"
   ]
  },
  {
   "cell_type": "code",
   "execution_count": 59,
   "id": "bbfe85ed",
   "metadata": {},
   "outputs": [
    {
     "data": {
      "image/png": "[encoded data removed]",
      "text/plain": [
       "<Figure size 432x288 with 2 Axes>"
      ]
     },
     "metadata": {
      "needs_background": "light"
     },
     "output_type": "display_data"
    }
   ],
   "source": [
    "y_test_pred = randomized_search.predict(X_test)\n",
    "cm =  confusion_matrix(y_test, y_test_pred)\n",
    "sns.heatmap(cm, annot=True, fmt='d', cmap='Blues_r');\n",
    " "
   ]
  },
  {
   "cell_type": "code",
   "execution_count": null,
   "id": "c8e1cf4c",
   "metadata": {},
   "outputs": [],
   "source": []
  },
  {
   "cell_type": "code",
   "execution_count": 60,
   "id": "fba95e8d",
   "metadata": {},
   "outputs": [
    {
     "data": {
      "text/html": [
       "<div>\n",
       "<style scoped>\n",
       "    .dataframe tbody tr th:only-of-type {\n",
       "        vertical-align: middle;\n",
       "    }\n",
       "\n",
       "    .dataframe tbody tr th {\n",
       "        vertical-align: top;\n",
       "    }\n",
       "\n",
       "    .dataframe thead th {\n",
       "        text-align: right;\n",
       "    }\n",
       "</style>\n",
       "<table border=\"1\" class=\"dataframe\">\n",
       "  <thead>\n",
       "    <tr style=\"text-align: right;\">\n",
       "      <th></th>\n",
       "      <th>name</th>\n",
       "      <th>first_funding_year</th>\n",
       "      <th>status</th>\n",
       "    </tr>\n",
       "  </thead>\n",
       "  <tbody>\n",
       "    <tr>\n",
       "      <th>0</th>\n",
       "      <td>Crystalsol</td>\n",
       "      <td>2009</td>\n",
       "      <td>operating</td>\n",
       "    </tr>\n",
       "    <tr>\n",
       "      <th>1</th>\n",
       "      <td>JBI Fish &amp; Wings</td>\n",
       "      <td>2010</td>\n",
       "      <td>operating</td>\n",
       "    </tr>\n",
       "    <tr>\n",
       "      <th>2</th>\n",
       "      <td>COINPLUS</td>\n",
       "      <td>2014</td>\n",
       "      <td>operating</td>\n",
       "    </tr>\n",
       "    <tr>\n",
       "      <th>3</th>\n",
       "      <td>Imagine Communications</td>\n",
       "      <td>2005</td>\n",
       "      <td>operating</td>\n",
       "    </tr>\n",
       "    <tr>\n",
       "      <th>4</th>\n",
       "      <td>DNA13</td>\n",
       "      <td>2007</td>\n",
       "      <td>operating</td>\n",
       "    </tr>\n",
       "  </tbody>\n",
       "</table>\n",
       "</div>"
      ],
      "text/plain": [
       "                     name  first_funding_year     status\n",
       "0              Crystalsol                2009  operating\n",
       "1        JBI Fish & Wings                2010  operating\n",
       "2                COINPLUS                2014  operating\n",
       "3  Imagine Communications                2005  operating\n",
       "4                   DNA13                2007  operating"
      ]
     },
     "execution_count": 60,
     "metadata": {},
     "output_type": "execute_result"
    }
   ],
   "source": [
    "# Загрузка лучшей модели\n",
    "best_model = randomized_search.best_estimator_\n",
    "# Применение модели к data_test\n",
    "data_test['status'] = best_model.predict(data_test)\n",
    "data_test['status'] = data_test['status'].apply \\\n",
    "(lambda x: \"operating\" if x == 1 else \"closed\")\n",
    "data_test = data_test.drop(columns=['category_list', 'funding_total_usd', 'country_code', 'state_code', 'city', 'funding_rounds',\n",
    "                                    'region', 'first_funding_at', 'last_funding_at', 'lifetime', \n",
    "                                    'years_between_fundings','avg_funding_per_round','first_funding_year'])\n",
    "\n",
    "# Вывод прогнозов\n",
    "data_test.head()"
   ]
  },
  {
   "cell_type": "code",
   "execution_count": 62,
   "id": "d6af0bb4",
   "metadata": {},
   "outputs": [],
   "source": [
    "data_test = data_test.drop(columns=['first_funding_year'])"
   ]
  },
  {
   "cell_type": "code",
   "execution_count": 64,
   "id": "581aee61",
   "metadata": {},
   "outputs": [],
   "source": [
    "# Сохраните DataFrame в CSV файл\n",
    "data_test.to_csv('predictions.csv', index=False)"
   ]
  },
  {
   "cell_type": "markdown",
   "id": "97520e5a",
   "metadata": {},
   "source": [
    "### Вывод"
   ]
  },
  {
   "cell_type": "markdown",
   "id": "e43d24bc",
   "metadata": {},
   "source": [
    "**Цель исследования:** Целью данного проекта было предсказать успешность стартапа (закроется он или нет) на основе различных характеристик стартапов, таких как регион, категория, количество раундов финансирования и другие.\n",
    "\n",
    "**Методы и подходы:** \n",
    "1. **Подготовка данных:** Были обработаны пропуски в данных и приведены столбцы с датами к соответствующему виду. Категориальные переменные, такие как `category_list`, `city` и `region`, были закодированы с использованием метода OneHotEncoder. Также был добавлены новые признаки — количество лет между первым и последним раундом финансирования, а также среднее финансирование на раунд.\n",
    "   \n",
    "3. **Построение моделей:** Были исследованы различные модели машинного обучения, включая DecisionTreeClassifier, KNeighborsClassifier, LogisticRegression, CatBoostClassifier. Для каждой модели был настроен набор гиперпараметров с использованием RandomizedSearchCV.\n",
    "\n",
    "4. **Оценка моделей:** Лучшая модель была выбрана на основе метрики f1-score. .\n",
    "\n",
    "**Результаты:**\n",
    "- Лучшая модель показала достаточно высокий уровень точности на тренировочной и тестовой выборках.\n",
    "- Важнейшие признаки для предсказания успешности стартапа включают регион, категорию стартапа, количество раундов финансирования, количество лет между первым и последним раундом финансирования и первый год финансирования.\n",
    "\n",
    "**Заключение:**\n",
    "Полученные результаты демонстрируют, что предложенный подход с использованием различных методов машинного обучения и тщательной подготовки данных позволяет эффективно предсказывать успешность стартапов. Важность таких признаков, как регион и категория стартапа, первый год финансирования подчеркивает необходимость более детального анализа этих факторов при оценке перспективности новых стартапов. В будущем целесообразно продолжить исследование с использованием дополнительных данных и методов для дальнейшего повышения точности предсказаний и понимания ключевых факторов, влияющих на успешность стартапов."
   ]
  },
  {
   "cell_type": "code",
   "execution_count": null,
   "id": "12470a39",
   "metadata": {},
   "outputs": [],
   "source": []
  }
 ],
 "metadata": {
  "ExecuteTimeLog": [
   {
    "duration": 1761,
    "start_time": "2024-07-01T22:15:44.727Z"
   },
   {
    "duration": 143,
    "start_time": "2024-07-01T22:30:22.431Z"
   },
   {
    "duration": 306,
    "start_time": "2024-07-01T22:30:28.194Z"
   },
   {
    "duration": 48,
    "start_time": "2024-07-01T22:31:04.427Z"
   },
   {
    "duration": 2677,
    "start_time": "2024-07-01T22:34:22.495Z"
   },
   {
    "duration": 15,
    "start_time": "2024-07-01T22:34:37.595Z"
   },
   {
    "duration": 10,
    "start_time": "2024-07-01T22:36:40.729Z"
   },
   {
    "duration": 9,
    "start_time": "2024-07-01T22:36:50.837Z"
   },
   {
    "duration": 313,
    "start_time": "2024-07-01T22:56:13.950Z"
   },
   {
    "duration": 3,
    "start_time": "2024-07-01T22:56:23.748Z"
   },
   {
    "duration": 322,
    "start_time": "2024-07-01T22:56:24.290Z"
   },
   {
    "duration": 307,
    "start_time": "2024-07-01T22:57:14.865Z"
   },
   {
    "duration": 235,
    "start_time": "2024-07-01T22:57:38.992Z"
   },
   {
    "duration": 39,
    "start_time": "2024-07-01T22:57:45.495Z"
   },
   {
    "duration": 335,
    "start_time": "2024-07-01T23:01:32.346Z"
   },
   {
    "duration": 369,
    "start_time": "2024-07-01T23:01:39.779Z"
   },
   {
    "duration": 36,
    "start_time": "2024-07-01T23:01:46.746Z"
   },
   {
    "duration": 56,
    "start_time": "2024-07-01T23:02:07.481Z"
   },
   {
    "duration": 28,
    "start_time": "2024-07-01T23:04:28.911Z"
   },
   {
    "duration": 106,
    "start_time": "2024-07-01T23:13:03.962Z"
   },
   {
    "duration": 27,
    "start_time": "2024-07-01T23:13:56.376Z"
   },
   {
    "duration": 61,
    "start_time": "2024-07-01T23:14:03.757Z"
   },
   {
    "duration": 3,
    "start_time": "2024-07-01T23:16:37.496Z"
   },
   {
    "duration": 84,
    "start_time": "2024-07-01T23:18:38.971Z"
   },
   {
    "duration": 4,
    "start_time": "2024-07-01T23:19:53.920Z"
   },
   {
    "duration": 4,
    "start_time": "2024-07-01T23:20:04.298Z"
   },
   {
    "duration": 18,
    "start_time": "2024-07-01T23:26:44.407Z"
   },
   {
    "duration": 11,
    "start_time": "2024-07-01T23:29:17.683Z"
   },
   {
    "duration": 3,
    "start_time": "2024-07-01T23:29:25.437Z"
   },
   {
    "duration": 40,
    "start_time": "2024-07-01T23:29:26.100Z"
   },
   {
    "duration": 29,
    "start_time": "2024-07-01T23:29:35.678Z"
   },
   {
    "duration": 51,
    "start_time": "2024-07-01T23:29:45.293Z"
   },
   {
    "duration": 11,
    "start_time": "2024-07-01T23:33:41.008Z"
   },
   {
    "duration": 64,
    "start_time": "2024-07-01T23:33:43.527Z"
   },
   {
    "duration": 16,
    "start_time": "2024-07-01T23:34:01.712Z"
   },
   {
    "duration": 21,
    "start_time": "2024-07-01T23:36:01.597Z"
   },
   {
    "duration": 14,
    "start_time": "2024-07-01T23:37:46.260Z"
   },
   {
    "duration": 11,
    "start_time": "2024-07-01T23:39:14.840Z"
   },
   {
    "duration": 12,
    "start_time": "2024-07-01T23:39:51.091Z"
   },
   {
    "duration": 14,
    "start_time": "2024-07-01T23:39:57.408Z"
   },
   {
    "duration": 11,
    "start_time": "2024-07-01T23:40:06.540Z"
   },
   {
    "duration": 18,
    "start_time": "2024-07-01T23:41:11.116Z"
   },
   {
    "duration": 26,
    "start_time": "2024-07-01T23:42:15.697Z"
   },
   {
    "duration": 1549,
    "start_time": "2024-07-02T08:33:03.823Z"
   },
   {
    "duration": 390,
    "start_time": "2024-07-02T08:33:05.374Z"
   },
   {
    "duration": 42,
    "start_time": "2024-07-02T08:33:05.766Z"
   },
   {
    "duration": 23,
    "start_time": "2024-07-02T08:33:05.810Z"
   },
   {
    "duration": 111,
    "start_time": "2024-07-02T08:33:05.835Z"
   },
   {
    "duration": 23,
    "start_time": "2024-07-02T08:33:05.947Z"
   },
   {
    "duration": 3,
    "start_time": "2024-07-02T08:33:05.972Z"
   },
   {
    "duration": 39,
    "start_time": "2024-07-02T08:33:05.977Z"
   },
   {
    "duration": 26,
    "start_time": "2024-07-02T08:33:06.018Z"
   },
   {
    "duration": 58,
    "start_time": "2024-07-02T08:33:06.046Z"
   },
   {
    "duration": 24,
    "start_time": "2024-07-02T08:33:06.106Z"
   },
   {
    "duration": 14,
    "start_time": "2024-07-02T08:33:06.132Z"
   },
   {
    "duration": 21,
    "start_time": "2024-07-02T08:33:06.148Z"
   },
   {
    "duration": 64,
    "start_time": "2024-07-02T08:33:06.171Z"
   },
   {
    "duration": 19,
    "start_time": "2024-07-02T08:33:06.236Z"
   },
   {
    "duration": 24,
    "start_time": "2024-07-02T08:33:06.257Z"
   },
   {
    "duration": 7,
    "start_time": "2024-07-02T08:35:41.525Z"
   },
   {
    "duration": 23,
    "start_time": "2024-07-02T08:35:50.749Z"
   },
   {
    "duration": 39,
    "start_time": "2024-07-02T08:36:18.663Z"
   },
   {
    "duration": 1310,
    "start_time": "2024-07-02T08:36:25.934Z"
   },
   {
    "duration": 309,
    "start_time": "2024-07-02T08:36:27.246Z"
   },
   {
    "duration": 42,
    "start_time": "2024-07-02T08:36:27.557Z"
   },
   {
    "duration": 26,
    "start_time": "2024-07-02T08:36:27.600Z"
   },
   {
    "duration": 107,
    "start_time": "2024-07-02T08:36:27.629Z"
   },
   {
    "duration": 25,
    "start_time": "2024-07-02T08:36:27.737Z"
   },
   {
    "duration": 4,
    "start_time": "2024-07-02T08:36:27.764Z"
   },
   {
    "duration": 42,
    "start_time": "2024-07-02T08:36:27.770Z"
   },
   {
    "duration": 3,
    "start_time": "2024-07-02T08:36:27.813Z"
   },
   {
    "duration": 54,
    "start_time": "2024-07-02T08:36:27.817Z"
   },
   {
    "duration": 22,
    "start_time": "2024-07-02T08:36:27.872Z"
   },
   {
    "duration": 22,
    "start_time": "2024-07-02T08:36:27.896Z"
   },
   {
    "duration": 23,
    "start_time": "2024-07-02T08:36:27.920Z"
   },
   {
    "duration": 67,
    "start_time": "2024-07-02T08:36:27.945Z"
   },
   {
    "duration": 19,
    "start_time": "2024-07-02T08:36:28.013Z"
   },
   {
    "duration": 106,
    "start_time": "2024-07-02T08:36:28.033Z"
   },
   {
    "duration": 33,
    "start_time": "2024-07-02T08:36:28.140Z"
   },
   {
    "duration": 22,
    "start_time": "2024-07-02T08:36:55.950Z"
   },
   {
    "duration": 24,
    "start_time": "2024-07-02T08:37:09.095Z"
   },
   {
    "duration": 39,
    "start_time": "2024-07-02T08:37:18.162Z"
   },
   {
    "duration": 22,
    "start_time": "2024-07-02T08:37:21.550Z"
   },
   {
    "duration": 6,
    "start_time": "2024-07-02T08:39:45.807Z"
   },
   {
    "duration": 12,
    "start_time": "2024-07-02T08:39:49.069Z"
   },
   {
    "duration": 22,
    "start_time": "2024-07-02T08:40:21.100Z"
   },
   {
    "duration": 27,
    "start_time": "2024-07-02T08:41:13.118Z"
   },
   {
    "duration": 116,
    "start_time": "2024-07-02T08:43:54.651Z"
   },
   {
    "duration": 22,
    "start_time": "2024-07-02T08:43:58.298Z"
   },
   {
    "duration": 60,
    "start_time": "2024-07-02T08:44:06.586Z"
   },
   {
    "duration": 76,
    "start_time": "2024-07-02T08:45:02.977Z"
   },
   {
    "duration": 131,
    "start_time": "2024-07-02T08:50:48.402Z"
   },
   {
    "duration": 12,
    "start_time": "2024-07-02T08:51:57.284Z"
   },
   {
    "duration": 4,
    "start_time": "2024-07-02T08:52:13.360Z"
   },
   {
    "duration": 9,
    "start_time": "2024-07-02T08:52:18.852Z"
   },
   {
    "duration": 13,
    "start_time": "2024-07-02T08:52:41.691Z"
   },
   {
    "duration": 27,
    "start_time": "2024-07-02T08:52:47.210Z"
   },
   {
    "duration": 22,
    "start_time": "2024-07-02T08:53:18.010Z"
   },
   {
    "duration": 12,
    "start_time": "2024-07-02T08:53:29.495Z"
   },
   {
    "duration": 7,
    "start_time": "2024-07-02T09:01:57.387Z"
   },
   {
    "duration": 9,
    "start_time": "2024-07-02T09:02:58.031Z"
   },
   {
    "duration": 6,
    "start_time": "2024-07-02T09:03:30.943Z"
   },
   {
    "duration": 6,
    "start_time": "2024-07-02T09:03:46.743Z"
   },
   {
    "duration": 15,
    "start_time": "2024-07-02T09:17:21.739Z"
   },
   {
    "duration": 631,
    "start_time": "2024-07-02T09:19:53.012Z"
   },
   {
    "duration": 593,
    "start_time": "2024-07-02T09:26:18.909Z"
   },
   {
    "duration": 50,
    "start_time": "2024-07-02T09:27:23.558Z"
   },
   {
    "duration": 67,
    "start_time": "2024-07-02T09:27:45.315Z"
   },
   {
    "duration": 80,
    "start_time": "2024-07-02T09:27:49.216Z"
   },
   {
    "duration": 534,
    "start_time": "2024-07-02T09:28:06.147Z"
   },
   {
    "duration": 62,
    "start_time": "2024-07-02T09:28:06.683Z"
   },
   {
    "duration": 72,
    "start_time": "2024-07-02T09:28:26.557Z"
   },
   {
    "duration": 65,
    "start_time": "2024-07-02T12:42:12.745Z"
   },
   {
    "duration": 14,
    "start_time": "2024-07-02T12:43:19.909Z"
   },
   {
    "duration": 18,
    "start_time": "2024-07-02T12:43:41.590Z"
   },
   {
    "duration": 70,
    "start_time": "2024-07-02T12:43:53.061Z"
   },
   {
    "duration": 17,
    "start_time": "2024-07-02T12:44:31.229Z"
   },
   {
    "duration": 68,
    "start_time": "2024-07-02T12:44:40.542Z"
   },
   {
    "duration": 14,
    "start_time": "2024-07-02T12:47:10.493Z"
   },
   {
    "duration": 13,
    "start_time": "2024-07-02T12:47:22.818Z"
   },
   {
    "duration": 5,
    "start_time": "2024-07-02T12:51:10.122Z"
   },
   {
    "duration": 14,
    "start_time": "2024-07-02T12:51:24.544Z"
   },
   {
    "duration": 1252,
    "start_time": "2024-07-02T13:28:51.259Z"
   },
   {
    "duration": 348,
    "start_time": "2024-07-02T13:28:52.513Z"
   },
   {
    "duration": 40,
    "start_time": "2024-07-02T13:28:52.862Z"
   },
   {
    "duration": 20,
    "start_time": "2024-07-02T13:28:52.904Z"
   },
   {
    "duration": 90,
    "start_time": "2024-07-02T13:28:52.925Z"
   },
   {
    "duration": 21,
    "start_time": "2024-07-02T13:28:53.017Z"
   },
   {
    "duration": 3,
    "start_time": "2024-07-02T13:28:53.040Z"
   },
   {
    "duration": 128,
    "start_time": "2024-07-02T13:28:53.044Z"
   },
   {
    "duration": 0,
    "start_time": "2024-07-02T13:28:53.174Z"
   },
   {
    "duration": 0,
    "start_time": "2024-07-02T13:28:53.175Z"
   },
   {
    "duration": 0,
    "start_time": "2024-07-02T13:28:53.176Z"
   },
   {
    "duration": 0,
    "start_time": "2024-07-02T13:28:53.177Z"
   },
   {
    "duration": 0,
    "start_time": "2024-07-02T13:28:53.178Z"
   },
   {
    "duration": 0,
    "start_time": "2024-07-02T13:28:53.179Z"
   },
   {
    "duration": 0,
    "start_time": "2024-07-02T13:28:53.179Z"
   },
   {
    "duration": 0,
    "start_time": "2024-07-02T13:28:53.180Z"
   },
   {
    "duration": 0,
    "start_time": "2024-07-02T13:28:53.181Z"
   },
   {
    "duration": 0,
    "start_time": "2024-07-02T13:28:53.182Z"
   },
   {
    "duration": 0,
    "start_time": "2024-07-02T13:28:53.183Z"
   },
   {
    "duration": 0,
    "start_time": "2024-07-02T13:28:53.184Z"
   },
   {
    "duration": 0,
    "start_time": "2024-07-02T13:28:53.184Z"
   },
   {
    "duration": 0,
    "start_time": "2024-07-02T13:28:53.186Z"
   },
   {
    "duration": 0,
    "start_time": "2024-07-02T13:28:53.186Z"
   },
   {
    "duration": 0,
    "start_time": "2024-07-02T13:28:53.187Z"
   },
   {
    "duration": 0,
    "start_time": "2024-07-02T13:28:53.188Z"
   },
   {
    "duration": 0,
    "start_time": "2024-07-02T13:28:53.212Z"
   },
   {
    "duration": 0,
    "start_time": "2024-07-02T13:28:53.213Z"
   },
   {
    "duration": 10,
    "start_time": "2024-07-02T13:29:15.592Z"
   },
   {
    "duration": 4,
    "start_time": "2024-07-02T13:29:37.345Z"
   },
   {
    "duration": 10,
    "start_time": "2024-07-02T13:29:41.176Z"
   },
   {
    "duration": 17,
    "start_time": "2024-07-02T13:30:04.265Z"
   },
   {
    "duration": 16,
    "start_time": "2024-07-02T13:30:13.558Z"
   },
   {
    "duration": 102,
    "start_time": "2024-07-02T13:31:03.240Z"
   },
   {
    "duration": 11,
    "start_time": "2024-07-02T13:31:19.329Z"
   },
   {
    "duration": 1573,
    "start_time": "2024-07-02T22:44:47.401Z"
   },
   {
    "duration": 435,
    "start_time": "2024-07-02T22:44:48.976Z"
   },
   {
    "duration": 49,
    "start_time": "2024-07-02T22:44:49.412Z"
   },
   {
    "duration": 39,
    "start_time": "2024-07-02T22:44:49.464Z"
   },
   {
    "duration": 114,
    "start_time": "2024-07-02T22:44:49.504Z"
   },
   {
    "duration": 25,
    "start_time": "2024-07-02T22:44:49.619Z"
   },
   {
    "duration": 3,
    "start_time": "2024-07-02T22:44:49.645Z"
   },
   {
    "duration": 175,
    "start_time": "2024-07-02T22:44:49.649Z"
   },
   {
    "duration": 0,
    "start_time": "2024-07-02T22:44:49.825Z"
   },
   {
    "duration": 0,
    "start_time": "2024-07-02T22:44:49.827Z"
   },
   {
    "duration": 1,
    "start_time": "2024-07-02T22:44:49.827Z"
   },
   {
    "duration": 0,
    "start_time": "2024-07-02T22:44:49.829Z"
   },
   {
    "duration": 0,
    "start_time": "2024-07-02T22:44:49.831Z"
   },
   {
    "duration": 0,
    "start_time": "2024-07-02T22:44:49.832Z"
   },
   {
    "duration": 0,
    "start_time": "2024-07-02T22:44:49.833Z"
   },
   {
    "duration": 0,
    "start_time": "2024-07-02T22:44:49.834Z"
   },
   {
    "duration": 0,
    "start_time": "2024-07-02T22:44:49.836Z"
   },
   {
    "duration": 0,
    "start_time": "2024-07-02T22:44:49.837Z"
   },
   {
    "duration": 0,
    "start_time": "2024-07-02T22:44:49.839Z"
   },
   {
    "duration": 0,
    "start_time": "2024-07-02T22:44:49.840Z"
   },
   {
    "duration": 0,
    "start_time": "2024-07-02T22:44:49.841Z"
   },
   {
    "duration": 0,
    "start_time": "2024-07-02T22:44:49.842Z"
   },
   {
    "duration": 0,
    "start_time": "2024-07-02T22:44:49.843Z"
   },
   {
    "duration": 0,
    "start_time": "2024-07-02T22:44:49.845Z"
   },
   {
    "duration": 0,
    "start_time": "2024-07-02T22:44:49.846Z"
   },
   {
    "duration": 0,
    "start_time": "2024-07-02T22:44:49.847Z"
   },
   {
    "duration": 0,
    "start_time": "2024-07-02T22:44:49.849Z"
   },
   {
    "duration": 35,
    "start_time": "2024-07-02T22:47:21.079Z"
   },
   {
    "duration": 27,
    "start_time": "2024-07-02T22:47:50.828Z"
   },
   {
    "duration": 12,
    "start_time": "2024-07-02T22:47:53.186Z"
   },
   {
    "duration": 77,
    "start_time": "2024-07-02T22:49:01.916Z"
   },
   {
    "duration": 9,
    "start_time": "2024-07-02T22:49:06.895Z"
   },
   {
    "duration": 8,
    "start_time": "2024-07-02T22:50:01.900Z"
   },
   {
    "duration": 6,
    "start_time": "2024-07-02T22:50:13.601Z"
   },
   {
    "duration": 10,
    "start_time": "2024-07-02T22:50:14.230Z"
   },
   {
    "duration": 68,
    "start_time": "2024-07-02T22:50:30.236Z"
   },
   {
    "duration": 111,
    "start_time": "2024-07-02T22:51:09.669Z"
   },
   {
    "duration": 17,
    "start_time": "2024-07-02T22:51:24.903Z"
   },
   {
    "duration": 5,
    "start_time": "2024-07-02T22:51:49.967Z"
   },
   {
    "duration": 36,
    "start_time": "2024-07-02T22:51:50.805Z"
   },
   {
    "duration": 116,
    "start_time": "2024-07-02T22:51:51.379Z"
   },
   {
    "duration": 55,
    "start_time": "2024-07-02T22:52:35.433Z"
   },
   {
    "duration": 15,
    "start_time": "2024-07-02T22:53:25.124Z"
   },
   {
    "duration": 55,
    "start_time": "2024-07-02T22:53:25.844Z"
   },
   {
    "duration": 20,
    "start_time": "2024-07-02T22:53:46.468Z"
   },
   {
    "duration": 8,
    "start_time": "2024-07-02T22:59:25.072Z"
   },
   {
    "duration": 14,
    "start_time": "2024-07-02T22:59:33.492Z"
   },
   {
    "duration": 12,
    "start_time": "2024-07-02T22:59:37.914Z"
   },
   {
    "duration": 8,
    "start_time": "2024-07-02T23:02:01.715Z"
   },
   {
    "duration": 4,
    "start_time": "2024-07-02T23:02:11.459Z"
   },
   {
    "duration": 9,
    "start_time": "2024-07-02T23:02:13.746Z"
   },
   {
    "duration": 8,
    "start_time": "2024-07-02T23:02:35.532Z"
   },
   {
    "duration": 10,
    "start_time": "2024-07-02T23:02:57.921Z"
   },
   {
    "duration": 7,
    "start_time": "2024-07-02T23:03:07.237Z"
   },
   {
    "duration": 69,
    "start_time": "2024-07-02T23:04:14.156Z"
   },
   {
    "duration": 352,
    "start_time": "2024-07-02T23:09:08.683Z"
   },
   {
    "duration": 16,
    "start_time": "2024-07-02T23:10:42.624Z"
   },
   {
    "duration": 126,
    "start_time": "2024-07-02T23:11:24.814Z"
   },
   {
    "duration": 10204,
    "start_time": "2024-07-02T23:12:03.774Z"
   },
   {
    "duration": 1455,
    "start_time": "2024-07-02T23:12:39.936Z"
   },
   {
    "duration": 226,
    "start_time": "2024-07-02T23:12:56.380Z"
   },
   {
    "duration": 10,
    "start_time": "2024-07-02T23:16:55.177Z"
   },
   {
    "duration": 13,
    "start_time": "2024-07-02T23:17:01.452Z"
   },
   {
    "duration": 9,
    "start_time": "2024-07-02T23:18:05.691Z"
   },
   {
    "duration": 9,
    "start_time": "2024-07-02T23:19:59.793Z"
   },
   {
    "duration": 904,
    "start_time": "2024-07-02T23:20:07.866Z"
   },
   {
    "duration": 54325,
    "start_time": "2024-07-02T23:20:56.731Z"
   },
   {
    "duration": 179,
    "start_time": "2024-07-02T23:22:56.651Z"
   },
   {
    "duration": 154,
    "start_time": "2024-07-02T23:23:57.647Z"
   },
   {
    "duration": 9,
    "start_time": "2024-07-02T23:25:04.048Z"
   },
   {
    "duration": 9,
    "start_time": "2024-07-02T23:25:23.626Z"
   },
   {
    "duration": 9,
    "start_time": "2024-07-02T23:25:51.205Z"
   },
   {
    "duration": 12371,
    "start_time": "2024-07-02T23:26:35.749Z"
   },
   {
    "duration": 88,
    "start_time": "2024-07-02T23:26:50.552Z"
   },
   {
    "duration": 386513,
    "start_time": "2024-07-02T23:27:02.506Z"
   },
   {
    "duration": 11,
    "start_time": "2024-07-02T23:36:44.878Z"
   },
   {
    "duration": 267075,
    "start_time": "2024-07-02T23:36:54.595Z"
   },
   {
    "duration": 11276,
    "start_time": "2024-07-03T20:34:20.234Z"
   },
   {
    "duration": 1445,
    "start_time": "2024-07-03T20:34:31.512Z"
   },
   {
    "duration": 412,
    "start_time": "2024-07-03T20:34:32.958Z"
   },
   {
    "duration": 42,
    "start_time": "2024-07-03T20:34:33.372Z"
   },
   {
    "duration": 23,
    "start_time": "2024-07-03T20:34:33.415Z"
   },
   {
    "duration": 118,
    "start_time": "2024-07-03T20:34:33.439Z"
   },
   {
    "duration": 36,
    "start_time": "2024-07-03T20:34:33.559Z"
   },
   {
    "duration": 4,
    "start_time": "2024-07-03T20:34:33.617Z"
   },
   {
    "duration": 45,
    "start_time": "2024-07-03T20:34:33.623Z"
   },
   {
    "duration": 122,
    "start_time": "2024-07-03T20:34:33.671Z"
   },
   {
    "duration": 0,
    "start_time": "2024-07-03T20:34:33.795Z"
   },
   {
    "duration": 0,
    "start_time": "2024-07-03T20:34:33.796Z"
   },
   {
    "duration": 0,
    "start_time": "2024-07-03T20:34:33.797Z"
   },
   {
    "duration": 0,
    "start_time": "2024-07-03T20:34:33.798Z"
   },
   {
    "duration": 0,
    "start_time": "2024-07-03T20:34:33.799Z"
   },
   {
    "duration": 0,
    "start_time": "2024-07-03T20:34:33.799Z"
   },
   {
    "duration": 0,
    "start_time": "2024-07-03T20:34:33.800Z"
   },
   {
    "duration": 0,
    "start_time": "2024-07-03T20:34:33.801Z"
   },
   {
    "duration": 0,
    "start_time": "2024-07-03T20:34:33.802Z"
   },
   {
    "duration": 0,
    "start_time": "2024-07-03T20:34:33.812Z"
   },
   {
    "duration": 0,
    "start_time": "2024-07-03T20:34:33.813Z"
   },
   {
    "duration": 0,
    "start_time": "2024-07-03T20:34:33.814Z"
   },
   {
    "duration": 0,
    "start_time": "2024-07-03T20:34:33.815Z"
   },
   {
    "duration": 0,
    "start_time": "2024-07-03T20:34:33.816Z"
   },
   {
    "duration": 1,
    "start_time": "2024-07-03T20:34:33.817Z"
   },
   {
    "duration": 0,
    "start_time": "2024-07-03T20:34:33.819Z"
   },
   {
    "duration": 0,
    "start_time": "2024-07-03T20:34:33.820Z"
   },
   {
    "duration": 0,
    "start_time": "2024-07-03T20:34:33.821Z"
   },
   {
    "duration": 0,
    "start_time": "2024-07-03T20:34:33.822Z"
   },
   {
    "duration": 0,
    "start_time": "2024-07-03T20:34:33.823Z"
   },
   {
    "duration": 0,
    "start_time": "2024-07-03T20:34:33.824Z"
   },
   {
    "duration": 5591,
    "start_time": "2024-07-03T20:36:39.798Z"
   },
   {
    "duration": 1242,
    "start_time": "2024-07-03T20:36:45.392Z"
   },
   {
    "duration": 296,
    "start_time": "2024-07-03T20:36:46.636Z"
   },
   {
    "duration": 41,
    "start_time": "2024-07-03T20:36:46.934Z"
   },
   {
    "duration": 41,
    "start_time": "2024-07-03T20:36:46.978Z"
   },
   {
    "duration": 113,
    "start_time": "2024-07-03T20:36:47.021Z"
   },
   {
    "duration": 34,
    "start_time": "2024-07-03T20:36:47.135Z"
   },
   {
    "duration": 8,
    "start_time": "2024-07-03T20:36:47.171Z"
   },
   {
    "duration": 49,
    "start_time": "2024-07-03T20:36:47.180Z"
   },
   {
    "duration": 12,
    "start_time": "2024-07-03T20:36:47.232Z"
   },
   {
    "duration": 7,
    "start_time": "2024-07-03T20:36:47.245Z"
   },
   {
    "duration": 79,
    "start_time": "2024-07-03T20:36:47.253Z"
   },
   {
    "duration": 113,
    "start_time": "2024-07-03T20:36:47.334Z"
   },
   {
    "duration": 17,
    "start_time": "2024-07-03T20:36:47.450Z"
   },
   {
    "duration": 54,
    "start_time": "2024-07-03T20:36:47.468Z"
   },
   {
    "duration": 15,
    "start_time": "2024-07-03T20:36:47.523Z"
   },
   {
    "duration": 14,
    "start_time": "2024-07-03T20:36:47.539Z"
   },
   {
    "duration": 9,
    "start_time": "2024-07-03T20:36:47.555Z"
   },
   {
    "duration": 5,
    "start_time": "2024-07-03T20:36:47.565Z"
   },
   {
    "duration": 6,
    "start_time": "2024-07-03T20:36:47.571Z"
   },
   {
    "duration": 34,
    "start_time": "2024-07-03T20:36:47.579Z"
   },
   {
    "duration": 354,
    "start_time": "2024-07-03T20:36:47.614Z"
   },
   {
    "duration": 9,
    "start_time": "2024-07-03T20:36:47.969Z"
   },
   {
    "duration": 134,
    "start_time": "2024-07-03T20:36:47.979Z"
   },
   {
    "duration": 192,
    "start_time": "2024-07-03T20:36:48.114Z"
   },
   {
    "duration": 11,
    "start_time": "2024-07-03T20:36:48.308Z"
   },
   {
    "duration": 163,
    "start_time": "2024-07-03T20:36:48.320Z"
   },
   {
    "duration": 369412,
    "start_time": "2024-07-03T20:36:48.485Z"
   },
   {
    "duration": 13,
    "start_time": "2024-07-03T20:42:57.899Z"
   },
   {
    "duration": 102144,
    "start_time": "2024-07-03T20:42:57.914Z"
   },
   {
    "duration": 238,
    "start_time": "2024-07-03T20:54:19.045Z"
   },
   {
    "duration": 230,
    "start_time": "2024-07-03T20:54:34.789Z"
   },
   {
    "duration": 221,
    "start_time": "2024-07-03T20:54:59.728Z"
   },
   {
    "duration": 48267,
    "start_time": "2024-07-03T20:56:04.891Z"
   },
   {
    "duration": 26,
    "start_time": "2024-07-03T21:00:01.558Z"
   },
   {
    "duration": 23,
    "start_time": "2024-07-03T21:00:38.990Z"
   },
   {
    "duration": 63,
    "start_time": "2024-07-03T21:16:05.552Z"
   },
   {
    "duration": 65,
    "start_time": "2024-07-03T21:16:34.048Z"
   },
   {
    "duration": 54,
    "start_time": "2024-07-03T21:19:23.309Z"
   },
   {
    "duration": 41,
    "start_time": "2024-07-03T21:19:37.382Z"
   },
   {
    "duration": 125,
    "start_time": "2024-07-03T21:23:15.785Z"
   },
   {
    "duration": 22,
    "start_time": "2024-07-03T21:23:22.124Z"
   },
   {
    "duration": 22,
    "start_time": "2024-07-03T21:25:13.988Z"
   },
   {
    "duration": 5667,
    "start_time": "2024-07-03T21:30:18.091Z"
   },
   {
    "duration": 1178,
    "start_time": "2024-07-03T21:30:23.760Z"
   },
   {
    "duration": 403,
    "start_time": "2024-07-03T21:30:24.939Z"
   },
   {
    "duration": 40,
    "start_time": "2024-07-03T21:30:25.344Z"
   },
   {
    "duration": 32,
    "start_time": "2024-07-03T21:30:25.385Z"
   },
   {
    "duration": 101,
    "start_time": "2024-07-03T21:30:25.419Z"
   },
   {
    "duration": 23,
    "start_time": "2024-07-03T21:30:25.522Z"
   },
   {
    "duration": 4,
    "start_time": "2024-07-03T21:30:25.546Z"
   },
   {
    "duration": 37,
    "start_time": "2024-07-03T21:30:25.551Z"
   },
   {
    "duration": 30,
    "start_time": "2024-07-03T21:30:25.591Z"
   },
   {
    "duration": 11,
    "start_time": "2024-07-03T21:30:25.623Z"
   },
   {
    "duration": 60,
    "start_time": "2024-07-03T21:30:25.637Z"
   },
   {
    "duration": 120,
    "start_time": "2024-07-03T21:30:25.712Z"
   },
   {
    "duration": 15,
    "start_time": "2024-07-03T21:30:25.834Z"
   },
   {
    "duration": 39,
    "start_time": "2024-07-03T21:30:25.850Z"
   },
   {
    "duration": 38,
    "start_time": "2024-07-03T21:30:25.890Z"
   },
   {
    "duration": 15,
    "start_time": "2024-07-03T21:30:25.930Z"
   },
   {
    "duration": 9,
    "start_time": "2024-07-03T21:30:25.946Z"
   },
   {
    "duration": 3,
    "start_time": "2024-07-03T21:30:25.957Z"
   },
   {
    "duration": 8,
    "start_time": "2024-07-03T21:30:25.961Z"
   },
   {
    "duration": 7,
    "start_time": "2024-07-03T21:30:25.970Z"
   },
   {
    "duration": 379,
    "start_time": "2024-07-03T21:30:25.978Z"
   },
   {
    "duration": 10,
    "start_time": "2024-07-03T21:30:26.359Z"
   },
   {
    "duration": 140,
    "start_time": "2024-07-03T21:30:26.370Z"
   },
   {
    "duration": 205,
    "start_time": "2024-07-03T21:30:26.512Z"
   },
   {
    "duration": 9,
    "start_time": "2024-07-03T21:30:26.718Z"
   },
   {
    "duration": 156,
    "start_time": "2024-07-03T21:30:26.728Z"
   },
   {
    "duration": 37,
    "start_time": "2024-07-03T21:30:26.887Z"
   },
   {
    "duration": 374792,
    "start_time": "2024-07-03T21:30:26.926Z"
   },
   {
    "duration": 9,
    "start_time": "2024-07-03T21:36:41.720Z"
   },
   {
    "duration": 103634,
    "start_time": "2024-07-03T21:36:41.730Z"
   },
   {
    "duration": 101404,
    "start_time": "2024-07-03T21:38:25.366Z"
   },
   {
    "duration": 101614,
    "start_time": "2024-07-03T21:40:06.772Z"
   },
   {
    "duration": 124,
    "start_time": "2024-07-03T21:41:48.388Z"
   },
   {
    "duration": 0,
    "start_time": "2024-07-03T21:41:48.514Z"
   },
   {
    "duration": 0,
    "start_time": "2024-07-03T21:41:48.515Z"
   },
   {
    "duration": 0,
    "start_time": "2024-07-03T21:41:48.516Z"
   },
   {
    "duration": 0,
    "start_time": "2024-07-03T21:41:48.517Z"
   },
   {
    "duration": 3292,
    "start_time": "2024-07-03T21:45:21.571Z"
   },
   {
    "duration": 271,
    "start_time": "2024-07-03T21:54:00.548Z"
   },
   {
    "duration": 48345,
    "start_time": "2024-07-03T21:54:03.348Z"
   },
   {
    "duration": 22,
    "start_time": "2024-07-03T21:55:11.613Z"
   },
   {
    "duration": 21,
    "start_time": "2024-07-03T21:55:12.227Z"
   },
   {
    "duration": 23,
    "start_time": "2024-07-03T21:55:15.417Z"
   },
   {
    "duration": 14,
    "start_time": "2024-07-03T21:55:39.872Z"
   },
   {
    "duration": 3,
    "start_time": "2024-07-03T21:57:04.177Z"
   },
   {
    "duration": 2,
    "start_time": "2024-07-03T21:57:24.742Z"
   },
   {
    "duration": 9,
    "start_time": "2024-07-03T22:02:20.186Z"
   },
   {
    "duration": 5,
    "start_time": "2024-07-03T22:02:57.505Z"
   },
   {
    "duration": 3,
    "start_time": "2024-07-03T22:03:03.719Z"
   },
   {
    "duration": 9,
    "start_time": "2024-07-03T22:05:00.363Z"
   },
   {
    "duration": 13,
    "start_time": "2024-07-03T22:05:37.398Z"
   },
   {
    "duration": 3,
    "start_time": "2024-07-03T22:05:43.060Z"
   },
   {
    "duration": 9,
    "start_time": "2024-07-03T22:08:06.798Z"
   },
   {
    "duration": 1591,
    "start_time": "2024-07-03T22:09:02.127Z"
   },
   {
    "duration": 995909,
    "start_time": "2024-07-03T22:11:51.627Z"
   },
   {
    "duration": 11,
    "start_time": "2024-07-03T22:31:39.602Z"
   },
   {
    "duration": 12,
    "start_time": "2024-07-03T22:48:28.489Z"
   },
   {
    "duration": 12,
    "start_time": "2024-07-03T22:48:30.801Z"
   },
   {
    "duration": 13,
    "start_time": "2024-07-03T22:48:37.998Z"
   },
   {
    "duration": 14,
    "start_time": "2024-07-03T22:48:43.579Z"
   },
   {
    "duration": 16,
    "start_time": "2024-07-03T22:50:13.599Z"
   },
   {
    "duration": 12,
    "start_time": "2024-07-03T22:50:19.612Z"
   },
   {
    "duration": 10,
    "start_time": "2024-07-03T22:50:29.230Z"
   },
   {
    "duration": 13,
    "start_time": "2024-07-03T22:51:18.576Z"
   },
   {
    "duration": 9,
    "start_time": "2024-07-03T22:51:21.426Z"
   },
   {
    "duration": 9,
    "start_time": "2024-07-03T22:51:30.467Z"
   },
   {
    "duration": 5733,
    "start_time": "2024-07-03T22:52:39.390Z"
   },
   {
    "duration": 1268,
    "start_time": "2024-07-03T22:52:45.125Z"
   },
   {
    "duration": 366,
    "start_time": "2024-07-03T22:52:46.395Z"
   },
   {
    "duration": 42,
    "start_time": "2024-07-03T22:52:46.762Z"
   },
   {
    "duration": 21,
    "start_time": "2024-07-03T22:52:46.806Z"
   },
   {
    "duration": 107,
    "start_time": "2024-07-03T22:52:46.828Z"
   },
   {
    "duration": 26,
    "start_time": "2024-07-03T22:52:46.937Z"
   },
   {
    "duration": 4,
    "start_time": "2024-07-03T22:52:46.964Z"
   },
   {
    "duration": 54,
    "start_time": "2024-07-03T22:52:46.969Z"
   },
   {
    "duration": 11,
    "start_time": "2024-07-03T22:52:47.026Z"
   },
   {
    "duration": 7,
    "start_time": "2024-07-03T22:52:47.039Z"
   },
   {
    "duration": 74,
    "start_time": "2024-07-03T22:52:47.048Z"
   },
   {
    "duration": 118,
    "start_time": "2024-07-03T22:52:47.124Z"
   },
   {
    "duration": 13,
    "start_time": "2024-07-03T22:52:47.243Z"
   },
   {
    "duration": 36,
    "start_time": "2024-07-03T22:52:47.257Z"
   },
   {
    "duration": 15,
    "start_time": "2024-07-03T22:52:47.312Z"
   },
   {
    "duration": 14,
    "start_time": "2024-07-03T22:52:47.328Z"
   },
   {
    "duration": 9,
    "start_time": "2024-07-03T22:52:47.343Z"
   },
   {
    "duration": 5,
    "start_time": "2024-07-03T22:52:47.353Z"
   },
   {
    "duration": 6,
    "start_time": "2024-07-03T22:52:47.359Z"
   },
   {
    "duration": 6,
    "start_time": "2024-07-03T22:52:47.366Z"
   },
   {
    "duration": 42,
    "start_time": "2024-07-03T22:52:47.373Z"
   },
   {
    "duration": 19,
    "start_time": "2024-07-03T22:52:47.416Z"
   },
   {
    "duration": 15,
    "start_time": "2024-07-03T22:52:47.436Z"
   },
   {
    "duration": 121,
    "start_time": "2024-07-03T22:52:47.452Z"
   },
   {
    "duration": 0,
    "start_time": "2024-07-03T22:52:47.575Z"
   },
   {
    "duration": 0,
    "start_time": "2024-07-03T22:52:47.576Z"
   },
   {
    "duration": 0,
    "start_time": "2024-07-03T22:52:47.577Z"
   },
   {
    "duration": 0,
    "start_time": "2024-07-03T22:52:47.578Z"
   },
   {
    "duration": 0,
    "start_time": "2024-07-03T22:52:47.579Z"
   },
   {
    "duration": 0,
    "start_time": "2024-07-03T22:52:47.581Z"
   },
   {
    "duration": 0,
    "start_time": "2024-07-03T22:52:47.581Z"
   },
   {
    "duration": 0,
    "start_time": "2024-07-03T22:52:47.582Z"
   },
   {
    "duration": 0,
    "start_time": "2024-07-03T22:52:47.583Z"
   },
   {
    "duration": 0,
    "start_time": "2024-07-03T22:52:47.584Z"
   },
   {
    "duration": 0,
    "start_time": "2024-07-03T22:52:47.585Z"
   },
   {
    "duration": 0,
    "start_time": "2024-07-03T22:52:47.586Z"
   },
   {
    "duration": 0,
    "start_time": "2024-07-03T22:52:47.587Z"
   },
   {
    "duration": 0,
    "start_time": "2024-07-03T22:52:47.612Z"
   },
   {
    "duration": 0,
    "start_time": "2024-07-03T22:52:47.613Z"
   },
   {
    "duration": 0,
    "start_time": "2024-07-03T22:52:47.615Z"
   },
   {
    "duration": 0,
    "start_time": "2024-07-03T22:52:47.616Z"
   },
   {
    "duration": 0,
    "start_time": "2024-07-03T22:52:47.617Z"
   },
   {
    "duration": 0,
    "start_time": "2024-07-03T22:52:47.618Z"
   },
   {
    "duration": 0,
    "start_time": "2024-07-03T22:52:47.619Z"
   },
   {
    "duration": 0,
    "start_time": "2024-07-03T22:52:47.620Z"
   },
   {
    "duration": 0,
    "start_time": "2024-07-03T22:52:47.621Z"
   },
   {
    "duration": 0,
    "start_time": "2024-07-03T22:52:47.623Z"
   },
   {
    "duration": 11,
    "start_time": "2024-07-03T22:53:29.946Z"
   },
   {
    "duration": 11,
    "start_time": "2024-07-03T22:53:37.196Z"
   },
   {
    "duration": 19,
    "start_time": "2024-07-03T22:58:24.045Z"
   },
   {
    "duration": 13,
    "start_time": "2024-07-03T22:58:26.617Z"
   },
   {
    "duration": 10,
    "start_time": "2024-07-03T22:58:32.292Z"
   },
   {
    "duration": 19,
    "start_time": "2024-07-03T22:59:04.208Z"
   },
   {
    "duration": 12,
    "start_time": "2024-07-03T22:59:07.258Z"
   },
   {
    "duration": 19,
    "start_time": "2024-07-03T22:59:36.701Z"
   },
   {
    "duration": 12,
    "start_time": "2024-07-03T22:59:40.644Z"
   },
   {
    "duration": 10,
    "start_time": "2024-07-03T22:59:47.915Z"
   },
   {
    "duration": 19,
    "start_time": "2024-07-03T23:01:49.408Z"
   },
   {
    "duration": 11,
    "start_time": "2024-07-03T23:01:52.849Z"
   },
   {
    "duration": 3,
    "start_time": "2024-07-03T23:06:13.046Z"
   },
   {
    "duration": 29,
    "start_time": "2024-07-03T23:06:49.686Z"
   },
   {
    "duration": 13,
    "start_time": "2024-07-03T23:06:54.092Z"
   },
   {
    "duration": 10,
    "start_time": "2024-07-03T23:07:00.628Z"
   },
   {
    "duration": 52,
    "start_time": "2024-07-03T23:08:47.187Z"
   },
   {
    "duration": 30,
    "start_time": "2024-07-03T23:08:55.684Z"
   },
   {
    "duration": 16,
    "start_time": "2024-07-03T23:08:59.147Z"
   },
   {
    "duration": 11,
    "start_time": "2024-07-03T23:09:04.968Z"
   },
   {
    "duration": 54,
    "start_time": "2024-07-03T23:13:14.790Z"
   },
   {
    "duration": 63,
    "start_time": "2024-07-03T23:13:20.060Z"
   },
   {
    "duration": 56,
    "start_time": "2024-07-03T23:13:28.187Z"
   },
   {
    "duration": 57,
    "start_time": "2024-07-03T23:13:36.809Z"
   },
   {
    "duration": 62,
    "start_time": "2024-07-03T23:13:42.353Z"
   },
   {
    "duration": 54,
    "start_time": "2024-07-03T23:13:58.336Z"
   },
   {
    "duration": 54,
    "start_time": "2024-07-03T23:15:16.715Z"
   },
   {
    "duration": 4,
    "start_time": "2024-07-03T23:15:21.586Z"
   },
   {
    "duration": 56,
    "start_time": "2024-07-03T23:15:34.765Z"
   },
   {
    "duration": 35,
    "start_time": "2024-07-03T23:15:56.284Z"
   },
   {
    "duration": 12,
    "start_time": "2024-07-03T23:16:06.657Z"
   },
   {
    "duration": 10,
    "start_time": "2024-07-03T23:16:12.643Z"
   },
   {
    "duration": 37,
    "start_time": "2024-07-03T23:17:00.689Z"
   },
   {
    "duration": 12,
    "start_time": "2024-07-03T23:17:03.831Z"
   },
   {
    "duration": 11,
    "start_time": "2024-07-03T23:17:11.039Z"
   },
   {
    "duration": 104,
    "start_time": "2024-07-03T23:22:30.540Z"
   },
   {
    "duration": 37,
    "start_time": "2024-07-03T23:22:35.461Z"
   },
   {
    "duration": 12,
    "start_time": "2024-07-03T23:22:39.221Z"
   },
   {
    "duration": 9,
    "start_time": "2024-07-03T23:22:45.614Z"
   },
   {
    "duration": 38,
    "start_time": "2024-07-03T23:23:39.264Z"
   },
   {
    "duration": 11,
    "start_time": "2024-07-03T23:23:42.775Z"
   },
   {
    "duration": 9,
    "start_time": "2024-07-03T23:23:48.248Z"
   },
   {
    "duration": 5526,
    "start_time": "2024-07-03T23:24:50.066Z"
   },
   {
    "duration": 1240,
    "start_time": "2024-07-03T23:24:55.595Z"
   },
   {
    "duration": 374,
    "start_time": "2024-07-03T23:24:56.836Z"
   },
   {
    "duration": 40,
    "start_time": "2024-07-03T23:24:57.212Z"
   },
   {
    "duration": 20,
    "start_time": "2024-07-03T23:24:57.254Z"
   },
   {
    "duration": 110,
    "start_time": "2024-07-03T23:24:57.275Z"
   },
   {
    "duration": 32,
    "start_time": "2024-07-03T23:24:57.386Z"
   },
   {
    "duration": 4,
    "start_time": "2024-07-03T23:24:57.419Z"
   },
   {
    "duration": 46,
    "start_time": "2024-07-03T23:24:57.424Z"
   },
   {
    "duration": 11,
    "start_time": "2024-07-03T23:24:57.473Z"
   },
   {
    "duration": 14,
    "start_time": "2024-07-03T23:24:57.486Z"
   },
   {
    "duration": 59,
    "start_time": "2024-07-03T23:24:57.501Z"
   },
   {
    "duration": 115,
    "start_time": "2024-07-03T23:24:57.562Z"
   },
   {
    "duration": 12,
    "start_time": "2024-07-03T23:24:57.679Z"
   },
   {
    "duration": 43,
    "start_time": "2024-07-03T23:24:57.693Z"
   },
   {
    "duration": 15,
    "start_time": "2024-07-03T23:24:57.737Z"
   },
   {
    "duration": 13,
    "start_time": "2024-07-03T23:24:57.754Z"
   },
   {
    "duration": 9,
    "start_time": "2024-07-03T23:24:57.768Z"
   },
   {
    "duration": 4,
    "start_time": "2024-07-03T23:24:57.778Z"
   },
   {
    "duration": 33,
    "start_time": "2024-07-03T23:24:57.783Z"
   },
   {
    "duration": 9,
    "start_time": "2024-07-03T23:24:57.817Z"
   },
   {
    "duration": 11,
    "start_time": "2024-07-03T23:24:57.827Z"
   },
   {
    "duration": 10,
    "start_time": "2024-07-03T23:24:57.840Z"
   },
   {
    "duration": 35,
    "start_time": "2024-07-03T23:24:57.851Z"
   },
   {
    "duration": 129,
    "start_time": "2024-07-03T23:24:57.888Z"
   },
   {
    "duration": 0,
    "start_time": "2024-07-03T23:24:58.019Z"
   },
   {
    "duration": 0,
    "start_time": "2024-07-03T23:24:58.020Z"
   },
   {
    "duration": 0,
    "start_time": "2024-07-03T23:24:58.021Z"
   },
   {
    "duration": 0,
    "start_time": "2024-07-03T23:24:58.022Z"
   },
   {
    "duration": 0,
    "start_time": "2024-07-03T23:24:58.023Z"
   },
   {
    "duration": 0,
    "start_time": "2024-07-03T23:24:58.024Z"
   },
   {
    "duration": 0,
    "start_time": "2024-07-03T23:24:58.025Z"
   },
   {
    "duration": 0,
    "start_time": "2024-07-03T23:24:58.026Z"
   },
   {
    "duration": 0,
    "start_time": "2024-07-03T23:24:58.027Z"
   },
   {
    "duration": 0,
    "start_time": "2024-07-03T23:24:58.028Z"
   },
   {
    "duration": 0,
    "start_time": "2024-07-03T23:24:58.032Z"
   },
   {
    "duration": 0,
    "start_time": "2024-07-03T23:24:58.034Z"
   },
   {
    "duration": 0,
    "start_time": "2024-07-03T23:24:58.035Z"
   },
   {
    "duration": 0,
    "start_time": "2024-07-03T23:24:58.036Z"
   },
   {
    "duration": 0,
    "start_time": "2024-07-03T23:24:58.037Z"
   },
   {
    "duration": 0,
    "start_time": "2024-07-03T23:24:58.038Z"
   },
   {
    "duration": 0,
    "start_time": "2024-07-03T23:24:58.040Z"
   },
   {
    "duration": 0,
    "start_time": "2024-07-03T23:24:58.041Z"
   },
   {
    "duration": 0,
    "start_time": "2024-07-03T23:24:58.042Z"
   },
   {
    "duration": 0,
    "start_time": "2024-07-03T23:24:58.043Z"
   },
   {
    "duration": 0,
    "start_time": "2024-07-03T23:24:58.043Z"
   },
   {
    "duration": 0,
    "start_time": "2024-07-03T23:24:58.044Z"
   },
   {
    "duration": 0,
    "start_time": "2024-07-03T23:24:58.045Z"
   },
   {
    "duration": 13,
    "start_time": "2024-07-03T23:26:09.010Z"
   },
   {
    "duration": 10,
    "start_time": "2024-07-03T23:26:16.138Z"
   },
   {
    "duration": 35,
    "start_time": "2024-07-03T23:27:55.899Z"
   },
   {
    "duration": 13,
    "start_time": "2024-07-03T23:28:00.336Z"
   },
   {
    "duration": 8,
    "start_time": "2024-07-03T23:36:46.365Z"
   },
   {
    "duration": 5569,
    "start_time": "2024-07-03T23:36:54.797Z"
   },
   {
    "duration": 1178,
    "start_time": "2024-07-03T23:37:00.368Z"
   },
   {
    "duration": 326,
    "start_time": "2024-07-03T23:37:01.547Z"
   },
   {
    "duration": 40,
    "start_time": "2024-07-03T23:37:01.874Z"
   },
   {
    "duration": 23,
    "start_time": "2024-07-03T23:37:01.916Z"
   },
   {
    "duration": 104,
    "start_time": "2024-07-03T23:37:01.941Z"
   },
   {
    "duration": 22,
    "start_time": "2024-07-03T23:37:02.047Z"
   },
   {
    "duration": 4,
    "start_time": "2024-07-03T23:37:02.071Z"
   },
   {
    "duration": 45,
    "start_time": "2024-07-03T23:37:02.077Z"
   },
   {
    "duration": 13,
    "start_time": "2024-07-03T23:37:02.124Z"
   },
   {
    "duration": 9,
    "start_time": "2024-07-03T23:37:02.138Z"
   },
   {
    "duration": 88,
    "start_time": "2024-07-03T23:37:02.149Z"
   },
   {
    "duration": 127,
    "start_time": "2024-07-03T23:37:02.238Z"
   },
   {
    "duration": 16,
    "start_time": "2024-07-03T23:37:02.368Z"
   },
   {
    "duration": 51,
    "start_time": "2024-07-03T23:37:02.385Z"
   },
   {
    "duration": 14,
    "start_time": "2024-07-03T23:37:02.437Z"
   },
   {
    "duration": 30,
    "start_time": "2024-07-03T23:37:02.452Z"
   },
   {
    "duration": 9,
    "start_time": "2024-07-03T23:37:02.483Z"
   },
   {
    "duration": 5,
    "start_time": "2024-07-03T23:37:02.493Z"
   },
   {
    "duration": 13,
    "start_time": "2024-07-03T23:37:02.499Z"
   },
   {
    "duration": 6,
    "start_time": "2024-07-03T23:37:02.513Z"
   },
   {
    "duration": 10,
    "start_time": "2024-07-03T23:37:02.520Z"
   },
   {
    "duration": 10,
    "start_time": "2024-07-03T23:37:02.531Z"
   },
   {
    "duration": 1152,
    "start_time": "2024-07-03T23:37:02.542Z"
   },
   {
    "duration": 0,
    "start_time": "2024-07-03T23:37:03.696Z"
   },
   {
    "duration": 0,
    "start_time": "2024-07-03T23:37:03.697Z"
   },
   {
    "duration": 0,
    "start_time": "2024-07-03T23:37:03.698Z"
   },
   {
    "duration": 0,
    "start_time": "2024-07-03T23:37:03.699Z"
   },
   {
    "duration": 0,
    "start_time": "2024-07-03T23:37:03.700Z"
   },
   {
    "duration": 0,
    "start_time": "2024-07-03T23:37:03.701Z"
   },
   {
    "duration": 0,
    "start_time": "2024-07-03T23:37:03.702Z"
   },
   {
    "duration": 0,
    "start_time": "2024-07-03T23:37:03.703Z"
   },
   {
    "duration": 0,
    "start_time": "2024-07-03T23:37:03.704Z"
   },
   {
    "duration": 0,
    "start_time": "2024-07-03T23:37:03.705Z"
   },
   {
    "duration": 0,
    "start_time": "2024-07-03T23:37:03.706Z"
   },
   {
    "duration": 0,
    "start_time": "2024-07-03T23:37:03.707Z"
   },
   {
    "duration": 0,
    "start_time": "2024-07-03T23:37:03.708Z"
   },
   {
    "duration": 0,
    "start_time": "2024-07-03T23:37:03.709Z"
   },
   {
    "duration": 0,
    "start_time": "2024-07-03T23:37:03.710Z"
   },
   {
    "duration": 0,
    "start_time": "2024-07-03T23:37:03.711Z"
   },
   {
    "duration": 0,
    "start_time": "2024-07-03T23:37:03.712Z"
   },
   {
    "duration": 0,
    "start_time": "2024-07-03T23:37:03.714Z"
   },
   {
    "duration": 0,
    "start_time": "2024-07-03T23:37:03.715Z"
   },
   {
    "duration": 0,
    "start_time": "2024-07-03T23:37:03.715Z"
   },
   {
    "duration": 0,
    "start_time": "2024-07-03T23:37:03.716Z"
   },
   {
    "duration": 0,
    "start_time": "2024-07-03T23:37:03.717Z"
   },
   {
    "duration": 0,
    "start_time": "2024-07-03T23:37:03.719Z"
   },
   {
    "duration": 0,
    "start_time": "2024-07-03T23:37:03.720Z"
   },
   {
    "duration": 0,
    "start_time": "2024-07-03T23:37:03.720Z"
   },
   {
    "duration": 0,
    "start_time": "2024-07-03T23:37:03.722Z"
   },
   {
    "duration": 1067,
    "start_time": "2024-07-03T23:39:21.125Z"
   },
   {
    "duration": 1079,
    "start_time": "2024-07-03T23:40:17.320Z"
   },
   {
    "duration": 20,
    "start_time": "2024-07-03T23:40:40.549Z"
   },
   {
    "duration": 99,
    "start_time": "2024-07-03T23:41:06.106Z"
   },
   {
    "duration": 11,
    "start_time": "2024-07-03T23:41:09.645Z"
   },
   {
    "duration": 10,
    "start_time": "2024-07-03T23:41:16.595Z"
   },
   {
    "duration": 75,
    "start_time": "2024-07-03T23:42:36.199Z"
   },
   {
    "duration": 11,
    "start_time": "2024-07-03T23:42:39.511Z"
   },
   {
    "duration": 82,
    "start_time": "2024-07-03T23:44:33.121Z"
   },
   {
    "duration": 81,
    "start_time": "2024-07-03T23:44:42.351Z"
   },
   {
    "duration": 11,
    "start_time": "2024-07-03T23:44:46.012Z"
   },
   {
    "duration": 10,
    "start_time": "2024-07-03T23:44:52.956Z"
   },
   {
    "duration": 88,
    "start_time": "2024-07-03T23:50:05.981Z"
   },
   {
    "duration": 11,
    "start_time": "2024-07-03T23:50:10.160Z"
   },
   {
    "duration": 10,
    "start_time": "2024-07-03T23:50:15.228Z"
   },
   {
    "duration": 99,
    "start_time": "2024-07-03T23:53:03.281Z"
   },
   {
    "duration": 13,
    "start_time": "2024-07-03T23:53:07.362Z"
   },
   {
    "duration": 11,
    "start_time": "2024-07-03T23:53:13.777Z"
   },
   {
    "duration": 95,
    "start_time": "2024-07-03T23:55:33.800Z"
   },
   {
    "duration": 12,
    "start_time": "2024-07-03T23:55:37.801Z"
   },
   {
    "duration": 10,
    "start_time": "2024-07-03T23:55:43.939Z"
   },
   {
    "duration": 97,
    "start_time": "2024-07-03T23:58:29.978Z"
   },
   {
    "duration": 13,
    "start_time": "2024-07-03T23:58:35.089Z"
   },
   {
    "duration": 10,
    "start_time": "2024-07-03T23:58:42.780Z"
   },
   {
    "duration": 102,
    "start_time": "2024-07-04T00:01:42.268Z"
   },
   {
    "duration": 12,
    "start_time": "2024-07-04T00:01:46.475Z"
   },
   {
    "duration": 10,
    "start_time": "2024-07-04T00:01:56.117Z"
   },
   {
    "duration": 105,
    "start_time": "2024-07-04T00:04:14.229Z"
   },
   {
    "duration": 114,
    "start_time": "2024-07-04T00:04:42.298Z"
   },
   {
    "duration": 11,
    "start_time": "2024-07-04T00:04:46.460Z"
   },
   {
    "duration": 10,
    "start_time": "2024-07-04T00:04:51.879Z"
   },
   {
    "duration": 109,
    "start_time": "2024-07-04T00:05:32.097Z"
   },
   {
    "duration": 11,
    "start_time": "2024-07-04T00:05:39.300Z"
   },
   {
    "duration": 10,
    "start_time": "2024-07-04T00:05:44.819Z"
   },
   {
    "duration": 114,
    "start_time": "2024-07-04T00:06:28.033Z"
   },
   {
    "duration": 121,
    "start_time": "2024-07-04T00:07:21.522Z"
   },
   {
    "duration": 12,
    "start_time": "2024-07-04T00:07:25.399Z"
   },
   {
    "duration": 10503,
    "start_time": "2024-07-04T11:34:03.899Z"
   },
   {
    "duration": 1442,
    "start_time": "2024-07-04T11:34:14.405Z"
   },
   {
    "duration": 400,
    "start_time": "2024-07-04T11:34:15.849Z"
   },
   {
    "duration": 53,
    "start_time": "2024-07-04T11:34:16.251Z"
   },
   {
    "duration": 24,
    "start_time": "2024-07-04T11:34:16.306Z"
   },
   {
    "duration": 108,
    "start_time": "2024-07-04T11:34:16.354Z"
   },
   {
    "duration": 30,
    "start_time": "2024-07-04T11:34:16.463Z"
   },
   {
    "duration": 6,
    "start_time": "2024-07-04T11:34:16.495Z"
   },
   {
    "duration": 88,
    "start_time": "2024-07-04T11:34:16.502Z"
   },
   {
    "duration": 14,
    "start_time": "2024-07-04T11:34:16.593Z"
   },
   {
    "duration": 10,
    "start_time": "2024-07-04T11:34:16.608Z"
   },
   {
    "duration": 78,
    "start_time": "2024-07-04T11:34:16.619Z"
   },
   {
    "duration": 144,
    "start_time": "2024-07-04T11:34:16.699Z"
   },
   {
    "duration": 19,
    "start_time": "2024-07-04T11:34:16.845Z"
   },
   {
    "duration": 51,
    "start_time": "2024-07-04T11:34:16.865Z"
   },
   {
    "duration": 43,
    "start_time": "2024-07-04T11:34:16.918Z"
   },
   {
    "duration": 17,
    "start_time": "2024-07-04T11:34:16.962Z"
   },
   {
    "duration": 10,
    "start_time": "2024-07-04T11:34:16.980Z"
   },
   {
    "duration": 4,
    "start_time": "2024-07-04T11:34:16.992Z"
   },
   {
    "duration": 7,
    "start_time": "2024-07-04T11:34:16.997Z"
   },
   {
    "duration": 10,
    "start_time": "2024-07-04T11:34:17.006Z"
   },
   {
    "duration": 44,
    "start_time": "2024-07-04T11:34:17.017Z"
   },
   {
    "duration": 15,
    "start_time": "2024-07-04T11:34:17.063Z"
   },
   {
    "duration": 157,
    "start_time": "2024-07-04T11:34:17.080Z"
   },
   {
    "duration": 115,
    "start_time": "2024-07-04T11:34:17.239Z"
   },
   {
    "duration": 0,
    "start_time": "2024-07-04T11:34:17.356Z"
   },
   {
    "duration": 0,
    "start_time": "2024-07-04T11:34:17.358Z"
   },
   {
    "duration": 0,
    "start_time": "2024-07-04T11:34:17.359Z"
   },
   {
    "duration": 0,
    "start_time": "2024-07-04T11:34:17.360Z"
   },
   {
    "duration": 0,
    "start_time": "2024-07-04T11:34:17.361Z"
   },
   {
    "duration": 0,
    "start_time": "2024-07-04T11:34:17.362Z"
   },
   {
    "duration": 0,
    "start_time": "2024-07-04T11:34:17.363Z"
   },
   {
    "duration": 0,
    "start_time": "2024-07-04T11:34:17.364Z"
   },
   {
    "duration": 0,
    "start_time": "2024-07-04T11:34:17.365Z"
   },
   {
    "duration": 0,
    "start_time": "2024-07-04T11:34:17.366Z"
   },
   {
    "duration": 0,
    "start_time": "2024-07-04T11:34:17.367Z"
   },
   {
    "duration": 0,
    "start_time": "2024-07-04T11:34:17.368Z"
   },
   {
    "duration": 0,
    "start_time": "2024-07-04T11:34:17.369Z"
   },
   {
    "duration": 0,
    "start_time": "2024-07-04T11:34:17.370Z"
   },
   {
    "duration": 0,
    "start_time": "2024-07-04T11:34:17.371Z"
   },
   {
    "duration": 0,
    "start_time": "2024-07-04T11:34:17.372Z"
   },
   {
    "duration": 0,
    "start_time": "2024-07-04T11:34:17.373Z"
   },
   {
    "duration": 0,
    "start_time": "2024-07-04T11:34:17.374Z"
   },
   {
    "duration": 0,
    "start_time": "2024-07-04T11:34:17.375Z"
   },
   {
    "duration": 0,
    "start_time": "2024-07-04T11:34:17.376Z"
   },
   {
    "duration": 0,
    "start_time": "2024-07-04T11:34:17.377Z"
   },
   {
    "duration": 0,
    "start_time": "2024-07-04T11:34:17.378Z"
   },
   {
    "duration": 0,
    "start_time": "2024-07-04T11:34:17.379Z"
   },
   {
    "duration": 0,
    "start_time": "2024-07-04T11:34:17.380Z"
   },
   {
    "duration": 0,
    "start_time": "2024-07-04T11:34:17.381Z"
   },
   {
    "duration": 13,
    "start_time": "2024-07-04T11:34:55.606Z"
   },
   {
    "duration": 10,
    "start_time": "2024-07-04T11:35:01.185Z"
   },
   {
    "duration": 142,
    "start_time": "2024-07-04T11:38:22.582Z"
   },
   {
    "duration": 13,
    "start_time": "2024-07-04T11:38:26.116Z"
   },
   {
    "duration": 11,
    "start_time": "2024-07-04T11:38:31.456Z"
   },
   {
    "duration": 6210,
    "start_time": "2024-07-04T11:47:54.533Z"
   },
   {
    "duration": 1428,
    "start_time": "2024-07-04T11:48:00.746Z"
   },
   {
    "duration": 407,
    "start_time": "2024-07-04T11:48:02.176Z"
   },
   {
    "duration": 52,
    "start_time": "2024-07-04T11:48:02.585Z"
   },
   {
    "duration": 37,
    "start_time": "2024-07-04T11:48:02.639Z"
   },
   {
    "duration": 129,
    "start_time": "2024-07-04T11:48:02.678Z"
   },
   {
    "duration": 28,
    "start_time": "2024-07-04T11:48:02.809Z"
   },
   {
    "duration": 4,
    "start_time": "2024-07-04T11:48:02.852Z"
   },
   {
    "duration": 51,
    "start_time": "2024-07-04T11:48:02.858Z"
   },
   {
    "duration": 15,
    "start_time": "2024-07-04T11:48:02.911Z"
   },
   {
    "duration": 25,
    "start_time": "2024-07-04T11:48:02.928Z"
   },
   {
    "duration": 65,
    "start_time": "2024-07-04T11:48:02.955Z"
   },
   {
    "duration": 150,
    "start_time": "2024-07-04T11:48:03.022Z"
   },
   {
    "duration": 19,
    "start_time": "2024-07-04T11:48:03.175Z"
   },
   {
    "duration": 65,
    "start_time": "2024-07-04T11:48:03.195Z"
   },
   {
    "duration": 24,
    "start_time": "2024-07-04T11:48:03.261Z"
   },
   {
    "duration": 17,
    "start_time": "2024-07-04T11:48:03.286Z"
   },
   {
    "duration": 11,
    "start_time": "2024-07-04T11:48:03.304Z"
   },
   {
    "duration": 8,
    "start_time": "2024-07-04T11:48:03.317Z"
   },
   {
    "duration": 27,
    "start_time": "2024-07-04T11:48:03.327Z"
   },
   {
    "duration": 7,
    "start_time": "2024-07-04T11:48:03.356Z"
   },
   {
    "duration": 21,
    "start_time": "2024-07-04T11:48:03.364Z"
   },
   {
    "duration": 36,
    "start_time": "2024-07-04T11:48:03.387Z"
   },
   {
    "duration": 35,
    "start_time": "2024-07-04T11:48:03.425Z"
   },
   {
    "duration": 194,
    "start_time": "2024-07-04T11:48:03.462Z"
   },
   {
    "duration": 117,
    "start_time": "2024-07-04T11:48:03.658Z"
   },
   {
    "duration": 0,
    "start_time": "2024-07-04T11:48:03.777Z"
   },
   {
    "duration": 0,
    "start_time": "2024-07-04T11:48:03.778Z"
   },
   {
    "duration": 0,
    "start_time": "2024-07-04T11:48:03.779Z"
   },
   {
    "duration": 0,
    "start_time": "2024-07-04T11:48:03.780Z"
   },
   {
    "duration": 0,
    "start_time": "2024-07-04T11:48:03.781Z"
   },
   {
    "duration": 0,
    "start_time": "2024-07-04T11:48:03.783Z"
   },
   {
    "duration": 0,
    "start_time": "2024-07-04T11:48:03.784Z"
   },
   {
    "duration": 0,
    "start_time": "2024-07-04T11:48:03.786Z"
   },
   {
    "duration": 0,
    "start_time": "2024-07-04T11:48:03.787Z"
   },
   {
    "duration": 0,
    "start_time": "2024-07-04T11:48:03.788Z"
   },
   {
    "duration": 0,
    "start_time": "2024-07-04T11:48:03.789Z"
   },
   {
    "duration": 0,
    "start_time": "2024-07-04T11:48:03.790Z"
   },
   {
    "duration": 0,
    "start_time": "2024-07-04T11:48:03.791Z"
   },
   {
    "duration": 0,
    "start_time": "2024-07-04T11:48:03.793Z"
   },
   {
    "duration": 0,
    "start_time": "2024-07-04T11:48:03.794Z"
   },
   {
    "duration": 0,
    "start_time": "2024-07-04T11:48:03.795Z"
   },
   {
    "duration": 0,
    "start_time": "2024-07-04T11:48:03.796Z"
   },
   {
    "duration": 0,
    "start_time": "2024-07-04T11:48:03.797Z"
   },
   {
    "duration": 0,
    "start_time": "2024-07-04T11:48:03.798Z"
   },
   {
    "duration": 0,
    "start_time": "2024-07-04T11:48:03.799Z"
   },
   {
    "duration": 0,
    "start_time": "2024-07-04T11:48:03.800Z"
   },
   {
    "duration": 0,
    "start_time": "2024-07-04T11:48:03.801Z"
   },
   {
    "duration": 1,
    "start_time": "2024-07-04T11:48:03.802Z"
   },
   {
    "duration": 0,
    "start_time": "2024-07-04T11:48:03.853Z"
   },
   {
    "duration": 0,
    "start_time": "2024-07-04T11:48:03.854Z"
   },
   {
    "duration": 12,
    "start_time": "2024-07-04T11:48:19.833Z"
   },
   {
    "duration": 9,
    "start_time": "2024-07-04T11:48:24.515Z"
   },
   {
    "duration": 161,
    "start_time": "2024-07-04T11:51:14.832Z"
   },
   {
    "duration": 13,
    "start_time": "2024-07-04T11:51:18.741Z"
   },
   {
    "duration": 10,
    "start_time": "2024-07-04T11:51:22.362Z"
   },
   {
    "duration": 187,
    "start_time": "2024-07-04T11:53:10.213Z"
   },
   {
    "duration": 15,
    "start_time": "2024-07-04T11:53:13.531Z"
   },
   {
    "duration": 11,
    "start_time": "2024-07-04T11:53:18.010Z"
   },
   {
    "duration": 166,
    "start_time": "2024-07-04T11:53:53.792Z"
   },
   {
    "duration": 13,
    "start_time": "2024-07-04T11:53:57.550Z"
   },
   {
    "duration": 11,
    "start_time": "2024-07-04T11:54:02.955Z"
   },
   {
    "duration": 177,
    "start_time": "2024-07-04T11:59:45.298Z"
   },
   {
    "duration": 14,
    "start_time": "2024-07-04T11:59:48.965Z"
   },
   {
    "duration": 12,
    "start_time": "2024-07-04T11:59:53.771Z"
   },
   {
    "duration": 177,
    "start_time": "2024-07-04T12:01:26.298Z"
   },
   {
    "duration": 180,
    "start_time": "2024-07-04T12:02:04.861Z"
   },
   {
    "duration": 13,
    "start_time": "2024-07-04T12:02:09.003Z"
   },
   {
    "duration": 12,
    "start_time": "2024-07-04T12:02:14.880Z"
   },
   {
    "duration": 190,
    "start_time": "2024-07-04T12:06:52.306Z"
   },
   {
    "duration": 190,
    "start_time": "2024-07-04T12:07:45.012Z"
   },
   {
    "duration": 188,
    "start_time": "2024-07-04T12:08:41.699Z"
   },
   {
    "duration": 14,
    "start_time": "2024-07-04T12:08:46.210Z"
   },
   {
    "duration": 12,
    "start_time": "2024-07-04T12:08:50.185Z"
   },
   {
    "duration": 192,
    "start_time": "2024-07-04T12:09:18.297Z"
   },
   {
    "duration": 201,
    "start_time": "2024-07-04T12:11:36.720Z"
   },
   {
    "duration": 5144,
    "start_time": "2024-07-04T12:11:44.995Z"
   },
   {
    "duration": 1312,
    "start_time": "2024-07-04T12:11:50.141Z"
   },
   {
    "duration": 393,
    "start_time": "2024-07-04T12:11:51.455Z"
   },
   {
    "duration": 52,
    "start_time": "2024-07-04T12:11:51.850Z"
   },
   {
    "duration": 49,
    "start_time": "2024-07-04T12:11:51.904Z"
   },
   {
    "duration": 116,
    "start_time": "2024-07-04T12:11:51.955Z"
   },
   {
    "duration": 26,
    "start_time": "2024-07-04T12:11:52.072Z"
   },
   {
    "duration": 4,
    "start_time": "2024-07-04T12:11:52.099Z"
   },
   {
    "duration": 57,
    "start_time": "2024-07-04T12:11:52.105Z"
   },
   {
    "duration": 14,
    "start_time": "2024-07-04T12:11:52.164Z"
   },
   {
    "duration": 23,
    "start_time": "2024-07-04T12:11:52.180Z"
   },
   {
    "duration": 75,
    "start_time": "2024-07-04T12:11:52.205Z"
   },
   {
    "duration": 146,
    "start_time": "2024-07-04T12:11:52.281Z"
   },
   {
    "duration": 24,
    "start_time": "2024-07-04T12:11:52.429Z"
   },
   {
    "duration": 51,
    "start_time": "2024-07-04T12:11:52.455Z"
   },
   {
    "duration": 19,
    "start_time": "2024-07-04T12:11:52.508Z"
   },
   {
    "duration": 34,
    "start_time": "2024-07-04T12:11:52.529Z"
   },
   {
    "duration": 11,
    "start_time": "2024-07-04T12:11:52.565Z"
   },
   {
    "duration": 11,
    "start_time": "2024-07-04T12:11:52.577Z"
   },
   {
    "duration": 9,
    "start_time": "2024-07-04T12:11:52.589Z"
   },
   {
    "duration": 21,
    "start_time": "2024-07-04T12:11:52.599Z"
   },
   {
    "duration": 34,
    "start_time": "2024-07-04T12:11:52.621Z"
   },
   {
    "duration": 36,
    "start_time": "2024-07-04T12:11:52.657Z"
   },
   {
    "duration": 29,
    "start_time": "2024-07-04T12:11:52.694Z"
   },
   {
    "duration": 226,
    "start_time": "2024-07-04T12:11:52.724Z"
   },
   {
    "duration": 118,
    "start_time": "2024-07-04T12:11:52.952Z"
   },
   {
    "duration": 0,
    "start_time": "2024-07-04T12:11:53.072Z"
   },
   {
    "duration": 0,
    "start_time": "2024-07-04T12:11:53.073Z"
   },
   {
    "duration": 0,
    "start_time": "2024-07-04T12:11:53.074Z"
   },
   {
    "duration": 0,
    "start_time": "2024-07-04T12:11:53.075Z"
   },
   {
    "duration": 0,
    "start_time": "2024-07-04T12:11:53.076Z"
   },
   {
    "duration": 0,
    "start_time": "2024-07-04T12:11:53.077Z"
   },
   {
    "duration": 0,
    "start_time": "2024-07-04T12:11:53.078Z"
   },
   {
    "duration": 1,
    "start_time": "2024-07-04T12:11:53.079Z"
   },
   {
    "duration": 0,
    "start_time": "2024-07-04T12:11:53.081Z"
   },
   {
    "duration": 0,
    "start_time": "2024-07-04T12:11:53.082Z"
   },
   {
    "duration": 0,
    "start_time": "2024-07-04T12:11:53.083Z"
   },
   {
    "duration": 0,
    "start_time": "2024-07-04T12:11:53.084Z"
   },
   {
    "duration": 0,
    "start_time": "2024-07-04T12:11:53.085Z"
   },
   {
    "duration": 0,
    "start_time": "2024-07-04T12:11:53.086Z"
   },
   {
    "duration": 0,
    "start_time": "2024-07-04T12:11:53.087Z"
   },
   {
    "duration": 0,
    "start_time": "2024-07-04T12:11:53.088Z"
   },
   {
    "duration": 0,
    "start_time": "2024-07-04T12:11:53.089Z"
   },
   {
    "duration": 0,
    "start_time": "2024-07-04T12:11:53.090Z"
   },
   {
    "duration": 0,
    "start_time": "2024-07-04T12:11:53.091Z"
   },
   {
    "duration": 0,
    "start_time": "2024-07-04T12:11:53.092Z"
   },
   {
    "duration": 0,
    "start_time": "2024-07-04T12:11:53.092Z"
   },
   {
    "duration": 0,
    "start_time": "2024-07-04T12:11:53.093Z"
   },
   {
    "duration": 0,
    "start_time": "2024-07-04T12:11:53.094Z"
   },
   {
    "duration": 0,
    "start_time": "2024-07-04T12:11:53.095Z"
   },
   {
    "duration": 0,
    "start_time": "2024-07-04T12:11:53.097Z"
   },
   {
    "duration": 13,
    "start_time": "2024-07-04T12:12:42.826Z"
   },
   {
    "duration": 9,
    "start_time": "2024-07-04T12:12:48.699Z"
   },
   {
    "duration": 215,
    "start_time": "2024-07-04T12:16:09.357Z"
   },
   {
    "duration": 13,
    "start_time": "2024-07-04T12:16:14.174Z"
   },
   {
    "duration": 37,
    "start_time": "2024-07-04T12:16:16.115Z"
   },
   {
    "duration": 10,
    "start_time": "2024-07-04T12:16:23.209Z"
   },
   {
    "duration": 215,
    "start_time": "2024-07-04T12:16:56.990Z"
   },
   {
    "duration": 214,
    "start_time": "2024-07-04T12:17:25.681Z"
   },
   {
    "duration": 16,
    "start_time": "2024-07-04T12:17:30.180Z"
   },
   {
    "duration": 12,
    "start_time": "2024-07-04T12:17:35.073Z"
   },
   {
    "duration": 226,
    "start_time": "2024-07-04T12:19:28.159Z"
   },
   {
    "duration": 13,
    "start_time": "2024-07-04T12:19:32.103Z"
   },
   {
    "duration": 10,
    "start_time": "2024-07-04T12:19:35.682Z"
   },
   {
    "duration": 217,
    "start_time": "2024-07-04T12:19:47.502Z"
   },
   {
    "duration": 14,
    "start_time": "2024-07-04T12:19:51.278Z"
   },
   {
    "duration": 11,
    "start_time": "2024-07-04T12:19:54.996Z"
   },
   {
    "duration": 221,
    "start_time": "2024-07-04T12:21:09.666Z"
   },
   {
    "duration": 13,
    "start_time": "2024-07-04T12:21:13.372Z"
   },
   {
    "duration": 11,
    "start_time": "2024-07-04T12:21:17.112Z"
   },
   {
    "duration": 247,
    "start_time": "2024-07-04T12:24:06.140Z"
   },
   {
    "duration": 226,
    "start_time": "2024-07-04T12:24:50.761Z"
   },
   {
    "duration": 13,
    "start_time": "2024-07-04T12:24:54.803Z"
   },
   {
    "duration": 224,
    "start_time": "2024-07-04T12:26:29.585Z"
   },
   {
    "duration": 239,
    "start_time": "2024-07-04T12:30:22.702Z"
   },
   {
    "duration": 13,
    "start_time": "2024-07-04T12:30:26.503Z"
   },
   {
    "duration": 10,
    "start_time": "2024-07-04T12:30:30.993Z"
   },
   {
    "duration": 234,
    "start_time": "2024-07-04T12:31:41.936Z"
   },
   {
    "duration": 15,
    "start_time": "2024-07-04T12:31:46.556Z"
   },
   {
    "duration": 237,
    "start_time": "2024-07-04T12:32:08.663Z"
   },
   {
    "duration": 241,
    "start_time": "2024-07-04T12:34:15.459Z"
   },
   {
    "duration": 13,
    "start_time": "2024-07-04T12:34:19.674Z"
   },
   {
    "duration": 11,
    "start_time": "2024-07-04T12:34:24.834Z"
   },
   {
    "duration": 256,
    "start_time": "2024-07-04T12:35:12.942Z"
   },
   {
    "duration": 13,
    "start_time": "2024-07-04T12:35:18.172Z"
   },
   {
    "duration": 10,
    "start_time": "2024-07-04T12:35:21.955Z"
   },
   {
    "duration": 249,
    "start_time": "2024-07-04T12:35:50.607Z"
   },
   {
    "duration": 13,
    "start_time": "2024-07-04T12:35:55.448Z"
   },
   {
    "duration": 13,
    "start_time": "2024-07-04T12:35:59.359Z"
   },
   {
    "duration": 242,
    "start_time": "2024-07-04T12:37:08.993Z"
   },
   {
    "duration": 12,
    "start_time": "2024-07-04T12:37:13.338Z"
   },
   {
    "duration": 10,
    "start_time": "2024-07-04T12:37:17.514Z"
   },
   {
    "duration": 251,
    "start_time": "2024-07-04T12:38:00.342Z"
   },
   {
    "duration": 13,
    "start_time": "2024-07-04T12:38:04.677Z"
   },
   {
    "duration": 9,
    "start_time": "2024-07-04T12:38:08.633Z"
   },
   {
    "duration": 253,
    "start_time": "2024-07-04T12:38:30.374Z"
   },
   {
    "duration": 12,
    "start_time": "2024-07-04T12:38:33.592Z"
   },
   {
    "duration": 10,
    "start_time": "2024-07-04T12:38:37.513Z"
   },
   {
    "duration": 241,
    "start_time": "2024-07-04T12:39:39.357Z"
   },
   {
    "duration": 234,
    "start_time": "2024-07-04T12:40:06.791Z"
   },
   {
    "duration": 13,
    "start_time": "2024-07-04T12:40:11.654Z"
   },
   {
    "duration": 10,
    "start_time": "2024-07-04T12:40:14.866Z"
   },
   {
    "duration": 260,
    "start_time": "2024-07-04T12:44:02.286Z"
   },
   {
    "duration": 257,
    "start_time": "2024-07-04T12:44:04.417Z"
   },
   {
    "duration": 13,
    "start_time": "2024-07-04T12:44:08.407Z"
   },
   {
    "duration": 10,
    "start_time": "2024-07-04T12:44:11.685Z"
   },
   {
    "duration": 256,
    "start_time": "2024-07-04T12:44:33.156Z"
   },
   {
    "duration": 249,
    "start_time": "2024-07-04T12:46:29.689Z"
   },
   {
    "duration": 13,
    "start_time": "2024-07-04T12:46:34.696Z"
   },
   {
    "duration": 10,
    "start_time": "2024-07-04T12:46:39.136Z"
   },
   {
    "duration": 257,
    "start_time": "2024-07-04T12:48:17.183Z"
   },
   {
    "duration": 12,
    "start_time": "2024-07-04T12:48:21.150Z"
   },
   {
    "duration": 10,
    "start_time": "2024-07-04T12:48:25.199Z"
   },
   {
    "duration": 261,
    "start_time": "2024-07-04T12:49:25.554Z"
   },
   {
    "duration": 13,
    "start_time": "2024-07-04T12:49:31.342Z"
   },
   {
    "duration": 10,
    "start_time": "2024-07-04T12:49:35.066Z"
   },
   {
    "duration": 260,
    "start_time": "2024-07-04T12:52:46.183Z"
   },
   {
    "duration": 13,
    "start_time": "2024-07-04T12:52:50.458Z"
   },
   {
    "duration": 265,
    "start_time": "2024-07-04T12:53:39.384Z"
   },
   {
    "duration": 284,
    "start_time": "2024-07-04T12:54:11.614Z"
   },
   {
    "duration": 13,
    "start_time": "2024-07-04T12:54:15.983Z"
   },
   {
    "duration": 9,
    "start_time": "2024-07-04T12:54:19.460Z"
   },
   {
    "duration": 274,
    "start_time": "2024-07-04T12:56:31.575Z"
   },
   {
    "duration": 13,
    "start_time": "2024-07-04T12:56:37.451Z"
   },
   {
    "duration": 10,
    "start_time": "2024-07-04T12:56:41.050Z"
   },
   {
    "duration": 276,
    "start_time": "2024-07-04T12:57:15.225Z"
   },
   {
    "duration": 271,
    "start_time": "2024-07-04T12:57:48.476Z"
   },
   {
    "duration": 12,
    "start_time": "2024-07-04T12:57:53.691Z"
   },
   {
    "duration": 9,
    "start_time": "2024-07-04T12:57:57.524Z"
   },
   {
    "duration": 275,
    "start_time": "2024-07-04T12:58:59.041Z"
   },
   {
    "duration": 278,
    "start_time": "2024-07-04T13:02:18.399Z"
   },
   {
    "duration": 13,
    "start_time": "2024-07-04T13:02:23.214Z"
   },
   {
    "duration": 10,
    "start_time": "2024-07-04T13:02:26.748Z"
   },
   {
    "duration": 292,
    "start_time": "2024-07-04T13:03:07.787Z"
   },
   {
    "duration": 288,
    "start_time": "2024-07-04T13:03:56.859Z"
   },
   {
    "duration": 15,
    "start_time": "2024-07-04T13:04:00.910Z"
   },
   {
    "duration": 11,
    "start_time": "2024-07-04T13:04:03.824Z"
   },
   {
    "duration": 301,
    "start_time": "2024-07-04T13:05:50.864Z"
   },
   {
    "duration": 13,
    "start_time": "2024-07-04T13:05:55.246Z"
   },
   {
    "duration": 9,
    "start_time": "2024-07-04T13:05:58.536Z"
   },
   {
    "duration": 310,
    "start_time": "2024-07-04T13:06:50.844Z"
   },
   {
    "duration": 13,
    "start_time": "2024-07-04T13:06:55.543Z"
   },
   {
    "duration": 9,
    "start_time": "2024-07-04T13:06:58.839Z"
   },
   {
    "duration": 289,
    "start_time": "2024-07-04T13:07:48.624Z"
   },
   {
    "duration": 13,
    "start_time": "2024-07-04T13:07:53.278Z"
   },
   {
    "duration": 10,
    "start_time": "2024-07-04T13:07:57.712Z"
   },
   {
    "duration": 320,
    "start_time": "2024-07-04T13:11:04.190Z"
   },
   {
    "duration": 13,
    "start_time": "2024-07-04T13:11:09.132Z"
   },
   {
    "duration": 10,
    "start_time": "2024-07-04T13:11:13.180Z"
   },
   {
    "duration": 295,
    "start_time": "2024-07-04T13:12:23.559Z"
   },
   {
    "duration": 13,
    "start_time": "2024-07-04T13:12:27.940Z"
   },
   {
    "duration": 309,
    "start_time": "2024-07-04T13:13:36.687Z"
   },
   {
    "duration": 12,
    "start_time": "2024-07-04T13:13:41.677Z"
   },
   {
    "duration": 10,
    "start_time": "2024-07-04T13:13:45.352Z"
   },
   {
    "duration": 305,
    "start_time": "2024-07-04T13:14:40.387Z"
   },
   {
    "duration": 18,
    "start_time": "2024-07-04T13:14:44.267Z"
   },
   {
    "duration": 9,
    "start_time": "2024-07-04T13:14:47.421Z"
   },
   {
    "duration": 311,
    "start_time": "2024-07-04T13:16:03.705Z"
   },
   {
    "duration": 13,
    "start_time": "2024-07-04T13:16:07.851Z"
   },
   {
    "duration": 9,
    "start_time": "2024-07-04T13:16:11.339Z"
   },
   {
    "duration": 315,
    "start_time": "2024-07-04T13:17:04.481Z"
   },
   {
    "duration": 12,
    "start_time": "2024-07-04T13:17:08.236Z"
   },
   {
    "duration": 8,
    "start_time": "2024-07-04T13:17:12.459Z"
   },
   {
    "duration": 337,
    "start_time": "2024-07-04T13:19:16.120Z"
   },
   {
    "duration": 14,
    "start_time": "2024-07-04T13:19:21.448Z"
   },
   {
    "duration": 10,
    "start_time": "2024-07-04T13:19:25.199Z"
   },
   {
    "duration": 317,
    "start_time": "2024-07-04T13:21:06.903Z"
   },
   {
    "duration": 14,
    "start_time": "2024-07-04T13:21:11.340Z"
   },
   {
    "duration": 9,
    "start_time": "2024-07-04T13:21:14.940Z"
   },
   {
    "duration": 316,
    "start_time": "2024-07-04T13:23:27.668Z"
   },
   {
    "duration": 20,
    "start_time": "2024-07-04T13:23:32.555Z"
   },
   {
    "duration": 10,
    "start_time": "2024-07-04T13:23:36.356Z"
   },
   {
    "duration": 322,
    "start_time": "2024-07-04T13:24:10.110Z"
   },
   {
    "duration": 14,
    "start_time": "2024-07-04T13:24:14.125Z"
   },
   {
    "duration": 9,
    "start_time": "2024-07-04T13:24:18.009Z"
   },
   {
    "duration": 14,
    "start_time": "2024-07-04T13:25:31.411Z"
   },
   {
    "duration": 9,
    "start_time": "2024-07-04T13:25:34.541Z"
   },
   {
    "duration": 323,
    "start_time": "2024-07-04T13:27:53.758Z"
   },
   {
    "duration": 12,
    "start_time": "2024-07-04T13:27:59.278Z"
   },
   {
    "duration": 10,
    "start_time": "2024-07-04T13:28:02.590Z"
   },
   {
    "duration": 318,
    "start_time": "2024-07-04T13:28:35.119Z"
   },
   {
    "duration": 12,
    "start_time": "2024-07-04T13:28:40.022Z"
   },
   {
    "duration": 9,
    "start_time": "2024-07-04T13:28:43.382Z"
   },
   {
    "duration": 333,
    "start_time": "2024-07-04T13:29:08.501Z"
   },
   {
    "duration": 13,
    "start_time": "2024-07-04T13:29:12.925Z"
   },
   {
    "duration": 9,
    "start_time": "2024-07-04T13:29:16.124Z"
   },
   {
    "duration": 316,
    "start_time": "2024-07-04T13:41:56.923Z"
   },
   {
    "duration": 322,
    "start_time": "2024-07-04T13:42:21.277Z"
   },
   {
    "duration": 327,
    "start_time": "2024-07-04T13:43:37.312Z"
   },
   {
    "duration": 12,
    "start_time": "2024-07-04T13:43:40.869Z"
   },
   {
    "duration": 9,
    "start_time": "2024-07-04T13:43:43.743Z"
   },
   {
    "duration": 330,
    "start_time": "2024-07-04T13:49:33.647Z"
   },
   {
    "duration": 13,
    "start_time": "2024-07-04T13:49:39.260Z"
   },
   {
    "duration": 9,
    "start_time": "2024-07-04T13:49:42.966Z"
   },
   {
    "duration": 326,
    "start_time": "2024-07-04T13:51:18.569Z"
   },
   {
    "duration": 12,
    "start_time": "2024-07-04T13:51:23.504Z"
   },
   {
    "duration": 9,
    "start_time": "2024-07-04T13:51:26.837Z"
   },
   {
    "duration": 329,
    "start_time": "2024-07-04T13:55:22.741Z"
   },
   {
    "duration": 347,
    "start_time": "2024-07-04T13:57:07.962Z"
   },
   {
    "duration": 13,
    "start_time": "2024-07-04T13:57:12.809Z"
   },
   {
    "duration": 15,
    "start_time": "2024-07-04T13:57:15.797Z"
   },
   {
    "duration": 349,
    "start_time": "2024-07-04T13:58:57.257Z"
   },
   {
    "duration": 336,
    "start_time": "2024-07-04T14:01:11.385Z"
   },
   {
    "duration": 344,
    "start_time": "2024-07-04T14:04:34.682Z"
   },
   {
    "duration": 13,
    "start_time": "2024-07-04T14:04:39.849Z"
   },
   {
    "duration": 9,
    "start_time": "2024-07-04T14:04:42.934Z"
   },
   {
    "duration": 357,
    "start_time": "2024-07-04T14:08:57.273Z"
   },
   {
    "duration": 13,
    "start_time": "2024-07-04T14:09:01.910Z"
   },
   {
    "duration": 9,
    "start_time": "2024-07-04T14:09:05.207Z"
   },
   {
    "duration": 349,
    "start_time": "2024-07-04T14:11:53.781Z"
   },
   {
    "duration": 13,
    "start_time": "2024-07-04T14:11:58.227Z"
   },
   {
    "duration": 10,
    "start_time": "2024-07-04T14:12:01.815Z"
   },
   {
    "duration": 366,
    "start_time": "2024-07-04T14:13:27.541Z"
   },
   {
    "duration": 346,
    "start_time": "2024-07-04T14:15:37.886Z"
   },
   {
    "duration": 12,
    "start_time": "2024-07-04T14:15:41.876Z"
   },
   {
    "duration": 9,
    "start_time": "2024-07-04T14:15:45.395Z"
   },
   {
    "duration": 363,
    "start_time": "2024-07-04T14:16:32.320Z"
   },
   {
    "duration": 12,
    "start_time": "2024-07-04T14:16:37.910Z"
   },
   {
    "duration": 9,
    "start_time": "2024-07-04T14:16:42.546Z"
   },
   {
    "duration": 396,
    "start_time": "2024-07-04T14:44:36.440Z"
   },
   {
    "duration": 13,
    "start_time": "2024-07-04T14:44:40.623Z"
   },
   {
    "duration": 9,
    "start_time": "2024-07-04T14:44:43.640Z"
   },
   {
    "duration": 372,
    "start_time": "2024-07-04T14:54:23.417Z"
   },
   {
    "duration": 14,
    "start_time": "2024-07-04T14:54:30.010Z"
   },
   {
    "duration": 9,
    "start_time": "2024-07-04T14:54:33.878Z"
   },
   {
    "duration": 366,
    "start_time": "2024-07-04T14:54:51.820Z"
   },
   {
    "duration": 366,
    "start_time": "2024-07-04T14:59:48.556Z"
   },
   {
    "duration": 12,
    "start_time": "2024-07-04T14:59:56.711Z"
   },
   {
    "duration": 9,
    "start_time": "2024-07-04T14:59:59.410Z"
   },
   {
    "duration": 367,
    "start_time": "2024-07-04T15:04:04.805Z"
   },
   {
    "duration": 13,
    "start_time": "2024-07-04T15:04:12.951Z"
   },
   {
    "duration": 8,
    "start_time": "2024-07-04T15:04:15.953Z"
   },
   {
    "duration": 363,
    "start_time": "2024-07-04T15:05:48.674Z"
   },
   {
    "duration": 375,
    "start_time": "2024-07-04T15:05:57.151Z"
   },
   {
    "duration": 12,
    "start_time": "2024-07-04T15:06:01.438Z"
   },
   {
    "duration": 8,
    "start_time": "2024-07-04T15:06:05.620Z"
   },
   {
    "duration": 369,
    "start_time": "2024-07-04T15:11:38.521Z"
   },
   {
    "duration": 13,
    "start_time": "2024-07-04T15:11:44.462Z"
   },
   {
    "duration": 9,
    "start_time": "2024-07-04T15:11:50.086Z"
   },
   {
    "duration": 378,
    "start_time": "2024-07-04T15:12:30.357Z"
   },
   {
    "duration": 393,
    "start_time": "2024-07-04T15:16:53.698Z"
   },
   {
    "duration": 11,
    "start_time": "2024-07-04T15:17:02.954Z"
   },
   {
    "duration": 8,
    "start_time": "2024-07-04T15:17:05.900Z"
   },
   {
    "duration": 382,
    "start_time": "2024-07-04T15:19:38.559Z"
   },
   {
    "duration": 375,
    "start_time": "2024-07-04T15:22:39.196Z"
   },
   {
    "duration": 13,
    "start_time": "2024-07-04T15:22:45.425Z"
   },
   {
    "duration": 9,
    "start_time": "2024-07-04T15:22:48.768Z"
   },
   {
    "duration": 390,
    "start_time": "2024-07-04T15:24:16.541Z"
   },
   {
    "duration": 11,
    "start_time": "2024-07-04T15:24:22.042Z"
   },
   {
    "duration": 8,
    "start_time": "2024-07-04T15:24:25.516Z"
   },
   {
    "duration": 394,
    "start_time": "2024-07-04T15:26:51.099Z"
   },
   {
    "duration": 12,
    "start_time": "2024-07-04T15:26:59.658Z"
   },
   {
    "duration": 9,
    "start_time": "2024-07-04T15:27:02.683Z"
   },
   {
    "duration": 390,
    "start_time": "2024-07-04T15:30:54.365Z"
   },
   {
    "duration": 11,
    "start_time": "2024-07-04T15:31:00.158Z"
   },
   {
    "duration": 8,
    "start_time": "2024-07-04T15:31:03.433Z"
   },
   {
    "duration": 388,
    "start_time": "2024-07-04T15:33:24.319Z"
   },
   {
    "duration": 12,
    "start_time": "2024-07-04T15:33:31.464Z"
   },
   {
    "duration": 8,
    "start_time": "2024-07-04T15:33:34.614Z"
   },
   {
    "duration": 397,
    "start_time": "2024-07-04T15:36:17.245Z"
   },
   {
    "duration": 12,
    "start_time": "2024-07-04T15:36:24.200Z"
   },
   {
    "duration": 8,
    "start_time": "2024-07-04T15:36:28.343Z"
   },
   {
    "duration": 396,
    "start_time": "2024-07-04T15:38:33.746Z"
   },
   {
    "duration": 399,
    "start_time": "2024-07-04T15:44:18.613Z"
   },
   {
    "duration": 12,
    "start_time": "2024-07-04T15:44:30.314Z"
   },
   {
    "duration": 8,
    "start_time": "2024-07-04T15:44:33.416Z"
   },
   {
    "duration": 400,
    "start_time": "2024-07-04T15:47:42.987Z"
   },
   {
    "duration": 12,
    "start_time": "2024-07-04T15:47:51.567Z"
   },
   {
    "duration": 404,
    "start_time": "2024-07-04T15:50:06.771Z"
   },
   {
    "duration": 12,
    "start_time": "2024-07-04T15:50:15.244Z"
   },
   {
    "duration": 7,
    "start_time": "2024-07-04T15:50:18.340Z"
   },
   {
    "duration": 404,
    "start_time": "2024-07-04T15:52:34.712Z"
   },
   {
    "duration": 11,
    "start_time": "2024-07-04T15:52:41.785Z"
   },
   {
    "duration": 34,
    "start_time": "2024-07-04T15:52:43.732Z"
   },
   {
    "duration": 12,
    "start_time": "2024-07-04T15:54:40.959Z"
   },
   {
    "duration": 9,
    "start_time": "2024-07-04T15:54:43.406Z"
   },
   {
    "duration": 418,
    "start_time": "2024-07-04T16:02:05.078Z"
   },
   {
    "duration": 12,
    "start_time": "2024-07-04T16:02:12.490Z"
   },
   {
    "duration": 10,
    "start_time": "2024-07-04T16:02:14.861Z"
   },
   {
    "duration": 406,
    "start_time": "2024-07-04T16:04:06.867Z"
   },
   {
    "duration": 11,
    "start_time": "2024-07-04T16:04:12.587Z"
   },
   {
    "duration": 7,
    "start_time": "2024-07-04T16:04:15.388Z"
   },
   {
    "duration": 439,
    "start_time": "2024-07-04T16:06:04.003Z"
   },
   {
    "duration": 12,
    "start_time": "2024-07-04T16:06:10.382Z"
   },
   {
    "duration": 7,
    "start_time": "2024-07-04T16:06:13.060Z"
   },
   {
    "duration": 5303,
    "start_time": "2024-07-04T16:07:34.633Z"
   },
   {
    "duration": 1338,
    "start_time": "2024-07-04T16:07:39.938Z"
   },
   {
    "duration": 395,
    "start_time": "2024-07-04T16:07:41.278Z"
   },
   {
    "duration": 51,
    "start_time": "2024-07-04T16:07:41.675Z"
   },
   {
    "duration": 41,
    "start_time": "2024-07-04T16:07:41.728Z"
   },
   {
    "duration": 129,
    "start_time": "2024-07-04T16:07:41.770Z"
   },
   {
    "duration": 29,
    "start_time": "2024-07-04T16:07:41.901Z"
   },
   {
    "duration": 23,
    "start_time": "2024-07-04T16:07:41.931Z"
   },
   {
    "duration": 42,
    "start_time": "2024-07-04T16:07:41.956Z"
   },
   {
    "duration": 13,
    "start_time": "2024-07-04T16:07:42.001Z"
   },
   {
    "duration": 8,
    "start_time": "2024-07-04T16:07:42.015Z"
   },
   {
    "duration": 89,
    "start_time": "2024-07-04T16:07:42.024Z"
   },
   {
    "duration": 150,
    "start_time": "2024-07-04T16:07:42.114Z"
   },
   {
    "duration": 18,
    "start_time": "2024-07-04T16:07:42.266Z"
   },
   {
    "duration": 68,
    "start_time": "2024-07-04T16:07:42.286Z"
   },
   {
    "duration": 18,
    "start_time": "2024-07-04T16:07:42.356Z"
   },
   {
    "duration": 16,
    "start_time": "2024-07-04T16:07:42.376Z"
   },
   {
    "duration": 11,
    "start_time": "2024-07-04T16:07:42.394Z"
   },
   {
    "duration": 4,
    "start_time": "2024-07-04T16:07:42.406Z"
   },
   {
    "duration": 7,
    "start_time": "2024-07-04T16:07:42.412Z"
   },
   {
    "duration": 9,
    "start_time": "2024-07-04T16:07:42.452Z"
   },
   {
    "duration": 17,
    "start_time": "2024-07-04T16:07:42.462Z"
   },
   {
    "duration": 38,
    "start_time": "2024-07-04T16:07:42.481Z"
   },
   {
    "duration": 39,
    "start_time": "2024-07-04T16:07:42.521Z"
   },
   {
    "duration": 557,
    "start_time": "2024-07-04T16:07:42.563Z"
   },
   {
    "duration": 121,
    "start_time": "2024-07-04T16:07:43.122Z"
   },
   {
    "duration": 0,
    "start_time": "2024-07-04T16:07:43.246Z"
   },
   {
    "duration": 0,
    "start_time": "2024-07-04T16:07:43.247Z"
   },
   {
    "duration": 0,
    "start_time": "2024-07-04T16:07:43.249Z"
   },
   {
    "duration": 0,
    "start_time": "2024-07-04T16:07:43.252Z"
   },
   {
    "duration": 0,
    "start_time": "2024-07-04T16:07:43.254Z"
   },
   {
    "duration": 0,
    "start_time": "2024-07-04T16:07:43.256Z"
   },
   {
    "duration": 0,
    "start_time": "2024-07-04T16:07:43.257Z"
   },
   {
    "duration": 0,
    "start_time": "2024-07-04T16:07:43.259Z"
   },
   {
    "duration": 0,
    "start_time": "2024-07-04T16:07:43.260Z"
   },
   {
    "duration": 0,
    "start_time": "2024-07-04T16:07:43.262Z"
   },
   {
    "duration": 0,
    "start_time": "2024-07-04T16:07:43.263Z"
   },
   {
    "duration": 0,
    "start_time": "2024-07-04T16:07:43.265Z"
   },
   {
    "duration": 0,
    "start_time": "2024-07-04T16:07:43.267Z"
   },
   {
    "duration": 0,
    "start_time": "2024-07-04T16:07:43.268Z"
   },
   {
    "duration": 0,
    "start_time": "2024-07-04T16:07:43.269Z"
   },
   {
    "duration": 0,
    "start_time": "2024-07-04T16:07:43.271Z"
   },
   {
    "duration": 0,
    "start_time": "2024-07-04T16:07:43.272Z"
   },
   {
    "duration": 0,
    "start_time": "2024-07-04T16:07:43.274Z"
   },
   {
    "duration": 0,
    "start_time": "2024-07-04T16:07:43.275Z"
   },
   {
    "duration": 0,
    "start_time": "2024-07-04T16:07:43.277Z"
   },
   {
    "duration": 0,
    "start_time": "2024-07-04T16:07:43.278Z"
   },
   {
    "duration": 0,
    "start_time": "2024-07-04T16:07:43.279Z"
   },
   {
    "duration": 0,
    "start_time": "2024-07-04T16:07:43.281Z"
   },
   {
    "duration": 0,
    "start_time": "2024-07-04T16:07:43.283Z"
   },
   {
    "duration": 1,
    "start_time": "2024-07-04T16:07:43.284Z"
   },
   {
    "duration": 12,
    "start_time": "2024-07-04T16:10:21.882Z"
   },
   {
    "duration": 7,
    "start_time": "2024-07-04T16:10:30.003Z"
   },
   {
    "duration": 365,
    "start_time": "2024-07-04T16:11:51.414Z"
   },
   {
    "duration": 13,
    "start_time": "2024-07-04T16:12:00.586Z"
   },
   {
    "duration": 8,
    "start_time": "2024-07-04T16:12:03.954Z"
   },
   {
    "duration": 12,
    "start_time": "2024-07-04T16:12:46.760Z"
   },
   {
    "duration": 8,
    "start_time": "2024-07-04T16:12:48.685Z"
   },
   {
    "duration": 82,
    "start_time": "2024-07-04T16:18:25.620Z"
   },
   {
    "duration": 25,
    "start_time": "2024-07-04T16:18:34.683Z"
   },
   {
    "duration": 10,
    "start_time": "2024-07-04T16:18:40.797Z"
   },
   {
    "duration": 5352,
    "start_time": "2024-07-04T16:19:06.241Z"
   },
   {
    "duration": 1273,
    "start_time": "2024-07-04T16:19:11.596Z"
   },
   {
    "duration": 366,
    "start_time": "2024-07-04T16:19:12.870Z"
   },
   {
    "duration": 52,
    "start_time": "2024-07-04T16:19:13.239Z"
   },
   {
    "duration": 27,
    "start_time": "2024-07-04T16:19:13.293Z"
   },
   {
    "duration": 143,
    "start_time": "2024-07-04T16:19:13.322Z"
   },
   {
    "duration": 28,
    "start_time": "2024-07-04T16:19:13.467Z"
   },
   {
    "duration": 5,
    "start_time": "2024-07-04T16:19:13.497Z"
   },
   {
    "duration": 68,
    "start_time": "2024-07-04T16:19:13.503Z"
   },
   {
    "duration": 15,
    "start_time": "2024-07-04T16:19:13.574Z"
   },
   {
    "duration": 9,
    "start_time": "2024-07-04T16:19:13.590Z"
   },
   {
    "duration": 79,
    "start_time": "2024-07-04T16:19:13.601Z"
   },
   {
    "duration": 146,
    "start_time": "2024-07-04T16:19:13.681Z"
   },
   {
    "duration": 25,
    "start_time": "2024-07-04T16:19:13.828Z"
   },
   {
    "duration": 51,
    "start_time": "2024-07-04T16:19:13.855Z"
   },
   {
    "duration": 18,
    "start_time": "2024-07-04T16:19:13.907Z"
   },
   {
    "duration": 39,
    "start_time": "2024-07-04T16:19:13.927Z"
   },
   {
    "duration": 11,
    "start_time": "2024-07-04T16:19:13.968Z"
   },
   {
    "duration": 5,
    "start_time": "2024-07-04T16:19:13.980Z"
   },
   {
    "duration": 8,
    "start_time": "2024-07-04T16:19:13.987Z"
   },
   {
    "duration": 7,
    "start_time": "2024-07-04T16:19:13.996Z"
   },
   {
    "duration": 12,
    "start_time": "2024-07-04T16:19:14.006Z"
   },
   {
    "duration": 65,
    "start_time": "2024-07-04T16:19:14.020Z"
   },
   {
    "duration": 12,
    "start_time": "2024-07-04T16:19:14.087Z"
   },
   {
    "duration": 563,
    "start_time": "2024-07-04T16:19:14.101Z"
   },
   {
    "duration": 93,
    "start_time": "2024-07-04T16:19:14.666Z"
   },
   {
    "duration": 10,
    "start_time": "2024-07-04T16:19:14.760Z"
   },
   {
    "duration": 128,
    "start_time": "2024-07-04T16:19:14.774Z"
   },
   {
    "duration": 0,
    "start_time": "2024-07-04T16:19:14.903Z"
   },
   {
    "duration": 0,
    "start_time": "2024-07-04T16:19:14.904Z"
   },
   {
    "duration": 0,
    "start_time": "2024-07-04T16:19:14.905Z"
   },
   {
    "duration": 0,
    "start_time": "2024-07-04T16:19:14.906Z"
   },
   {
    "duration": 0,
    "start_time": "2024-07-04T16:19:14.907Z"
   },
   {
    "duration": 0,
    "start_time": "2024-07-04T16:19:14.908Z"
   },
   {
    "duration": 0,
    "start_time": "2024-07-04T16:19:14.909Z"
   },
   {
    "duration": 0,
    "start_time": "2024-07-04T16:19:14.910Z"
   },
   {
    "duration": 0,
    "start_time": "2024-07-04T16:19:14.911Z"
   },
   {
    "duration": 0,
    "start_time": "2024-07-04T16:19:14.912Z"
   },
   {
    "duration": 0,
    "start_time": "2024-07-04T16:19:14.913Z"
   },
   {
    "duration": 0,
    "start_time": "2024-07-04T16:19:14.914Z"
   },
   {
    "duration": 0,
    "start_time": "2024-07-04T16:19:14.915Z"
   },
   {
    "duration": 0,
    "start_time": "2024-07-04T16:19:14.916Z"
   },
   {
    "duration": 0,
    "start_time": "2024-07-04T16:19:14.917Z"
   },
   {
    "duration": 0,
    "start_time": "2024-07-04T16:19:14.918Z"
   },
   {
    "duration": 0,
    "start_time": "2024-07-04T16:19:14.919Z"
   },
   {
    "duration": 0,
    "start_time": "2024-07-04T16:19:14.919Z"
   },
   {
    "duration": 0,
    "start_time": "2024-07-04T16:19:14.920Z"
   },
   {
    "duration": 0,
    "start_time": "2024-07-04T16:19:14.921Z"
   },
   {
    "duration": 0,
    "start_time": "2024-07-04T16:19:14.922Z"
   },
   {
    "duration": 0,
    "start_time": "2024-07-04T16:19:14.923Z"
   },
   {
    "duration": 0,
    "start_time": "2024-07-04T16:19:14.954Z"
   },
   {
    "duration": 409,
    "start_time": "2024-07-04T16:19:33.074Z"
   },
   {
    "duration": 133,
    "start_time": "2024-07-04T16:19:37.884Z"
   },
   {
    "duration": 12,
    "start_time": "2024-07-04T16:20:09.244Z"
   },
   {
    "duration": 883,
    "start_time": "2024-07-04T16:20:36.079Z"
   },
   {
    "duration": 33,
    "start_time": "2024-07-04T16:20:52.550Z"
   },
   {
    "duration": 30,
    "start_time": "2024-07-04T16:20:58.453Z"
   },
   {
    "duration": 29,
    "start_time": "2024-07-04T16:21:07.122Z"
   },
   {
    "duration": 14,
    "start_time": "2024-07-04T16:21:11.610Z"
   },
   {
    "duration": 876,
    "start_time": "2024-07-04T16:21:16.866Z"
   },
   {
    "duration": 629,
    "start_time": "2024-07-04T16:21:26.615Z"
   },
   {
    "duration": 514,
    "start_time": "2024-07-04T16:21:30.528Z"
   },
   {
    "duration": 330,
    "start_time": "2024-07-04T16:21:36.210Z"
   },
   {
    "duration": 17,
    "start_time": "2024-07-04T16:21:39.074Z"
   },
   {
    "duration": 15,
    "start_time": "2024-07-04T16:21:47.424Z"
   },
   {
    "duration": 283,
    "start_time": "2024-07-04T16:22:00.426Z"
   },
   {
    "duration": 16,
    "start_time": "2024-07-04T16:22:11.761Z"
   },
   {
    "duration": 18,
    "start_time": "2024-07-04T16:22:25.173Z"
   },
   {
    "duration": 23,
    "start_time": "2024-07-04T16:22:26.885Z"
   },
   {
    "duration": 3,
    "start_time": "2024-07-04T16:22:38.152Z"
   },
   {
    "duration": 4,
    "start_time": "2024-07-04T16:22:39.475Z"
   },
   {
    "duration": 6,
    "start_time": "2024-07-04T16:22:40.999Z"
   },
   {
    "duration": 12052,
    "start_time": "2024-07-04T20:11:53.264Z"
   },
   {
    "duration": 1525,
    "start_time": "2024-07-04T20:12:05.319Z"
   },
   {
    "duration": 429,
    "start_time": "2024-07-04T20:12:06.846Z"
   },
   {
    "duration": 50,
    "start_time": "2024-07-04T20:12:07.276Z"
   },
   {
    "duration": 44,
    "start_time": "2024-07-04T20:12:07.328Z"
   },
   {
    "duration": 94,
    "start_time": "2024-07-04T20:12:07.374Z"
   },
   {
    "duration": 35,
    "start_time": "2024-07-04T20:12:07.469Z"
   },
   {
    "duration": 4,
    "start_time": "2024-07-04T20:12:07.506Z"
   },
   {
    "duration": 34,
    "start_time": "2024-07-04T20:12:07.512Z"
   },
   {
    "duration": 11,
    "start_time": "2024-07-04T20:12:07.549Z"
   },
   {
    "duration": 29,
    "start_time": "2024-07-04T20:12:07.561Z"
   },
   {
    "duration": 61,
    "start_time": "2024-07-04T20:12:07.592Z"
   },
   {
    "duration": 120,
    "start_time": "2024-07-04T20:12:07.655Z"
   },
   {
    "duration": 18,
    "start_time": "2024-07-04T20:12:07.777Z"
   },
   {
    "duration": 39,
    "start_time": "2024-07-04T20:12:07.797Z"
   },
   {
    "duration": 15,
    "start_time": "2024-07-04T20:12:07.837Z"
   },
   {
    "duration": 36,
    "start_time": "2024-07-04T20:12:07.854Z"
   },
   {
    "duration": 10,
    "start_time": "2024-07-04T20:12:07.892Z"
   },
   {
    "duration": 4,
    "start_time": "2024-07-04T20:12:07.904Z"
   },
   {
    "duration": 12,
    "start_time": "2024-07-04T20:12:07.910Z"
   },
   {
    "duration": 6,
    "start_time": "2024-07-04T20:12:07.924Z"
   },
   {
    "duration": 10,
    "start_time": "2024-07-04T20:12:07.931Z"
   },
   {
    "duration": 55,
    "start_time": "2024-07-04T20:12:07.943Z"
   },
   {
    "duration": 10,
    "start_time": "2024-07-04T20:12:07.999Z"
   },
   {
    "duration": 493,
    "start_time": "2024-07-04T20:12:08.011Z"
   },
   {
    "duration": 75,
    "start_time": "2024-07-04T20:12:08.505Z"
   },
   {
    "duration": 25,
    "start_time": "2024-07-04T20:12:08.582Z"
   },
   {
    "duration": 114,
    "start_time": "2024-07-04T20:12:08.612Z"
   },
   {
    "duration": 0,
    "start_time": "2024-07-04T20:12:08.728Z"
   },
   {
    "duration": 0,
    "start_time": "2024-07-04T20:12:08.729Z"
   },
   {
    "duration": 0,
    "start_time": "2024-07-04T20:12:08.731Z"
   },
   {
    "duration": 0,
    "start_time": "2024-07-04T20:12:08.732Z"
   },
   {
    "duration": 0,
    "start_time": "2024-07-04T20:12:08.733Z"
   },
   {
    "duration": 0,
    "start_time": "2024-07-04T20:12:08.734Z"
   },
   {
    "duration": 0,
    "start_time": "2024-07-04T20:12:08.735Z"
   },
   {
    "duration": 0,
    "start_time": "2024-07-04T20:12:08.736Z"
   },
   {
    "duration": 0,
    "start_time": "2024-07-04T20:12:08.737Z"
   },
   {
    "duration": 0,
    "start_time": "2024-07-04T20:12:08.738Z"
   },
   {
    "duration": 0,
    "start_time": "2024-07-04T20:12:08.739Z"
   },
   {
    "duration": 0,
    "start_time": "2024-07-04T20:12:08.739Z"
   },
   {
    "duration": 0,
    "start_time": "2024-07-04T20:12:08.741Z"
   },
   {
    "duration": 0,
    "start_time": "2024-07-04T20:12:08.741Z"
   },
   {
    "duration": 0,
    "start_time": "2024-07-04T20:12:08.742Z"
   },
   {
    "duration": 0,
    "start_time": "2024-07-04T20:12:08.743Z"
   },
   {
    "duration": 0,
    "start_time": "2024-07-04T20:12:08.744Z"
   },
   {
    "duration": 0,
    "start_time": "2024-07-04T20:12:08.745Z"
   },
   {
    "duration": 0,
    "start_time": "2024-07-04T20:12:08.746Z"
   },
   {
    "duration": 0,
    "start_time": "2024-07-04T20:12:08.747Z"
   },
   {
    "duration": 0,
    "start_time": "2024-07-04T20:12:08.748Z"
   },
   {
    "duration": 0,
    "start_time": "2024-07-04T20:12:08.749Z"
   },
   {
    "duration": 0,
    "start_time": "2024-07-04T20:12:08.790Z"
   },
   {
    "duration": 15,
    "start_time": "2024-07-04T20:14:04.920Z"
   },
   {
    "duration": 35,
    "start_time": "2024-07-04T20:14:27.019Z"
   },
   {
    "duration": 10,
    "start_time": "2024-07-04T20:14:35.925Z"
   },
   {
    "duration": 31,
    "start_time": "2024-07-04T20:14:46.492Z"
   },
   {
    "duration": 10,
    "start_time": "2024-07-04T20:16:44.272Z"
   },
   {
    "duration": 7,
    "start_time": "2024-07-04T20:16:51.655Z"
   },
   {
    "duration": 10,
    "start_time": "2024-07-04T20:17:46.441Z"
   },
   {
    "duration": 3,
    "start_time": "2024-07-04T20:18:08.228Z"
   },
   {
    "duration": 21,
    "start_time": "2024-07-04T20:18:11.934Z"
   },
   {
    "duration": 2,
    "start_time": "2024-07-04T20:18:12.815Z"
   },
   {
    "duration": 5,
    "start_time": "2024-07-04T20:18:13.589Z"
   },
   {
    "duration": 5,
    "start_time": "2024-07-04T20:18:33.580Z"
   },
   {
    "duration": 5564,
    "start_time": "2024-07-04T20:22:33.492Z"
   },
   {
    "duration": 1274,
    "start_time": "2024-07-04T20:22:39.059Z"
   },
   {
    "duration": 357,
    "start_time": "2024-07-04T20:22:40.334Z"
   },
   {
    "duration": 41,
    "start_time": "2024-07-04T20:22:40.693Z"
   },
   {
    "duration": 32,
    "start_time": "2024-07-04T20:22:40.735Z"
   },
   {
    "duration": 90,
    "start_time": "2024-07-04T20:22:40.768Z"
   },
   {
    "duration": 31,
    "start_time": "2024-07-04T20:22:40.859Z"
   },
   {
    "duration": 3,
    "start_time": "2024-07-04T20:22:40.891Z"
   },
   {
    "duration": 34,
    "start_time": "2024-07-04T20:22:40.896Z"
   },
   {
    "duration": 17,
    "start_time": "2024-07-04T20:22:40.932Z"
   },
   {
    "duration": 20,
    "start_time": "2024-07-04T20:22:40.950Z"
   },
   {
    "duration": 78,
    "start_time": "2024-07-04T20:22:40.971Z"
   },
   {
    "duration": 118,
    "start_time": "2024-07-04T20:22:41.050Z"
   },
   {
    "duration": 20,
    "start_time": "2024-07-04T20:22:41.169Z"
   },
   {
    "duration": 38,
    "start_time": "2024-07-04T20:22:41.191Z"
   },
   {
    "duration": 18,
    "start_time": "2024-07-04T20:22:41.231Z"
   },
   {
    "duration": 14,
    "start_time": "2024-07-04T20:22:41.251Z"
   },
   {
    "duration": 31,
    "start_time": "2024-07-04T20:22:41.266Z"
   },
   {
    "duration": 4,
    "start_time": "2024-07-04T20:22:41.299Z"
   },
   {
    "duration": 15,
    "start_time": "2024-07-04T20:22:41.305Z"
   },
   {
    "duration": 9,
    "start_time": "2024-07-04T20:22:41.321Z"
   },
   {
    "duration": 58,
    "start_time": "2024-07-04T20:22:41.331Z"
   },
   {
    "duration": 35,
    "start_time": "2024-07-04T20:22:41.390Z"
   },
   {
    "duration": 17,
    "start_time": "2024-07-04T20:22:41.427Z"
   },
   {
    "duration": 504,
    "start_time": "2024-07-04T20:22:41.446Z"
   },
   {
    "duration": 78,
    "start_time": "2024-07-04T20:22:41.951Z"
   },
   {
    "duration": 9,
    "start_time": "2024-07-04T20:22:42.031Z"
   },
   {
    "duration": 123,
    "start_time": "2024-07-04T20:22:42.043Z"
   },
   {
    "duration": 0,
    "start_time": "2024-07-04T20:22:42.168Z"
   },
   {
    "duration": 0,
    "start_time": "2024-07-04T20:22:42.169Z"
   },
   {
    "duration": 0,
    "start_time": "2024-07-04T20:22:42.170Z"
   },
   {
    "duration": 0,
    "start_time": "2024-07-04T20:22:42.171Z"
   },
   {
    "duration": 0,
    "start_time": "2024-07-04T20:22:42.172Z"
   },
   {
    "duration": 0,
    "start_time": "2024-07-04T20:22:42.189Z"
   },
   {
    "duration": 0,
    "start_time": "2024-07-04T20:22:42.190Z"
   },
   {
    "duration": 0,
    "start_time": "2024-07-04T20:22:42.191Z"
   },
   {
    "duration": 0,
    "start_time": "2024-07-04T20:22:42.192Z"
   },
   {
    "duration": 0,
    "start_time": "2024-07-04T20:22:42.193Z"
   },
   {
    "duration": 0,
    "start_time": "2024-07-04T20:22:42.194Z"
   },
   {
    "duration": 0,
    "start_time": "2024-07-04T20:22:42.195Z"
   },
   {
    "duration": 0,
    "start_time": "2024-07-04T20:22:42.196Z"
   },
   {
    "duration": 0,
    "start_time": "2024-07-04T20:22:42.197Z"
   },
   {
    "duration": 0,
    "start_time": "2024-07-04T20:22:42.199Z"
   },
   {
    "duration": 0,
    "start_time": "2024-07-04T20:22:42.200Z"
   },
   {
    "duration": 0,
    "start_time": "2024-07-04T20:22:42.201Z"
   },
   {
    "duration": 0,
    "start_time": "2024-07-04T20:22:42.202Z"
   },
   {
    "duration": 0,
    "start_time": "2024-07-04T20:22:42.203Z"
   },
   {
    "duration": 1,
    "start_time": "2024-07-04T20:22:42.203Z"
   },
   {
    "duration": 0,
    "start_time": "2024-07-04T20:22:42.205Z"
   },
   {
    "duration": 0,
    "start_time": "2024-07-04T20:22:42.205Z"
   },
   {
    "duration": 0,
    "start_time": "2024-07-04T20:22:42.207Z"
   },
   {
    "duration": 12,
    "start_time": "2024-07-04T20:25:14.866Z"
   },
   {
    "duration": 15,
    "start_time": "2024-07-04T20:25:26.689Z"
   },
   {
    "duration": 27,
    "start_time": "2024-07-04T20:25:39.673Z"
   },
   {
    "duration": 22,
    "start_time": "2024-07-04T20:25:46.169Z"
   },
   {
    "duration": 2,
    "start_time": "2024-07-04T20:25:47.458Z"
   },
   {
    "duration": 5,
    "start_time": "2024-07-04T20:25:49.542Z"
   },
   {
    "duration": 6,
    "start_time": "2024-07-04T20:25:50.699Z"
   },
   {
    "duration": 5705,
    "start_time": "2024-07-04T20:34:08.867Z"
   },
   {
    "duration": 1294,
    "start_time": "2024-07-04T20:34:14.574Z"
   },
   {
    "duration": 371,
    "start_time": "2024-07-04T20:34:15.870Z"
   },
   {
    "duration": 41,
    "start_time": "2024-07-04T20:34:16.243Z"
   },
   {
    "duration": 41,
    "start_time": "2024-07-04T20:34:16.285Z"
   },
   {
    "duration": 93,
    "start_time": "2024-07-04T20:34:16.327Z"
   },
   {
    "duration": 24,
    "start_time": "2024-07-04T20:34:16.422Z"
   },
   {
    "duration": 4,
    "start_time": "2024-07-04T20:34:16.447Z"
   },
   {
    "duration": 53,
    "start_time": "2024-07-04T20:34:16.453Z"
   },
   {
    "duration": 12,
    "start_time": "2024-07-04T20:34:16.508Z"
   },
   {
    "duration": 13,
    "start_time": "2024-07-04T20:34:16.521Z"
   },
   {
    "duration": 74,
    "start_time": "2024-07-04T20:34:16.535Z"
   },
   {
    "duration": 113,
    "start_time": "2024-07-04T20:34:16.611Z"
   },
   {
    "duration": 13,
    "start_time": "2024-07-04T20:34:16.725Z"
   },
   {
    "duration": 65,
    "start_time": "2024-07-04T20:34:16.739Z"
   },
   {
    "duration": 15,
    "start_time": "2024-07-04T20:34:16.805Z"
   },
   {
    "duration": 15,
    "start_time": "2024-07-04T20:34:16.821Z"
   },
   {
    "duration": 10,
    "start_time": "2024-07-04T20:34:16.837Z"
   },
   {
    "duration": 4,
    "start_time": "2024-07-04T20:34:16.848Z"
   },
   {
    "duration": 6,
    "start_time": "2024-07-04T20:34:16.854Z"
   },
   {
    "duration": 31,
    "start_time": "2024-07-04T20:34:16.861Z"
   },
   {
    "duration": 11,
    "start_time": "2024-07-04T20:34:16.894Z"
   },
   {
    "duration": 29,
    "start_time": "2024-07-04T20:34:16.908Z"
   },
   {
    "duration": 11,
    "start_time": "2024-07-04T20:34:16.939Z"
   },
   {
    "duration": 510,
    "start_time": "2024-07-04T20:34:16.951Z"
   },
   {
    "duration": 78,
    "start_time": "2024-07-04T20:34:17.462Z"
   },
   {
    "duration": 36,
    "start_time": "2024-07-04T20:34:17.542Z"
   },
   {
    "duration": 115,
    "start_time": "2024-07-04T20:34:17.581Z"
   },
   {
    "duration": 0,
    "start_time": "2024-07-04T20:34:17.697Z"
   },
   {
    "duration": 0,
    "start_time": "2024-07-04T20:34:17.698Z"
   },
   {
    "duration": 0,
    "start_time": "2024-07-04T20:34:17.698Z"
   },
   {
    "duration": 0,
    "start_time": "2024-07-04T20:34:17.699Z"
   },
   {
    "duration": 0,
    "start_time": "2024-07-04T20:34:17.700Z"
   },
   {
    "duration": 0,
    "start_time": "2024-07-04T20:34:17.701Z"
   },
   {
    "duration": 0,
    "start_time": "2024-07-04T20:34:17.702Z"
   },
   {
    "duration": 0,
    "start_time": "2024-07-04T20:34:17.703Z"
   },
   {
    "duration": 0,
    "start_time": "2024-07-04T20:34:17.704Z"
   },
   {
    "duration": 0,
    "start_time": "2024-07-04T20:34:17.705Z"
   },
   {
    "duration": 0,
    "start_time": "2024-07-04T20:34:17.706Z"
   },
   {
    "duration": 0,
    "start_time": "2024-07-04T20:34:17.706Z"
   },
   {
    "duration": 0,
    "start_time": "2024-07-04T20:34:17.707Z"
   },
   {
    "duration": 0,
    "start_time": "2024-07-04T20:34:17.708Z"
   },
   {
    "duration": 0,
    "start_time": "2024-07-04T20:34:17.709Z"
   },
   {
    "duration": 0,
    "start_time": "2024-07-04T20:34:17.710Z"
   },
   {
    "duration": 0,
    "start_time": "2024-07-04T20:34:17.711Z"
   },
   {
    "duration": 0,
    "start_time": "2024-07-04T20:34:17.711Z"
   },
   {
    "duration": 0,
    "start_time": "2024-07-04T20:34:17.712Z"
   },
   {
    "duration": 0,
    "start_time": "2024-07-04T20:34:17.713Z"
   },
   {
    "duration": 0,
    "start_time": "2024-07-04T20:34:17.714Z"
   },
   {
    "duration": 0,
    "start_time": "2024-07-04T20:34:17.715Z"
   },
   {
    "duration": 0,
    "start_time": "2024-07-04T20:34:17.716Z"
   },
   {
    "duration": 5557,
    "start_time": "2024-07-04T20:36:22.607Z"
   },
   {
    "duration": 1252,
    "start_time": "2024-07-04T20:36:28.167Z"
   },
   {
    "duration": 300,
    "start_time": "2024-07-04T20:36:29.421Z"
   },
   {
    "duration": 42,
    "start_time": "2024-07-04T20:36:29.723Z"
   },
   {
    "duration": 35,
    "start_time": "2024-07-04T20:36:29.767Z"
   },
   {
    "duration": 108,
    "start_time": "2024-07-04T20:36:29.804Z"
   },
   {
    "duration": 22,
    "start_time": "2024-07-04T20:36:29.914Z"
   },
   {
    "duration": 3,
    "start_time": "2024-07-04T20:36:29.938Z"
   },
   {
    "duration": 51,
    "start_time": "2024-07-04T20:36:29.943Z"
   },
   {
    "duration": 13,
    "start_time": "2024-07-04T20:36:29.995Z"
   },
   {
    "duration": 61,
    "start_time": "2024-07-04T20:36:30.009Z"
   },
   {
    "duration": 84,
    "start_time": "2024-07-04T20:36:30.071Z"
   },
   {
    "duration": 154,
    "start_time": "2024-07-04T20:36:30.157Z"
   },
   {
    "duration": 16,
    "start_time": "2024-07-04T20:36:30.314Z"
   },
   {
    "duration": 86,
    "start_time": "2024-07-04T20:36:30.332Z"
   },
   {
    "duration": 14,
    "start_time": "2024-07-04T20:36:30.420Z"
   },
   {
    "duration": 36,
    "start_time": "2024-07-04T20:36:30.435Z"
   },
   {
    "duration": 26,
    "start_time": "2024-07-04T20:36:30.472Z"
   },
   {
    "duration": 58,
    "start_time": "2024-07-04T20:36:30.500Z"
   },
   {
    "duration": 32,
    "start_time": "2024-07-04T20:36:30.559Z"
   },
   {
    "duration": 44,
    "start_time": "2024-07-04T20:36:30.593Z"
   },
   {
    "duration": 77,
    "start_time": "2024-07-04T20:36:30.638Z"
   },
   {
    "duration": 249,
    "start_time": "2024-07-04T20:36:30.717Z"
   },
   {
    "duration": 36,
    "start_time": "2024-07-04T20:36:30.967Z"
   },
   {
    "duration": 477,
    "start_time": "2024-07-04T20:36:31.004Z"
   },
   {
    "duration": 77,
    "start_time": "2024-07-04T20:36:31.482Z"
   },
   {
    "duration": 66,
    "start_time": "2024-07-04T20:36:31.560Z"
   },
   {
    "duration": 141,
    "start_time": "2024-07-04T20:36:31.628Z"
   },
   {
    "duration": 0,
    "start_time": "2024-07-04T20:36:31.771Z"
   },
   {
    "duration": 0,
    "start_time": "2024-07-04T20:36:31.773Z"
   },
   {
    "duration": 0,
    "start_time": "2024-07-04T20:36:31.774Z"
   },
   {
    "duration": 0,
    "start_time": "2024-07-04T20:36:31.775Z"
   },
   {
    "duration": 1,
    "start_time": "2024-07-04T20:36:31.776Z"
   },
   {
    "duration": 0,
    "start_time": "2024-07-04T20:36:31.778Z"
   },
   {
    "duration": 0,
    "start_time": "2024-07-04T20:36:31.779Z"
   },
   {
    "duration": 0,
    "start_time": "2024-07-04T20:36:31.789Z"
   },
   {
    "duration": 0,
    "start_time": "2024-07-04T20:36:31.791Z"
   },
   {
    "duration": 0,
    "start_time": "2024-07-04T20:36:31.792Z"
   },
   {
    "duration": 0,
    "start_time": "2024-07-04T20:36:31.793Z"
   },
   {
    "duration": 0,
    "start_time": "2024-07-04T20:36:31.795Z"
   },
   {
    "duration": 0,
    "start_time": "2024-07-04T20:36:31.796Z"
   },
   {
    "duration": 0,
    "start_time": "2024-07-04T20:36:31.797Z"
   },
   {
    "duration": 0,
    "start_time": "2024-07-04T20:36:31.799Z"
   },
   {
    "duration": 0,
    "start_time": "2024-07-04T20:36:31.800Z"
   },
   {
    "duration": 0,
    "start_time": "2024-07-04T20:36:31.801Z"
   },
   {
    "duration": 0,
    "start_time": "2024-07-04T20:36:31.802Z"
   },
   {
    "duration": 0,
    "start_time": "2024-07-04T20:36:31.803Z"
   },
   {
    "duration": 0,
    "start_time": "2024-07-04T20:36:31.805Z"
   },
   {
    "duration": 0,
    "start_time": "2024-07-04T20:36:31.806Z"
   },
   {
    "duration": 1,
    "start_time": "2024-07-04T20:36:31.807Z"
   },
   {
    "duration": 0,
    "start_time": "2024-07-04T20:36:31.809Z"
   },
   {
    "duration": 38,
    "start_time": "2024-07-04T20:37:11.969Z"
   },
   {
    "duration": 10,
    "start_time": "2024-07-04T20:37:17.273Z"
   },
   {
    "duration": 19,
    "start_time": "2024-07-04T20:37:29.883Z"
   },
   {
    "duration": 17,
    "start_time": "2024-07-04T20:37:34.091Z"
   },
   {
    "duration": 19,
    "start_time": "2024-07-04T20:37:37.027Z"
   },
   {
    "duration": 2,
    "start_time": "2024-07-04T20:37:38.488Z"
   },
   {
    "duration": 4,
    "start_time": "2024-07-04T20:37:41.607Z"
   },
   {
    "duration": 6,
    "start_time": "2024-07-04T20:37:49.417Z"
   },
   {
    "duration": 4705,
    "start_time": "2024-07-04T20:37:52.533Z"
   },
   {
    "duration": 4752,
    "start_time": "2024-07-04T20:38:08.898Z"
   },
   {
    "duration": 5,
    "start_time": "2024-07-04T20:41:01.389Z"
   },
   {
    "duration": 4935,
    "start_time": "2024-07-04T20:42:12.482Z"
   },
   {
    "duration": 4,
    "start_time": "2024-07-04T21:12:03.005Z"
   },
   {
    "duration": 3,
    "start_time": "2024-07-04T21:17:32.283Z"
   },
   {
    "duration": 2,
    "start_time": "2024-07-04T21:17:44.792Z"
   },
   {
    "duration": 470,
    "start_time": "2024-07-04T21:18:24.848Z"
   },
   {
    "duration": 35,
    "start_time": "2024-07-04T21:18:55.571Z"
   },
   {
    "duration": 5831,
    "start_time": "2024-07-04T21:20:27.960Z"
   },
   {
    "duration": 1176,
    "start_time": "2024-07-04T21:20:40.042Z"
   },
   {
    "duration": 2,
    "start_time": "2024-07-04T21:20:41.845Z"
   },
   {
    "duration": 340,
    "start_time": "2024-07-04T21:20:43.824Z"
   },
   {
    "duration": 42,
    "start_time": "2024-07-04T21:20:45.200Z"
   },
   {
    "duration": 22,
    "start_time": "2024-07-04T21:20:55.288Z"
   },
   {
    "duration": 21,
    "start_time": "2024-07-04T21:21:35.413Z"
   },
   {
    "duration": 74,
    "start_time": "2024-07-04T21:37:30.022Z"
   },
   {
    "duration": 16,
    "start_time": "2024-07-04T21:37:38.282Z"
   },
   {
    "duration": 69,
    "start_time": "2024-07-04T21:38:55.122Z"
   },
   {
    "duration": 81,
    "start_time": "2024-07-04T21:38:59.103Z"
   },
   {
    "duration": 87,
    "start_time": "2024-07-04T21:40:05.330Z"
   },
   {
    "duration": 75,
    "start_time": "2024-07-04T21:40:15.370Z"
   },
   {
    "duration": 79,
    "start_time": "2024-07-04T21:40:36.624Z"
   },
   {
    "duration": 74,
    "start_time": "2024-07-04T21:40:42.331Z"
   },
   {
    "duration": 72,
    "start_time": "2024-07-04T21:41:36.168Z"
   },
   {
    "duration": 78,
    "start_time": "2024-07-04T21:42:10.739Z"
   },
   {
    "duration": 75,
    "start_time": "2024-07-04T21:43:24.735Z"
   },
   {
    "duration": 71,
    "start_time": "2024-07-04T21:43:58.513Z"
   },
   {
    "duration": 23,
    "start_time": "2024-07-04T21:45:38.430Z"
   },
   {
    "duration": 18,
    "start_time": "2024-07-04T21:45:52.992Z"
   },
   {
    "duration": 191,
    "start_time": "2024-07-04T21:52:49.235Z"
   },
   {
    "duration": 175,
    "start_time": "2024-07-04T21:56:20.259Z"
   },
   {
    "duration": 111,
    "start_time": "2024-07-04T22:05:23.788Z"
   },
   {
    "duration": 4,
    "start_time": "2024-07-04T22:05:56.211Z"
   },
   {
    "duration": 3,
    "start_time": "2024-07-04T22:05:58.641Z"
   },
   {
    "duration": 19,
    "start_time": "2024-07-04T22:08:56.413Z"
   },
   {
    "duration": 6,
    "start_time": "2024-07-04T22:11:22.208Z"
   },
   {
    "duration": 2,
    "start_time": "2024-07-04T22:11:38.291Z"
   },
   {
    "duration": 7,
    "start_time": "2024-07-04T22:11:50.683Z"
   },
   {
    "duration": 5589,
    "start_time": "2024-07-04T22:11:57.971Z"
   },
   {
    "duration": 1213,
    "start_time": "2024-07-04T22:12:03.562Z"
   },
   {
    "duration": 2,
    "start_time": "2024-07-04T22:12:04.776Z"
   },
   {
    "duration": 422,
    "start_time": "2024-07-04T22:12:04.780Z"
   },
   {
    "duration": 40,
    "start_time": "2024-07-04T22:12:05.203Z"
   },
   {
    "duration": 21,
    "start_time": "2024-07-04T22:12:05.244Z"
   },
   {
    "duration": 90,
    "start_time": "2024-07-04T22:12:05.266Z"
   },
   {
    "duration": 203,
    "start_time": "2024-07-04T22:12:05.357Z"
   },
   {
    "duration": 6,
    "start_time": "2024-07-04T22:12:05.561Z"
   },
   {
    "duration": 120,
    "start_time": "2024-07-04T22:12:05.569Z"
   },
   {
    "duration": 0,
    "start_time": "2024-07-04T22:12:05.691Z"
   },
   {
    "duration": 0,
    "start_time": "2024-07-04T22:12:05.693Z"
   },
   {
    "duration": 0,
    "start_time": "2024-07-04T22:12:05.694Z"
   },
   {
    "duration": 0,
    "start_time": "2024-07-04T22:12:05.695Z"
   },
   {
    "duration": 0,
    "start_time": "2024-07-04T22:12:05.696Z"
   },
   {
    "duration": 0,
    "start_time": "2024-07-04T22:12:05.696Z"
   },
   {
    "duration": 0,
    "start_time": "2024-07-04T22:12:05.698Z"
   },
   {
    "duration": 0,
    "start_time": "2024-07-04T22:12:05.699Z"
   },
   {
    "duration": 0,
    "start_time": "2024-07-04T22:12:05.700Z"
   },
   {
    "duration": 0,
    "start_time": "2024-07-04T22:12:05.701Z"
   },
   {
    "duration": 0,
    "start_time": "2024-07-04T22:12:05.702Z"
   },
   {
    "duration": 0,
    "start_time": "2024-07-04T22:12:05.702Z"
   },
   {
    "duration": 0,
    "start_time": "2024-07-04T22:12:05.703Z"
   },
   {
    "duration": 0,
    "start_time": "2024-07-04T22:12:05.704Z"
   },
   {
    "duration": 0,
    "start_time": "2024-07-04T22:12:05.705Z"
   },
   {
    "duration": 0,
    "start_time": "2024-07-04T22:12:05.706Z"
   },
   {
    "duration": 0,
    "start_time": "2024-07-04T22:12:05.707Z"
   },
   {
    "duration": 0,
    "start_time": "2024-07-04T22:12:05.707Z"
   },
   {
    "duration": 1,
    "start_time": "2024-07-04T22:12:05.708Z"
   },
   {
    "duration": 0,
    "start_time": "2024-07-04T22:12:05.709Z"
   },
   {
    "duration": 0,
    "start_time": "2024-07-04T22:12:05.710Z"
   },
   {
    "duration": 0,
    "start_time": "2024-07-04T22:12:05.711Z"
   },
   {
    "duration": 0,
    "start_time": "2024-07-04T22:12:05.713Z"
   },
   {
    "duration": 0,
    "start_time": "2024-07-04T22:12:05.714Z"
   },
   {
    "duration": 0,
    "start_time": "2024-07-04T22:12:05.715Z"
   },
   {
    "duration": 0,
    "start_time": "2024-07-04T22:12:05.716Z"
   },
   {
    "duration": 0,
    "start_time": "2024-07-04T22:12:05.717Z"
   },
   {
    "duration": 0,
    "start_time": "2024-07-04T22:12:05.718Z"
   },
   {
    "duration": 0,
    "start_time": "2024-07-04T22:12:05.719Z"
   },
   {
    "duration": 0,
    "start_time": "2024-07-04T22:12:05.720Z"
   },
   {
    "duration": 0,
    "start_time": "2024-07-04T22:12:05.721Z"
   },
   {
    "duration": 0,
    "start_time": "2024-07-04T22:12:05.722Z"
   },
   {
    "duration": 0,
    "start_time": "2024-07-04T22:12:05.723Z"
   },
   {
    "duration": 0,
    "start_time": "2024-07-04T22:12:05.724Z"
   },
   {
    "duration": 0,
    "start_time": "2024-07-04T22:12:05.725Z"
   },
   {
    "duration": 0,
    "start_time": "2024-07-04T22:12:05.726Z"
   },
   {
    "duration": 0,
    "start_time": "2024-07-04T22:12:05.727Z"
   },
   {
    "duration": 0,
    "start_time": "2024-07-04T22:12:05.789Z"
   },
   {
    "duration": 0,
    "start_time": "2024-07-04T22:12:05.790Z"
   },
   {
    "duration": 0,
    "start_time": "2024-07-04T22:12:05.791Z"
   },
   {
    "duration": 0,
    "start_time": "2024-07-04T22:12:05.793Z"
   },
   {
    "duration": 0,
    "start_time": "2024-07-04T22:12:05.794Z"
   },
   {
    "duration": 0,
    "start_time": "2024-07-04T22:12:05.795Z"
   },
   {
    "duration": 0,
    "start_time": "2024-07-04T22:12:05.795Z"
   },
   {
    "duration": 0,
    "start_time": "2024-07-04T22:12:05.797Z"
   },
   {
    "duration": 0,
    "start_time": "2024-07-04T22:12:05.798Z"
   },
   {
    "duration": 12,
    "start_time": "2024-07-04T22:19:52.824Z"
   },
   {
    "duration": 14,
    "start_time": "2024-07-04T22:20:12.465Z"
   },
   {
    "duration": 11,
    "start_time": "2024-07-04T22:20:51.997Z"
   },
   {
    "duration": 10,
    "start_time": "2024-07-04T22:20:59.522Z"
   },
   {
    "duration": 10,
    "start_time": "2024-07-04T22:21:33.505Z"
   },
   {
    "duration": 16,
    "start_time": "2024-07-04T22:21:49.078Z"
   },
   {
    "duration": 24,
    "start_time": "2024-07-04T22:21:58.951Z"
   },
   {
    "duration": 29,
    "start_time": "2024-07-04T22:22:54.887Z"
   },
   {
    "duration": 16,
    "start_time": "2024-07-04T22:23:07.148Z"
   },
   {
    "duration": 38,
    "start_time": "2024-07-04T22:24:30.909Z"
   },
   {
    "duration": 19,
    "start_time": "2024-07-04T22:25:36.733Z"
   },
   {
    "duration": 1049,
    "start_time": "2024-07-04T22:41:04.954Z"
   },
   {
    "duration": 533,
    "start_time": "2024-07-04T22:41:33.866Z"
   },
   {
    "duration": 1881,
    "start_time": "2024-07-04T22:41:57.586Z"
   },
   {
    "duration": 1485,
    "start_time": "2024-07-04T22:42:12.985Z"
   },
   {
    "duration": 10,
    "start_time": "2024-07-04T22:43:47.727Z"
   },
   {
    "duration": 19,
    "start_time": "2024-07-04T22:44:03.189Z"
   },
   {
    "duration": 11,
    "start_time": "2024-07-04T22:45:05.546Z"
   },
   {
    "duration": 21,
    "start_time": "2024-07-04T22:45:10.192Z"
   },
   {
    "duration": 20,
    "start_time": "2024-07-04T22:45:33.040Z"
   },
   {
    "duration": 5616,
    "start_time": "2024-07-04T22:45:54.049Z"
   },
   {
    "duration": 1278,
    "start_time": "2024-07-04T22:45:59.667Z"
   },
   {
    "duration": 2,
    "start_time": "2024-07-04T22:46:00.947Z"
   },
   {
    "duration": 722,
    "start_time": "2024-07-04T22:46:00.951Z"
   },
   {
    "duration": 40,
    "start_time": "2024-07-04T22:46:01.674Z"
   },
   {
    "duration": 21,
    "start_time": "2024-07-04T22:46:01.715Z"
   },
   {
    "duration": 112,
    "start_time": "2024-07-04T22:46:01.737Z"
   },
   {
    "duration": 196,
    "start_time": "2024-07-04T22:46:01.850Z"
   },
   {
    "duration": 6,
    "start_time": "2024-07-04T22:46:02.047Z"
   },
   {
    "duration": 55,
    "start_time": "2024-07-04T22:46:02.055Z"
   },
   {
    "duration": 18,
    "start_time": "2024-07-04T22:46:02.112Z"
   },
   {
    "duration": 124,
    "start_time": "2024-07-04T22:46:02.132Z"
   },
   {
    "duration": 0,
    "start_time": "2024-07-04T22:46:02.258Z"
   },
   {
    "duration": 0,
    "start_time": "2024-07-04T22:46:02.259Z"
   },
   {
    "duration": 0,
    "start_time": "2024-07-04T22:46:02.260Z"
   },
   {
    "duration": 0,
    "start_time": "2024-07-04T22:46:02.261Z"
   },
   {
    "duration": 0,
    "start_time": "2024-07-04T22:46:02.261Z"
   },
   {
    "duration": 0,
    "start_time": "2024-07-04T22:46:02.262Z"
   },
   {
    "duration": 0,
    "start_time": "2024-07-04T22:46:02.263Z"
   },
   {
    "duration": 0,
    "start_time": "2024-07-04T22:46:02.264Z"
   },
   {
    "duration": 0,
    "start_time": "2024-07-04T22:46:02.265Z"
   },
   {
    "duration": 0,
    "start_time": "2024-07-04T22:46:02.266Z"
   },
   {
    "duration": 0,
    "start_time": "2024-07-04T22:46:02.267Z"
   },
   {
    "duration": 0,
    "start_time": "2024-07-04T22:46:02.268Z"
   },
   {
    "duration": 0,
    "start_time": "2024-07-04T22:46:02.269Z"
   },
   {
    "duration": 0,
    "start_time": "2024-07-04T22:46:02.289Z"
   },
   {
    "duration": 0,
    "start_time": "2024-07-04T22:46:02.290Z"
   },
   {
    "duration": 0,
    "start_time": "2024-07-04T22:46:02.291Z"
   },
   {
    "duration": 0,
    "start_time": "2024-07-04T22:46:02.293Z"
   },
   {
    "duration": 0,
    "start_time": "2024-07-04T22:46:02.294Z"
   },
   {
    "duration": 0,
    "start_time": "2024-07-04T22:46:02.295Z"
   },
   {
    "duration": 0,
    "start_time": "2024-07-04T22:46:02.296Z"
   },
   {
    "duration": 0,
    "start_time": "2024-07-04T22:46:02.297Z"
   },
   {
    "duration": 0,
    "start_time": "2024-07-04T22:46:02.298Z"
   },
   {
    "duration": 0,
    "start_time": "2024-07-04T22:46:02.299Z"
   },
   {
    "duration": 0,
    "start_time": "2024-07-04T22:46:02.300Z"
   },
   {
    "duration": 0,
    "start_time": "2024-07-04T22:46:02.301Z"
   },
   {
    "duration": 0,
    "start_time": "2024-07-04T22:46:02.302Z"
   },
   {
    "duration": 0,
    "start_time": "2024-07-04T22:46:02.302Z"
   },
   {
    "duration": 0,
    "start_time": "2024-07-04T22:46:02.303Z"
   },
   {
    "duration": 0,
    "start_time": "2024-07-04T22:46:02.304Z"
   },
   {
    "duration": 0,
    "start_time": "2024-07-04T22:46:02.305Z"
   },
   {
    "duration": 0,
    "start_time": "2024-07-04T22:46:02.305Z"
   },
   {
    "duration": 0,
    "start_time": "2024-07-04T22:46:02.306Z"
   },
   {
    "duration": 0,
    "start_time": "2024-07-04T22:46:02.307Z"
   },
   {
    "duration": 0,
    "start_time": "2024-07-04T22:46:02.308Z"
   },
   {
    "duration": 0,
    "start_time": "2024-07-04T22:46:02.309Z"
   },
   {
    "duration": 0,
    "start_time": "2024-07-04T22:46:02.310Z"
   },
   {
    "duration": 0,
    "start_time": "2024-07-04T22:46:02.311Z"
   },
   {
    "duration": 0,
    "start_time": "2024-07-04T22:46:02.312Z"
   },
   {
    "duration": 0,
    "start_time": "2024-07-04T22:46:02.313Z"
   },
   {
    "duration": 0,
    "start_time": "2024-07-04T22:46:02.314Z"
   },
   {
    "duration": 0,
    "start_time": "2024-07-04T22:46:02.315Z"
   },
   {
    "duration": 0,
    "start_time": "2024-07-04T22:46:02.316Z"
   },
   {
    "duration": 0,
    "start_time": "2024-07-04T22:46:02.317Z"
   },
   {
    "duration": 0,
    "start_time": "2024-07-04T22:46:02.318Z"
   },
   {
    "duration": 0,
    "start_time": "2024-07-04T22:46:02.318Z"
   },
   {
    "duration": 0,
    "start_time": "2024-07-04T22:46:02.319Z"
   },
   {
    "duration": 13,
    "start_time": "2024-07-04T22:47:16.965Z"
   },
   {
    "duration": 18,
    "start_time": "2024-07-04T22:47:19.864Z"
   },
   {
    "duration": 8,
    "start_time": "2024-07-04T22:51:58.481Z"
   },
   {
    "duration": 33,
    "start_time": "2024-07-04T22:55:26.157Z"
   },
   {
    "duration": 148,
    "start_time": "2024-07-04T22:55:31.242Z"
   },
   {
    "duration": 40,
    "start_time": "2024-07-04T22:56:13.998Z"
   },
   {
    "duration": 147,
    "start_time": "2024-07-04T22:56:16.683Z"
   },
   {
    "duration": 36,
    "start_time": "2024-07-04T22:59:26.795Z"
   },
   {
    "duration": 107,
    "start_time": "2024-07-04T23:01:24.658Z"
   },
   {
    "duration": 12,
    "start_time": "2024-07-04T23:01:40.738Z"
   },
   {
    "duration": 67,
    "start_time": "2024-07-04T23:03:36.314Z"
   },
   {
    "duration": 167,
    "start_time": "2024-07-04T23:05:04.921Z"
   },
   {
    "duration": 31,
    "start_time": "2024-07-04T23:06:34.366Z"
   },
   {
    "duration": 125,
    "start_time": "2024-07-04T23:06:38.025Z"
   },
   {
    "duration": 58,
    "start_time": "2024-07-04T23:09:05.189Z"
   },
   {
    "duration": 715,
    "start_time": "2024-07-04T23:09:35.380Z"
   },
   {
    "duration": 10,
    "start_time": "2024-07-04T23:09:58.065Z"
   },
   {
    "duration": 33,
    "start_time": "2024-07-04T23:10:13.458Z"
   },
   {
    "duration": 96,
    "start_time": "2024-07-04T23:11:22.309Z"
   },
   {
    "duration": 35,
    "start_time": "2024-07-04T23:11:44.278Z"
   },
   {
    "duration": 11,
    "start_time": "2024-07-04T23:13:05.582Z"
   },
   {
    "duration": 19,
    "start_time": "2024-07-04T23:13:27.154Z"
   },
   {
    "duration": 12,
    "start_time": "2024-07-04T23:13:35.293Z"
   },
   {
    "duration": 44,
    "start_time": "2024-07-04T23:15:30.879Z"
   },
   {
    "duration": 21,
    "start_time": "2024-07-04T23:19:46.551Z"
   },
   {
    "duration": 489,
    "start_time": "2024-07-04T23:21:04.336Z"
   },
   {
    "duration": 10,
    "start_time": "2024-07-04T23:21:39.485Z"
   },
   {
    "duration": 7,
    "start_time": "2024-07-04T23:21:48.287Z"
   },
   {
    "duration": 22,
    "start_time": "2024-07-04T23:22:49.328Z"
   },
   {
    "duration": 7,
    "start_time": "2024-07-04T23:22:51.909Z"
   },
   {
    "duration": 256,
    "start_time": "2024-07-04T23:22:57.097Z"
   },
   {
    "duration": 9,
    "start_time": "2024-07-04T23:22:57.455Z"
   },
   {
    "duration": 6,
    "start_time": "2024-07-04T23:22:57.906Z"
   },
   {
    "duration": 13,
    "start_time": "2024-07-04T23:26:40.652Z"
   },
   {
    "duration": 12,
    "start_time": "2024-07-04T23:27:40.051Z"
   },
   {
    "duration": 5,
    "start_time": "2024-07-04T23:39:51.532Z"
   },
   {
    "duration": 5,
    "start_time": "2024-07-04T23:40:19.534Z"
   },
   {
    "duration": 210,
    "start_time": "2024-07-04T23:42:11.016Z"
   },
   {
    "duration": 173,
    "start_time": "2024-07-04T23:43:12.531Z"
   },
   {
    "duration": 80,
    "start_time": "2024-07-04T23:43:30.784Z"
   },
   {
    "duration": 14,
    "start_time": "2024-07-04T23:43:39.327Z"
   },
   {
    "duration": 14,
    "start_time": "2024-07-04T23:44:42.979Z"
   },
   {
    "duration": 5580,
    "start_time": "2024-07-04T23:45:05.898Z"
   },
   {
    "duration": 1225,
    "start_time": "2024-07-04T23:45:11.481Z"
   },
   {
    "duration": 3,
    "start_time": "2024-07-04T23:45:12.707Z"
   },
   {
    "duration": 418,
    "start_time": "2024-07-04T23:45:12.712Z"
   },
   {
    "duration": 41,
    "start_time": "2024-07-04T23:45:13.132Z"
   },
   {
    "duration": 23,
    "start_time": "2024-07-04T23:45:13.175Z"
   },
   {
    "duration": 71,
    "start_time": "2024-07-04T23:45:13.199Z"
   },
   {
    "duration": 225,
    "start_time": "2024-07-04T23:45:13.272Z"
   },
   {
    "duration": 6,
    "start_time": "2024-07-04T23:45:13.498Z"
   },
   {
    "duration": 57,
    "start_time": "2024-07-04T23:45:13.506Z"
   },
   {
    "duration": 49,
    "start_time": "2024-07-04T23:45:13.565Z"
   },
   {
    "duration": 109,
    "start_time": "2024-07-04T23:45:13.616Z"
   },
   {
    "duration": 173,
    "start_time": "2024-07-04T23:45:13.727Z"
   },
   {
    "duration": 33,
    "start_time": "2024-07-04T23:45:13.902Z"
   },
   {
    "duration": 11,
    "start_time": "2024-07-04T23:45:13.936Z"
   },
   {
    "duration": 50,
    "start_time": "2024-07-04T23:45:13.948Z"
   },
   {
    "duration": 41,
    "start_time": "2024-07-04T23:45:13.999Z"
   },
   {
    "duration": 20,
    "start_time": "2024-07-04T23:45:14.042Z"
   },
   {
    "duration": 464,
    "start_time": "2024-07-04T23:45:14.063Z"
   },
   {
    "duration": 9,
    "start_time": "2024-07-04T23:45:14.529Z"
   },
   {
    "duration": 7,
    "start_time": "2024-07-04T23:45:14.539Z"
   },
   {
    "duration": 11,
    "start_time": "2024-07-04T23:45:14.547Z"
   },
   {
    "duration": 34,
    "start_time": "2024-07-04T23:45:14.560Z"
   },
   {
    "duration": 5,
    "start_time": "2024-07-04T23:45:14.595Z"
   },
   {
    "duration": 78,
    "start_time": "2024-07-04T23:45:14.601Z"
   },
   {
    "duration": 21,
    "start_time": "2024-07-04T23:45:14.680Z"
   },
   {
    "duration": 118,
    "start_time": "2024-07-04T23:45:14.702Z"
   },
   {
    "duration": 0,
    "start_time": "2024-07-04T23:45:14.823Z"
   },
   {
    "duration": 0,
    "start_time": "2024-07-04T23:45:14.824Z"
   },
   {
    "duration": 0,
    "start_time": "2024-07-04T23:45:14.825Z"
   },
   {
    "duration": 0,
    "start_time": "2024-07-04T23:45:14.826Z"
   },
   {
    "duration": 0,
    "start_time": "2024-07-04T23:45:14.827Z"
   },
   {
    "duration": 0,
    "start_time": "2024-07-04T23:45:14.828Z"
   },
   {
    "duration": 0,
    "start_time": "2024-07-04T23:45:14.829Z"
   },
   {
    "duration": 0,
    "start_time": "2024-07-04T23:45:14.830Z"
   },
   {
    "duration": 0,
    "start_time": "2024-07-04T23:45:14.831Z"
   },
   {
    "duration": 0,
    "start_time": "2024-07-04T23:45:14.832Z"
   },
   {
    "duration": 0,
    "start_time": "2024-07-04T23:45:14.833Z"
   },
   {
    "duration": 0,
    "start_time": "2024-07-04T23:45:14.835Z"
   },
   {
    "duration": 0,
    "start_time": "2024-07-04T23:45:14.836Z"
   },
   {
    "duration": 0,
    "start_time": "2024-07-04T23:45:14.837Z"
   },
   {
    "duration": 0,
    "start_time": "2024-07-04T23:45:14.838Z"
   },
   {
    "duration": 0,
    "start_time": "2024-07-04T23:45:14.839Z"
   },
   {
    "duration": 0,
    "start_time": "2024-07-04T23:45:14.840Z"
   },
   {
    "duration": 0,
    "start_time": "2024-07-04T23:45:14.841Z"
   },
   {
    "duration": 0,
    "start_time": "2024-07-04T23:45:14.842Z"
   },
   {
    "duration": 0,
    "start_time": "2024-07-04T23:45:14.844Z"
   },
   {
    "duration": 0,
    "start_time": "2024-07-04T23:45:14.845Z"
   },
   {
    "duration": 0,
    "start_time": "2024-07-04T23:45:14.847Z"
   },
   {
    "duration": 0,
    "start_time": "2024-07-04T23:45:14.890Z"
   },
   {
    "duration": 0,
    "start_time": "2024-07-04T23:45:14.891Z"
   },
   {
    "duration": 0,
    "start_time": "2024-07-04T23:45:14.892Z"
   },
   {
    "duration": 0,
    "start_time": "2024-07-04T23:45:14.893Z"
   },
   {
    "duration": 0,
    "start_time": "2024-07-04T23:45:14.894Z"
   },
   {
    "duration": 0,
    "start_time": "2024-07-04T23:45:14.895Z"
   },
   {
    "duration": 0,
    "start_time": "2024-07-04T23:45:14.896Z"
   },
   {
    "duration": 0,
    "start_time": "2024-07-04T23:45:14.897Z"
   },
   {
    "duration": 0,
    "start_time": "2024-07-04T23:45:14.898Z"
   },
   {
    "duration": 0,
    "start_time": "2024-07-04T23:45:14.899Z"
   },
   {
    "duration": 0,
    "start_time": "2024-07-04T23:45:14.900Z"
   },
   {
    "duration": 0,
    "start_time": "2024-07-04T23:45:14.900Z"
   },
   {
    "duration": 0,
    "start_time": "2024-07-04T23:45:14.901Z"
   },
   {
    "duration": 0,
    "start_time": "2024-07-04T23:45:14.902Z"
   },
   {
    "duration": 0,
    "start_time": "2024-07-04T23:45:14.903Z"
   },
   {
    "duration": 0,
    "start_time": "2024-07-04T23:45:14.905Z"
   },
   {
    "duration": 0,
    "start_time": "2024-07-04T23:45:14.905Z"
   },
   {
    "duration": 0,
    "start_time": "2024-07-04T23:45:14.907Z"
   },
   {
    "duration": 42,
    "start_time": "2024-07-04T23:49:38.056Z"
   },
   {
    "duration": 15,
    "start_time": "2024-07-04T23:50:00.676Z"
   },
   {
    "duration": 113,
    "start_time": "2024-07-04T23:50:13.908Z"
   },
   {
    "duration": 12,
    "start_time": "2024-07-04T23:50:22.326Z"
   },
   {
    "duration": 6,
    "start_time": "2024-07-04T23:50:29.905Z"
   },
   {
    "duration": 4,
    "start_time": "2024-07-04T23:50:40.822Z"
   },
   {
    "duration": 22,
    "start_time": "2024-07-04T23:58:55.182Z"
   },
   {
    "duration": 4,
    "start_time": "2024-07-04T23:59:00.049Z"
   },
   {
    "duration": 28,
    "start_time": "2024-07-04T23:59:05.613Z"
   },
   {
    "duration": 15,
    "start_time": "2024-07-04T23:59:10.185Z"
   },
   {
    "duration": 70,
    "start_time": "2024-07-04T23:59:10.564Z"
   },
   {
    "duration": 5,
    "start_time": "2024-07-04T23:59:10.887Z"
   },
   {
    "duration": 4,
    "start_time": "2024-07-04T23:59:11.207Z"
   },
   {
    "duration": 14,
    "start_time": "2024-07-05T00:16:01.512Z"
   },
   {
    "duration": 15,
    "start_time": "2024-07-05T00:16:32.683Z"
   },
   {
    "duration": 12,
    "start_time": "2024-07-05T00:18:07.633Z"
   },
   {
    "duration": 11,
    "start_time": "2024-07-05T00:18:32.115Z"
   },
   {
    "duration": 10,
    "start_time": "2024-07-05T00:20:05.157Z"
   },
   {
    "duration": 16,
    "start_time": "2024-07-05T00:21:52.594Z"
   },
   {
    "duration": 79,
    "start_time": "2024-07-05T00:22:25.491Z"
   },
   {
    "duration": 14,
    "start_time": "2024-07-05T00:22:36.862Z"
   },
   {
    "duration": 15,
    "start_time": "2024-07-05T00:22:44.788Z"
   },
   {
    "duration": 12711,
    "start_time": "2024-07-05T20:17:03.631Z"
   },
   {
    "duration": 1624,
    "start_time": "2024-07-05T20:17:16.347Z"
   },
   {
    "duration": 3,
    "start_time": "2024-07-05T20:17:17.972Z"
   },
   {
    "duration": 492,
    "start_time": "2024-07-05T20:17:17.978Z"
   },
   {
    "duration": 66,
    "start_time": "2024-07-05T20:17:18.472Z"
   },
   {
    "duration": 31,
    "start_time": "2024-07-05T20:17:18.539Z"
   },
   {
    "duration": 110,
    "start_time": "2024-07-05T20:17:18.592Z"
   },
   {
    "duration": 245,
    "start_time": "2024-07-05T20:17:18.704Z"
   },
   {
    "duration": 9,
    "start_time": "2024-07-05T20:17:18.950Z"
   },
   {
    "duration": 107,
    "start_time": "2024-07-05T20:17:18.962Z"
   },
   {
    "duration": 56,
    "start_time": "2024-07-05T20:17:19.070Z"
   },
   {
    "duration": 171,
    "start_time": "2024-07-05T20:17:19.128Z"
   },
   {
    "duration": 207,
    "start_time": "2024-07-05T20:17:19.300Z"
   },
   {
    "duration": 42,
    "start_time": "2024-07-05T20:17:19.509Z"
   },
   {
    "duration": 37,
    "start_time": "2024-07-05T20:17:19.553Z"
   },
   {
    "duration": 23,
    "start_time": "2024-07-05T20:17:19.592Z"
   },
   {
    "duration": 59,
    "start_time": "2024-07-05T20:17:19.617Z"
   },
   {
    "duration": 37,
    "start_time": "2024-07-05T20:17:19.679Z"
   },
   {
    "duration": 602,
    "start_time": "2024-07-05T20:17:19.718Z"
   },
   {
    "duration": 11,
    "start_time": "2024-07-05T20:17:20.322Z"
   },
   {
    "duration": 20,
    "start_time": "2024-07-05T20:17:20.334Z"
   },
   {
    "duration": 38,
    "start_time": "2024-07-05T20:17:20.356Z"
   },
   {
    "duration": 23,
    "start_time": "2024-07-05T20:17:20.395Z"
   },
   {
    "duration": 93,
    "start_time": "2024-07-05T20:17:20.420Z"
   },
   {
    "duration": 18,
    "start_time": "2024-07-05T20:17:20.515Z"
   },
   {
    "duration": 172,
    "start_time": "2024-07-05T20:17:20.535Z"
   },
   {
    "duration": 7,
    "start_time": "2024-07-05T20:17:20.709Z"
   },
   {
    "duration": 26,
    "start_time": "2024-07-05T20:17:20.719Z"
   },
   {
    "duration": 65,
    "start_time": "2024-07-05T20:17:20.746Z"
   },
   {
    "duration": 173,
    "start_time": "2024-07-05T20:17:20.812Z"
   },
   {
    "duration": 0,
    "start_time": "2024-07-05T20:17:20.986Z"
   },
   {
    "duration": 0,
    "start_time": "2024-07-05T20:17:20.988Z"
   },
   {
    "duration": 0,
    "start_time": "2024-07-05T20:17:20.989Z"
   },
   {
    "duration": 0,
    "start_time": "2024-07-05T20:17:20.990Z"
   },
   {
    "duration": 0,
    "start_time": "2024-07-05T20:17:20.992Z"
   },
   {
    "duration": 0,
    "start_time": "2024-07-05T20:17:20.993Z"
   },
   {
    "duration": 0,
    "start_time": "2024-07-05T20:17:20.994Z"
   },
   {
    "duration": 0,
    "start_time": "2024-07-05T20:17:20.995Z"
   },
   {
    "duration": 0,
    "start_time": "2024-07-05T20:17:20.996Z"
   },
   {
    "duration": 0,
    "start_time": "2024-07-05T20:17:20.997Z"
   },
   {
    "duration": 0,
    "start_time": "2024-07-05T20:17:20.999Z"
   },
   {
    "duration": 0,
    "start_time": "2024-07-05T20:17:21.000Z"
   },
   {
    "duration": 0,
    "start_time": "2024-07-05T20:17:21.001Z"
   },
   {
    "duration": 0,
    "start_time": "2024-07-05T20:17:21.002Z"
   },
   {
    "duration": 0,
    "start_time": "2024-07-05T20:17:21.003Z"
   },
   {
    "duration": 0,
    "start_time": "2024-07-05T20:17:21.004Z"
   },
   {
    "duration": 0,
    "start_time": "2024-07-05T20:17:21.005Z"
   },
   {
    "duration": 0,
    "start_time": "2024-07-05T20:17:21.006Z"
   },
   {
    "duration": 0,
    "start_time": "2024-07-05T20:17:21.008Z"
   },
   {
    "duration": 0,
    "start_time": "2024-07-05T20:17:21.009Z"
   },
   {
    "duration": 0,
    "start_time": "2024-07-05T20:17:21.010Z"
   },
   {
    "duration": 0,
    "start_time": "2024-07-05T20:17:21.011Z"
   },
   {
    "duration": 0,
    "start_time": "2024-07-05T20:17:21.012Z"
   },
   {
    "duration": 0,
    "start_time": "2024-07-05T20:17:21.013Z"
   },
   {
    "duration": 0,
    "start_time": "2024-07-05T20:17:21.015Z"
   },
   {
    "duration": 5,
    "start_time": "2024-07-05T20:25:13.030Z"
   },
   {
    "duration": 5,
    "start_time": "2024-07-05T20:25:33.708Z"
   },
   {
    "duration": 19,
    "start_time": "2024-07-05T20:25:52.244Z"
   },
   {
    "duration": 17,
    "start_time": "2024-07-05T20:27:09.363Z"
   },
   {
    "duration": 16,
    "start_time": "2024-07-05T20:27:55.028Z"
   },
   {
    "duration": 995,
    "start_time": "2024-07-05T20:29:12.251Z"
   },
   {
    "duration": 16,
    "start_time": "2024-07-05T20:29:33.174Z"
   },
   {
    "duration": 248,
    "start_time": "2024-07-05T20:29:36.444Z"
   },
   {
    "duration": 92,
    "start_time": "2024-07-05T20:31:52.635Z"
   },
   {
    "duration": 253,
    "start_time": "2024-07-05T20:34:17.118Z"
   },
   {
    "duration": 15,
    "start_time": "2024-07-05T20:35:35.798Z"
   },
   {
    "duration": 29,
    "start_time": "2024-07-05T20:35:44.612Z"
   },
   {
    "duration": 227,
    "start_time": "2024-07-05T20:35:56.944Z"
   },
   {
    "duration": 5760,
    "start_time": "2024-07-05T20:41:56.734Z"
   },
   {
    "duration": 1465,
    "start_time": "2024-07-05T20:42:02.497Z"
   },
   {
    "duration": 3,
    "start_time": "2024-07-05T20:42:03.964Z"
   },
   {
    "duration": 572,
    "start_time": "2024-07-05T20:42:03.970Z"
   },
   {
    "duration": 55,
    "start_time": "2024-07-05T20:42:04.544Z"
   },
   {
    "duration": 28,
    "start_time": "2024-07-05T20:42:04.601Z"
   },
   {
    "duration": 117,
    "start_time": "2024-07-05T20:42:04.631Z"
   },
   {
    "duration": 237,
    "start_time": "2024-07-05T20:42:04.750Z"
   },
   {
    "duration": 9,
    "start_time": "2024-07-05T20:42:04.992Z"
   },
   {
    "duration": 92,
    "start_time": "2024-07-05T20:42:05.004Z"
   },
   {
    "duration": 48,
    "start_time": "2024-07-05T20:42:05.098Z"
   },
   {
    "duration": 183,
    "start_time": "2024-07-05T20:42:05.148Z"
   },
   {
    "duration": 203,
    "start_time": "2024-07-05T20:42:05.333Z"
   },
   {
    "duration": 73,
    "start_time": "2024-07-05T20:42:05.538Z"
   },
   {
    "duration": 25,
    "start_time": "2024-07-05T20:42:05.613Z"
   },
   {
    "duration": 66,
    "start_time": "2024-07-05T20:42:05.640Z"
   },
   {
    "duration": 59,
    "start_time": "2024-07-05T20:42:05.708Z"
   },
   {
    "duration": 40,
    "start_time": "2024-07-05T20:42:05.770Z"
   },
   {
    "duration": 673,
    "start_time": "2024-07-05T20:42:05.811Z"
   },
   {
    "duration": 17,
    "start_time": "2024-07-05T20:42:06.485Z"
   },
   {
    "duration": 22,
    "start_time": "2024-07-05T20:42:06.504Z"
   },
   {
    "duration": 25,
    "start_time": "2024-07-05T20:42:06.528Z"
   },
   {
    "duration": 15,
    "start_time": "2024-07-05T20:42:06.555Z"
   },
   {
    "duration": 93,
    "start_time": "2024-07-05T20:42:06.572Z"
   },
   {
    "duration": 18,
    "start_time": "2024-07-05T20:42:06.666Z"
   },
   {
    "duration": 149,
    "start_time": "2024-07-05T20:42:06.692Z"
   },
   {
    "duration": 7,
    "start_time": "2024-07-05T20:42:06.843Z"
   },
   {
    "duration": 24,
    "start_time": "2024-07-05T20:42:06.855Z"
   },
   {
    "duration": 27,
    "start_time": "2024-07-05T20:42:06.881Z"
   },
   {
    "duration": 16,
    "start_time": "2024-07-05T20:42:06.909Z"
   },
   {
    "duration": 1106,
    "start_time": "2024-07-05T20:42:06.927Z"
   },
   {
    "duration": 17,
    "start_time": "2024-07-05T20:42:08.035Z"
   },
   {
    "duration": 211,
    "start_time": "2024-07-05T20:42:08.054Z"
   },
   {
    "duration": 233,
    "start_time": "2024-07-05T20:42:08.267Z"
   },
   {
    "duration": 246,
    "start_time": "2024-07-05T20:42:08.502Z"
   },
   {
    "duration": 11,
    "start_time": "2024-07-05T20:42:08.750Z"
   },
   {
    "duration": 196,
    "start_time": "2024-07-05T20:42:08.762Z"
   },
   {
    "duration": 46,
    "start_time": "2024-07-05T20:42:08.961Z"
   },
   {
    "duration": 5389,
    "start_time": "2024-07-05T20:49:39.399Z"
   },
   {
    "duration": 1883,
    "start_time": "2024-07-05T20:49:44.790Z"
   },
   {
    "duration": 2,
    "start_time": "2024-07-05T20:49:46.675Z"
   },
   {
    "duration": 392,
    "start_time": "2024-07-05T20:49:46.680Z"
   },
   {
    "duration": 60,
    "start_time": "2024-07-05T20:49:47.074Z"
   },
   {
    "duration": 27,
    "start_time": "2024-07-05T20:49:47.136Z"
   },
   {
    "duration": 108,
    "start_time": "2024-07-05T20:49:47.164Z"
   },
   {
    "duration": 235,
    "start_time": "2024-07-05T20:49:47.274Z"
   },
   {
    "duration": 8,
    "start_time": "2024-07-05T20:49:47.510Z"
   },
   {
    "duration": 94,
    "start_time": "2024-07-05T20:49:47.520Z"
   },
   {
    "duration": 50,
    "start_time": "2024-07-05T20:49:47.615Z"
   },
   {
    "duration": 167,
    "start_time": "2024-07-05T20:49:47.667Z"
   },
   {
    "duration": 208,
    "start_time": "2024-07-05T20:49:47.836Z"
   },
   {
    "duration": 56,
    "start_time": "2024-07-05T20:49:48.046Z"
   },
   {
    "duration": 15,
    "start_time": "2024-07-05T20:49:48.104Z"
   },
   {
    "duration": 12,
    "start_time": "2024-07-05T20:49:48.121Z"
   },
   {
    "duration": 77,
    "start_time": "2024-07-05T20:49:48.135Z"
   },
   {
    "duration": 24,
    "start_time": "2024-07-05T20:49:48.215Z"
   },
   {
    "duration": 506,
    "start_time": "2024-07-05T20:49:48.241Z"
   },
   {
    "duration": 11,
    "start_time": "2024-07-05T20:49:48.748Z"
   },
   {
    "duration": 7,
    "start_time": "2024-07-05T20:49:48.760Z"
   },
   {
    "duration": 31,
    "start_time": "2024-07-05T20:49:48.769Z"
   },
   {
    "duration": 14,
    "start_time": "2024-07-05T20:49:48.801Z"
   },
   {
    "duration": 97,
    "start_time": "2024-07-05T20:49:48.817Z"
   },
   {
    "duration": 16,
    "start_time": "2024-07-05T20:49:48.915Z"
   },
   {
    "duration": 137,
    "start_time": "2024-07-05T20:49:48.933Z"
   },
   {
    "duration": 6,
    "start_time": "2024-07-05T20:49:49.071Z"
   },
   {
    "duration": 11,
    "start_time": "2024-07-05T20:49:49.081Z"
   },
   {
    "duration": 18,
    "start_time": "2024-07-05T20:49:49.094Z"
   },
   {
    "duration": 17,
    "start_time": "2024-07-05T20:49:49.114Z"
   },
   {
    "duration": 1087,
    "start_time": "2024-07-05T20:49:49.133Z"
   },
   {
    "duration": 18,
    "start_time": "2024-07-05T20:49:50.222Z"
   },
   {
    "duration": 223,
    "start_time": "2024-07-05T20:49:50.242Z"
   },
   {
    "duration": 246,
    "start_time": "2024-07-05T20:49:50.467Z"
   },
   {
    "duration": 129,
    "start_time": "2024-07-05T20:49:50.714Z"
   },
   {
    "duration": 0,
    "start_time": "2024-07-05T20:49:50.845Z"
   },
   {
    "duration": 0,
    "start_time": "2024-07-05T20:49:50.846Z"
   },
   {
    "duration": 0,
    "start_time": "2024-07-05T20:49:50.847Z"
   },
   {
    "duration": 0,
    "start_time": "2024-07-05T20:49:50.849Z"
   },
   {
    "duration": 0,
    "start_time": "2024-07-05T20:49:50.850Z"
   },
   {
    "duration": 0,
    "start_time": "2024-07-05T20:49:50.852Z"
   },
   {
    "duration": 0,
    "start_time": "2024-07-05T20:49:50.853Z"
   },
   {
    "duration": 0,
    "start_time": "2024-07-05T20:49:50.854Z"
   },
   {
    "duration": 0,
    "start_time": "2024-07-05T20:49:50.855Z"
   },
   {
    "duration": 0,
    "start_time": "2024-07-05T20:49:50.856Z"
   },
   {
    "duration": 0,
    "start_time": "2024-07-05T20:49:50.857Z"
   },
   {
    "duration": 0,
    "start_time": "2024-07-05T20:49:50.858Z"
   },
   {
    "duration": 0,
    "start_time": "2024-07-05T20:49:50.859Z"
   },
   {
    "duration": 0,
    "start_time": "2024-07-05T20:49:50.860Z"
   },
   {
    "duration": 0,
    "start_time": "2024-07-05T20:49:50.861Z"
   },
   {
    "duration": 0,
    "start_time": "2024-07-05T20:49:50.891Z"
   },
   {
    "duration": 0,
    "start_time": "2024-07-05T20:49:50.893Z"
   },
   {
    "duration": 0,
    "start_time": "2024-07-05T20:49:50.894Z"
   },
   {
    "duration": 0,
    "start_time": "2024-07-05T20:49:50.895Z"
   },
   {
    "duration": 0,
    "start_time": "2024-07-05T20:49:50.896Z"
   },
   {
    "duration": 0,
    "start_time": "2024-07-05T20:49:50.897Z"
   },
   {
    "duration": 193,
    "start_time": "2024-07-05T20:51:42.158Z"
   },
   {
    "duration": 172,
    "start_time": "2024-07-05T20:52:31.465Z"
   },
   {
    "duration": 61,
    "start_time": "2024-07-05T21:01:36.644Z"
   },
   {
    "duration": 126,
    "start_time": "2024-07-05T21:02:08.292Z"
   },
   {
    "duration": 5379,
    "start_time": "2024-07-05T21:03:34.848Z"
   },
   {
    "duration": 1298,
    "start_time": "2024-07-05T21:03:40.230Z"
   },
   {
    "duration": 2,
    "start_time": "2024-07-05T21:03:41.530Z"
   },
   {
    "duration": 486,
    "start_time": "2024-07-05T21:03:41.534Z"
   },
   {
    "duration": 72,
    "start_time": "2024-07-05T21:03:42.022Z"
   },
   {
    "duration": 45,
    "start_time": "2024-07-05T21:03:42.096Z"
   },
   {
    "duration": 98,
    "start_time": "2024-07-05T21:03:42.144Z"
   },
   {
    "duration": 229,
    "start_time": "2024-07-05T21:03:42.244Z"
   },
   {
    "duration": 17,
    "start_time": "2024-07-05T21:03:42.475Z"
   },
   {
    "duration": 67,
    "start_time": "2024-07-05T21:03:42.494Z"
   },
   {
    "duration": 60,
    "start_time": "2024-07-05T21:03:42.562Z"
   },
   {
    "duration": 155,
    "start_time": "2024-07-05T21:03:42.624Z"
   },
   {
    "duration": 192,
    "start_time": "2024-07-05T21:03:42.780Z"
   },
   {
    "duration": 49,
    "start_time": "2024-07-05T21:03:42.975Z"
   },
   {
    "duration": 16,
    "start_time": "2024-07-05T21:03:43.026Z"
   },
   {
    "duration": 12,
    "start_time": "2024-07-05T21:03:43.043Z"
   },
   {
    "duration": 67,
    "start_time": "2024-07-05T21:03:43.057Z"
   },
   {
    "duration": 24,
    "start_time": "2024-07-05T21:03:43.126Z"
   },
   {
    "duration": 484,
    "start_time": "2024-07-05T21:03:43.152Z"
   },
   {
    "duration": 11,
    "start_time": "2024-07-05T21:03:43.638Z"
   },
   {
    "duration": 7,
    "start_time": "2024-07-05T21:03:43.651Z"
   },
   {
    "duration": 35,
    "start_time": "2024-07-05T21:03:43.660Z"
   },
   {
    "duration": 15,
    "start_time": "2024-07-05T21:03:43.696Z"
   },
   {
    "duration": 111,
    "start_time": "2024-07-05T21:03:43.713Z"
   },
   {
    "duration": 22,
    "start_time": "2024-07-05T21:03:43.826Z"
   },
   {
    "duration": 165,
    "start_time": "2024-07-05T21:03:43.850Z"
   },
   {
    "duration": 8,
    "start_time": "2024-07-05T21:03:44.023Z"
   },
   {
    "duration": 7,
    "start_time": "2024-07-05T21:03:44.033Z"
   },
   {
    "duration": 22,
    "start_time": "2024-07-05T21:03:44.041Z"
   },
   {
    "duration": 36,
    "start_time": "2024-07-05T21:03:44.064Z"
   },
   {
    "duration": 1003,
    "start_time": "2024-07-05T21:03:44.102Z"
   },
   {
    "duration": 17,
    "start_time": "2024-07-05T21:03:45.106Z"
   },
   {
    "duration": 207,
    "start_time": "2024-07-05T21:03:45.125Z"
   },
   {
    "duration": 244,
    "start_time": "2024-07-05T21:03:45.333Z"
   },
   {
    "duration": 186,
    "start_time": "2024-07-05T21:03:45.578Z"
   },
   {
    "duration": 126,
    "start_time": "2024-07-05T21:03:45.766Z"
   },
   {
    "duration": 0,
    "start_time": "2024-07-05T21:03:45.894Z"
   },
   {
    "duration": 0,
    "start_time": "2024-07-05T21:03:45.895Z"
   },
   {
    "duration": 0,
    "start_time": "2024-07-05T21:03:45.897Z"
   },
   {
    "duration": 0,
    "start_time": "2024-07-05T21:03:45.898Z"
   },
   {
    "duration": 0,
    "start_time": "2024-07-05T21:03:45.899Z"
   },
   {
    "duration": 0,
    "start_time": "2024-07-05T21:03:45.901Z"
   },
   {
    "duration": 0,
    "start_time": "2024-07-05T21:03:45.902Z"
   },
   {
    "duration": 0,
    "start_time": "2024-07-05T21:03:45.902Z"
   },
   {
    "duration": 0,
    "start_time": "2024-07-05T21:03:45.904Z"
   },
   {
    "duration": 0,
    "start_time": "2024-07-05T21:03:45.905Z"
   },
   {
    "duration": 0,
    "start_time": "2024-07-05T21:03:45.906Z"
   },
   {
    "duration": 0,
    "start_time": "2024-07-05T21:03:45.907Z"
   },
   {
    "duration": 0,
    "start_time": "2024-07-05T21:03:45.908Z"
   },
   {
    "duration": 0,
    "start_time": "2024-07-05T21:03:45.909Z"
   },
   {
    "duration": 1,
    "start_time": "2024-07-05T21:03:45.910Z"
   },
   {
    "duration": 0,
    "start_time": "2024-07-05T21:03:45.911Z"
   },
   {
    "duration": 0,
    "start_time": "2024-07-05T21:03:45.913Z"
   },
   {
    "duration": 0,
    "start_time": "2024-07-05T21:03:45.914Z"
   },
   {
    "duration": 0,
    "start_time": "2024-07-05T21:03:45.915Z"
   },
   {
    "duration": 0,
    "start_time": "2024-07-05T21:03:45.916Z"
   },
   {
    "duration": 0,
    "start_time": "2024-07-05T21:03:45.917Z"
   },
   {
    "duration": 196,
    "start_time": "2024-07-05T21:06:37.624Z"
   },
   {
    "duration": 189,
    "start_time": "2024-07-05T21:14:16.793Z"
   },
   {
    "duration": 188,
    "start_time": "2024-07-05T21:14:31.448Z"
   },
   {
    "duration": 192,
    "start_time": "2024-07-05T21:14:42.254Z"
   },
   {
    "duration": 230,
    "start_time": "2024-07-05T21:15:06.462Z"
   },
   {
    "duration": 283,
    "start_time": "2024-07-05T21:21:18.059Z"
   },
   {
    "duration": 248,
    "start_time": "2024-07-05T21:22:10.535Z"
   },
   {
    "duration": 177,
    "start_time": "2024-07-05T21:23:27.095Z"
   },
   {
    "duration": 384,
    "start_time": "2024-07-05T21:28:15.891Z"
   },
   {
    "duration": 272,
    "start_time": "2024-07-05T21:29:29.633Z"
   },
   {
    "duration": 17,
    "start_time": "2024-07-05T21:33:05.586Z"
   },
   {
    "duration": 203,
    "start_time": "2024-07-05T21:33:17.312Z"
   },
   {
    "duration": 127,
    "start_time": "2024-07-05T21:33:46.909Z"
   },
   {
    "duration": 11007,
    "start_time": "2024-07-05T22:08:23.473Z"
   },
   {
    "duration": 36,
    "start_time": "2024-07-05T22:09:57.462Z"
   },
   {
    "duration": 190,
    "start_time": "2024-07-05T22:10:53.822Z"
   },
   {
    "duration": 231,
    "start_time": "2024-07-05T22:11:02.872Z"
   },
   {
    "duration": 147,
    "start_time": "2024-07-05T22:11:07.177Z"
   },
   {
    "duration": 54,
    "start_time": "2024-07-05T22:25:42.570Z"
   },
   {
    "duration": 748,
    "start_time": "2024-07-05T22:26:53.074Z"
   },
   {
    "duration": 67,
    "start_time": "2024-07-05T22:26:59.731Z"
   },
   {
    "duration": 5284,
    "start_time": "2024-07-05T22:27:09.138Z"
   },
   {
    "duration": 1282,
    "start_time": "2024-07-05T22:27:14.425Z"
   },
   {
    "duration": 2,
    "start_time": "2024-07-05T22:27:15.709Z"
   },
   {
    "duration": 492,
    "start_time": "2024-07-05T22:27:15.713Z"
   },
   {
    "duration": 55,
    "start_time": "2024-07-05T22:27:16.207Z"
   },
   {
    "duration": 41,
    "start_time": "2024-07-05T22:27:16.263Z"
   },
   {
    "duration": 106,
    "start_time": "2024-07-05T22:27:16.305Z"
   },
   {
    "duration": 258,
    "start_time": "2024-07-05T22:27:16.413Z"
   },
   {
    "duration": 18,
    "start_time": "2024-07-05T22:27:16.673Z"
   },
   {
    "duration": 68,
    "start_time": "2024-07-05T22:27:16.695Z"
   },
   {
    "duration": 60,
    "start_time": "2024-07-05T22:27:16.764Z"
   },
   {
    "duration": 151,
    "start_time": "2024-07-05T22:27:16.826Z"
   },
   {
    "duration": 188,
    "start_time": "2024-07-05T22:27:16.979Z"
   },
   {
    "duration": 49,
    "start_time": "2024-07-05T22:27:17.168Z"
   },
   {
    "duration": 17,
    "start_time": "2024-07-05T22:27:17.219Z"
   },
   {
    "duration": 13,
    "start_time": "2024-07-05T22:27:17.237Z"
   },
   {
    "duration": 70,
    "start_time": "2024-07-05T22:27:17.251Z"
   },
   {
    "duration": 23,
    "start_time": "2024-07-05T22:27:17.323Z"
   },
   {
    "duration": 499,
    "start_time": "2024-07-05T22:27:17.348Z"
   },
   {
    "duration": 11,
    "start_time": "2024-07-05T22:27:17.849Z"
   },
   {
    "duration": 7,
    "start_time": "2024-07-05T22:27:17.861Z"
   },
   {
    "duration": 32,
    "start_time": "2024-07-05T22:27:17.870Z"
   },
   {
    "duration": 14,
    "start_time": "2024-07-05T22:27:17.903Z"
   },
   {
    "duration": 95,
    "start_time": "2024-07-05T22:27:17.918Z"
   },
   {
    "duration": 18,
    "start_time": "2024-07-05T22:27:18.015Z"
   },
   {
    "duration": 227,
    "start_time": "2024-07-05T22:27:18.035Z"
   },
   {
    "duration": 6,
    "start_time": "2024-07-05T22:27:18.264Z"
   },
   {
    "duration": 68,
    "start_time": "2024-07-05T22:27:18.273Z"
   },
   {
    "duration": 48,
    "start_time": "2024-07-05T22:27:18.343Z"
   },
   {
    "duration": 36,
    "start_time": "2024-07-05T22:27:18.393Z"
   },
   {
    "duration": 1005,
    "start_time": "2024-07-05T22:27:18.431Z"
   },
   {
    "duration": 16,
    "start_time": "2024-07-05T22:27:19.438Z"
   },
   {
    "duration": 188,
    "start_time": "2024-07-05T22:27:19.456Z"
   },
   {
    "duration": 252,
    "start_time": "2024-07-05T22:27:19.646Z"
   },
   {
    "duration": 197,
    "start_time": "2024-07-05T22:27:19.900Z"
   },
   {
    "duration": 206,
    "start_time": "2024-07-05T22:27:20.099Z"
   },
   {
    "duration": 236,
    "start_time": "2024-07-05T22:27:20.307Z"
   },
   {
    "duration": 181,
    "start_time": "2024-07-05T22:27:20.544Z"
   },
   {
    "duration": 260,
    "start_time": "2024-07-05T22:27:20.726Z"
   },
   {
    "duration": 216,
    "start_time": "2024-07-05T22:27:20.992Z"
   },
   {
    "duration": 147,
    "start_time": "2024-07-05T22:27:21.210Z"
   },
   {
    "duration": 204,
    "start_time": "2024-07-05T22:27:21.359Z"
   },
   {
    "duration": 221,
    "start_time": "2024-07-05T22:27:21.564Z"
   },
   {
    "duration": 248,
    "start_time": "2024-07-05T22:27:21.787Z"
   },
   {
    "duration": 35,
    "start_time": "2024-07-05T22:27:22.038Z"
   },
   {
    "duration": 66,
    "start_time": "2024-07-05T22:27:22.075Z"
   },
   {
    "duration": 0,
    "start_time": "2024-07-05T22:27:22.143Z"
   },
   {
    "duration": 0,
    "start_time": "2024-07-05T22:27:22.144Z"
   },
   {
    "duration": 0,
    "start_time": "2024-07-05T22:27:22.145Z"
   },
   {
    "duration": 0,
    "start_time": "2024-07-05T22:27:22.146Z"
   },
   {
    "duration": 0,
    "start_time": "2024-07-05T22:27:22.147Z"
   },
   {
    "duration": 0,
    "start_time": "2024-07-05T22:27:22.149Z"
   },
   {
    "duration": 0,
    "start_time": "2024-07-05T22:27:22.150Z"
   },
   {
    "duration": 0,
    "start_time": "2024-07-05T22:27:22.151Z"
   },
   {
    "duration": 0,
    "start_time": "2024-07-05T22:27:22.152Z"
   },
   {
    "duration": 0,
    "start_time": "2024-07-05T22:27:22.153Z"
   },
   {
    "duration": 0,
    "start_time": "2024-07-05T22:27:22.154Z"
   },
   {
    "duration": 0,
    "start_time": "2024-07-05T22:27:22.155Z"
   },
   {
    "duration": 0,
    "start_time": "2024-07-05T22:27:22.156Z"
   },
   {
    "duration": 0,
    "start_time": "2024-07-05T22:27:22.157Z"
   },
   {
    "duration": 0,
    "start_time": "2024-07-05T22:27:22.158Z"
   },
   {
    "duration": 0,
    "start_time": "2024-07-05T22:27:22.159Z"
   },
   {
    "duration": 0,
    "start_time": "2024-07-05T22:27:22.160Z"
   },
   {
    "duration": 1113,
    "start_time": "2024-07-05T22:27:50.365Z"
   },
   {
    "duration": 18,
    "start_time": "2024-07-05T22:29:02.276Z"
   },
   {
    "duration": 18,
    "start_time": "2024-07-05T22:29:34.651Z"
   },
   {
    "duration": 1069,
    "start_time": "2024-07-05T22:29:43.059Z"
   },
   {
    "duration": 5205,
    "start_time": "2024-07-05T22:33:08.099Z"
   },
   {
    "duration": 1360,
    "start_time": "2024-07-05T22:33:13.306Z"
   },
   {
    "duration": 2,
    "start_time": "2024-07-05T22:33:14.668Z"
   },
   {
    "duration": 391,
    "start_time": "2024-07-05T22:33:14.672Z"
   },
   {
    "duration": 53,
    "start_time": "2024-07-05T22:33:15.065Z"
   },
   {
    "duration": 26,
    "start_time": "2024-07-05T22:33:15.119Z"
   },
   {
    "duration": 114,
    "start_time": "2024-07-05T22:33:15.147Z"
   },
   {
    "duration": 237,
    "start_time": "2024-07-05T22:33:15.263Z"
   },
   {
    "duration": 8,
    "start_time": "2024-07-05T22:33:15.501Z"
   },
   {
    "duration": 91,
    "start_time": "2024-07-05T22:33:15.512Z"
   },
   {
    "duration": 50,
    "start_time": "2024-07-05T22:33:15.605Z"
   },
   {
    "duration": 170,
    "start_time": "2024-07-05T22:33:15.657Z"
   },
   {
    "duration": 208,
    "start_time": "2024-07-05T22:33:15.828Z"
   },
   {
    "duration": 42,
    "start_time": "2024-07-05T22:33:16.038Z"
   },
   {
    "duration": 25,
    "start_time": "2024-07-05T22:33:16.082Z"
   },
   {
    "duration": 39,
    "start_time": "2024-07-05T22:33:16.108Z"
   },
   {
    "duration": 54,
    "start_time": "2024-07-05T22:33:16.149Z"
   },
   {
    "duration": 25,
    "start_time": "2024-07-05T22:33:16.204Z"
   },
   {
    "duration": 499,
    "start_time": "2024-07-05T22:33:16.231Z"
   },
   {
    "duration": 11,
    "start_time": "2024-07-05T22:33:16.732Z"
   },
   {
    "duration": 21,
    "start_time": "2024-07-05T22:33:16.745Z"
   },
   {
    "duration": 17,
    "start_time": "2024-07-05T22:33:16.768Z"
   },
   {
    "duration": 15,
    "start_time": "2024-07-05T22:33:16.791Z"
   },
   {
    "duration": 96,
    "start_time": "2024-07-05T22:33:16.808Z"
   },
   {
    "duration": 16,
    "start_time": "2024-07-05T22:33:16.905Z"
   },
   {
    "duration": 136,
    "start_time": "2024-07-05T22:33:16.923Z"
   },
   {
    "duration": 6,
    "start_time": "2024-07-05T22:33:17.060Z"
   },
   {
    "duration": 34,
    "start_time": "2024-07-05T22:33:17.069Z"
   },
   {
    "duration": 24,
    "start_time": "2024-07-05T22:33:17.105Z"
   },
   {
    "duration": 45,
    "start_time": "2024-07-05T22:33:17.130Z"
   },
   {
    "duration": 1022,
    "start_time": "2024-07-05T22:33:17.177Z"
   },
   {
    "duration": 17,
    "start_time": "2024-07-05T22:33:18.201Z"
   },
   {
    "duration": 244,
    "start_time": "2024-07-05T22:33:18.219Z"
   },
   {
    "duration": 234,
    "start_time": "2024-07-05T22:33:18.464Z"
   },
   {
    "duration": 191,
    "start_time": "2024-07-05T22:33:18.700Z"
   },
   {
    "duration": 208,
    "start_time": "2024-07-05T22:33:18.893Z"
   },
   {
    "duration": 257,
    "start_time": "2024-07-05T22:33:19.103Z"
   },
   {
    "duration": 183,
    "start_time": "2024-07-05T22:33:19.361Z"
   },
   {
    "duration": 269,
    "start_time": "2024-07-05T22:33:19.545Z"
   },
   {
    "duration": 223,
    "start_time": "2024-07-05T22:33:19.816Z"
   },
   {
    "duration": 155,
    "start_time": "2024-07-05T22:33:20.041Z"
   },
   {
    "duration": 211,
    "start_time": "2024-07-05T22:33:20.198Z"
   },
   {
    "duration": 222,
    "start_time": "2024-07-05T22:33:20.410Z"
   },
   {
    "duration": 259,
    "start_time": "2024-07-05T22:33:20.634Z"
   },
   {
    "duration": 33,
    "start_time": "2024-07-05T22:33:20.895Z"
   },
   {
    "duration": 36,
    "start_time": "2024-07-05T22:33:20.930Z"
   },
   {
    "duration": 44,
    "start_time": "2024-07-05T22:33:20.968Z"
   },
   {
    "duration": 1094,
    "start_time": "2024-07-05T22:33:21.013Z"
   },
   {
    "duration": 5,
    "start_time": "2024-07-05T22:33:22.109Z"
   },
   {
    "duration": 171,
    "start_time": "2024-07-05T22:33:22.115Z"
   },
   {
    "duration": 0,
    "start_time": "2024-07-05T22:33:22.288Z"
   },
   {
    "duration": 0,
    "start_time": "2024-07-05T22:33:22.290Z"
   },
   {
    "duration": 0,
    "start_time": "2024-07-05T22:33:22.300Z"
   },
   {
    "duration": 0,
    "start_time": "2024-07-05T22:33:22.301Z"
   },
   {
    "duration": 0,
    "start_time": "2024-07-05T22:33:22.302Z"
   },
   {
    "duration": 0,
    "start_time": "2024-07-05T22:33:22.304Z"
   },
   {
    "duration": 0,
    "start_time": "2024-07-05T22:33:22.305Z"
   },
   {
    "duration": 0,
    "start_time": "2024-07-05T22:33:22.307Z"
   },
   {
    "duration": 0,
    "start_time": "2024-07-05T22:33:22.309Z"
   },
   {
    "duration": 0,
    "start_time": "2024-07-05T22:33:22.310Z"
   },
   {
    "duration": 0,
    "start_time": "2024-07-05T22:33:22.312Z"
   },
   {
    "duration": 0,
    "start_time": "2024-07-05T22:33:22.314Z"
   },
   {
    "duration": 0,
    "start_time": "2024-07-05T22:33:22.316Z"
   },
   {
    "duration": 0,
    "start_time": "2024-07-05T22:33:22.317Z"
   },
   {
    "duration": 46,
    "start_time": "2024-07-06T22:14:11.001Z"
   },
   {
    "duration": 9753,
    "start_time": "2024-07-06T22:14:37.826Z"
   },
   {
    "duration": 1363,
    "start_time": "2024-07-06T22:14:47.582Z"
   },
   {
    "duration": 2,
    "start_time": "2024-07-06T22:14:48.947Z"
   },
   {
    "duration": 410,
    "start_time": "2024-07-06T22:14:48.951Z"
   },
   {
    "duration": 38,
    "start_time": "2024-07-06T22:14:49.362Z"
   },
   {
    "duration": 20,
    "start_time": "2024-07-06T22:14:49.402Z"
   },
   {
    "duration": 80,
    "start_time": "2024-07-06T22:14:49.423Z"
   },
   {
    "duration": 175,
    "start_time": "2024-07-06T22:14:49.504Z"
   },
   {
    "duration": 7,
    "start_time": "2024-07-06T22:14:49.680Z"
   },
   {
    "duration": 56,
    "start_time": "2024-07-06T22:14:49.691Z"
   },
   {
    "duration": 35,
    "start_time": "2024-07-06T22:14:49.748Z"
   },
   {
    "duration": 112,
    "start_time": "2024-07-06T22:14:49.785Z"
   },
   {
    "duration": 165,
    "start_time": "2024-07-06T22:14:49.901Z"
   },
   {
    "duration": 37,
    "start_time": "2024-07-06T22:14:50.067Z"
   },
   {
    "duration": 12,
    "start_time": "2024-07-06T22:14:50.105Z"
   },
   {
    "duration": 8,
    "start_time": "2024-07-06T22:14:50.118Z"
   },
   {
    "duration": 42,
    "start_time": "2024-07-06T22:14:50.127Z"
   },
   {
    "duration": 73,
    "start_time": "2024-07-06T22:14:50.170Z"
   },
   {
    "duration": 442,
    "start_time": "2024-07-06T22:14:50.244Z"
   },
   {
    "duration": 15,
    "start_time": "2024-07-06T22:14:50.687Z"
   },
   {
    "duration": 6,
    "start_time": "2024-07-06T22:14:50.703Z"
   },
   {
    "duration": 11,
    "start_time": "2024-07-06T22:14:50.710Z"
   },
   {
    "duration": 11,
    "start_time": "2024-07-06T22:14:50.723Z"
   },
   {
    "duration": 82,
    "start_time": "2024-07-06T22:14:50.736Z"
   },
   {
    "duration": 12,
    "start_time": "2024-07-06T22:14:50.820Z"
   },
   {
    "duration": 110,
    "start_time": "2024-07-06T22:14:50.834Z"
   },
   {
    "duration": 5,
    "start_time": "2024-07-06T22:14:50.945Z"
   },
   {
    "duration": 4,
    "start_time": "2024-07-06T22:14:50.953Z"
   },
   {
    "duration": 21,
    "start_time": "2024-07-06T22:14:50.958Z"
   },
   {
    "duration": 52,
    "start_time": "2024-07-06T22:14:50.980Z"
   },
   {
    "duration": 794,
    "start_time": "2024-07-06T22:14:51.033Z"
   },
   {
    "duration": 14,
    "start_time": "2024-07-06T22:14:51.829Z"
   },
   {
    "duration": 154,
    "start_time": "2024-07-06T22:14:51.844Z"
   },
   {
    "duration": 178,
    "start_time": "2024-07-06T22:14:52.001Z"
   },
   {
    "duration": 142,
    "start_time": "2024-07-06T22:14:52.180Z"
   },
   {
    "duration": 154,
    "start_time": "2024-07-06T22:14:52.324Z"
   },
   {
    "duration": 177,
    "start_time": "2024-07-06T22:14:52.479Z"
   },
   {
    "duration": 134,
    "start_time": "2024-07-06T22:14:52.658Z"
   },
   {
    "duration": 194,
    "start_time": "2024-07-06T22:14:52.794Z"
   },
   {
    "duration": 164,
    "start_time": "2024-07-06T22:14:52.989Z"
   },
   {
    "duration": 111,
    "start_time": "2024-07-06T22:14:53.155Z"
   },
   {
    "duration": 186,
    "start_time": "2024-07-06T22:14:53.268Z"
   },
   {
    "duration": 167,
    "start_time": "2024-07-06T22:14:53.456Z"
   },
   {
    "duration": 210,
    "start_time": "2024-07-06T22:14:53.624Z"
   },
   {
    "duration": 26,
    "start_time": "2024-07-06T22:14:53.836Z"
   },
   {
    "duration": 16,
    "start_time": "2024-07-06T22:14:53.863Z"
   },
   {
    "duration": 21,
    "start_time": "2024-07-06T22:14:53.881Z"
   },
   {
    "duration": 1127,
    "start_time": "2024-07-06T22:14:53.903Z"
   },
   {
    "duration": 688,
    "start_time": "2024-07-06T22:14:55.031Z"
   },
   {
    "duration": 574,
    "start_time": "2024-07-06T22:14:55.721Z"
   },
   {
    "duration": 105,
    "start_time": "2024-07-06T22:14:56.296Z"
   },
   {
    "duration": 0,
    "start_time": "2024-07-06T22:14:56.403Z"
   },
   {
    "duration": 0,
    "start_time": "2024-07-06T22:14:56.404Z"
   },
   {
    "duration": 0,
    "start_time": "2024-07-06T22:14:56.404Z"
   },
   {
    "duration": 0,
    "start_time": "2024-07-06T22:14:56.405Z"
   },
   {
    "duration": 0,
    "start_time": "2024-07-06T22:14:56.406Z"
   },
   {
    "duration": 0,
    "start_time": "2024-07-06T22:14:56.407Z"
   },
   {
    "duration": 0,
    "start_time": "2024-07-06T22:14:56.408Z"
   },
   {
    "duration": 0,
    "start_time": "2024-07-06T22:14:56.409Z"
   },
   {
    "duration": 0,
    "start_time": "2024-07-06T22:14:56.410Z"
   },
   {
    "duration": 0,
    "start_time": "2024-07-06T22:14:56.410Z"
   },
   {
    "duration": 0,
    "start_time": "2024-07-06T22:14:56.411Z"
   },
   {
    "duration": 0,
    "start_time": "2024-07-06T22:14:56.412Z"
   },
   {
    "duration": 199,
    "start_time": "2024-07-06T22:23:26.511Z"
   },
   {
    "duration": 182,
    "start_time": "2024-07-06T22:24:10.628Z"
   },
   {
    "duration": 26,
    "start_time": "2024-07-06T22:25:20.405Z"
   },
   {
    "duration": 8,
    "start_time": "2024-07-06T22:25:51.426Z"
   },
   {
    "duration": 61,
    "start_time": "2024-07-06T22:26:12.142Z"
   },
   {
    "duration": 56,
    "start_time": "2024-07-06T22:26:17.729Z"
   },
   {
    "duration": 3,
    "start_time": "2024-07-06T22:29:57.152Z"
   },
   {
    "duration": 3,
    "start_time": "2024-07-06T22:30:01.929Z"
   },
   {
    "duration": 4,
    "start_time": "2024-07-06T22:30:07.328Z"
   },
   {
    "duration": 5110,
    "start_time": "2024-07-06T22:34:15.571Z"
   },
   {
    "duration": 1254,
    "start_time": "2024-07-06T22:34:20.683Z"
   },
   {
    "duration": 2,
    "start_time": "2024-07-06T22:34:21.938Z"
   },
   {
    "duration": 353,
    "start_time": "2024-07-06T22:34:21.942Z"
   },
   {
    "duration": 39,
    "start_time": "2024-07-06T22:34:22.297Z"
   },
   {
    "duration": 18,
    "start_time": "2024-07-06T22:34:22.338Z"
   },
   {
    "duration": 102,
    "start_time": "2024-07-06T22:34:22.358Z"
   },
   {
    "duration": 194,
    "start_time": "2024-07-06T22:34:22.461Z"
   },
   {
    "duration": 7,
    "start_time": "2024-07-06T22:34:22.657Z"
   },
   {
    "duration": 114,
    "start_time": "2024-07-06T22:34:22.665Z"
   },
   {
    "duration": 51,
    "start_time": "2024-07-06T22:34:22.780Z"
   },
   {
    "duration": 114,
    "start_time": "2024-07-06T22:34:22.832Z"
   },
   {
    "duration": 156,
    "start_time": "2024-07-06T22:34:22.947Z"
   },
   {
    "duration": 32,
    "start_time": "2024-07-06T22:34:23.104Z"
   },
   {
    "duration": 11,
    "start_time": "2024-07-06T22:34:23.137Z"
   },
   {
    "duration": 11,
    "start_time": "2024-07-06T22:34:23.149Z"
   },
   {
    "duration": 70,
    "start_time": "2024-07-06T22:34:23.161Z"
   },
   {
    "duration": 19,
    "start_time": "2024-07-06T22:34:23.233Z"
   },
   {
    "duration": 420,
    "start_time": "2024-07-06T22:34:23.254Z"
   },
   {
    "duration": 8,
    "start_time": "2024-07-06T22:34:23.676Z"
   },
   {
    "duration": 18,
    "start_time": "2024-07-06T22:34:23.685Z"
   },
   {
    "duration": 12,
    "start_time": "2024-07-06T22:34:23.704Z"
   },
   {
    "duration": 13,
    "start_time": "2024-07-06T22:34:23.717Z"
   },
   {
    "duration": 111,
    "start_time": "2024-07-06T22:34:23.731Z"
   },
   {
    "duration": 21,
    "start_time": "2024-07-06T22:34:23.844Z"
   },
   {
    "duration": 122,
    "start_time": "2024-07-06T22:34:23.866Z"
   },
   {
    "duration": 17,
    "start_time": "2024-07-06T22:34:23.989Z"
   },
   {
    "duration": 5,
    "start_time": "2024-07-06T22:34:24.010Z"
   },
   {
    "duration": 43,
    "start_time": "2024-07-06T22:34:24.017Z"
   },
   {
    "duration": 73,
    "start_time": "2024-07-06T22:34:24.061Z"
   },
   {
    "duration": 804,
    "start_time": "2024-07-06T22:34:24.136Z"
   },
   {
    "duration": 12,
    "start_time": "2024-07-06T22:34:24.941Z"
   },
   {
    "duration": 87,
    "start_time": "2024-07-06T22:34:24.954Z"
   },
   {
    "duration": 182,
    "start_time": "2024-07-06T22:34:25.043Z"
   },
   {
    "duration": 143,
    "start_time": "2024-07-06T22:34:25.227Z"
   },
   {
    "duration": 158,
    "start_time": "2024-07-06T22:34:25.372Z"
   },
   {
    "duration": 193,
    "start_time": "2024-07-06T22:34:25.531Z"
   },
   {
    "duration": 142,
    "start_time": "2024-07-06T22:34:25.725Z"
   },
   {
    "duration": 200,
    "start_time": "2024-07-06T22:34:25.868Z"
   },
   {
    "duration": 167,
    "start_time": "2024-07-06T22:34:26.069Z"
   },
   {
    "duration": 112,
    "start_time": "2024-07-06T22:34:26.238Z"
   },
   {
    "duration": 159,
    "start_time": "2024-07-06T22:34:26.352Z"
   },
   {
    "duration": 170,
    "start_time": "2024-07-06T22:34:26.513Z"
   },
   {
    "duration": 119,
    "start_time": "2024-07-06T22:34:26.684Z"
   },
   {
    "duration": 33,
    "start_time": "2024-07-06T22:34:26.804Z"
   },
   {
    "duration": 14,
    "start_time": "2024-07-06T22:34:26.839Z"
   },
   {
    "duration": 25,
    "start_time": "2024-07-06T22:34:26.854Z"
   },
   {
    "duration": 944,
    "start_time": "2024-07-06T22:34:26.880Z"
   },
   {
    "duration": 712,
    "start_time": "2024-07-06T22:34:27.825Z"
   },
   {
    "duration": 553,
    "start_time": "2024-07-06T22:34:28.539Z"
   },
   {
    "duration": 52,
    "start_time": "2024-07-06T22:34:29.094Z"
   },
   {
    "duration": 0,
    "start_time": "2024-07-06T22:34:29.148Z"
   },
   {
    "duration": 0,
    "start_time": "2024-07-06T22:34:29.149Z"
   },
   {
    "duration": 0,
    "start_time": "2024-07-06T22:34:29.150Z"
   },
   {
    "duration": 0,
    "start_time": "2024-07-06T22:34:29.151Z"
   },
   {
    "duration": 0,
    "start_time": "2024-07-06T22:34:29.151Z"
   },
   {
    "duration": 0,
    "start_time": "2024-07-06T22:34:29.152Z"
   },
   {
    "duration": 0,
    "start_time": "2024-07-06T22:34:29.153Z"
   },
   {
    "duration": 0,
    "start_time": "2024-07-06T22:34:29.154Z"
   },
   {
    "duration": 0,
    "start_time": "2024-07-06T22:34:29.155Z"
   },
   {
    "duration": 0,
    "start_time": "2024-07-06T22:34:29.156Z"
   },
   {
    "duration": 0,
    "start_time": "2024-07-06T22:34:29.157Z"
   },
   {
    "duration": 5096,
    "start_time": "2024-07-06T22:34:51.422Z"
   },
   {
    "duration": 1089,
    "start_time": "2024-07-06T22:34:56.520Z"
   },
   {
    "duration": 2,
    "start_time": "2024-07-06T22:34:57.610Z"
   },
   {
    "duration": 251,
    "start_time": "2024-07-06T22:34:57.614Z"
   },
   {
    "duration": 36,
    "start_time": "2024-07-06T22:34:57.866Z"
   },
   {
    "duration": 19,
    "start_time": "2024-07-06T22:34:57.903Z"
   },
   {
    "duration": 66,
    "start_time": "2024-07-06T22:34:57.923Z"
   },
   {
    "duration": 182,
    "start_time": "2024-07-06T22:34:57.990Z"
   },
   {
    "duration": 7,
    "start_time": "2024-07-06T22:34:58.173Z"
   },
   {
    "duration": 71,
    "start_time": "2024-07-06T22:34:58.181Z"
   },
   {
    "duration": 41,
    "start_time": "2024-07-06T22:34:58.254Z"
   },
   {
    "duration": 146,
    "start_time": "2024-07-06T22:34:58.296Z"
   },
   {
    "duration": 150,
    "start_time": "2024-07-06T22:34:58.443Z"
   },
   {
    "duration": 35,
    "start_time": "2024-07-06T22:34:58.595Z"
   },
   {
    "duration": 11,
    "start_time": "2024-07-06T22:34:58.631Z"
   },
   {
    "duration": 57,
    "start_time": "2024-07-06T22:34:58.644Z"
   },
   {
    "duration": 38,
    "start_time": "2024-07-06T22:34:58.702Z"
   },
   {
    "duration": 19,
    "start_time": "2024-07-06T22:34:58.741Z"
   },
   {
    "duration": 383,
    "start_time": "2024-07-06T22:34:58.761Z"
   },
   {
    "duration": 8,
    "start_time": "2024-07-06T22:34:59.145Z"
   },
   {
    "duration": 8,
    "start_time": "2024-07-06T22:34:59.154Z"
   },
   {
    "duration": 14,
    "start_time": "2024-07-06T22:34:59.164Z"
   },
   {
    "duration": 43,
    "start_time": "2024-07-06T22:34:59.179Z"
   },
   {
    "duration": 66,
    "start_time": "2024-07-06T22:34:59.223Z"
   },
   {
    "duration": 12,
    "start_time": "2024-07-06T22:34:59.290Z"
   },
   {
    "duration": 110,
    "start_time": "2024-07-06T22:34:59.303Z"
   },
   {
    "duration": 4,
    "start_time": "2024-07-06T22:34:59.415Z"
   },
   {
    "duration": 5,
    "start_time": "2024-07-06T22:34:59.422Z"
   },
   {
    "duration": 14,
    "start_time": "2024-07-06T22:34:59.428Z"
   },
   {
    "duration": 33,
    "start_time": "2024-07-06T22:34:59.443Z"
   },
   {
    "duration": 857,
    "start_time": "2024-07-06T22:34:59.477Z"
   },
   {
    "duration": 19,
    "start_time": "2024-07-06T22:35:00.336Z"
   },
   {
    "duration": 132,
    "start_time": "2024-07-06T22:35:00.356Z"
   },
   {
    "duration": 178,
    "start_time": "2024-07-06T22:35:00.489Z"
   },
   {
    "duration": 138,
    "start_time": "2024-07-06T22:35:00.668Z"
   },
   {
    "duration": 168,
    "start_time": "2024-07-06T22:35:00.807Z"
   },
   {
    "duration": 186,
    "start_time": "2024-07-06T22:35:00.976Z"
   },
   {
    "duration": 168,
    "start_time": "2024-07-06T22:35:01.164Z"
   },
   {
    "duration": 221,
    "start_time": "2024-07-06T22:35:01.333Z"
   },
   {
    "duration": 162,
    "start_time": "2024-07-06T22:35:01.556Z"
   },
   {
    "duration": 118,
    "start_time": "2024-07-06T22:35:01.719Z"
   },
   {
    "duration": 154,
    "start_time": "2024-07-06T22:35:01.838Z"
   },
   {
    "duration": 164,
    "start_time": "2024-07-06T22:35:01.994Z"
   },
   {
    "duration": 119,
    "start_time": "2024-07-06T22:35:02.159Z"
   },
   {
    "duration": 39,
    "start_time": "2024-07-06T22:35:02.279Z"
   },
   {
    "duration": 67,
    "start_time": "2024-07-06T22:35:02.319Z"
   },
   {
    "duration": 14,
    "start_time": "2024-07-06T22:35:02.387Z"
   },
   {
    "duration": 919,
    "start_time": "2024-07-06T22:35:02.403Z"
   },
   {
    "duration": 706,
    "start_time": "2024-07-06T22:35:03.323Z"
   },
   {
    "duration": 548,
    "start_time": "2024-07-06T22:35:04.030Z"
   },
   {
    "duration": 209,
    "start_time": "2024-07-06T22:35:04.579Z"
   },
   {
    "duration": 25,
    "start_time": "2024-07-06T22:35:04.789Z"
   },
   {
    "duration": 58,
    "start_time": "2024-07-06T22:35:04.815Z"
   },
   {
    "duration": 0,
    "start_time": "2024-07-06T22:35:04.875Z"
   },
   {
    "duration": 0,
    "start_time": "2024-07-06T22:35:04.876Z"
   },
   {
    "duration": 0,
    "start_time": "2024-07-06T22:35:04.876Z"
   },
   {
    "duration": 0,
    "start_time": "2024-07-06T22:35:04.877Z"
   },
   {
    "duration": 0,
    "start_time": "2024-07-06T22:35:04.878Z"
   },
   {
    "duration": 0,
    "start_time": "2024-07-06T22:35:04.879Z"
   },
   {
    "duration": 1,
    "start_time": "2024-07-06T22:35:04.879Z"
   },
   {
    "duration": 0,
    "start_time": "2024-07-06T22:35:04.881Z"
   },
   {
    "duration": 41,
    "start_time": "2024-07-06T22:35:22.109Z"
   },
   {
    "duration": 2,
    "start_time": "2024-07-06T22:35:23.388Z"
   },
   {
    "duration": 3,
    "start_time": "2024-07-06T22:35:23.997Z"
   },
   {
    "duration": 5,
    "start_time": "2024-07-06T22:35:24.711Z"
   },
   {
    "duration": 5182,
    "start_time": "2024-07-06T22:58:47.062Z"
   },
   {
    "duration": 1160,
    "start_time": "2024-07-06T22:58:52.246Z"
   },
   {
    "duration": 3,
    "start_time": "2024-07-06T22:58:53.408Z"
   },
   {
    "duration": 377,
    "start_time": "2024-07-06T22:58:53.413Z"
   },
   {
    "duration": 44,
    "start_time": "2024-07-06T22:58:53.791Z"
   },
   {
    "duration": 69,
    "start_time": "2024-07-06T22:58:53.837Z"
   },
   {
    "duration": 68,
    "start_time": "2024-07-06T22:58:53.907Z"
   },
   {
    "duration": 185,
    "start_time": "2024-07-06T22:58:53.976Z"
   },
   {
    "duration": 43,
    "start_time": "2024-07-06T22:58:54.162Z"
   },
   {
    "duration": 122,
    "start_time": "2024-07-06T22:58:54.207Z"
   },
   {
    "duration": 37,
    "start_time": "2024-07-06T22:58:54.330Z"
   },
   {
    "duration": 182,
    "start_time": "2024-07-06T22:58:54.369Z"
   },
   {
    "duration": 164,
    "start_time": "2024-07-06T22:58:54.553Z"
   },
   {
    "duration": 42,
    "start_time": "2024-07-06T22:58:54.718Z"
   },
   {
    "duration": 10,
    "start_time": "2024-07-06T22:58:54.761Z"
   },
   {
    "duration": 8,
    "start_time": "2024-07-06T22:58:54.773Z"
   },
   {
    "duration": 56,
    "start_time": "2024-07-06T22:58:54.782Z"
   },
   {
    "duration": 19,
    "start_time": "2024-07-06T22:58:54.840Z"
   },
   {
    "duration": 427,
    "start_time": "2024-07-06T22:58:54.861Z"
   },
   {
    "duration": 8,
    "start_time": "2024-07-06T22:58:55.290Z"
   },
   {
    "duration": 9,
    "start_time": "2024-07-06T22:58:55.302Z"
   },
   {
    "duration": 11,
    "start_time": "2024-07-06T22:58:55.313Z"
   },
   {
    "duration": 13,
    "start_time": "2024-07-06T22:58:55.325Z"
   },
   {
    "duration": 95,
    "start_time": "2024-07-06T22:58:55.339Z"
   },
   {
    "duration": 12,
    "start_time": "2024-07-06T22:58:55.436Z"
   },
   {
    "duration": 111,
    "start_time": "2024-07-06T22:58:55.449Z"
   },
   {
    "duration": 5,
    "start_time": "2024-07-06T22:58:55.561Z"
   },
   {
    "duration": 4,
    "start_time": "2024-07-06T22:58:55.569Z"
   },
   {
    "duration": 31,
    "start_time": "2024-07-06T22:58:55.574Z"
   },
   {
    "duration": 36,
    "start_time": "2024-07-06T22:58:55.607Z"
   },
   {
    "duration": 837,
    "start_time": "2024-07-06T22:58:55.644Z"
   },
   {
    "duration": 12,
    "start_time": "2024-07-06T22:58:56.483Z"
   },
   {
    "duration": 94,
    "start_time": "2024-07-06T22:58:56.502Z"
   },
   {
    "duration": 175,
    "start_time": "2024-07-06T22:58:56.598Z"
   },
   {
    "duration": 143,
    "start_time": "2024-07-06T22:58:56.774Z"
   },
   {
    "duration": 156,
    "start_time": "2024-07-06T22:58:56.918Z"
   },
   {
    "duration": 206,
    "start_time": "2024-07-06T22:58:57.075Z"
   },
   {
    "duration": 149,
    "start_time": "2024-07-06T22:58:57.282Z"
   },
   {
    "duration": 207,
    "start_time": "2024-07-06T22:58:57.433Z"
   },
   {
    "duration": 182,
    "start_time": "2024-07-06T22:58:57.642Z"
   },
   {
    "duration": 111,
    "start_time": "2024-07-06T22:58:57.825Z"
   },
   {
    "duration": 154,
    "start_time": "2024-07-06T22:58:57.938Z"
   },
   {
    "duration": 167,
    "start_time": "2024-07-06T22:58:58.094Z"
   },
   {
    "duration": 118,
    "start_time": "2024-07-06T22:58:58.263Z"
   },
   {
    "duration": 47,
    "start_time": "2024-07-06T22:58:58.382Z"
   },
   {
    "duration": 31,
    "start_time": "2024-07-06T22:58:58.431Z"
   },
   {
    "duration": 14,
    "start_time": "2024-07-06T22:58:58.463Z"
   },
   {
    "duration": 951,
    "start_time": "2024-07-06T22:58:58.478Z"
   },
   {
    "duration": 701,
    "start_time": "2024-07-06T22:58:59.430Z"
   },
   {
    "duration": 576,
    "start_time": "2024-07-06T22:59:00.132Z"
   },
   {
    "duration": 200,
    "start_time": "2024-07-06T22:59:00.710Z"
   },
   {
    "duration": 24,
    "start_time": "2024-07-06T22:59:00.912Z"
   },
   {
    "duration": 48,
    "start_time": "2024-07-06T22:59:00.937Z"
   },
   {
    "duration": 3,
    "start_time": "2024-07-06T22:59:00.986Z"
   },
   {
    "duration": 42,
    "start_time": "2024-07-06T22:59:00.990Z"
   },
   {
    "duration": 66,
    "start_time": "2024-07-06T22:59:01.033Z"
   },
   {
    "duration": 5317,
    "start_time": "2024-07-06T23:03:29.133Z"
   },
   {
    "duration": 1210,
    "start_time": "2024-07-06T23:03:34.452Z"
   },
   {
    "duration": 2,
    "start_time": "2024-07-06T23:03:35.664Z"
   },
   {
    "duration": 292,
    "start_time": "2024-07-06T23:03:35.668Z"
   },
   {
    "duration": 35,
    "start_time": "2024-07-06T23:03:35.962Z"
   },
   {
    "duration": 19,
    "start_time": "2024-07-06T23:03:35.998Z"
   },
   {
    "duration": 69,
    "start_time": "2024-07-06T23:03:36.018Z"
   },
   {
    "duration": 189,
    "start_time": "2024-07-06T23:03:36.088Z"
   },
   {
    "duration": 6,
    "start_time": "2024-07-06T23:03:36.278Z"
   },
   {
    "duration": 88,
    "start_time": "2024-07-06T23:03:36.286Z"
   },
   {
    "duration": 35,
    "start_time": "2024-07-06T23:03:36.376Z"
   },
   {
    "duration": 156,
    "start_time": "2024-07-06T23:03:36.413Z"
   },
   {
    "duration": 154,
    "start_time": "2024-07-06T23:03:36.571Z"
   },
   {
    "duration": 39,
    "start_time": "2024-07-06T23:03:36.726Z"
   },
   {
    "duration": 11,
    "start_time": "2024-07-06T23:03:36.766Z"
   },
   {
    "duration": 26,
    "start_time": "2024-07-06T23:03:36.779Z"
   },
   {
    "duration": 61,
    "start_time": "2024-07-06T23:03:36.807Z"
   },
   {
    "duration": 19,
    "start_time": "2024-07-06T23:03:36.870Z"
   },
   {
    "duration": 439,
    "start_time": "2024-07-06T23:03:36.890Z"
   },
   {
    "duration": 9,
    "start_time": "2024-07-06T23:03:37.330Z"
   },
   {
    "duration": 6,
    "start_time": "2024-07-06T23:03:37.340Z"
   },
   {
    "duration": 15,
    "start_time": "2024-07-06T23:03:37.348Z"
   },
   {
    "duration": 21,
    "start_time": "2024-07-06T23:03:37.364Z"
   },
   {
    "duration": 78,
    "start_time": "2024-07-06T23:03:37.387Z"
   },
   {
    "duration": 13,
    "start_time": "2024-07-06T23:03:37.466Z"
   },
   {
    "duration": 112,
    "start_time": "2024-07-06T23:03:37.480Z"
   },
   {
    "duration": 5,
    "start_time": "2024-07-06T23:03:37.593Z"
   },
   {
    "duration": 3,
    "start_time": "2024-07-06T23:03:37.604Z"
   },
   {
    "duration": 17,
    "start_time": "2024-07-06T23:03:37.609Z"
   },
   {
    "duration": 28,
    "start_time": "2024-07-06T23:03:37.627Z"
   },
   {
    "duration": 845,
    "start_time": "2024-07-06T23:03:37.656Z"
   },
   {
    "duration": 13,
    "start_time": "2024-07-06T23:03:38.503Z"
   },
   {
    "duration": 86,
    "start_time": "2024-07-06T23:03:38.517Z"
   },
   {
    "duration": 195,
    "start_time": "2024-07-06T23:03:38.604Z"
   },
   {
    "duration": 176,
    "start_time": "2024-07-06T23:03:38.800Z"
   },
   {
    "duration": 157,
    "start_time": "2024-07-06T23:03:38.978Z"
   },
   {
    "duration": 198,
    "start_time": "2024-07-06T23:03:39.136Z"
   },
   {
    "duration": 140,
    "start_time": "2024-07-06T23:03:39.335Z"
   },
   {
    "duration": 203,
    "start_time": "2024-07-06T23:03:39.476Z"
   },
   {
    "duration": 170,
    "start_time": "2024-07-06T23:03:39.680Z"
   },
   {
    "duration": 108,
    "start_time": "2024-07-06T23:03:39.851Z"
   },
   {
    "duration": 171,
    "start_time": "2024-07-06T23:03:39.961Z"
   },
   {
    "duration": 187,
    "start_time": "2024-07-06T23:03:40.133Z"
   },
   {
    "duration": 179,
    "start_time": "2024-07-06T23:03:40.322Z"
   },
   {
    "duration": 39,
    "start_time": "2024-07-06T23:03:40.502Z"
   },
   {
    "duration": 17,
    "start_time": "2024-07-06T23:03:40.543Z"
   },
   {
    "duration": 16,
    "start_time": "2024-07-06T23:03:40.561Z"
   },
   {
    "duration": 963,
    "start_time": "2024-07-06T23:03:40.579Z"
   },
   {
    "duration": 710,
    "start_time": "2024-07-06T23:03:41.544Z"
   },
   {
    "duration": 574,
    "start_time": "2024-07-06T23:03:42.256Z"
   },
   {
    "duration": 195,
    "start_time": "2024-07-06T23:03:42.831Z"
   },
   {
    "duration": 20,
    "start_time": "2024-07-06T23:03:43.027Z"
   },
   {
    "duration": 57,
    "start_time": "2024-07-06T23:03:43.049Z"
   },
   {
    "duration": 3,
    "start_time": "2024-07-06T23:03:43.108Z"
   },
   {
    "duration": 24,
    "start_time": "2024-07-06T23:03:43.112Z"
   },
   {
    "duration": 42,
    "start_time": "2024-07-06T23:03:43.138Z"
   },
   {
    "duration": 5022,
    "start_time": "2024-07-06T23:14:39.427Z"
   },
   {
    "duration": 1116,
    "start_time": "2024-07-06T23:14:44.451Z"
   },
   {
    "duration": 3,
    "start_time": "2024-07-06T23:14:45.569Z"
   },
   {
    "duration": 336,
    "start_time": "2024-07-06T23:14:45.574Z"
   },
   {
    "duration": 95,
    "start_time": "2024-07-06T23:14:45.911Z"
   },
   {
    "duration": 20,
    "start_time": "2024-07-06T23:14:46.008Z"
   },
   {
    "duration": 218,
    "start_time": "2024-07-06T23:14:46.029Z"
   },
   {
    "duration": 284,
    "start_time": "2024-07-06T23:14:46.249Z"
   },
   {
    "duration": 8,
    "start_time": "2024-07-06T23:14:46.534Z"
   },
   {
    "duration": 108,
    "start_time": "2024-07-06T23:14:46.544Z"
   },
   {
    "duration": 77,
    "start_time": "2024-07-06T23:14:46.653Z"
   },
   {
    "duration": 120,
    "start_time": "2024-07-06T23:14:46.732Z"
   },
   {
    "duration": 165,
    "start_time": "2024-07-06T23:14:46.853Z"
   },
   {
    "duration": 41,
    "start_time": "2024-07-06T23:14:47.020Z"
   },
   {
    "duration": 11,
    "start_time": "2024-07-06T23:14:47.062Z"
   },
   {
    "duration": 27,
    "start_time": "2024-07-06T23:14:47.074Z"
   },
   {
    "duration": 37,
    "start_time": "2024-07-06T23:14:47.103Z"
   },
   {
    "duration": 18,
    "start_time": "2024-07-06T23:14:47.141Z"
   },
   {
    "duration": 394,
    "start_time": "2024-07-06T23:14:47.160Z"
   },
   {
    "duration": 9,
    "start_time": "2024-07-06T23:14:47.555Z"
   },
   {
    "duration": 41,
    "start_time": "2024-07-06T23:14:47.565Z"
   },
   {
    "duration": 52,
    "start_time": "2024-07-06T23:14:47.608Z"
   },
   {
    "duration": 12,
    "start_time": "2024-07-06T23:14:47.661Z"
   },
   {
    "duration": 68,
    "start_time": "2024-07-06T23:14:47.675Z"
   },
   {
    "duration": 22,
    "start_time": "2024-07-06T23:14:47.745Z"
   },
   {
    "duration": 106,
    "start_time": "2024-07-06T23:14:47.768Z"
   },
   {
    "duration": 6,
    "start_time": "2024-07-06T23:14:47.875Z"
   },
   {
    "duration": 4,
    "start_time": "2024-07-06T23:14:47.884Z"
   },
   {
    "duration": 20,
    "start_time": "2024-07-06T23:14:47.902Z"
   },
   {
    "duration": 29,
    "start_time": "2024-07-06T23:14:47.923Z"
   },
   {
    "duration": 845,
    "start_time": "2024-07-06T23:14:47.954Z"
   },
   {
    "duration": 12,
    "start_time": "2024-07-06T23:14:48.800Z"
   },
   {
    "duration": 75,
    "start_time": "2024-07-06T23:14:48.814Z"
   },
   {
    "duration": 184,
    "start_time": "2024-07-06T23:14:48.890Z"
   },
   {
    "duration": 146,
    "start_time": "2024-07-06T23:14:49.076Z"
   },
   {
    "duration": 149,
    "start_time": "2024-07-06T23:14:49.224Z"
   },
   {
    "duration": 197,
    "start_time": "2024-07-06T23:14:49.374Z"
   },
   {
    "duration": 161,
    "start_time": "2024-07-06T23:14:49.572Z"
   },
   {
    "duration": 231,
    "start_time": "2024-07-06T23:14:49.734Z"
   },
   {
    "duration": 171,
    "start_time": "2024-07-06T23:14:49.967Z"
   },
   {
    "duration": 110,
    "start_time": "2024-07-06T23:14:50.139Z"
   },
   {
    "duration": 193,
    "start_time": "2024-07-06T23:14:50.251Z"
   },
   {
    "duration": 168,
    "start_time": "2024-07-06T23:14:50.445Z"
   },
   {
    "duration": 122,
    "start_time": "2024-07-06T23:14:50.614Z"
   },
   {
    "duration": 32,
    "start_time": "2024-07-06T23:14:50.737Z"
   },
   {
    "duration": 36,
    "start_time": "2024-07-06T23:14:50.771Z"
   },
   {
    "duration": 15,
    "start_time": "2024-07-06T23:14:50.808Z"
   },
   {
    "duration": 983,
    "start_time": "2024-07-06T23:14:50.825Z"
   },
   {
    "duration": 712,
    "start_time": "2024-07-06T23:14:51.809Z"
   },
   {
    "duration": 548,
    "start_time": "2024-07-06T23:14:52.522Z"
   },
   {
    "duration": 195,
    "start_time": "2024-07-06T23:14:53.076Z"
   },
   {
    "duration": 19,
    "start_time": "2024-07-06T23:14:53.272Z"
   },
   {
    "duration": 17,
    "start_time": "2024-07-06T23:14:53.293Z"
   },
   {
    "duration": 26,
    "start_time": "2024-07-06T23:14:53.311Z"
   },
   {
    "duration": 5,
    "start_time": "2024-07-06T23:14:53.338Z"
   },
   {
    "duration": 16,
    "start_time": "2024-07-06T23:14:53.344Z"
   },
   {
    "duration": 5085,
    "start_time": "2024-07-06T23:16:57.023Z"
   },
   {
    "duration": 1242,
    "start_time": "2024-07-06T23:17:02.110Z"
   },
   {
    "duration": 2,
    "start_time": "2024-07-06T23:17:03.354Z"
   },
   {
    "duration": 333,
    "start_time": "2024-07-06T23:17:03.359Z"
   },
   {
    "duration": 38,
    "start_time": "2024-07-06T23:17:03.693Z"
   },
   {
    "duration": 30,
    "start_time": "2024-07-06T23:17:03.732Z"
   },
   {
    "duration": 93,
    "start_time": "2024-07-06T23:17:03.763Z"
   },
   {
    "duration": 184,
    "start_time": "2024-07-06T23:17:03.858Z"
   },
   {
    "duration": 8,
    "start_time": "2024-07-06T23:17:04.044Z"
   },
   {
    "duration": 66,
    "start_time": "2024-07-06T23:17:04.055Z"
   },
   {
    "duration": 37,
    "start_time": "2024-07-06T23:17:04.123Z"
   },
   {
    "duration": 119,
    "start_time": "2024-07-06T23:17:04.161Z"
   },
   {
    "duration": 158,
    "start_time": "2024-07-06T23:17:04.281Z"
   },
   {
    "duration": 62,
    "start_time": "2024-07-06T23:17:04.440Z"
   },
   {
    "duration": 17,
    "start_time": "2024-07-06T23:17:04.503Z"
   },
   {
    "duration": 66,
    "start_time": "2024-07-06T23:17:04.522Z"
   },
   {
    "duration": 51,
    "start_time": "2024-07-06T23:17:04.590Z"
   },
   {
    "duration": 20,
    "start_time": "2024-07-06T23:17:04.643Z"
   },
   {
    "duration": 467,
    "start_time": "2024-07-06T23:17:04.664Z"
   },
   {
    "duration": 9,
    "start_time": "2024-07-06T23:17:05.132Z"
   },
   {
    "duration": 18,
    "start_time": "2024-07-06T23:17:05.143Z"
   },
   {
    "duration": 11,
    "start_time": "2024-07-06T23:17:05.162Z"
   },
   {
    "duration": 31,
    "start_time": "2024-07-06T23:17:05.174Z"
   },
   {
    "duration": 76,
    "start_time": "2024-07-06T23:17:05.206Z"
   },
   {
    "duration": 27,
    "start_time": "2024-07-06T23:17:05.283Z"
   },
   {
    "duration": 111,
    "start_time": "2024-07-06T23:17:05.312Z"
   },
   {
    "duration": 5,
    "start_time": "2024-07-06T23:17:05.424Z"
   },
   {
    "duration": 8,
    "start_time": "2024-07-06T23:17:05.432Z"
   },
   {
    "duration": 49,
    "start_time": "2024-07-06T23:17:05.441Z"
   },
   {
    "duration": 28,
    "start_time": "2024-07-06T23:17:05.491Z"
   },
   {
    "duration": 807,
    "start_time": "2024-07-06T23:17:05.520Z"
   },
   {
    "duration": 13,
    "start_time": "2024-07-06T23:17:06.329Z"
   },
   {
    "duration": 126,
    "start_time": "2024-07-06T23:17:06.343Z"
   },
   {
    "duration": 193,
    "start_time": "2024-07-06T23:17:06.470Z"
   },
   {
    "duration": 143,
    "start_time": "2024-07-06T23:17:06.665Z"
   },
   {
    "duration": 179,
    "start_time": "2024-07-06T23:17:06.809Z"
   },
   {
    "duration": 187,
    "start_time": "2024-07-06T23:17:06.989Z"
   },
   {
    "duration": 167,
    "start_time": "2024-07-06T23:17:07.177Z"
   },
   {
    "duration": 202,
    "start_time": "2024-07-06T23:17:07.346Z"
   },
   {
    "duration": 169,
    "start_time": "2024-07-06T23:17:07.550Z"
   },
   {
    "duration": 113,
    "start_time": "2024-07-06T23:17:07.721Z"
   },
   {
    "duration": 158,
    "start_time": "2024-07-06T23:17:07.835Z"
   },
   {
    "duration": 179,
    "start_time": "2024-07-06T23:17:07.995Z"
   },
   {
    "duration": 127,
    "start_time": "2024-07-06T23:17:08.176Z"
   },
   {
    "duration": 35,
    "start_time": "2024-07-06T23:17:08.304Z"
   },
   {
    "duration": 29,
    "start_time": "2024-07-06T23:17:08.341Z"
   },
   {
    "duration": 14,
    "start_time": "2024-07-06T23:17:08.372Z"
   },
   {
    "duration": 969,
    "start_time": "2024-07-06T23:17:08.387Z"
   },
   {
    "duration": 695,
    "start_time": "2024-07-06T23:17:09.358Z"
   },
   {
    "duration": 583,
    "start_time": "2024-07-06T23:17:10.055Z"
   },
   {
    "duration": 197,
    "start_time": "2024-07-06T23:17:10.640Z"
   },
   {
    "duration": 20,
    "start_time": "2024-07-06T23:17:10.838Z"
   },
   {
    "duration": 3,
    "start_time": "2024-07-06T23:17:10.859Z"
   },
   {
    "duration": 11,
    "start_time": "2024-07-06T23:17:10.863Z"
   },
   {
    "duration": 5,
    "start_time": "2024-07-06T23:17:10.875Z"
   },
   {
    "duration": 5,
    "start_time": "2024-07-06T23:17:10.881Z"
   },
   {
    "duration": 8054,
    "start_time": "2024-07-06T23:17:10.902Z"
   },
   {
    "duration": 118,
    "start_time": "2024-07-06T23:17:18.958Z"
   },
   {
    "duration": 0,
    "start_time": "2024-07-06T23:17:19.078Z"
   },
   {
    "duration": 0,
    "start_time": "2024-07-06T23:17:19.079Z"
   },
   {
    "duration": 41,
    "start_time": "2024-07-06T23:18:31.529Z"
   },
   {
    "duration": 2,
    "start_time": "2024-07-06T23:18:35.317Z"
   },
   {
    "duration": 4,
    "start_time": "2024-07-06T23:18:39.543Z"
   },
   {
    "duration": 4,
    "start_time": "2024-07-06T23:18:45.644Z"
   },
   {
    "duration": 16200,
    "start_time": "2024-07-06T23:19:12.757Z"
   },
   {
    "duration": 273,
    "start_time": "2024-07-06T23:20:52.691Z"
   },
   {
    "duration": 4,
    "start_time": "2024-07-06T23:21:10.573Z"
   },
   {
    "duration": 279,
    "start_time": "2024-07-06T23:21:18.046Z"
   },
   {
    "duration": 275,
    "start_time": "2024-07-06T23:21:38.315Z"
   },
   {
    "duration": 2045,
    "start_time": "2024-07-06T23:24:35.136Z"
   },
   {
    "duration": 4,
    "start_time": "2024-07-06T23:30:38.058Z"
   },
   {
    "duration": 5,
    "start_time": "2024-07-06T23:30:38.833Z"
   },
   {
    "duration": 16153,
    "start_time": "2024-07-06T23:30:40.055Z"
   },
   {
    "duration": 330,
    "start_time": "2024-07-06T23:31:01.084Z"
   },
   {
    "duration": 1854,
    "start_time": "2024-07-06T23:31:04.707Z"
   },
   {
    "duration": 49,
    "start_time": "2024-07-06T23:34:14.460Z"
   },
   {
    "duration": 9074,
    "start_time": "2024-07-06T23:34:54.526Z"
   },
   {
    "duration": 63,
    "start_time": "2024-07-06T23:35:15.679Z"
   },
   {
    "duration": 392,
    "start_time": "2024-07-06T23:35:36.030Z"
   },
   {
    "duration": 80,
    "start_time": "2024-07-06T23:35:50.811Z"
   },
   {
    "duration": 50,
    "start_time": "2024-07-06T23:39:09.797Z"
   },
   {
    "duration": 66,
    "start_time": "2024-07-06T23:39:54.630Z"
   },
   {
    "duration": 64,
    "start_time": "2024-07-06T23:43:21.481Z"
   },
   {
    "duration": 49,
    "start_time": "2024-07-06T23:43:36.419Z"
   },
   {
    "duration": 5,
    "start_time": "2024-07-06T23:44:23.016Z"
   },
   {
    "duration": 7659,
    "start_time": "2024-07-06T23:44:31.268Z"
   },
   {
    "duration": 1610,
    "start_time": "2024-07-06T23:44:38.929Z"
   },
   {
    "duration": 3,
    "start_time": "2024-07-06T23:44:40.540Z"
   },
   {
    "duration": 416,
    "start_time": "2024-07-06T23:44:40.545Z"
   },
   {
    "duration": 37,
    "start_time": "2024-07-06T23:44:40.962Z"
   },
   {
    "duration": 19,
    "start_time": "2024-07-06T23:44:41.000Z"
   },
   {
    "duration": 65,
    "start_time": "2024-07-06T23:44:41.020Z"
   },
   {
    "duration": 217,
    "start_time": "2024-07-06T23:44:41.086Z"
   },
   {
    "duration": 7,
    "start_time": "2024-07-06T23:44:41.304Z"
   },
   {
    "duration": 60,
    "start_time": "2024-07-06T23:44:41.314Z"
   },
   {
    "duration": 58,
    "start_time": "2024-07-06T23:44:41.375Z"
   },
   {
    "duration": 132,
    "start_time": "2024-07-06T23:44:41.435Z"
   },
   {
    "duration": 180,
    "start_time": "2024-07-06T23:44:41.568Z"
   },
   {
    "duration": 31,
    "start_time": "2024-07-06T23:44:41.749Z"
   },
   {
    "duration": 20,
    "start_time": "2024-07-06T23:44:41.781Z"
   },
   {
    "duration": 9,
    "start_time": "2024-07-06T23:44:41.803Z"
   },
   {
    "duration": 43,
    "start_time": "2024-07-06T23:44:41.813Z"
   },
   {
    "duration": 18,
    "start_time": "2024-07-06T23:44:41.858Z"
   },
   {
    "duration": 382,
    "start_time": "2024-07-06T23:44:41.877Z"
   },
   {
    "duration": 8,
    "start_time": "2024-07-06T23:44:42.261Z"
   },
   {
    "duration": 7,
    "start_time": "2024-07-06T23:44:42.271Z"
   },
   {
    "duration": 29,
    "start_time": "2024-07-06T23:44:42.279Z"
   },
   {
    "duration": 13,
    "start_time": "2024-07-06T23:44:42.309Z"
   },
   {
    "duration": 82,
    "start_time": "2024-07-06T23:44:42.324Z"
   },
   {
    "duration": 13,
    "start_time": "2024-07-06T23:44:42.408Z"
   },
   {
    "duration": 103,
    "start_time": "2024-07-06T23:44:42.422Z"
   },
   {
    "duration": 4,
    "start_time": "2024-07-06T23:44:42.527Z"
   },
   {
    "duration": 4,
    "start_time": "2024-07-06T23:44:42.535Z"
   },
   {
    "duration": 27,
    "start_time": "2024-07-06T23:44:42.540Z"
   },
   {
    "duration": 34,
    "start_time": "2024-07-06T23:44:42.568Z"
   },
   {
    "duration": 753,
    "start_time": "2024-07-06T23:44:42.604Z"
   },
   {
    "duration": 17,
    "start_time": "2024-07-06T23:44:43.359Z"
   },
   {
    "duration": 100,
    "start_time": "2024-07-06T23:44:43.377Z"
   },
   {
    "duration": 248,
    "start_time": "2024-07-06T23:44:43.478Z"
   },
   {
    "duration": 141,
    "start_time": "2024-07-06T23:44:43.727Z"
   },
   {
    "duration": 150,
    "start_time": "2024-07-06T23:44:43.869Z"
   },
   {
    "duration": 180,
    "start_time": "2024-07-06T23:44:44.021Z"
   },
   {
    "duration": 139,
    "start_time": "2024-07-06T23:44:44.202Z"
   },
   {
    "duration": 203,
    "start_time": "2024-07-06T23:44:44.343Z"
   },
   {
    "duration": 216,
    "start_time": "2024-07-06T23:44:44.548Z"
   },
   {
    "duration": 121,
    "start_time": "2024-07-06T23:44:44.765Z"
   },
   {
    "duration": 164,
    "start_time": "2024-07-06T23:44:44.887Z"
   },
   {
    "duration": 170,
    "start_time": "2024-07-06T23:44:45.053Z"
   },
   {
    "duration": 117,
    "start_time": "2024-07-06T23:44:45.224Z"
   },
   {
    "duration": 32,
    "start_time": "2024-07-06T23:44:45.342Z"
   },
   {
    "duration": 29,
    "start_time": "2024-07-06T23:44:45.375Z"
   },
   {
    "duration": 14,
    "start_time": "2024-07-06T23:44:45.405Z"
   },
   {
    "duration": 934,
    "start_time": "2024-07-06T23:44:45.420Z"
   },
   {
    "duration": 693,
    "start_time": "2024-07-06T23:44:46.356Z"
   },
   {
    "duration": 571,
    "start_time": "2024-07-06T23:44:47.051Z"
   },
   {
    "duration": 220,
    "start_time": "2024-07-06T23:44:47.624Z"
   },
   {
    "duration": 19,
    "start_time": "2024-07-06T23:44:47.845Z"
   },
   {
    "duration": 75,
    "start_time": "2024-07-06T23:44:47.866Z"
   },
   {
    "duration": 2,
    "start_time": "2024-07-06T23:44:47.942Z"
   },
   {
    "duration": 10,
    "start_time": "2024-07-06T23:44:47.945Z"
   },
   {
    "duration": 11,
    "start_time": "2024-07-06T23:44:47.956Z"
   },
   {
    "duration": 16154,
    "start_time": "2024-07-06T23:44:47.968Z"
   },
   {
    "duration": 286,
    "start_time": "2024-07-06T23:45:04.123Z"
   },
   {
    "duration": 1910,
    "start_time": "2024-07-06T23:45:04.410Z"
   },
   {
    "duration": 181,
    "start_time": "2024-07-06T23:45:06.321Z"
   },
   {
    "duration": 0,
    "start_time": "2024-07-06T23:45:06.504Z"
   },
   {
    "duration": 0,
    "start_time": "2024-07-06T23:45:06.505Z"
   },
   {
    "duration": 63,
    "start_time": "2024-07-06T23:45:14.469Z"
   },
   {
    "duration": 106,
    "start_time": "2024-07-06T23:46:06.297Z"
   },
   {
    "duration": 63,
    "start_time": "2024-07-06T23:46:45.617Z"
   },
   {
    "duration": 74,
    "start_time": "2024-07-06T23:47:32.832Z"
   },
   {
    "duration": 65,
    "start_time": "2024-07-06T23:47:55.937Z"
   },
   {
    "duration": 117,
    "start_time": "2024-07-06T23:57:57.276Z"
   },
   {
    "duration": 124,
    "start_time": "2024-07-06T23:58:28.844Z"
   },
   {
    "duration": 119,
    "start_time": "2024-07-06T23:58:38.659Z"
   },
   {
    "duration": 142,
    "start_time": "2024-07-06T23:59:41.356Z"
   },
   {
    "duration": 10,
    "start_time": "2024-07-07T00:08:10.349Z"
   },
   {
    "duration": 8,
    "start_time": "2024-07-07T00:08:26.432Z"
   },
   {
    "duration": 308,
    "start_time": "2024-07-07T00:08:30.255Z"
   },
   {
    "duration": 9,
    "start_time": "2024-07-07T00:08:30.890Z"
   },
   {
    "duration": 3,
    "start_time": "2024-07-07T00:08:36.570Z"
   },
   {
    "duration": 11,
    "start_time": "2024-07-07T00:08:49.709Z"
   },
   {
    "duration": 8,
    "start_time": "2024-07-07T00:08:58.947Z"
   },
   {
    "duration": 4,
    "start_time": "2024-07-07T00:09:05.037Z"
   },
   {
    "duration": 4,
    "start_time": "2024-07-07T00:09:11.151Z"
   },
   {
    "duration": 3,
    "start_time": "2024-07-07T00:09:14.851Z"
   },
   {
    "duration": 3,
    "start_time": "2024-07-07T00:09:19.059Z"
   },
   {
    "duration": 4,
    "start_time": "2024-07-07T00:09:21.798Z"
   },
   {
    "duration": 8,
    "start_time": "2024-07-07T00:09:34.229Z"
   },
   {
    "duration": 8,
    "start_time": "2024-07-07T00:09:37.323Z"
   },
   {
    "duration": 4,
    "start_time": "2024-07-07T00:10:43.842Z"
   },
   {
    "duration": 140,
    "start_time": "2024-07-07T00:11:59.174Z"
   },
   {
    "duration": 138,
    "start_time": "2024-07-07T00:13:20.699Z"
   },
   {
    "duration": 125,
    "start_time": "2024-07-07T00:13:38.165Z"
   },
   {
    "duration": 123,
    "start_time": "2024-07-07T00:14:18.392Z"
   },
   {
    "duration": 120,
    "start_time": "2024-07-07T00:14:30.070Z"
   },
   {
    "duration": 61,
    "start_time": "2024-07-07T00:18:53.861Z"
   },
   {
    "duration": 320,
    "start_time": "2024-07-07T00:20:59.913Z"
   },
   {
    "duration": 336,
    "start_time": "2024-07-07T00:22:12.951Z"
   },
   {
    "duration": 334,
    "start_time": "2024-07-07T00:22:18.905Z"
   },
   {
    "duration": 305,
    "start_time": "2024-07-07T00:29:17.494Z"
   },
   {
    "duration": 320,
    "start_time": "2024-07-07T00:29:56.169Z"
   },
   {
    "duration": 320,
    "start_time": "2024-07-07T00:32:54.688Z"
   },
   {
    "duration": 303,
    "start_time": "2024-07-07T00:33:25.248Z"
   },
   {
    "duration": 7886,
    "start_time": "2024-07-07T00:34:07.634Z"
   },
   {
    "duration": 1684,
    "start_time": "2024-07-07T00:34:15.522Z"
   },
   {
    "duration": 2,
    "start_time": "2024-07-07T00:34:17.207Z"
   },
   {
    "duration": 430,
    "start_time": "2024-07-07T00:34:17.212Z"
   },
   {
    "duration": 37,
    "start_time": "2024-07-07T00:34:17.644Z"
   },
   {
    "duration": 22,
    "start_time": "2024-07-07T00:34:17.683Z"
   },
   {
    "duration": 64,
    "start_time": "2024-07-07T00:34:17.706Z"
   },
   {
    "duration": 212,
    "start_time": "2024-07-07T00:34:17.772Z"
   },
   {
    "duration": 7,
    "start_time": "2024-07-07T00:34:17.986Z"
   },
   {
    "duration": 69,
    "start_time": "2024-07-07T00:34:18.001Z"
   },
   {
    "duration": 32,
    "start_time": "2024-07-07T00:34:18.072Z"
   },
   {
    "duration": 128,
    "start_time": "2024-07-07T00:34:18.105Z"
   },
   {
    "duration": 157,
    "start_time": "2024-07-07T00:34:18.235Z"
   },
   {
    "duration": 38,
    "start_time": "2024-07-07T00:34:18.394Z"
   },
   {
    "duration": 11,
    "start_time": "2024-07-07T00:34:18.433Z"
   },
   {
    "duration": 8,
    "start_time": "2024-07-07T00:34:18.445Z"
   },
   {
    "duration": 56,
    "start_time": "2024-07-07T00:34:18.454Z"
   },
   {
    "duration": 20,
    "start_time": "2024-07-07T00:34:18.512Z"
   },
   {
    "duration": 397,
    "start_time": "2024-07-07T00:34:18.533Z"
   },
   {
    "duration": 8,
    "start_time": "2024-07-07T00:34:18.932Z"
   },
   {
    "duration": 8,
    "start_time": "2024-07-07T00:34:18.941Z"
   },
   {
    "duration": 10,
    "start_time": "2024-07-07T00:34:18.950Z"
   },
   {
    "duration": 11,
    "start_time": "2024-07-07T00:34:18.961Z"
   },
   {
    "duration": 88,
    "start_time": "2024-07-07T00:34:18.973Z"
   },
   {
    "duration": 14,
    "start_time": "2024-07-07T00:34:19.063Z"
   },
   {
    "duration": 113,
    "start_time": "2024-07-07T00:34:19.078Z"
   },
   {
    "duration": 11,
    "start_time": "2024-07-07T00:34:19.193Z"
   },
   {
    "duration": 5,
    "start_time": "2024-07-07T00:34:19.208Z"
   },
   {
    "duration": 29,
    "start_time": "2024-07-07T00:34:19.214Z"
   },
   {
    "duration": 40,
    "start_time": "2024-07-07T00:34:19.245Z"
   },
   {
    "duration": 753,
    "start_time": "2024-07-07T00:34:19.286Z"
   },
   {
    "duration": 13,
    "start_time": "2024-07-07T00:34:20.041Z"
   },
   {
    "duration": 107,
    "start_time": "2024-07-07T00:34:20.055Z"
   },
   {
    "duration": 300,
    "start_time": "2024-07-07T00:34:20.164Z"
   },
   {
    "duration": 150,
    "start_time": "2024-07-07T00:34:20.465Z"
   },
   {
    "duration": 169,
    "start_time": "2024-07-07T00:34:20.616Z"
   },
   {
    "duration": 190,
    "start_time": "2024-07-07T00:34:20.786Z"
   },
   {
    "duration": 152,
    "start_time": "2024-07-07T00:34:20.978Z"
   },
   {
    "duration": 210,
    "start_time": "2024-07-07T00:34:21.131Z"
   },
   {
    "duration": 174,
    "start_time": "2024-07-07T00:34:21.342Z"
   },
   {
    "duration": 110,
    "start_time": "2024-07-07T00:34:21.517Z"
   },
   {
    "duration": 173,
    "start_time": "2024-07-07T00:34:21.628Z"
   },
   {
    "duration": 165,
    "start_time": "2024-07-07T00:34:21.802Z"
   },
   {
    "duration": 117,
    "start_time": "2024-07-07T00:34:21.968Z"
   },
   {
    "duration": 41,
    "start_time": "2024-07-07T00:34:22.086Z"
   },
   {
    "duration": 25,
    "start_time": "2024-07-07T00:34:22.129Z"
   },
   {
    "duration": 15,
    "start_time": "2024-07-07T00:34:22.155Z"
   },
   {
    "duration": 940,
    "start_time": "2024-07-07T00:34:22.171Z"
   },
   {
    "duration": 728,
    "start_time": "2024-07-07T00:34:23.113Z"
   },
   {
    "duration": 553,
    "start_time": "2024-07-07T00:34:23.843Z"
   },
   {
    "duration": 195,
    "start_time": "2024-07-07T00:34:24.398Z"
   },
   {
    "duration": 22,
    "start_time": "2024-07-07T00:34:24.595Z"
   },
   {
    "duration": 63,
    "start_time": "2024-07-07T00:34:24.619Z"
   },
   {
    "duration": 17,
    "start_time": "2024-07-07T00:34:24.684Z"
   },
   {
    "duration": 19,
    "start_time": "2024-07-07T00:34:24.703Z"
   },
   {
    "duration": 10,
    "start_time": "2024-07-07T00:34:24.723Z"
   },
   {
    "duration": 16055,
    "start_time": "2024-07-07T00:34:24.735Z"
   },
   {
    "duration": 285,
    "start_time": "2024-07-07T00:34:40.792Z"
   },
   {
    "duration": 309,
    "start_time": "2024-07-07T00:34:41.079Z"
   },
   {
    "duration": 129,
    "start_time": "2024-07-07T00:35:02.294Z"
   },
   {
    "duration": 105,
    "start_time": "2024-07-07T00:36:00.951Z"
   },
   {
    "duration": 217,
    "start_time": "2024-07-07T00:36:45.211Z"
   },
   {
    "duration": 7869,
    "start_time": "2024-07-07T00:59:25.155Z"
   },
   {
    "duration": 1559,
    "start_time": "2024-07-07T00:59:33.026Z"
   },
   {
    "duration": 3,
    "start_time": "2024-07-07T00:59:34.587Z"
   },
   {
    "duration": 426,
    "start_time": "2024-07-07T00:59:34.592Z"
   },
   {
    "duration": 39,
    "start_time": "2024-07-07T00:59:35.020Z"
   },
   {
    "duration": 18,
    "start_time": "2024-07-07T00:59:35.061Z"
   },
   {
    "duration": 86,
    "start_time": "2024-07-07T00:59:35.080Z"
   },
   {
    "duration": 211,
    "start_time": "2024-07-07T00:59:35.168Z"
   },
   {
    "duration": 7,
    "start_time": "2024-07-07T00:59:35.380Z"
   },
   {
    "duration": 52,
    "start_time": "2024-07-07T00:59:35.389Z"
   },
   {
    "duration": 33,
    "start_time": "2024-07-07T00:59:35.443Z"
   },
   {
    "duration": 157,
    "start_time": "2024-07-07T00:59:35.478Z"
   },
   {
    "duration": 152,
    "start_time": "2024-07-07T00:59:35.636Z"
   },
   {
    "duration": 39,
    "start_time": "2024-07-07T00:59:35.789Z"
   },
   {
    "duration": 11,
    "start_time": "2024-07-07T00:59:35.830Z"
   },
   {
    "duration": 9,
    "start_time": "2024-07-07T00:59:35.843Z"
   },
   {
    "duration": 61,
    "start_time": "2024-07-07T00:59:35.853Z"
   },
   {
    "duration": 19,
    "start_time": "2024-07-07T00:59:35.916Z"
   },
   {
    "duration": 400,
    "start_time": "2024-07-07T00:59:35.936Z"
   },
   {
    "duration": 9,
    "start_time": "2024-07-07T00:59:36.338Z"
   },
   {
    "duration": 7,
    "start_time": "2024-07-07T00:59:36.348Z"
   },
   {
    "duration": 12,
    "start_time": "2024-07-07T00:59:36.356Z"
   },
   {
    "duration": 40,
    "start_time": "2024-07-07T00:59:36.369Z"
   },
   {
    "duration": 66,
    "start_time": "2024-07-07T00:59:36.410Z"
   },
   {
    "duration": 29,
    "start_time": "2024-07-07T00:59:36.477Z"
   },
   {
    "duration": 102,
    "start_time": "2024-07-07T00:59:36.507Z"
   },
   {
    "duration": 6,
    "start_time": "2024-07-07T00:59:36.611Z"
   },
   {
    "duration": 4,
    "start_time": "2024-07-07T00:59:36.621Z"
   },
   {
    "duration": 15,
    "start_time": "2024-07-07T00:59:36.626Z"
   },
   {
    "duration": 27,
    "start_time": "2024-07-07T00:59:36.642Z"
   },
   {
    "duration": 796,
    "start_time": "2024-07-07T00:59:36.670Z"
   },
   {
    "duration": 13,
    "start_time": "2024-07-07T00:59:37.467Z"
   },
   {
    "duration": 83,
    "start_time": "2024-07-07T00:59:37.481Z"
   },
   {
    "duration": 261,
    "start_time": "2024-07-07T00:59:37.565Z"
   },
   {
    "duration": 141,
    "start_time": "2024-07-07T00:59:37.828Z"
   },
   {
    "duration": 152,
    "start_time": "2024-07-07T00:59:37.971Z"
   },
   {
    "duration": 184,
    "start_time": "2024-07-07T00:59:38.124Z"
   },
   {
    "duration": 180,
    "start_time": "2024-07-07T00:59:38.310Z"
   },
   {
    "duration": 210,
    "start_time": "2024-07-07T00:59:38.492Z"
   },
   {
    "duration": 177,
    "start_time": "2024-07-07T00:59:38.704Z"
   },
   {
    "duration": 107,
    "start_time": "2024-07-07T00:59:38.883Z"
   },
   {
    "duration": 160,
    "start_time": "2024-07-07T00:59:38.991Z"
   },
   {
    "duration": 182,
    "start_time": "2024-07-07T00:59:39.152Z"
   },
   {
    "duration": 122,
    "start_time": "2024-07-07T00:59:39.335Z"
   },
   {
    "duration": 32,
    "start_time": "2024-07-07T00:59:39.458Z"
   },
   {
    "duration": 23,
    "start_time": "2024-07-07T00:59:39.492Z"
   },
   {
    "duration": 16,
    "start_time": "2024-07-07T00:59:39.516Z"
   },
   {
    "duration": 1002,
    "start_time": "2024-07-07T00:59:39.533Z"
   },
   {
    "duration": 697,
    "start_time": "2024-07-07T00:59:40.536Z"
   },
   {
    "duration": 564,
    "start_time": "2024-07-07T00:59:41.235Z"
   },
   {
    "duration": 208,
    "start_time": "2024-07-07T00:59:41.800Z"
   },
   {
    "duration": 19,
    "start_time": "2024-07-07T00:59:42.009Z"
   },
   {
    "duration": 1,
    "start_time": "2024-07-07T00:59:42.030Z"
   },
   {
    "duration": 8,
    "start_time": "2024-07-07T00:59:42.033Z"
   },
   {
    "duration": 13,
    "start_time": "2024-07-07T00:59:42.042Z"
   },
   {
    "duration": 21,
    "start_time": "2024-07-07T00:59:42.056Z"
   },
   {
    "duration": 7786,
    "start_time": "2024-07-07T00:59:42.078Z"
   },
   {
    "duration": 17,
    "start_time": "2024-07-07T00:59:49.866Z"
   },
   {
    "duration": 33,
    "start_time": "2024-07-07T00:59:49.885Z"
   },
   {
    "duration": 79,
    "start_time": "2024-07-07T00:59:49.920Z"
   },
   {
    "duration": 134,
    "start_time": "2024-07-07T01:03:54.931Z"
   },
   {
    "duration": 6,
    "start_time": "2024-07-07T01:04:14.089Z"
   },
   {
    "duration": 259,
    "start_time": "2024-07-07T01:04:23.964Z"
   },
   {
    "duration": 14,
    "start_time": "2024-07-07T01:08:10.096Z"
   },
   {
    "duration": 993,
    "start_time": "2024-07-07T01:08:25.391Z"
   },
   {
    "duration": 398,
    "start_time": "2024-07-07T01:08:54.190Z"
   },
   {
    "duration": 910,
    "start_time": "2024-07-07T01:09:14.970Z"
   },
   {
    "duration": 876,
    "start_time": "2024-07-07T01:10:27.932Z"
   },
   {
    "duration": 67,
    "start_time": "2024-07-07T09:18:05.890Z"
   },
   {
    "duration": 49,
    "start_time": "2024-07-10T20:16:48.130Z"
   },
   {
    "duration": 5,
    "start_time": "2024-07-10T20:19:53.290Z"
   },
   {
    "duration": 6,
    "start_time": "2024-07-10T20:20:12.306Z"
   },
   {
    "duration": 6,
    "start_time": "2024-07-10T20:20:27.333Z"
   },
   {
    "duration": 6,
    "start_time": "2024-07-10T20:25:27.853Z"
   },
   {
    "duration": 14357,
    "start_time": "2024-07-10T20:25:49.262Z"
   },
   {
    "duration": 1976,
    "start_time": "2024-07-10T20:26:03.622Z"
   },
   {
    "duration": 2,
    "start_time": "2024-07-10T20:26:05.600Z"
   },
   {
    "duration": 470,
    "start_time": "2024-07-10T20:26:05.604Z"
   },
   {
    "duration": 48,
    "start_time": "2024-07-10T20:26:06.075Z"
   },
   {
    "duration": 42,
    "start_time": "2024-07-10T20:26:06.125Z"
   },
   {
    "duration": 101,
    "start_time": "2024-07-10T20:26:06.169Z"
   },
   {
    "duration": 213,
    "start_time": "2024-07-10T20:26:06.272Z"
   },
   {
    "duration": 9,
    "start_time": "2024-07-10T20:26:06.486Z"
   },
   {
    "duration": 121,
    "start_time": "2024-07-10T20:26:06.497Z"
   },
   {
    "duration": 49,
    "start_time": "2024-07-10T20:26:06.620Z"
   },
   {
    "duration": 176,
    "start_time": "2024-07-10T20:26:06.671Z"
   },
   {
    "duration": 190,
    "start_time": "2024-07-10T20:26:06.849Z"
   },
   {
    "duration": 44,
    "start_time": "2024-07-10T20:26:07.042Z"
   },
   {
    "duration": 16,
    "start_time": "2024-07-10T20:26:07.088Z"
   },
   {
    "duration": 11,
    "start_time": "2024-07-10T20:26:07.106Z"
   },
   {
    "duration": 73,
    "start_time": "2024-07-10T20:26:07.119Z"
   },
   {
    "duration": 23,
    "start_time": "2024-07-10T20:26:07.194Z"
   },
   {
    "duration": 479,
    "start_time": "2024-07-10T20:26:07.219Z"
   },
   {
    "duration": 11,
    "start_time": "2024-07-10T20:26:07.699Z"
   },
   {
    "duration": 7,
    "start_time": "2024-07-10T20:26:07.712Z"
   },
   {
    "duration": 24,
    "start_time": "2024-07-10T20:26:07.721Z"
   },
   {
    "duration": 29,
    "start_time": "2024-07-10T20:26:07.747Z"
   },
   {
    "duration": 99,
    "start_time": "2024-07-10T20:26:07.777Z"
   },
   {
    "duration": 17,
    "start_time": "2024-07-10T20:26:07.879Z"
   },
   {
    "duration": 138,
    "start_time": "2024-07-10T20:26:07.898Z"
   },
   {
    "duration": 6,
    "start_time": "2024-07-10T20:26:08.038Z"
   },
   {
    "duration": 22,
    "start_time": "2024-07-10T20:26:08.047Z"
   },
   {
    "duration": 23,
    "start_time": "2024-07-10T20:26:08.071Z"
   },
   {
    "duration": 35,
    "start_time": "2024-07-10T20:26:08.095Z"
   },
   {
    "duration": 155,
    "start_time": "2024-07-10T20:26:08.132Z"
   },
   {
    "duration": 0,
    "start_time": "2024-07-10T20:26:08.288Z"
   },
   {
    "duration": 0,
    "start_time": "2024-07-10T20:26:08.289Z"
   },
   {
    "duration": 0,
    "start_time": "2024-07-10T20:26:08.290Z"
   },
   {
    "duration": 0,
    "start_time": "2024-07-10T20:26:08.291Z"
   },
   {
    "duration": 0,
    "start_time": "2024-07-10T20:26:08.292Z"
   },
   {
    "duration": 0,
    "start_time": "2024-07-10T20:26:08.294Z"
   },
   {
    "duration": 0,
    "start_time": "2024-07-10T20:26:08.295Z"
   },
   {
    "duration": 0,
    "start_time": "2024-07-10T20:26:08.296Z"
   },
   {
    "duration": 0,
    "start_time": "2024-07-10T20:26:08.297Z"
   },
   {
    "duration": 0,
    "start_time": "2024-07-10T20:26:08.298Z"
   },
   {
    "duration": 0,
    "start_time": "2024-07-10T20:26:08.299Z"
   },
   {
    "duration": 0,
    "start_time": "2024-07-10T20:26:08.301Z"
   },
   {
    "duration": 0,
    "start_time": "2024-07-10T20:26:08.301Z"
   },
   {
    "duration": 0,
    "start_time": "2024-07-10T20:26:08.302Z"
   },
   {
    "duration": 0,
    "start_time": "2024-07-10T20:26:08.304Z"
   },
   {
    "duration": 0,
    "start_time": "2024-07-10T20:26:08.305Z"
   },
   {
    "duration": 0,
    "start_time": "2024-07-10T20:26:08.305Z"
   },
   {
    "duration": 0,
    "start_time": "2024-07-10T20:26:08.307Z"
   },
   {
    "duration": 0,
    "start_time": "2024-07-10T20:26:08.308Z"
   },
   {
    "duration": 0,
    "start_time": "2024-07-10T20:26:08.309Z"
   },
   {
    "duration": 0,
    "start_time": "2024-07-10T20:26:08.310Z"
   },
   {
    "duration": 0,
    "start_time": "2024-07-10T20:26:08.311Z"
   },
   {
    "duration": 0,
    "start_time": "2024-07-10T20:26:08.312Z"
   },
   {
    "duration": 0,
    "start_time": "2024-07-10T20:26:08.313Z"
   },
   {
    "duration": 0,
    "start_time": "2024-07-10T20:26:08.314Z"
   },
   {
    "duration": 0,
    "start_time": "2024-07-10T20:26:08.315Z"
   },
   {
    "duration": 0,
    "start_time": "2024-07-10T20:26:08.317Z"
   },
   {
    "duration": 0,
    "start_time": "2024-07-10T20:26:08.365Z"
   },
   {
    "duration": 0,
    "start_time": "2024-07-10T20:26:08.367Z"
   },
   {
    "duration": 0,
    "start_time": "2024-07-10T20:26:08.369Z"
   },
   {
    "duration": 0,
    "start_time": "2024-07-10T20:26:08.370Z"
   },
   {
    "duration": 0,
    "start_time": "2024-07-10T20:26:08.372Z"
   },
   {
    "duration": 0,
    "start_time": "2024-07-10T20:26:08.373Z"
   },
   {
    "duration": 0,
    "start_time": "2024-07-10T20:26:08.375Z"
   },
   {
    "duration": 0,
    "start_time": "2024-07-10T20:26:08.376Z"
   },
   {
    "duration": 47,
    "start_time": "2024-07-10T20:26:26.201Z"
   },
   {
    "duration": 20,
    "start_time": "2024-07-10T20:26:29.329Z"
   },
   {
    "duration": 20,
    "start_time": "2024-07-10T20:26:31.790Z"
   },
   {
    "duration": 24,
    "start_time": "2024-07-10T20:26:38.097Z"
   },
   {
    "duration": 3,
    "start_time": "2024-07-10T20:26:43.254Z"
   },
   {
    "duration": 5,
    "start_time": "2024-07-10T20:26:44.997Z"
   },
   {
    "duration": 75,
    "start_time": "2024-07-10T20:26:46.413Z"
   },
   {
    "duration": 81,
    "start_time": "2024-07-10T20:27:58.298Z"
   },
   {
    "duration": 84,
    "start_time": "2024-07-10T20:30:58.209Z"
   },
   {
    "duration": 58,
    "start_time": "2024-07-10T20:31:09.157Z"
   },
   {
    "duration": 59,
    "start_time": "2024-07-10T20:31:24.541Z"
   },
   {
    "duration": 52,
    "start_time": "2024-07-10T20:31:33.845Z"
   },
   {
    "duration": 76,
    "start_time": "2024-07-10T20:32:09.798Z"
   },
   {
    "duration": 51,
    "start_time": "2024-07-10T20:37:02.357Z"
   },
   {
    "duration": 58,
    "start_time": "2024-07-10T20:37:07.514Z"
   },
   {
    "duration": 5,
    "start_time": "2024-07-10T20:37:22.450Z"
   },
   {
    "duration": 158163,
    "start_time": "2024-07-10T20:37:29.362Z"
   },
   {
    "duration": 22387,
    "start_time": "2024-07-10T20:40:45.374Z"
   },
   {
    "duration": 23819,
    "start_time": "2024-07-10T20:41:52.674Z"
   },
   {
    "duration": 153,
    "start_time": "2024-07-10T20:42:20.469Z"
   },
   {
    "duration": 57,
    "start_time": "2024-07-11T09:46:45.387Z"
   },
   {
    "duration": 15046,
    "start_time": "2024-07-11T09:50:44.224Z"
   },
   {
    "duration": 2013,
    "start_time": "2024-07-11T09:50:59.272Z"
   },
   {
    "duration": 3,
    "start_time": "2024-07-11T09:51:01.286Z"
   },
   {
    "duration": 621,
    "start_time": "2024-07-11T09:51:01.291Z"
   },
   {
    "duration": 55,
    "start_time": "2024-07-11T09:51:01.914Z"
   },
   {
    "duration": 65,
    "start_time": "2024-07-11T09:51:01.971Z"
   },
   {
    "duration": 160,
    "start_time": "2024-07-11T09:51:02.038Z"
   },
   {
    "duration": 228,
    "start_time": "2024-07-11T09:51:02.199Z"
   },
   {
    "duration": 8,
    "start_time": "2024-07-11T09:51:02.429Z"
   },
   {
    "duration": 161,
    "start_time": "2024-07-11T09:51:02.439Z"
   },
   {
    "duration": 110,
    "start_time": "2024-07-11T09:51:02.602Z"
   },
   {
    "duration": 372,
    "start_time": "2024-07-11T09:51:02.714Z"
   },
   {
    "duration": 190,
    "start_time": "2024-07-11T09:51:03.088Z"
   },
   {
    "duration": 37,
    "start_time": "2024-07-11T09:51:03.283Z"
   },
   {
    "duration": 14,
    "start_time": "2024-07-11T09:51:03.322Z"
   },
   {
    "duration": 21,
    "start_time": "2024-07-11T09:51:03.338Z"
   },
   {
    "duration": 69,
    "start_time": "2024-07-11T09:51:03.360Z"
   },
   {
    "duration": 24,
    "start_time": "2024-07-11T09:51:03.431Z"
   },
   {
    "duration": 530,
    "start_time": "2024-07-11T09:51:03.457Z"
   },
   {
    "duration": 11,
    "start_time": "2024-07-11T09:51:03.989Z"
   },
   {
    "duration": 25,
    "start_time": "2024-07-11T09:51:04.001Z"
   },
   {
    "duration": 16,
    "start_time": "2024-07-11T09:51:04.028Z"
   },
   {
    "duration": 14,
    "start_time": "2024-07-11T09:51:04.046Z"
   },
   {
    "duration": 104,
    "start_time": "2024-07-11T09:51:04.061Z"
   },
   {
    "duration": 26,
    "start_time": "2024-07-11T09:51:04.166Z"
   },
   {
    "duration": 140,
    "start_time": "2024-07-11T09:51:04.194Z"
   },
   {
    "duration": 6,
    "start_time": "2024-07-11T09:51:04.335Z"
   },
   {
    "duration": 4,
    "start_time": "2024-07-11T09:51:04.346Z"
   },
   {
    "duration": 38,
    "start_time": "2024-07-11T09:51:04.352Z"
   },
   {
    "duration": 36,
    "start_time": "2024-07-11T09:51:04.391Z"
   },
   {
    "duration": 169,
    "start_time": "2024-07-11T09:51:04.429Z"
   },
   {
    "duration": 0,
    "start_time": "2024-07-11T09:51:04.600Z"
   },
   {
    "duration": 0,
    "start_time": "2024-07-11T09:51:04.601Z"
   },
   {
    "duration": 0,
    "start_time": "2024-07-11T09:51:04.602Z"
   },
   {
    "duration": 0,
    "start_time": "2024-07-11T09:51:04.603Z"
   },
   {
    "duration": 0,
    "start_time": "2024-07-11T09:51:04.604Z"
   },
   {
    "duration": 0,
    "start_time": "2024-07-11T09:51:04.605Z"
   },
   {
    "duration": 0,
    "start_time": "2024-07-11T09:51:04.606Z"
   },
   {
    "duration": 0,
    "start_time": "2024-07-11T09:51:04.607Z"
   },
   {
    "duration": 0,
    "start_time": "2024-07-11T09:51:04.608Z"
   },
   {
    "duration": 0,
    "start_time": "2024-07-11T09:51:04.610Z"
   },
   {
    "duration": 0,
    "start_time": "2024-07-11T09:51:04.611Z"
   },
   {
    "duration": 0,
    "start_time": "2024-07-11T09:51:04.612Z"
   },
   {
    "duration": 0,
    "start_time": "2024-07-11T09:51:04.613Z"
   },
   {
    "duration": 0,
    "start_time": "2024-07-11T09:51:04.614Z"
   },
   {
    "duration": 0,
    "start_time": "2024-07-11T09:51:04.615Z"
   },
   {
    "duration": 0,
    "start_time": "2024-07-11T09:51:04.617Z"
   },
   {
    "duration": 0,
    "start_time": "2024-07-11T09:51:04.618Z"
   },
   {
    "duration": 0,
    "start_time": "2024-07-11T09:51:04.619Z"
   },
   {
    "duration": 0,
    "start_time": "2024-07-11T09:51:04.620Z"
   },
   {
    "duration": 0,
    "start_time": "2024-07-11T09:51:04.621Z"
   },
   {
    "duration": 0,
    "start_time": "2024-07-11T09:51:04.622Z"
   },
   {
    "duration": 0,
    "start_time": "2024-07-11T09:51:04.623Z"
   },
   {
    "duration": 0,
    "start_time": "2024-07-11T09:51:04.624Z"
   },
   {
    "duration": 0,
    "start_time": "2024-07-11T09:51:04.625Z"
   },
   {
    "duration": 0,
    "start_time": "2024-07-11T09:51:04.626Z"
   },
   {
    "duration": 0,
    "start_time": "2024-07-11T09:51:04.627Z"
   },
   {
    "duration": 0,
    "start_time": "2024-07-11T09:51:04.629Z"
   },
   {
    "duration": 0,
    "start_time": "2024-07-11T09:51:04.630Z"
   },
   {
    "duration": 0,
    "start_time": "2024-07-11T09:51:04.631Z"
   },
   {
    "duration": 0,
    "start_time": "2024-07-11T09:51:04.682Z"
   },
   {
    "duration": 0,
    "start_time": "2024-07-11T09:51:04.684Z"
   },
   {
    "duration": 0,
    "start_time": "2024-07-11T09:51:04.685Z"
   },
   {
    "duration": 0,
    "start_time": "2024-07-11T09:51:04.686Z"
   },
   {
    "duration": 0,
    "start_time": "2024-07-11T09:51:04.687Z"
   },
   {
    "duration": 0,
    "start_time": "2024-07-11T09:51:04.688Z"
   },
   {
    "duration": 0,
    "start_time": "2024-07-11T09:51:04.689Z"
   },
   {
    "duration": 0,
    "start_time": "2024-07-11T09:51:04.691Z"
   },
   {
    "duration": 0,
    "start_time": "2024-07-11T09:51:04.692Z"
   },
   {
    "duration": 0,
    "start_time": "2024-07-11T09:51:04.693Z"
   },
   {
    "duration": 0,
    "start_time": "2024-07-11T09:51:04.694Z"
   },
   {
    "duration": 0,
    "start_time": "2024-07-11T09:51:04.695Z"
   },
   {
    "duration": 0,
    "start_time": "2024-07-11T09:51:04.697Z"
   },
   {
    "duration": 0,
    "start_time": "2024-07-11T09:51:04.698Z"
   },
   {
    "duration": 0,
    "start_time": "2024-07-11T09:51:04.699Z"
   },
   {
    "duration": 0,
    "start_time": "2024-07-11T09:51:04.700Z"
   },
   {
    "duration": 0,
    "start_time": "2024-07-11T09:51:04.701Z"
   },
   {
    "duration": 0,
    "start_time": "2024-07-11T09:51:04.702Z"
   },
   {
    "duration": 0,
    "start_time": "2024-07-11T09:51:04.703Z"
   },
   {
    "duration": 47,
    "start_time": "2024-07-11T09:51:26.876Z"
   },
   {
    "duration": 18,
    "start_time": "2024-07-11T09:51:30.755Z"
   },
   {
    "duration": 17,
    "start_time": "2024-07-11T09:51:32.948Z"
   },
   {
    "duration": 25,
    "start_time": "2024-07-11T09:51:38.164Z"
   },
   {
    "duration": 12,
    "start_time": "2024-07-11T09:51:41.711Z"
   },
   {
    "duration": 5,
    "start_time": "2024-07-11T09:52:02.960Z"
   },
   {
    "duration": 15,
    "start_time": "2024-07-11T09:52:13.460Z"
   },
   {
    "duration": 10,
    "start_time": "2024-07-11T09:52:18.824Z"
   },
   {
    "duration": 5,
    "start_time": "2024-07-11T09:52:51.033Z"
   },
   {
    "duration": 12,
    "start_time": "2024-07-11T09:52:58.272Z"
   },
   {
    "duration": 10,
    "start_time": "2024-07-11T10:00:34.108Z"
   },
   {
    "duration": 29,
    "start_time": "2024-07-11T10:00:35.152Z"
   },
   {
    "duration": 55,
    "start_time": "2024-07-11T10:00:36.060Z"
   },
   {
    "duration": 8,
    "start_time": "2024-07-11T10:00:38.152Z"
   },
   {
    "duration": 17,
    "start_time": "2024-07-11T10:00:39.220Z"
   },
   {
    "duration": 8,
    "start_time": "2024-07-11T10:00:42.756Z"
   },
   {
    "duration": 18,
    "start_time": "2024-07-11T10:00:45.384Z"
   },
   {
    "duration": 723,
    "start_time": "2024-07-11T10:00:48.460Z"
   },
   {
    "duration": 25,
    "start_time": "2024-07-11T10:00:50.240Z"
   },
   {
    "duration": 22,
    "start_time": "2024-07-11T10:02:21.436Z"
   },
   {
    "duration": 5,
    "start_time": "2024-07-11T10:02:22.644Z"
   },
   {
    "duration": 5,
    "start_time": "2024-07-11T10:02:26.236Z"
   },
   {
    "duration": 323,
    "start_time": "2024-07-11T10:02:30.353Z"
   },
   {
    "duration": 6,
    "start_time": "2024-07-11T10:02:47.596Z"
   },
   {
    "duration": 12,
    "start_time": "2024-07-11T10:02:51.024Z"
   },
   {
    "duration": 63677,
    "start_time": "2024-07-11T10:03:12.624Z"
   },
   {
    "duration": 18,
    "start_time": "2024-07-11T10:04:33.897Z"
   },
   {
    "duration": 3,
    "start_time": "2024-07-11T10:04:39.309Z"
   },
   {
    "duration": 14570,
    "start_time": "2024-07-11T18:42:16.496Z"
   },
   {
    "duration": 1968,
    "start_time": "2024-07-11T18:42:31.068Z"
   },
   {
    "duration": 3,
    "start_time": "2024-07-11T18:42:33.038Z"
   },
   {
    "duration": 427,
    "start_time": "2024-07-11T18:42:42.634Z"
   },
   {
    "duration": 65,
    "start_time": "2024-07-11T18:42:43.408Z"
   },
   {
    "duration": 37,
    "start_time": "2024-07-11T18:42:43.812Z"
   },
   {
    "duration": 79,
    "start_time": "2024-07-11T18:42:49.048Z"
   },
   {
    "duration": 234,
    "start_time": "2024-07-11T18:42:53.960Z"
   },
   {
    "duration": 9,
    "start_time": "2024-07-11T18:42:59.032Z"
   },
   {
    "duration": 78,
    "start_time": "2024-07-11T18:43:01.708Z"
   },
   {
    "duration": 45,
    "start_time": "2024-07-11T18:43:07.360Z"
   },
   {
    "duration": 39,
    "start_time": "2024-07-11T18:43:19.412Z"
   },
   {
    "duration": 15,
    "start_time": "2024-07-11T18:43:23.176Z"
   },
   {
    "duration": 15,
    "start_time": "2024-07-11T18:43:23.813Z"
   },
   {
    "duration": 50,
    "start_time": "2024-07-11T18:43:35.000Z"
   },
   {
    "duration": 24,
    "start_time": "2024-07-11T18:43:38.160Z"
   },
   {
    "duration": 137,
    "start_time": "2024-07-11T18:43:40.532Z"
   },
   {
    "duration": 967,
    "start_time": "2024-07-11T18:43:58.028Z"
   },
   {
    "duration": 13,
    "start_time": "2024-07-11T18:44:13.684Z"
   },
   {
    "duration": 645,
    "start_time": "2024-07-11T18:44:30.737Z"
   },
   {
    "duration": 15,
    "start_time": "2024-07-11T18:44:31.664Z"
   },
   {
    "duration": 2,
    "start_time": "2024-07-11T18:44:45.500Z"
   },
   {
    "duration": 339,
    "start_time": "2024-07-11T18:44:46.188Z"
   },
   {
    "duration": 44,
    "start_time": "2024-07-11T18:44:47.416Z"
   },
   {
    "duration": 26,
    "start_time": "2024-07-11T18:44:47.756Z"
   },
   {
    "duration": 79,
    "start_time": "2024-07-11T18:44:50.180Z"
   },
   {
    "duration": 201,
    "start_time": "2024-07-11T18:44:51.756Z"
   },
   {
    "duration": 8,
    "start_time": "2024-07-11T18:44:53.136Z"
   },
   {
    "duration": 67,
    "start_time": "2024-07-11T18:44:54.908Z"
   },
   {
    "duration": 47,
    "start_time": "2024-07-11T18:44:57.624Z"
   },
   {
    "duration": 173,
    "start_time": "2024-07-11T18:44:59.596Z"
   },
   {
    "duration": 45,
    "start_time": "2024-07-11T18:45:08.272Z"
   },
   {
    "duration": 14,
    "start_time": "2024-07-11T18:45:10.837Z"
   },
   {
    "duration": 14,
    "start_time": "2024-07-11T18:45:13.368Z"
   },
   {
    "duration": 3,
    "start_time": "2024-07-11T18:45:32.040Z"
   },
   {
    "duration": 308,
    "start_time": "2024-07-11T18:45:32.764Z"
   },
   {
    "duration": 58,
    "start_time": "2024-07-11T18:45:33.652Z"
   },
   {
    "duration": 26,
    "start_time": "2024-07-11T18:45:34.007Z"
   },
   {
    "duration": 80,
    "start_time": "2024-07-11T18:45:35.928Z"
   },
   {
    "duration": 189,
    "start_time": "2024-07-11T18:45:37.516Z"
   },
   {
    "duration": 8,
    "start_time": "2024-07-11T18:45:39.212Z"
   },
   {
    "duration": 55,
    "start_time": "2024-07-11T18:45:42.612Z"
   },
   {
    "duration": 43,
    "start_time": "2024-07-11T18:45:44.952Z"
   },
   {
    "duration": 175,
    "start_time": "2024-07-11T18:45:54.733Z"
   },
   {
    "duration": 40,
    "start_time": "2024-07-11T18:45:58.400Z"
   },
   {
    "duration": 15,
    "start_time": "2024-07-11T18:46:01.320Z"
   },
   {
    "duration": 11,
    "start_time": "2024-07-11T18:46:12.220Z"
   },
   {
    "duration": 53,
    "start_time": "2024-07-11T18:46:15.068Z"
   },
   {
    "duration": 111,
    "start_time": "2024-07-11T18:46:17.348Z"
   },
   {
    "duration": 1000,
    "start_time": "2024-07-11T18:46:18.593Z"
   },
   {
    "duration": 13,
    "start_time": "2024-07-11T18:46:19.595Z"
   },
   {
    "duration": 8125,
    "start_time": "2024-07-11T18:57:29.167Z"
   },
   {
    "duration": 1823,
    "start_time": "2024-07-11T18:57:42.236Z"
   },
   {
    "duration": 3,
    "start_time": "2024-07-11T18:57:44.061Z"
   },
   {
    "duration": 408,
    "start_time": "2024-07-11T18:57:44.065Z"
   },
   {
    "duration": 47,
    "start_time": "2024-07-11T18:57:44.947Z"
   },
   {
    "duration": 39,
    "start_time": "2024-07-11T18:57:45.567Z"
   },
   {
    "duration": 84,
    "start_time": "2024-07-11T18:57:49.566Z"
   },
   {
    "duration": 229,
    "start_time": "2024-07-11T18:57:51.143Z"
   },
   {
    "duration": 8,
    "start_time": "2024-07-11T18:57:55.007Z"
   },
   {
    "duration": 64,
    "start_time": "2024-07-11T18:57:56.223Z"
   },
   {
    "duration": 47,
    "start_time": "2024-07-11T18:58:01.384Z"
   },
   {
    "duration": 40,
    "start_time": "2024-07-11T18:58:06.175Z"
   },
   {
    "duration": 14,
    "start_time": "2024-07-11T18:58:09.343Z"
   },
   {
    "duration": 11,
    "start_time": "2024-07-11T18:58:10.867Z"
   },
   {
    "duration": 49,
    "start_time": "2024-07-11T18:58:14.431Z"
   },
   {
    "duration": 23,
    "start_time": "2024-07-11T18:58:17.451Z"
   },
   {
    "duration": 1014,
    "start_time": "2024-07-11T18:58:20.427Z"
   },
   {
    "duration": 14,
    "start_time": "2024-07-11T18:58:21.443Z"
   },
   {
    "duration": 13,
    "start_time": "2024-07-11T18:58:52.271Z"
   },
   {
    "duration": 9,
    "start_time": "2024-07-11T18:58:56.831Z"
   },
   {
    "duration": 518,
    "start_time": "2024-07-11T19:15:01.140Z"
   },
   {
    "duration": 51,
    "start_time": "2024-07-11T19:15:03.039Z"
   },
   {
    "duration": 39,
    "start_time": "2024-07-11T19:15:03.720Z"
   },
   {
    "duration": 106,
    "start_time": "2024-07-11T19:15:08.015Z"
   },
   {
    "duration": 9,
    "start_time": "2024-07-11T19:15:13.027Z"
   },
   {
    "duration": 73,
    "start_time": "2024-07-11T19:15:15.439Z"
   },
   {
    "duration": 46,
    "start_time": "2024-07-11T19:15:18.683Z"
   },
   {
    "duration": 43,
    "start_time": "2024-07-11T19:15:22.299Z"
   },
   {
    "duration": 15,
    "start_time": "2024-07-11T19:15:24.662Z"
   },
   {
    "duration": 18,
    "start_time": "2024-07-11T19:15:25.927Z"
   },
   {
    "duration": 51,
    "start_time": "2024-07-11T19:15:30.135Z"
   },
   {
    "duration": 25,
    "start_time": "2024-07-11T19:15:32.447Z"
   },
   {
    "duration": 1051,
    "start_time": "2024-07-11T19:15:34.083Z"
   },
   {
    "duration": 15,
    "start_time": "2024-07-11T19:15:35.411Z"
   },
   {
    "duration": 11,
    "start_time": "2024-07-11T19:15:48.883Z"
   },
   {
    "duration": 16,
    "start_time": "2024-07-11T19:15:51.419Z"
   },
   {
    "duration": 12,
    "start_time": "2024-07-11T19:16:18.035Z"
   },
   {
    "duration": 9,
    "start_time": "2024-07-11T19:16:18.562Z"
   },
   {
    "duration": 13,
    "start_time": "2024-07-11T19:16:29.367Z"
   },
   {
    "duration": 18,
    "start_time": "2024-07-11T19:16:31.860Z"
   },
   {
    "duration": 82,
    "start_time": "2024-07-11T19:16:33.331Z"
   },
   {
    "duration": 24,
    "start_time": "2024-07-11T19:16:41.491Z"
   },
   {
    "duration": 116,
    "start_time": "2024-07-11T19:17:01.923Z"
   },
   {
    "duration": 9,
    "start_time": "2024-07-11T19:17:02.567Z"
   },
   {
    "duration": 6,
    "start_time": "2024-07-11T19:17:03.199Z"
   },
   {
    "duration": 23,
    "start_time": "2024-07-11T19:17:09.939Z"
   },
   {
    "duration": 35,
    "start_time": "2024-07-11T19:17:13.983Z"
   },
   {
    "duration": 37,
    "start_time": "2024-07-11T19:17:26.703Z"
   },
   {
    "duration": 21,
    "start_time": "2024-07-11T19:17:29.911Z"
   },
   {
    "duration": 21,
    "start_time": "2024-07-11T19:17:32.155Z"
   },
   {
    "duration": 25,
    "start_time": "2024-07-11T19:17:55.435Z"
   },
   {
    "duration": 3,
    "start_time": "2024-07-11T19:18:03.047Z"
   },
   {
    "duration": 6,
    "start_time": "2024-07-11T19:18:04.359Z"
   },
   {
    "duration": 5,
    "start_time": "2024-07-11T19:18:07.207Z"
   },
   {
    "duration": 166553,
    "start_time": "2024-07-11T19:18:11.020Z"
   },
   {
    "duration": 20287,
    "start_time": "2024-07-11T19:21:36.311Z"
   },
   {
    "duration": 22298,
    "start_time": "2024-07-11T19:22:34.039Z"
   },
   {
    "duration": 169,
    "start_time": "2024-07-11T19:23:03.607Z"
   },
   {
    "duration": 383,
    "start_time": "2024-07-11T20:42:29.163Z"
   },
   {
    "duration": 52,
    "start_time": "2024-07-11T20:42:30.286Z"
   },
   {
    "duration": 32,
    "start_time": "2024-07-11T20:42:30.698Z"
   },
   {
    "duration": 88,
    "start_time": "2024-07-11T20:42:34.478Z"
   },
   {
    "duration": 8,
    "start_time": "2024-07-11T20:42:38.955Z"
   },
   {
    "duration": 74,
    "start_time": "2024-07-11T20:42:39.955Z"
   },
   {
    "duration": 52,
    "start_time": "2024-07-11T20:42:45.799Z"
   },
   {
    "duration": 40,
    "start_time": "2024-07-11T20:42:52.459Z"
   },
   {
    "duration": 14,
    "start_time": "2024-07-11T20:42:56.095Z"
   },
   {
    "duration": 11,
    "start_time": "2024-07-11T20:42:59.906Z"
   },
   {
    "duration": 50,
    "start_time": "2024-07-11T20:43:05.351Z"
   },
   {
    "duration": 25,
    "start_time": "2024-07-11T20:43:07.751Z"
   },
   {
    "duration": 1010,
    "start_time": "2024-07-11T20:43:09.807Z"
   },
   {
    "duration": 14,
    "start_time": "2024-07-11T20:43:10.819Z"
   },
   {
    "duration": 12,
    "start_time": "2024-07-11T20:43:14.891Z"
   },
   {
    "duration": 9,
    "start_time": "2024-07-11T20:43:16.290Z"
   },
   {
    "duration": 14,
    "start_time": "2024-07-11T20:43:21.487Z"
   },
   {
    "duration": 15,
    "start_time": "2024-07-11T20:43:25.427Z"
   },
   {
    "duration": 77,
    "start_time": "2024-07-11T20:43:29.103Z"
   },
   {
    "duration": 16,
    "start_time": "2024-07-11T20:43:32.423Z"
   },
   {
    "duration": 103,
    "start_time": "2024-07-11T20:43:33.991Z"
   },
   {
    "duration": 6,
    "start_time": "2024-07-11T20:43:35.006Z"
   },
   {
    "duration": 6,
    "start_time": "2024-07-11T20:43:37.071Z"
   },
   {
    "duration": 17,
    "start_time": "2024-07-11T20:43:41.555Z"
   },
   {
    "duration": 44,
    "start_time": "2024-07-11T20:43:45.407Z"
   },
   {
    "duration": 42,
    "start_time": "2024-07-11T20:44:30.814Z"
   },
   {
    "duration": 35,
    "start_time": "2024-07-11T20:44:38.707Z"
   },
   {
    "duration": 24,
    "start_time": "2024-07-11T20:44:41.879Z"
   },
   {
    "duration": 28,
    "start_time": "2024-07-11T20:44:52.039Z"
   },
   {
    "duration": 3,
    "start_time": "2024-07-11T20:45:26.227Z"
   },
   {
    "duration": 4,
    "start_time": "2024-07-11T20:45:30.323Z"
   },
   {
    "duration": 147,
    "start_time": "2024-07-11T20:45:33.091Z"
   },
   {
    "duration": 22,
    "start_time": "2024-07-11T20:45:53.103Z"
   },
   {
    "duration": 15,
    "start_time": "2024-07-11T20:46:07.019Z"
   },
   {
    "duration": 5,
    "start_time": "2024-07-11T20:46:53.915Z"
   },
   {
    "duration": 8,
    "start_time": "2024-07-11T20:47:01.854Z"
   },
   {
    "duration": 234692,
    "start_time": "2024-07-11T20:47:03.651Z"
   },
   {
    "duration": 79,
    "start_time": "2024-07-11T20:51:10.963Z"
   },
   {
    "duration": 77,
    "start_time": "2024-07-11T20:51:33.475Z"
   },
   {
    "duration": 133,
    "start_time": "2024-07-11T20:51:36.670Z"
   },
   {
    "duration": 18,
    "start_time": "2024-07-11T21:13:52.039Z"
   },
   {
    "duration": 7,
    "start_time": "2024-07-11T21:15:20.774Z"
   },
   {
    "duration": 3,
    "start_time": "2024-07-11T21:29:34.998Z"
   },
   {
    "duration": 11,
    "start_time": "2024-07-11T21:29:51.298Z"
   },
   {
    "duration": 18,
    "start_time": "2024-07-11T21:32:17.551Z"
   },
   {
    "duration": 178690,
    "start_time": "2024-07-11T21:33:24.746Z"
   },
   {
    "duration": 344,
    "start_time": "2024-07-11T21:38:06.166Z"
   },
   {
    "duration": 15,
    "start_time": "2024-07-11T21:51:59.183Z"
   },
   {
    "duration": 13,
    "start_time": "2024-07-11T21:52:40.655Z"
   },
   {
    "duration": 12,
    "start_time": "2024-07-11T21:53:02.458Z"
   },
   {
    "duration": 12,
    "start_time": "2024-07-11T21:54:03.522Z"
   },
   {
    "duration": 15,
    "start_time": "2024-07-11T21:54:21.819Z"
   },
   {
    "duration": 12,
    "start_time": "2024-07-11T21:54:46.095Z"
   },
   {
    "duration": 13,
    "start_time": "2024-07-11T21:54:53.811Z"
   },
   {
    "duration": 12,
    "start_time": "2024-07-11T21:54:59.902Z"
   },
   {
    "duration": 76,
    "start_time": "2024-07-11T21:56:06.690Z"
   },
   {
    "duration": 81,
    "start_time": "2024-07-11T21:56:47.182Z"
   },
   {
    "duration": 35,
    "start_time": "2024-07-11T21:57:02.346Z"
   },
   {
    "duration": 11,
    "start_time": "2024-07-11T21:57:28.626Z"
   },
   {
    "duration": 76,
    "start_time": "2024-07-11T21:57:55.938Z"
   },
   {
    "duration": 5,
    "start_time": "2024-07-11T21:59:12.986Z"
   },
   {
    "duration": 79,
    "start_time": "2024-07-11T21:59:47.138Z"
   },
   {
    "duration": 85,
    "start_time": "2024-07-11T21:59:53.535Z"
   },
   {
    "duration": 81,
    "start_time": "2024-07-11T22:00:10.314Z"
   },
   {
    "duration": 91,
    "start_time": "2024-07-11T22:00:13.926Z"
   },
   {
    "duration": 94,
    "start_time": "2024-07-11T22:00:16.790Z"
   },
   {
    "duration": 82,
    "start_time": "2024-07-11T22:00:20.818Z"
   },
   {
    "duration": 15,
    "start_time": "2024-07-11T22:01:14.890Z"
   },
   {
    "duration": 27,
    "start_time": "2024-07-11T22:01:35.602Z"
   },
   {
    "duration": 16,
    "start_time": "2024-07-11T22:01:46.871Z"
   },
   {
    "duration": 16,
    "start_time": "2024-07-11T22:02:15.538Z"
   },
   {
    "duration": 2647,
    "start_time": "2024-07-11T22:02:51.230Z"
   },
   {
    "duration": 3,
    "start_time": "2024-07-11T22:02:53.879Z"
   },
   {
    "duration": 578,
    "start_time": "2024-07-11T22:02:53.884Z"
   },
   {
    "duration": 48,
    "start_time": "2024-07-11T22:02:54.464Z"
   },
   {
    "duration": 66,
    "start_time": "2024-07-11T22:02:54.513Z"
   },
   {
    "duration": 84,
    "start_time": "2024-07-11T22:03:00.130Z"
   },
   {
    "duration": 9,
    "start_time": "2024-07-11T22:03:05.362Z"
   },
   {
    "duration": 57,
    "start_time": "2024-07-11T22:03:06.131Z"
   },
   {
    "duration": 46,
    "start_time": "2024-07-11T22:03:06.786Z"
   },
   {
    "duration": 146,
    "start_time": "2024-07-11T22:03:12.322Z"
   },
   {
    "duration": 39,
    "start_time": "2024-07-11T22:03:14.206Z"
   },
   {
    "duration": 14,
    "start_time": "2024-07-11T22:03:23.959Z"
   },
   {
    "duration": 12,
    "start_time": "2024-07-11T22:03:24.250Z"
   },
   {
    "duration": 62,
    "start_time": "2024-07-11T22:03:25.294Z"
   },
   {
    "duration": 23,
    "start_time": "2024-07-11T22:03:26.534Z"
   },
   {
    "duration": 980,
    "start_time": "2024-07-11T22:03:27.030Z"
   },
   {
    "duration": 14,
    "start_time": "2024-07-11T22:03:28.012Z"
   },
   {
    "duration": 12,
    "start_time": "2024-07-11T22:03:34.091Z"
   },
   {
    "duration": 9,
    "start_time": "2024-07-11T22:03:35.710Z"
   },
   {
    "duration": 21,
    "start_time": "2024-07-11T22:03:51.542Z"
   },
   {
    "duration": 17,
    "start_time": "2024-07-11T22:03:51.978Z"
   },
   {
    "duration": 97,
    "start_time": "2024-07-11T22:03:54.850Z"
   },
   {
    "duration": 16,
    "start_time": "2024-07-11T22:03:59.334Z"
   },
   {
    "duration": 111,
    "start_time": "2024-07-11T22:03:59.722Z"
   },
   {
    "duration": 7,
    "start_time": "2024-07-11T22:04:00.054Z"
   },
   {
    "duration": 5,
    "start_time": "2024-07-11T22:04:00.523Z"
   },
   {
    "duration": 19,
    "start_time": "2024-07-11T22:04:03.882Z"
   },
   {
    "duration": 35,
    "start_time": "2024-07-11T22:04:04.830Z"
   },
   {
    "duration": 38,
    "start_time": "2024-07-11T22:04:20.258Z"
   },
   {
    "duration": 25,
    "start_time": "2024-07-11T22:04:21.510Z"
   },
   {
    "duration": 26,
    "start_time": "2024-07-11T22:04:24.822Z"
   },
   {
    "duration": 31,
    "start_time": "2024-07-11T22:04:32.986Z"
   },
   {
    "duration": 74,
    "start_time": "2024-07-11T22:04:53.499Z"
   },
   {
    "duration": 3,
    "start_time": "2024-07-11T22:04:55.086Z"
   },
   {
    "duration": 5,
    "start_time": "2024-07-11T22:04:55.942Z"
   },
   {
    "duration": 5,
    "start_time": "2024-07-11T22:04:56.783Z"
   },
   {
    "duration": 269928,
    "start_time": "2024-07-11T22:04:57.610Z"
   },
   {
    "duration": 70,
    "start_time": "2024-07-11T22:09:53.874Z"
   },
   {
    "duration": 313,
    "start_time": "2024-07-11T22:09:55.358Z"
   },
   {
    "duration": 71,
    "start_time": "2024-07-11T22:10:03.434Z"
   },
   {
    "duration": 38,
    "start_time": "2024-07-11T22:10:04.450Z"
   },
   {
    "duration": 78,
    "start_time": "2024-07-11T22:10:11.902Z"
   },
   {
    "duration": 25,
    "start_time": "2024-07-11T22:10:17.830Z"
   },
   {
    "duration": 58,
    "start_time": "2024-07-11T22:10:20.278Z"
   },
   {
    "duration": 4,
    "start_time": "2024-07-11T22:10:36.282Z"
   },
   {
    "duration": 18,
    "start_time": "2024-07-11T22:11:21.731Z"
   },
   {
    "duration": 5428,
    "start_time": "2024-07-11T22:11:42.094Z"
   },
   {
    "duration": 88,
    "start_time": "2024-07-11T22:13:10.098Z"
   },
   {
    "duration": 81,
    "start_time": "2024-07-11T22:13:27.685Z"
   },
   {
    "duration": 15,
    "start_time": "2024-07-11T22:13:41.082Z"
   },
   {
    "duration": 15,
    "start_time": "2024-07-11T22:13:42.626Z"
   },
   {
    "duration": 8311,
    "start_time": "2024-07-11T22:14:05.937Z"
   },
   {
    "duration": 1828,
    "start_time": "2024-07-11T22:14:14.250Z"
   },
   {
    "duration": 2,
    "start_time": "2024-07-11T22:14:16.080Z"
   },
   {
    "duration": 850,
    "start_time": "2024-07-11T22:14:16.084Z"
   },
   {
    "duration": 52,
    "start_time": "2024-07-11T22:14:16.936Z"
   },
   {
    "duration": 26,
    "start_time": "2024-07-11T22:14:16.990Z"
   },
   {
    "duration": 99,
    "start_time": "2024-07-11T22:14:17.017Z"
   },
   {
    "duration": 244,
    "start_time": "2024-07-11T22:14:17.119Z"
   },
   {
    "duration": 12,
    "start_time": "2024-07-11T22:14:17.365Z"
   },
   {
    "duration": 85,
    "start_time": "2024-07-11T22:14:17.380Z"
   },
   {
    "duration": 43,
    "start_time": "2024-07-11T22:14:17.467Z"
   },
   {
    "duration": 3,
    "start_time": "2024-07-11T22:14:17.511Z"
   },
   {
    "duration": 191,
    "start_time": "2024-07-11T22:14:17.515Z"
   },
   {
    "duration": 43,
    "start_time": "2024-07-11T22:14:17.707Z"
   },
   {
    "duration": 32,
    "start_time": "2024-07-11T22:14:17.752Z"
   },
   {
    "duration": 29,
    "start_time": "2024-07-11T22:14:17.786Z"
   },
   {
    "duration": 51,
    "start_time": "2024-07-11T22:14:17.816Z"
   },
   {
    "duration": 23,
    "start_time": "2024-07-11T22:14:17.870Z"
   },
   {
    "duration": 1022,
    "start_time": "2024-07-11T22:14:17.895Z"
   },
   {
    "duration": 15,
    "start_time": "2024-07-11T22:14:18.919Z"
   },
   {
    "duration": 3,
    "start_time": "2024-07-11T22:14:18.935Z"
   },
   {
    "duration": 27,
    "start_time": "2024-07-11T22:14:18.940Z"
   },
   {
    "duration": 8,
    "start_time": "2024-07-11T22:14:18.968Z"
   },
   {
    "duration": 15,
    "start_time": "2024-07-11T22:14:18.977Z"
   },
   {
    "duration": 14,
    "start_time": "2024-07-11T22:14:18.993Z"
   },
   {
    "duration": 116,
    "start_time": "2024-07-11T22:14:19.009Z"
   },
   {
    "duration": 16,
    "start_time": "2024-07-11T22:14:19.127Z"
   },
   {
    "duration": 122,
    "start_time": "2024-07-11T22:14:19.148Z"
   },
   {
    "duration": 6,
    "start_time": "2024-07-11T22:14:19.271Z"
   },
   {
    "duration": 40,
    "start_time": "2024-07-11T22:14:19.279Z"
   },
   {
    "duration": 37,
    "start_time": "2024-07-11T22:14:19.321Z"
   },
   {
    "duration": 43,
    "start_time": "2024-07-11T22:14:19.360Z"
   },
   {
    "duration": 136,
    "start_time": "2024-07-11T22:14:19.404Z"
   },
   {
    "duration": 0,
    "start_time": "2024-07-11T22:14:19.542Z"
   },
   {
    "duration": 0,
    "start_time": "2024-07-11T22:14:19.543Z"
   },
   {
    "duration": 0,
    "start_time": "2024-07-11T22:14:19.544Z"
   },
   {
    "duration": 0,
    "start_time": "2024-07-11T22:14:19.545Z"
   },
   {
    "duration": 0,
    "start_time": "2024-07-11T22:14:19.546Z"
   },
   {
    "duration": 0,
    "start_time": "2024-07-11T22:14:19.547Z"
   },
   {
    "duration": 0,
    "start_time": "2024-07-11T22:14:19.548Z"
   },
   {
    "duration": 0,
    "start_time": "2024-07-11T22:14:19.548Z"
   },
   {
    "duration": 0,
    "start_time": "2024-07-11T22:14:19.549Z"
   },
   {
    "duration": 0,
    "start_time": "2024-07-11T22:14:19.565Z"
   },
   {
    "duration": 0,
    "start_time": "2024-07-11T22:14:19.566Z"
   },
   {
    "duration": 0,
    "start_time": "2024-07-11T22:14:19.567Z"
   },
   {
    "duration": 0,
    "start_time": "2024-07-11T22:14:19.568Z"
   },
   {
    "duration": 0,
    "start_time": "2024-07-11T22:14:19.569Z"
   },
   {
    "duration": 0,
    "start_time": "2024-07-11T22:14:19.570Z"
   },
   {
    "duration": 0,
    "start_time": "2024-07-11T22:14:19.571Z"
   },
   {
    "duration": 0,
    "start_time": "2024-07-11T22:14:19.572Z"
   },
   {
    "duration": 0,
    "start_time": "2024-07-11T22:14:19.573Z"
   },
   {
    "duration": 0,
    "start_time": "2024-07-11T22:14:19.574Z"
   },
   {
    "duration": 0,
    "start_time": "2024-07-11T22:14:19.575Z"
   },
   {
    "duration": 0,
    "start_time": "2024-07-11T22:14:19.576Z"
   },
   {
    "duration": 0,
    "start_time": "2024-07-11T22:14:19.577Z"
   },
   {
    "duration": 0,
    "start_time": "2024-07-11T22:14:19.578Z"
   },
   {
    "duration": 0,
    "start_time": "2024-07-11T22:14:19.579Z"
   },
   {
    "duration": 0,
    "start_time": "2024-07-11T22:14:19.580Z"
   },
   {
    "duration": 0,
    "start_time": "2024-07-11T22:14:19.581Z"
   },
   {
    "duration": 0,
    "start_time": "2024-07-11T22:14:19.582Z"
   },
   {
    "duration": 0,
    "start_time": "2024-07-11T22:14:19.583Z"
   },
   {
    "duration": 0,
    "start_time": "2024-07-11T22:14:19.584Z"
   },
   {
    "duration": 0,
    "start_time": "2024-07-11T22:14:19.586Z"
   },
   {
    "duration": 0,
    "start_time": "2024-07-11T22:14:19.587Z"
   },
   {
    "duration": 0,
    "start_time": "2024-07-11T22:14:19.588Z"
   },
   {
    "duration": 0,
    "start_time": "2024-07-11T22:14:19.589Z"
   },
   {
    "duration": 0,
    "start_time": "2024-07-11T22:14:19.590Z"
   },
   {
    "duration": 0,
    "start_time": "2024-07-11T22:14:19.591Z"
   },
   {
    "duration": 0,
    "start_time": "2024-07-11T22:14:19.592Z"
   },
   {
    "duration": 0,
    "start_time": "2024-07-11T22:14:19.593Z"
   },
   {
    "duration": 0,
    "start_time": "2024-07-11T22:14:19.594Z"
   },
   {
    "duration": 0,
    "start_time": "2024-07-11T22:14:19.596Z"
   },
   {
    "duration": 0,
    "start_time": "2024-07-11T22:14:19.597Z"
   },
   {
    "duration": 0,
    "start_time": "2024-07-11T22:14:19.598Z"
   },
   {
    "duration": 0,
    "start_time": "2024-07-11T22:14:19.599Z"
   },
   {
    "duration": 45,
    "start_time": "2024-07-11T22:14:46.914Z"
   },
   {
    "duration": 25,
    "start_time": "2024-07-11T22:14:50.241Z"
   },
   {
    "duration": 26,
    "start_time": "2024-07-11T22:14:51.114Z"
   },
   {
    "duration": 29,
    "start_time": "2024-07-11T22:14:57.237Z"
   },
   {
    "duration": 72,
    "start_time": "2024-07-11T22:14:58.990Z"
   },
   {
    "duration": 2,
    "start_time": "2024-07-11T22:15:00.078Z"
   },
   {
    "duration": 4,
    "start_time": "2024-07-11T22:15:00.881Z"
   },
   {
    "duration": 6,
    "start_time": "2024-07-11T22:15:01.618Z"
   },
   {
    "duration": 269913,
    "start_time": "2024-07-11T22:15:02.098Z"
   },
   {
    "duration": 72,
    "start_time": "2024-07-11T22:19:50.333Z"
   },
   {
    "duration": 330,
    "start_time": "2024-07-11T22:19:51.558Z"
   },
   {
    "duration": 166,
    "start_time": "2024-07-11T22:19:55.449Z"
   },
   {
    "duration": 34,
    "start_time": "2024-07-11T22:19:56.821Z"
   },
   {
    "duration": 75,
    "start_time": "2024-07-11T22:20:02.810Z"
   },
   {
    "duration": 15,
    "start_time": "2024-07-11T22:20:04.694Z"
   },
   {
    "duration": 60,
    "start_time": "2024-07-11T22:20:05.549Z"
   },
   {
    "duration": 14,
    "start_time": "2024-07-11T22:20:07.386Z"
   },
   {
    "duration": 3,
    "start_time": "2024-07-11T22:20:10.285Z"
   },
   {
    "duration": 15,
    "start_time": "2024-07-11T22:20:15.254Z"
   },
   {
    "duration": 167,
    "start_time": "2024-07-11T22:20:45.246Z"
   },
   {
    "duration": 91,
    "start_time": "2024-07-11T22:20:55.862Z"
   },
   {
    "duration": 15,
    "start_time": "2024-07-11T22:24:47.137Z"
   },
   {
    "duration": 15,
    "start_time": "2024-07-11T22:24:56.753Z"
   },
   {
    "duration": 13,
    "start_time": "2024-07-11T22:25:10.502Z"
   },
   {
    "duration": 7620,
    "start_time": "2024-07-11T22:25:32.674Z"
   },
   {
    "duration": 1735,
    "start_time": "2024-07-11T22:25:40.296Z"
   },
   {
    "duration": 3,
    "start_time": "2024-07-11T22:25:42.033Z"
   },
   {
    "duration": 459,
    "start_time": "2024-07-11T22:25:42.037Z"
   },
   {
    "duration": 52,
    "start_time": "2024-07-11T22:25:42.499Z"
   },
   {
    "duration": 26,
    "start_time": "2024-07-11T22:25:42.564Z"
   },
   {
    "duration": 100,
    "start_time": "2024-07-11T22:25:42.591Z"
   },
   {
    "duration": 233,
    "start_time": "2024-07-11T22:25:42.692Z"
   },
   {
    "duration": 8,
    "start_time": "2024-07-11T22:25:42.927Z"
   },
   {
    "duration": 75,
    "start_time": "2024-07-11T22:25:42.937Z"
   },
   {
    "duration": 52,
    "start_time": "2024-07-11T22:25:43.013Z"
   },
   {
    "duration": 3,
    "start_time": "2024-07-11T22:25:43.066Z"
   },
   {
    "duration": 171,
    "start_time": "2024-07-11T22:25:43.070Z"
   },
   {
    "duration": 50,
    "start_time": "2024-07-11T22:25:43.243Z"
   },
   {
    "duration": 13,
    "start_time": "2024-07-11T22:25:43.294Z"
   },
   {
    "duration": 71,
    "start_time": "2024-07-11T22:25:43.308Z"
   },
   {
    "duration": 46,
    "start_time": "2024-07-11T22:25:43.381Z"
   },
   {
    "duration": 22,
    "start_time": "2024-07-11T22:25:43.429Z"
   },
   {
    "duration": 994,
    "start_time": "2024-07-11T22:25:43.452Z"
   },
   {
    "duration": 16,
    "start_time": "2024-07-11T22:25:44.449Z"
   },
   {
    "duration": 3,
    "start_time": "2024-07-11T22:25:44.468Z"
   },
   {
    "duration": 20,
    "start_time": "2024-07-11T22:25:44.472Z"
   },
   {
    "duration": 14,
    "start_time": "2024-07-11T22:25:44.494Z"
   },
   {
    "duration": 20,
    "start_time": "2024-07-11T22:25:44.510Z"
   },
   {
    "duration": 43,
    "start_time": "2024-07-11T22:25:44.532Z"
   },
   {
    "duration": 96,
    "start_time": "2024-07-11T22:25:44.577Z"
   },
   {
    "duration": 16,
    "start_time": "2024-07-11T22:25:44.675Z"
   },
   {
    "duration": 122,
    "start_time": "2024-07-11T22:25:44.695Z"
   },
   {
    "duration": 6,
    "start_time": "2024-07-11T22:25:44.819Z"
   },
   {
    "duration": 4,
    "start_time": "2024-07-11T22:25:44.827Z"
   },
   {
    "duration": 39,
    "start_time": "2024-07-11T22:25:44.833Z"
   },
   {
    "duration": 38,
    "start_time": "2024-07-11T22:25:44.874Z"
   },
   {
    "duration": 152,
    "start_time": "2024-07-11T22:25:44.913Z"
   },
   {
    "duration": 0,
    "start_time": "2024-07-11T22:25:45.066Z"
   },
   {
    "duration": 0,
    "start_time": "2024-07-11T22:25:45.068Z"
   },
   {
    "duration": 0,
    "start_time": "2024-07-11T22:25:45.069Z"
   },
   {
    "duration": 0,
    "start_time": "2024-07-11T22:25:45.070Z"
   },
   {
    "duration": 0,
    "start_time": "2024-07-11T22:25:45.071Z"
   },
   {
    "duration": 0,
    "start_time": "2024-07-11T22:25:45.072Z"
   },
   {
    "duration": 0,
    "start_time": "2024-07-11T22:25:45.073Z"
   },
   {
    "duration": 0,
    "start_time": "2024-07-11T22:25:45.074Z"
   },
   {
    "duration": 0,
    "start_time": "2024-07-11T22:25:45.075Z"
   },
   {
    "duration": 0,
    "start_time": "2024-07-11T22:25:45.076Z"
   },
   {
    "duration": 0,
    "start_time": "2024-07-11T22:25:45.077Z"
   },
   {
    "duration": 0,
    "start_time": "2024-07-11T22:25:45.078Z"
   },
   {
    "duration": 0,
    "start_time": "2024-07-11T22:25:45.079Z"
   },
   {
    "duration": 0,
    "start_time": "2024-07-11T22:25:45.080Z"
   },
   {
    "duration": 0,
    "start_time": "2024-07-11T22:25:45.081Z"
   },
   {
    "duration": 0,
    "start_time": "2024-07-11T22:25:45.082Z"
   },
   {
    "duration": 0,
    "start_time": "2024-07-11T22:25:45.083Z"
   },
   {
    "duration": 0,
    "start_time": "2024-07-11T22:25:45.084Z"
   },
   {
    "duration": 0,
    "start_time": "2024-07-11T22:25:45.085Z"
   },
   {
    "duration": 0,
    "start_time": "2024-07-11T22:25:45.086Z"
   },
   {
    "duration": 0,
    "start_time": "2024-07-11T22:25:45.087Z"
   },
   {
    "duration": 0,
    "start_time": "2024-07-11T22:25:45.088Z"
   },
   {
    "duration": 0,
    "start_time": "2024-07-11T22:25:45.089Z"
   },
   {
    "duration": 0,
    "start_time": "2024-07-11T22:25:45.090Z"
   },
   {
    "duration": 0,
    "start_time": "2024-07-11T22:25:45.091Z"
   },
   {
    "duration": 0,
    "start_time": "2024-07-11T22:25:45.092Z"
   },
   {
    "duration": 0,
    "start_time": "2024-07-11T22:25:45.093Z"
   },
   {
    "duration": 0,
    "start_time": "2024-07-11T22:25:45.094Z"
   },
   {
    "duration": 0,
    "start_time": "2024-07-11T22:25:45.095Z"
   },
   {
    "duration": 0,
    "start_time": "2024-07-11T22:25:45.096Z"
   },
   {
    "duration": 0,
    "start_time": "2024-07-11T22:25:45.098Z"
   },
   {
    "duration": 0,
    "start_time": "2024-07-11T22:25:45.099Z"
   },
   {
    "duration": 0,
    "start_time": "2024-07-11T22:25:45.100Z"
   },
   {
    "duration": 0,
    "start_time": "2024-07-11T22:25:45.101Z"
   },
   {
    "duration": 0,
    "start_time": "2024-07-11T22:25:45.102Z"
   },
   {
    "duration": 0,
    "start_time": "2024-07-11T22:25:45.103Z"
   },
   {
    "duration": 0,
    "start_time": "2024-07-11T22:25:45.104Z"
   },
   {
    "duration": 0,
    "start_time": "2024-07-11T22:25:45.105Z"
   },
   {
    "duration": 0,
    "start_time": "2024-07-11T22:25:45.106Z"
   },
   {
    "duration": 0,
    "start_time": "2024-07-11T22:25:45.165Z"
   },
   {
    "duration": 0,
    "start_time": "2024-07-11T22:25:45.166Z"
   },
   {
    "duration": 0,
    "start_time": "2024-07-11T22:25:45.167Z"
   },
   {
    "duration": 41,
    "start_time": "2024-07-11T22:26:43.206Z"
   },
   {
    "duration": 26,
    "start_time": "2024-07-11T22:26:44.094Z"
   },
   {
    "duration": 24,
    "start_time": "2024-07-11T22:26:44.874Z"
   },
   {
    "duration": 10,
    "start_time": "2024-07-11T22:26:45.086Z"
   },
   {
    "duration": 35,
    "start_time": "2024-07-11T22:26:49.194Z"
   },
   {
    "duration": 3,
    "start_time": "2024-07-11T22:26:52.854Z"
   },
   {
    "duration": 4,
    "start_time": "2024-07-11T22:26:53.294Z"
   },
   {
    "duration": 9,
    "start_time": "2024-07-11T22:26:53.730Z"
   },
   {
    "duration": 14,
    "start_time": "2024-07-11T22:26:54.174Z"
   },
   {
    "duration": 217548,
    "start_time": "2024-07-11T22:27:04.110Z"
   },
   {
    "duration": 71,
    "start_time": "2024-07-11T22:30:41.660Z"
   },
   {
    "duration": 322,
    "start_time": "2024-07-11T22:31:38.218Z"
   },
   {
    "duration": 170,
    "start_time": "2024-07-11T22:31:42.754Z"
   },
   {
    "duration": 35,
    "start_time": "2024-07-11T22:31:46.202Z"
   },
   {
    "duration": 74,
    "start_time": "2024-07-11T22:31:59.106Z"
   },
   {
    "duration": 18,
    "start_time": "2024-07-11T22:32:11.574Z"
   },
   {
    "duration": 62,
    "start_time": "2024-07-11T22:32:13.718Z"
   },
   {
    "duration": 13,
    "start_time": "2024-07-11T22:32:28.382Z"
   },
   {
    "duration": 139,
    "start_time": "2024-07-11T22:32:57.206Z"
   },
   {
    "duration": 86,
    "start_time": "2024-07-11T22:34:11.378Z"
   },
   {
    "duration": 87,
    "start_time": "2024-07-11T22:34:24.474Z"
   },
   {
    "duration": 82,
    "start_time": "2024-07-11T22:34:32.190Z"
   },
   {
    "duration": 76,
    "start_time": "2024-07-11T22:34:38.538Z"
   },
   {
    "duration": 77,
    "start_time": "2024-07-11T22:34:44.810Z"
   },
   {
    "duration": 15,
    "start_time": "2024-07-11T22:34:51.646Z"
   },
   {
    "duration": 88,
    "start_time": "2024-07-11T22:35:01.158Z"
   },
   {
    "duration": 85,
    "start_time": "2024-07-11T22:35:07.382Z"
   },
   {
    "duration": 16,
    "start_time": "2024-07-11T22:35:17.334Z"
   },
   {
    "duration": 58,
    "start_time": "2024-07-11T22:35:18.458Z"
   },
   {
    "duration": 14,
    "start_time": "2024-07-11T22:35:20.206Z"
   },
   {
    "duration": 142,
    "start_time": "2024-07-11T22:35:32.230Z"
   },
   {
    "duration": 101,
    "start_time": "2024-07-11T22:36:45.866Z"
   },
   {
    "duration": 74,
    "start_time": "2024-07-11T22:36:52.614Z"
   },
   {
    "duration": 76,
    "start_time": "2024-07-11T22:36:58.422Z"
   },
   {
    "duration": 15,
    "start_time": "2024-07-11T22:37:05.082Z"
   },
   {
    "duration": 64,
    "start_time": "2024-07-11T22:37:07.446Z"
   },
   {
    "duration": 15,
    "start_time": "2024-07-11T22:37:08.738Z"
   },
   {
    "duration": 171,
    "start_time": "2024-07-11T22:37:21.514Z"
   },
   {
    "duration": 75,
    "start_time": "2024-07-11T22:38:54.126Z"
   },
   {
    "duration": 17,
    "start_time": "2024-07-11T22:38:57.830Z"
   },
   {
    "duration": 56,
    "start_time": "2024-07-11T22:39:00.902Z"
   },
   {
    "duration": 14,
    "start_time": "2024-07-11T22:39:02.022Z"
   },
   {
    "duration": 137,
    "start_time": "2024-07-11T22:39:07.198Z"
   },
   {
    "duration": 131,
    "start_time": "2024-07-11T22:39:20.942Z"
   },
   {
    "duration": 15200,
    "start_time": "2024-07-13T16:23:42.022Z"
   },
   {
    "duration": 2257,
    "start_time": "2024-07-13T16:23:57.225Z"
   },
   {
    "duration": 3,
    "start_time": "2024-07-13T16:23:59.484Z"
   },
   {
    "duration": 527,
    "start_time": "2024-07-13T16:23:59.489Z"
   },
   {
    "duration": 58,
    "start_time": "2024-07-13T16:24:00.018Z"
   },
   {
    "duration": 129,
    "start_time": "2024-07-13T16:24:00.077Z"
   },
   {
    "duration": 204,
    "start_time": "2024-07-13T16:24:00.208Z"
   },
   {
    "duration": 259,
    "start_time": "2024-07-13T16:24:00.414Z"
   },
   {
    "duration": 9,
    "start_time": "2024-07-13T16:24:00.675Z"
   },
   {
    "duration": 145,
    "start_time": "2024-07-13T16:24:00.688Z"
   },
   {
    "duration": 60,
    "start_time": "2024-07-13T16:24:00.836Z"
   },
   {
    "duration": 15,
    "start_time": "2024-07-13T16:24:00.898Z"
   },
   {
    "duration": 264,
    "start_time": "2024-07-13T16:24:00.915Z"
   },
   {
    "duration": 59,
    "start_time": "2024-07-13T16:24:01.180Z"
   },
   {
    "duration": 24,
    "start_time": "2024-07-13T16:24:01.241Z"
   },
   {
    "duration": 30,
    "start_time": "2024-07-13T16:24:01.267Z"
   },
   {
    "duration": 146,
    "start_time": "2024-07-13T16:24:01.300Z"
   },
   {
    "duration": 45,
    "start_time": "2024-07-13T16:24:01.448Z"
   },
   {
    "duration": 1220,
    "start_time": "2024-07-13T16:24:01.504Z"
   },
   {
    "duration": 16,
    "start_time": "2024-07-13T16:24:02.726Z"
   },
   {
    "duration": 43,
    "start_time": "2024-07-13T16:24:02.744Z"
   },
   {
    "duration": 14,
    "start_time": "2024-07-13T16:24:02.790Z"
   },
   {
    "duration": 45,
    "start_time": "2024-07-13T16:24:02.806Z"
   },
   {
    "duration": 103,
    "start_time": "2024-07-13T16:24:02.854Z"
   },
   {
    "duration": 54,
    "start_time": "2024-07-13T16:24:02.959Z"
   },
   {
    "duration": 94,
    "start_time": "2024-07-13T16:24:03.015Z"
   },
   {
    "duration": 24,
    "start_time": "2024-07-13T16:24:03.111Z"
   },
   {
    "duration": 178,
    "start_time": "2024-07-13T16:24:03.141Z"
   },
   {
    "duration": 10,
    "start_time": "2024-07-13T16:24:03.321Z"
   },
   {
    "duration": 23,
    "start_time": "2024-07-13T16:24:03.333Z"
   },
   {
    "duration": 31,
    "start_time": "2024-07-13T16:24:03.358Z"
   },
   {
    "duration": 36,
    "start_time": "2024-07-13T16:24:03.390Z"
   },
   {
    "duration": 197,
    "start_time": "2024-07-13T16:24:03.427Z"
   },
   {
    "duration": 0,
    "start_time": "2024-07-13T16:24:03.626Z"
   },
   {
    "duration": 1,
    "start_time": "2024-07-13T16:24:03.628Z"
   },
   {
    "duration": 0,
    "start_time": "2024-07-13T16:24:03.631Z"
   },
   {
    "duration": 0,
    "start_time": "2024-07-13T16:24:03.632Z"
   },
   {
    "duration": 1,
    "start_time": "2024-07-13T16:24:03.633Z"
   },
   {
    "duration": 0,
    "start_time": "2024-07-13T16:24:03.635Z"
   },
   {
    "duration": 0,
    "start_time": "2024-07-13T16:24:03.637Z"
   },
   {
    "duration": 0,
    "start_time": "2024-07-13T16:24:03.638Z"
   },
   {
    "duration": 0,
    "start_time": "2024-07-13T16:24:03.640Z"
   },
   {
    "duration": 0,
    "start_time": "2024-07-13T16:24:03.642Z"
   },
   {
    "duration": 0,
    "start_time": "2024-07-13T16:24:03.645Z"
   },
   {
    "duration": 0,
    "start_time": "2024-07-13T16:24:03.646Z"
   },
   {
    "duration": 0,
    "start_time": "2024-07-13T16:24:03.648Z"
   },
   {
    "duration": 0,
    "start_time": "2024-07-13T16:24:03.650Z"
   },
   {
    "duration": 0,
    "start_time": "2024-07-13T16:24:03.652Z"
   },
   {
    "duration": 0,
    "start_time": "2024-07-13T16:24:03.654Z"
   },
   {
    "duration": 0,
    "start_time": "2024-07-13T16:24:03.655Z"
   },
   {
    "duration": 1,
    "start_time": "2024-07-13T16:24:03.656Z"
   },
   {
    "duration": 0,
    "start_time": "2024-07-13T16:24:03.658Z"
   },
   {
    "duration": 0,
    "start_time": "2024-07-13T16:24:03.659Z"
   },
   {
    "duration": 0,
    "start_time": "2024-07-13T16:24:03.660Z"
   },
   {
    "duration": 0,
    "start_time": "2024-07-13T16:24:03.705Z"
   },
   {
    "duration": 0,
    "start_time": "2024-07-13T16:24:03.707Z"
   },
   {
    "duration": 0,
    "start_time": "2024-07-13T16:24:03.709Z"
   },
   {
    "duration": 0,
    "start_time": "2024-07-13T16:24:03.710Z"
   },
   {
    "duration": 1,
    "start_time": "2024-07-13T16:24:03.711Z"
   },
   {
    "duration": 0,
    "start_time": "2024-07-13T16:24:03.713Z"
   },
   {
    "duration": 0,
    "start_time": "2024-07-13T16:24:03.714Z"
   },
   {
    "duration": 0,
    "start_time": "2024-07-13T16:24:03.716Z"
   },
   {
    "duration": 0,
    "start_time": "2024-07-13T16:24:03.717Z"
   },
   {
    "duration": 0,
    "start_time": "2024-07-13T16:24:03.719Z"
   },
   {
    "duration": 0,
    "start_time": "2024-07-13T16:24:03.720Z"
   },
   {
    "duration": 0,
    "start_time": "2024-07-13T16:24:03.721Z"
   },
   {
    "duration": 0,
    "start_time": "2024-07-13T16:24:03.723Z"
   },
   {
    "duration": 0,
    "start_time": "2024-07-13T16:24:03.724Z"
   },
   {
    "duration": 0,
    "start_time": "2024-07-13T16:24:03.726Z"
   },
   {
    "duration": 0,
    "start_time": "2024-07-13T16:24:03.727Z"
   },
   {
    "duration": 0,
    "start_time": "2024-07-13T16:24:03.729Z"
   },
   {
    "duration": 0,
    "start_time": "2024-07-13T16:24:03.730Z"
   },
   {
    "duration": 0,
    "start_time": "2024-07-13T16:24:03.733Z"
   },
   {
    "duration": 0,
    "start_time": "2024-07-13T16:24:03.734Z"
   },
   {
    "duration": 0,
    "start_time": "2024-07-13T16:24:03.736Z"
   },
   {
    "duration": 0,
    "start_time": "2024-07-13T16:24:03.737Z"
   },
   {
    "duration": 0,
    "start_time": "2024-07-13T16:24:03.741Z"
   },
   {
    "duration": 7683,
    "start_time": "2024-07-13T16:27:06.742Z"
   },
   {
    "duration": 1818,
    "start_time": "2024-07-13T16:27:14.426Z"
   },
   {
    "duration": 3,
    "start_time": "2024-07-13T16:27:16.245Z"
   },
   {
    "duration": 402,
    "start_time": "2024-07-13T16:27:16.249Z"
   },
   {
    "duration": 49,
    "start_time": "2024-07-13T16:27:16.652Z"
   },
   {
    "duration": 45,
    "start_time": "2024-07-13T16:27:16.702Z"
   },
   {
    "duration": 91,
    "start_time": "2024-07-13T16:27:16.749Z"
   },
   {
    "duration": 220,
    "start_time": "2024-07-13T16:27:16.841Z"
   },
   {
    "duration": 8,
    "start_time": "2024-07-13T16:27:17.063Z"
   },
   {
    "duration": 73,
    "start_time": "2024-07-13T16:27:17.073Z"
   },
   {
    "duration": 42,
    "start_time": "2024-07-13T16:27:17.147Z"
   },
   {
    "duration": 14,
    "start_time": "2024-07-13T16:27:17.191Z"
   },
   {
    "duration": 184,
    "start_time": "2024-07-13T16:27:17.206Z"
   },
   {
    "duration": 48,
    "start_time": "2024-07-13T16:27:17.392Z"
   },
   {
    "duration": 20,
    "start_time": "2024-07-13T16:27:17.441Z"
   },
   {
    "duration": 13,
    "start_time": "2024-07-13T16:27:17.463Z"
   },
   {
    "duration": 66,
    "start_time": "2024-07-13T16:27:17.477Z"
   },
   {
    "duration": 22,
    "start_time": "2024-07-13T16:27:17.545Z"
   },
   {
    "duration": 1010,
    "start_time": "2024-07-13T16:27:17.569Z"
   },
   {
    "duration": 14,
    "start_time": "2024-07-13T16:27:18.581Z"
   },
   {
    "duration": 10,
    "start_time": "2024-07-13T16:27:18.596Z"
   },
   {
    "duration": 19,
    "start_time": "2024-07-13T16:27:18.607Z"
   },
   {
    "duration": 8,
    "start_time": "2024-07-13T16:27:18.627Z"
   },
   {
    "duration": 33,
    "start_time": "2024-07-13T16:27:18.637Z"
   },
   {
    "duration": 24,
    "start_time": "2024-07-13T16:27:18.671Z"
   },
   {
    "duration": 78,
    "start_time": "2024-07-13T16:27:18.697Z"
   },
   {
    "duration": 16,
    "start_time": "2024-07-13T16:27:18.777Z"
   },
   {
    "duration": 116,
    "start_time": "2024-07-13T16:27:18.804Z"
   },
   {
    "duration": 6,
    "start_time": "2024-07-13T16:27:18.922Z"
   },
   {
    "duration": 5,
    "start_time": "2024-07-13T16:27:18.929Z"
   },
   {
    "duration": 19,
    "start_time": "2024-07-13T16:27:18.935Z"
   },
   {
    "duration": 61,
    "start_time": "2024-07-13T16:27:18.956Z"
   },
   {
    "duration": 1045,
    "start_time": "2024-07-13T16:27:19.019Z"
   },
   {
    "duration": 16,
    "start_time": "2024-07-13T16:27:20.065Z"
   },
   {
    "duration": 96,
    "start_time": "2024-07-13T16:27:20.083Z"
   },
   {
    "duration": 33188,
    "start_time": "2024-07-13T16:27:20.181Z"
   },
   {
    "duration": 181,
    "start_time": "2024-07-13T16:27:53.372Z"
   },
   {
    "duration": 201,
    "start_time": "2024-07-13T16:27:53.555Z"
   },
   {
    "duration": 239,
    "start_time": "2024-07-13T16:27:53.758Z"
   },
   {
    "duration": 186,
    "start_time": "2024-07-13T16:27:53.999Z"
   },
   {
    "duration": 257,
    "start_time": "2024-07-13T16:27:54.187Z"
   },
   {
    "duration": 143,
    "start_time": "2024-07-13T16:27:54.446Z"
   },
   {
    "duration": 0,
    "start_time": "2024-07-13T16:27:54.591Z"
   },
   {
    "duration": 0,
    "start_time": "2024-07-13T16:27:54.592Z"
   },
   {
    "duration": 0,
    "start_time": "2024-07-13T16:27:54.593Z"
   },
   {
    "duration": 0,
    "start_time": "2024-07-13T16:27:54.594Z"
   },
   {
    "duration": 0,
    "start_time": "2024-07-13T16:27:54.605Z"
   },
   {
    "duration": 0,
    "start_time": "2024-07-13T16:27:54.606Z"
   },
   {
    "duration": 0,
    "start_time": "2024-07-13T16:27:54.607Z"
   },
   {
    "duration": 0,
    "start_time": "2024-07-13T16:27:54.608Z"
   },
   {
    "duration": 0,
    "start_time": "2024-07-13T16:27:54.609Z"
   },
   {
    "duration": 0,
    "start_time": "2024-07-13T16:27:54.610Z"
   },
   {
    "duration": 0,
    "start_time": "2024-07-13T16:27:54.611Z"
   },
   {
    "duration": 0,
    "start_time": "2024-07-13T16:27:54.612Z"
   },
   {
    "duration": 0,
    "start_time": "2024-07-13T16:27:54.613Z"
   },
   {
    "duration": 0,
    "start_time": "2024-07-13T16:27:54.614Z"
   },
   {
    "duration": 0,
    "start_time": "2024-07-13T16:27:54.615Z"
   },
   {
    "duration": 0,
    "start_time": "2024-07-13T16:27:54.617Z"
   },
   {
    "duration": 0,
    "start_time": "2024-07-13T16:27:54.928Z"
   },
   {
    "duration": 0,
    "start_time": "2024-07-13T16:27:54.930Z"
   },
   {
    "duration": 0,
    "start_time": "2024-07-13T16:27:54.931Z"
   },
   {
    "duration": 0,
    "start_time": "2024-07-13T16:27:54.932Z"
   },
   {
    "duration": 0,
    "start_time": "2024-07-13T16:27:54.934Z"
   },
   {
    "duration": 0,
    "start_time": "2024-07-13T16:27:54.935Z"
   },
   {
    "duration": 0,
    "start_time": "2024-07-13T16:27:54.936Z"
   },
   {
    "duration": 0,
    "start_time": "2024-07-13T16:27:54.937Z"
   },
   {
    "duration": 0,
    "start_time": "2024-07-13T16:27:54.938Z"
   },
   {
    "duration": 0,
    "start_time": "2024-07-13T16:27:54.939Z"
   },
   {
    "duration": 0,
    "start_time": "2024-07-13T16:27:54.940Z"
   },
   {
    "duration": 0,
    "start_time": "2024-07-13T16:27:54.941Z"
   },
   {
    "duration": 0,
    "start_time": "2024-07-13T16:27:54.943Z"
   },
   {
    "duration": 8096,
    "start_time": "2024-07-13T16:29:45.726Z"
   },
   {
    "duration": 1806,
    "start_time": "2024-07-13T16:29:53.824Z"
   },
   {
    "duration": 4,
    "start_time": "2024-07-13T16:29:55.631Z"
   },
   {
    "duration": 436,
    "start_time": "2024-07-13T16:29:55.637Z"
   },
   {
    "duration": 63,
    "start_time": "2024-07-13T16:29:56.075Z"
   },
   {
    "duration": 28,
    "start_time": "2024-07-13T16:29:56.140Z"
   },
   {
    "duration": 120,
    "start_time": "2024-07-13T16:29:56.170Z"
   },
   {
    "duration": 226,
    "start_time": "2024-07-13T16:29:56.292Z"
   },
   {
    "duration": 11,
    "start_time": "2024-07-13T16:29:56.521Z"
   },
   {
    "duration": 110,
    "start_time": "2024-07-13T16:29:56.536Z"
   },
   {
    "duration": 50,
    "start_time": "2024-07-13T16:29:56.647Z"
   },
   {
    "duration": 8,
    "start_time": "2024-07-13T16:29:56.699Z"
   },
   {
    "duration": 266,
    "start_time": "2024-07-13T16:29:56.709Z"
   },
   {
    "duration": 45,
    "start_time": "2024-07-13T16:29:56.977Z"
   },
   {
    "duration": 13,
    "start_time": "2024-07-13T16:29:57.024Z"
   },
   {
    "duration": 18,
    "start_time": "2024-07-13T16:29:57.039Z"
   },
   {
    "duration": 67,
    "start_time": "2024-07-13T16:29:57.059Z"
   },
   {
    "duration": 22,
    "start_time": "2024-07-13T16:29:57.127Z"
   },
   {
    "duration": 1032,
    "start_time": "2024-07-13T16:29:57.151Z"
   },
   {
    "duration": 21,
    "start_time": "2024-07-13T16:29:58.185Z"
   },
   {
    "duration": 31,
    "start_time": "2024-07-13T16:29:58.208Z"
   },
   {
    "duration": 33,
    "start_time": "2024-07-13T16:29:58.241Z"
   },
   {
    "duration": 32,
    "start_time": "2024-07-13T16:29:58.276Z"
   },
   {
    "duration": 19,
    "start_time": "2024-07-13T16:29:58.310Z"
   },
   {
    "duration": 14,
    "start_time": "2024-07-13T16:29:58.331Z"
   },
   {
    "duration": 100,
    "start_time": "2024-07-13T16:29:58.347Z"
   },
   {
    "duration": 15,
    "start_time": "2024-07-13T16:29:58.448Z"
   },
   {
    "duration": 123,
    "start_time": "2024-07-13T16:29:58.468Z"
   },
   {
    "duration": 6,
    "start_time": "2024-07-13T16:29:58.593Z"
   },
   {
    "duration": 7,
    "start_time": "2024-07-13T16:29:58.601Z"
   },
   {
    "duration": 24,
    "start_time": "2024-07-13T16:29:58.610Z"
   },
   {
    "duration": 34,
    "start_time": "2024-07-13T16:29:58.636Z"
   },
   {
    "duration": 1091,
    "start_time": "2024-07-13T16:29:58.672Z"
   },
   {
    "duration": 16,
    "start_time": "2024-07-13T16:29:59.765Z"
   },
   {
    "duration": 105,
    "start_time": "2024-07-13T16:29:59.782Z"
   },
   {
    "duration": 33381,
    "start_time": "2024-07-13T16:29:59.888Z"
   },
   {
    "duration": 191,
    "start_time": "2024-07-13T16:30:33.271Z"
   },
   {
    "duration": 191,
    "start_time": "2024-07-13T16:30:33.464Z"
   },
   {
    "duration": 246,
    "start_time": "2024-07-13T16:30:33.657Z"
   },
   {
    "duration": 173,
    "start_time": "2024-07-13T16:30:33.905Z"
   },
   {
    "duration": 265,
    "start_time": "2024-07-13T16:30:34.080Z"
   },
   {
    "duration": 489,
    "start_time": "2024-07-13T16:30:34.347Z"
   },
   {
    "duration": 153,
    "start_time": "2024-07-13T16:30:34.838Z"
   },
   {
    "duration": 188,
    "start_time": "2024-07-13T16:30:34.993Z"
   },
   {
    "duration": 225,
    "start_time": "2024-07-13T16:30:35.183Z"
   },
   {
    "duration": 153,
    "start_time": "2024-07-13T16:30:35.410Z"
   },
   {
    "duration": 42,
    "start_time": "2024-07-13T16:30:35.564Z"
   },
   {
    "duration": 24,
    "start_time": "2024-07-13T16:30:35.608Z"
   },
   {
    "duration": 24,
    "start_time": "2024-07-13T16:30:35.634Z"
   },
   {
    "duration": 35392,
    "start_time": "2024-07-13T16:30:35.660Z"
   },
   {
    "duration": 32260,
    "start_time": "2024-07-13T16:31:11.054Z"
   },
   {
    "duration": 4511,
    "start_time": "2024-07-13T16:31:43.316Z"
   },
   {
    "duration": 26,
    "start_time": "2024-07-13T16:31:47.828Z"
   },
   {
    "duration": 2,
    "start_time": "2024-07-13T16:31:47.856Z"
   },
   {
    "duration": 25,
    "start_time": "2024-07-13T16:31:47.859Z"
   },
   {
    "duration": 12,
    "start_time": "2024-07-13T16:31:47.885Z"
   },
   {
    "duration": 7,
    "start_time": "2024-07-13T16:31:47.898Z"
   },
   {
    "duration": 213818,
    "start_time": "2024-07-13T16:31:47.906Z"
   },
   {
    "duration": 73,
    "start_time": "2024-07-13T16:35:21.726Z"
   },
   {
    "duration": 345,
    "start_time": "2024-07-13T16:35:21.800Z"
   },
   {
    "duration": 139,
    "start_time": "2024-07-13T16:35:22.147Z"
   },
   {
    "duration": 39,
    "start_time": "2024-07-13T16:35:22.288Z"
   },
   {
    "duration": 92,
    "start_time": "2024-07-13T16:35:22.329Z"
   },
   {
    "duration": 15,
    "start_time": "2024-07-13T16:35:22.423Z"
   },
   {
    "duration": 83,
    "start_time": "2024-07-13T16:35:22.440Z"
   },
   {
    "duration": 14,
    "start_time": "2024-07-13T16:35:22.525Z"
   },
   {
    "duration": 128,
    "start_time": "2024-07-13T16:35:22.541Z"
   },
   {
    "duration": 2,
    "start_time": "2024-07-13T16:35:22.671Z"
   },
   {
    "duration": 76,
    "start_time": "2024-07-13T16:35:22.675Z"
   },
   {
    "duration": 2,
    "start_time": "2024-07-13T16:35:22.753Z"
   },
   {
    "duration": 84651,
    "start_time": "2024-07-13T19:25:06.262Z"
   },
   {
    "duration": 3,
    "start_time": "2024-07-13T19:30:11.489Z"
   },
   {
    "duration": 7740,
    "start_time": "2024-07-13T19:33:38.393Z"
   },
   {
    "duration": 1795,
    "start_time": "2024-07-13T19:33:46.135Z"
   },
   {
    "duration": 3,
    "start_time": "2024-07-13T19:33:47.933Z"
   },
   {
    "duration": 446,
    "start_time": "2024-07-13T19:33:47.938Z"
   },
   {
    "duration": 51,
    "start_time": "2024-07-13T19:33:48.386Z"
   },
   {
    "duration": 23,
    "start_time": "2024-07-13T19:33:48.439Z"
   },
   {
    "duration": 98,
    "start_time": "2024-07-13T19:33:48.464Z"
   },
   {
    "duration": 221,
    "start_time": "2024-07-13T19:33:48.563Z"
   },
   {
    "duration": 8,
    "start_time": "2024-07-13T19:33:48.786Z"
   },
   {
    "duration": 109,
    "start_time": "2024-07-13T19:33:48.796Z"
   },
   {
    "duration": 49,
    "start_time": "2024-07-13T19:33:48.907Z"
   },
   {
    "duration": 187,
    "start_time": "2024-07-13T19:33:48.958Z"
   },
   {
    "duration": 40,
    "start_time": "2024-07-13T19:33:49.147Z"
   },
   {
    "duration": 21,
    "start_time": "2024-07-13T19:33:49.189Z"
   },
   {
    "duration": 10,
    "start_time": "2024-07-13T19:33:49.212Z"
   },
   {
    "duration": 66,
    "start_time": "2024-07-13T19:33:49.224Z"
   },
   {
    "duration": 24,
    "start_time": "2024-07-13T19:33:49.306Z"
   },
   {
    "duration": 1021,
    "start_time": "2024-07-13T19:33:49.331Z"
   },
   {
    "duration": 15,
    "start_time": "2024-07-13T19:33:50.354Z"
   },
   {
    "duration": 12,
    "start_time": "2024-07-13T19:33:50.371Z"
   },
   {
    "duration": 21,
    "start_time": "2024-07-13T19:33:50.385Z"
   },
   {
    "duration": 21,
    "start_time": "2024-07-13T19:33:50.407Z"
   },
   {
    "duration": 18,
    "start_time": "2024-07-13T19:33:50.429Z"
   },
   {
    "duration": 95,
    "start_time": "2024-07-13T19:33:50.448Z"
   },
   {
    "duration": 16,
    "start_time": "2024-07-13T19:33:50.544Z"
   },
   {
    "duration": 121,
    "start_time": "2024-07-13T19:33:50.561Z"
   },
   {
    "duration": 6,
    "start_time": "2024-07-13T19:33:50.683Z"
   },
   {
    "duration": 13,
    "start_time": "2024-07-13T19:33:50.693Z"
   },
   {
    "duration": 1318,
    "start_time": "2024-07-13T19:33:50.707Z"
   },
   {
    "duration": 0,
    "start_time": "2024-07-13T19:33:52.027Z"
   },
   {
    "duration": 0,
    "start_time": "2024-07-13T19:33:52.028Z"
   },
   {
    "duration": 0,
    "start_time": "2024-07-13T19:33:52.029Z"
   },
   {
    "duration": 0,
    "start_time": "2024-07-13T19:33:52.030Z"
   },
   {
    "duration": 0,
    "start_time": "2024-07-13T19:33:52.031Z"
   },
   {
    "duration": 0,
    "start_time": "2024-07-13T19:33:52.033Z"
   },
   {
    "duration": 0,
    "start_time": "2024-07-13T19:33:52.034Z"
   },
   {
    "duration": 0,
    "start_time": "2024-07-13T19:33:52.035Z"
   },
   {
    "duration": 0,
    "start_time": "2024-07-13T19:33:52.037Z"
   },
   {
    "duration": 0,
    "start_time": "2024-07-13T19:33:52.038Z"
   },
   {
    "duration": 0,
    "start_time": "2024-07-13T19:33:52.040Z"
   },
   {
    "duration": 0,
    "start_time": "2024-07-13T19:33:52.041Z"
   },
   {
    "duration": 0,
    "start_time": "2024-07-13T19:33:52.043Z"
   },
   {
    "duration": 0,
    "start_time": "2024-07-13T19:33:52.044Z"
   },
   {
    "duration": 0,
    "start_time": "2024-07-13T19:33:52.046Z"
   },
   {
    "duration": 0,
    "start_time": "2024-07-13T19:33:52.048Z"
   },
   {
    "duration": 0,
    "start_time": "2024-07-13T19:33:52.049Z"
   },
   {
    "duration": 0,
    "start_time": "2024-07-13T19:33:52.050Z"
   },
   {
    "duration": 0,
    "start_time": "2024-07-13T19:33:52.052Z"
   },
   {
    "duration": 0,
    "start_time": "2024-07-13T19:33:52.053Z"
   },
   {
    "duration": 0,
    "start_time": "2024-07-13T19:33:52.055Z"
   },
   {
    "duration": 0,
    "start_time": "2024-07-13T19:33:52.057Z"
   },
   {
    "duration": 0,
    "start_time": "2024-07-13T19:33:52.059Z"
   },
   {
    "duration": 0,
    "start_time": "2024-07-13T19:33:52.060Z"
   },
   {
    "duration": 0,
    "start_time": "2024-07-13T19:33:52.062Z"
   },
   {
    "duration": 0,
    "start_time": "2024-07-13T19:33:52.063Z"
   },
   {
    "duration": 0,
    "start_time": "2024-07-13T19:33:52.064Z"
   },
   {
    "duration": 0,
    "start_time": "2024-07-13T19:33:52.106Z"
   },
   {
    "duration": 0,
    "start_time": "2024-07-13T19:33:52.107Z"
   },
   {
    "duration": 0,
    "start_time": "2024-07-13T19:33:52.109Z"
   },
   {
    "duration": 0,
    "start_time": "2024-07-13T19:33:52.110Z"
   },
   {
    "duration": 0,
    "start_time": "2024-07-13T19:33:52.111Z"
   },
   {
    "duration": 0,
    "start_time": "2024-07-13T19:33:52.112Z"
   },
   {
    "duration": 0,
    "start_time": "2024-07-13T19:33:52.114Z"
   },
   {
    "duration": 0,
    "start_time": "2024-07-13T19:33:52.115Z"
   },
   {
    "duration": 0,
    "start_time": "2024-07-13T19:33:52.116Z"
   },
   {
    "duration": 0,
    "start_time": "2024-07-13T19:33:52.117Z"
   },
   {
    "duration": 0,
    "start_time": "2024-07-13T19:33:52.118Z"
   },
   {
    "duration": 0,
    "start_time": "2024-07-13T19:33:52.119Z"
   },
   {
    "duration": 0,
    "start_time": "2024-07-13T19:33:52.120Z"
   },
   {
    "duration": 0,
    "start_time": "2024-07-13T19:33:52.121Z"
   },
   {
    "duration": 0,
    "start_time": "2024-07-13T19:33:52.122Z"
   },
   {
    "duration": 1102,
    "start_time": "2024-07-13T19:35:55.594Z"
   },
   {
    "duration": 4,
    "start_time": "2024-07-13T19:36:32.313Z"
   },
   {
    "duration": 1112,
    "start_time": "2024-07-13T19:36:37.050Z"
   },
   {
    "duration": 15,
    "start_time": "2024-07-13T19:37:17.105Z"
   },
   {
    "duration": 28,
    "start_time": "2024-07-13T19:37:49.217Z"
   },
   {
    "duration": 1295,
    "start_time": "2024-07-13T19:37:59.910Z"
   },
   {
    "duration": 17,
    "start_time": "2024-07-13T19:38:14.789Z"
   },
   {
    "duration": 7,
    "start_time": "2024-07-13T19:40:43.746Z"
   },
   {
    "duration": 20,
    "start_time": "2024-07-13T19:40:54.214Z"
   },
   {
    "duration": 37,
    "start_time": "2024-07-13T19:40:56.349Z"
   },
   {
    "duration": 43,
    "start_time": "2024-07-13T19:41:15.566Z"
   },
   {
    "duration": 34,
    "start_time": "2024-07-13T19:41:16.262Z"
   },
   {
    "duration": 41,
    "start_time": "2024-07-13T19:41:16.838Z"
   },
   {
    "duration": 10,
    "start_time": "2024-07-13T19:41:18.502Z"
   },
   {
    "duration": 31,
    "start_time": "2024-07-13T19:41:25.182Z"
   },
   {
    "duration": 3,
    "start_time": "2024-07-13T19:41:25.533Z"
   },
   {
    "duration": 4,
    "start_time": "2024-07-13T19:41:25.858Z"
   },
   {
    "duration": 6,
    "start_time": "2024-07-13T19:41:26.214Z"
   },
   {
    "duration": 3425,
    "start_time": "2024-07-13T19:41:26.542Z"
   },
   {
    "duration": 0,
    "start_time": "2024-07-13T19:41:29.968Z"
   },
   {
    "duration": 0,
    "start_time": "2024-07-13T19:41:29.970Z"
   },
   {
    "duration": 17,
    "start_time": "2024-07-13T19:44:50.126Z"
   },
   {
    "duration": 7681,
    "start_time": "2024-07-13T19:47:50.513Z"
   },
   {
    "duration": 1796,
    "start_time": "2024-07-13T19:47:58.197Z"
   },
   {
    "duration": 3,
    "start_time": "2024-07-13T19:47:59.994Z"
   },
   {
    "duration": 478,
    "start_time": "2024-07-13T19:47:59.999Z"
   },
   {
    "duration": 51,
    "start_time": "2024-07-13T19:48:00.478Z"
   },
   {
    "duration": 45,
    "start_time": "2024-07-13T19:48:00.531Z"
   },
   {
    "duration": 106,
    "start_time": "2024-07-13T19:48:00.577Z"
   },
   {
    "duration": 221,
    "start_time": "2024-07-13T19:48:00.685Z"
   },
   {
    "duration": 12,
    "start_time": "2024-07-13T19:48:00.907Z"
   },
   {
    "duration": 101,
    "start_time": "2024-07-13T19:48:00.921Z"
   },
   {
    "duration": 70,
    "start_time": "2024-07-13T19:48:01.023Z"
   },
   {
    "duration": 204,
    "start_time": "2024-07-13T19:48:01.095Z"
   },
   {
    "duration": 42,
    "start_time": "2024-07-13T19:48:01.301Z"
   },
   {
    "duration": 14,
    "start_time": "2024-07-13T19:48:01.345Z"
   },
   {
    "duration": 27,
    "start_time": "2024-07-13T19:48:01.361Z"
   },
   {
    "duration": 83,
    "start_time": "2024-07-13T19:48:01.390Z"
   },
   {
    "duration": 52,
    "start_time": "2024-07-13T19:48:01.474Z"
   },
   {
    "duration": 1021,
    "start_time": "2024-07-13T19:48:01.528Z"
   },
   {
    "duration": 15,
    "start_time": "2024-07-13T19:48:02.551Z"
   },
   {
    "duration": 12,
    "start_time": "2024-07-13T19:48:02.567Z"
   },
   {
    "duration": 28,
    "start_time": "2024-07-13T19:48:02.581Z"
   },
   {
    "duration": 20,
    "start_time": "2024-07-13T19:48:02.611Z"
   },
   {
    "duration": 14,
    "start_time": "2024-07-13T19:48:02.633Z"
   },
   {
    "duration": 102,
    "start_time": "2024-07-13T19:48:02.648Z"
   },
   {
    "duration": 24,
    "start_time": "2024-07-13T19:48:02.751Z"
   },
   {
    "duration": 142,
    "start_time": "2024-07-13T19:48:02.776Z"
   },
   {
    "duration": 6,
    "start_time": "2024-07-13T19:48:02.919Z"
   },
   {
    "duration": 9,
    "start_time": "2024-07-13T19:48:02.929Z"
   },
   {
    "duration": 20,
    "start_time": "2024-07-13T19:48:02.940Z"
   },
   {
    "duration": 6,
    "start_time": "2024-07-13T19:48:02.962Z"
   },
   {
    "duration": 39,
    "start_time": "2024-07-13T19:48:02.969Z"
   },
   {
    "duration": 34,
    "start_time": "2024-07-13T19:48:03.010Z"
   },
   {
    "duration": 148,
    "start_time": "2024-07-13T19:48:03.045Z"
   },
   {
    "duration": 0,
    "start_time": "2024-07-13T19:48:03.194Z"
   },
   {
    "duration": 0,
    "start_time": "2024-07-13T19:48:03.196Z"
   },
   {
    "duration": 0,
    "start_time": "2024-07-13T19:48:03.197Z"
   },
   {
    "duration": 0,
    "start_time": "2024-07-13T19:48:03.198Z"
   },
   {
    "duration": 0,
    "start_time": "2024-07-13T19:48:03.205Z"
   },
   {
    "duration": 0,
    "start_time": "2024-07-13T19:48:03.206Z"
   },
   {
    "duration": 0,
    "start_time": "2024-07-13T19:48:03.207Z"
   },
   {
    "duration": 0,
    "start_time": "2024-07-13T19:48:03.208Z"
   },
   {
    "duration": 0,
    "start_time": "2024-07-13T19:48:03.209Z"
   },
   {
    "duration": 0,
    "start_time": "2024-07-13T19:48:03.211Z"
   },
   {
    "duration": 0,
    "start_time": "2024-07-13T19:48:03.212Z"
   },
   {
    "duration": 0,
    "start_time": "2024-07-13T19:48:03.213Z"
   },
   {
    "duration": 0,
    "start_time": "2024-07-13T19:48:03.214Z"
   },
   {
    "duration": 0,
    "start_time": "2024-07-13T19:48:03.215Z"
   },
   {
    "duration": 0,
    "start_time": "2024-07-13T19:48:03.216Z"
   },
   {
    "duration": 0,
    "start_time": "2024-07-13T19:48:03.217Z"
   },
   {
    "duration": 0,
    "start_time": "2024-07-13T19:48:03.218Z"
   },
   {
    "duration": 0,
    "start_time": "2024-07-13T19:48:03.219Z"
   },
   {
    "duration": 0,
    "start_time": "2024-07-13T19:48:03.220Z"
   },
   {
    "duration": 0,
    "start_time": "2024-07-13T19:48:03.221Z"
   },
   {
    "duration": 0,
    "start_time": "2024-07-13T19:48:03.222Z"
   },
   {
    "duration": 0,
    "start_time": "2024-07-13T19:48:03.223Z"
   },
   {
    "duration": 0,
    "start_time": "2024-07-13T19:48:03.224Z"
   },
   {
    "duration": 0,
    "start_time": "2024-07-13T19:48:03.225Z"
   },
   {
    "duration": 0,
    "start_time": "2024-07-13T19:48:03.226Z"
   },
   {
    "duration": 0,
    "start_time": "2024-07-13T19:48:03.227Z"
   },
   {
    "duration": 0,
    "start_time": "2024-07-13T19:48:03.228Z"
   },
   {
    "duration": 0,
    "start_time": "2024-07-13T19:48:03.229Z"
   },
   {
    "duration": 0,
    "start_time": "2024-07-13T19:48:03.231Z"
   },
   {
    "duration": 0,
    "start_time": "2024-07-13T19:48:03.231Z"
   },
   {
    "duration": 0,
    "start_time": "2024-07-13T19:48:03.232Z"
   },
   {
    "duration": 0,
    "start_time": "2024-07-13T19:48:03.234Z"
   },
   {
    "duration": 0,
    "start_time": "2024-07-13T19:48:03.234Z"
   },
   {
    "duration": 0,
    "start_time": "2024-07-13T19:48:03.236Z"
   },
   {
    "duration": 0,
    "start_time": "2024-07-13T19:48:03.237Z"
   },
   {
    "duration": 0,
    "start_time": "2024-07-13T19:48:03.237Z"
   },
   {
    "duration": 0,
    "start_time": "2024-07-13T19:48:03.239Z"
   },
   {
    "duration": 0,
    "start_time": "2024-07-13T19:48:03.305Z"
   },
   {
    "duration": 0,
    "start_time": "2024-07-13T19:48:03.306Z"
   },
   {
    "duration": 0,
    "start_time": "2024-07-13T19:48:03.308Z"
   },
   {
    "duration": 45,
    "start_time": "2024-07-13T19:49:30.370Z"
   },
   {
    "duration": 30,
    "start_time": "2024-07-13T19:49:33.618Z"
   },
   {
    "duration": 35,
    "start_time": "2024-07-13T19:49:34.610Z"
   },
   {
    "duration": 24,
    "start_time": "2024-07-13T19:49:40.822Z"
   },
   {
    "duration": 28,
    "start_time": "2024-07-13T19:49:41.582Z"
   },
   {
    "duration": 12,
    "start_time": "2024-07-13T19:49:43.202Z"
   },
   {
    "duration": 4,
    "start_time": "2024-07-13T19:49:43.722Z"
   },
   {
    "duration": 6,
    "start_time": "2024-07-13T19:49:44.254Z"
   },
   {
    "duration": 214288,
    "start_time": "2024-07-13T19:49:44.713Z"
   },
   {
    "duration": 73,
    "start_time": "2024-07-13T19:57:58.702Z"
   },
   {
    "duration": 431,
    "start_time": "2024-07-13T19:58:00.334Z"
   },
   {
    "duration": 13,
    "start_time": "2024-07-13T19:58:08.838Z"
   },
   {
    "duration": 72,
    "start_time": "2024-07-13T19:58:38.406Z"
   },
   {
    "duration": 5,
    "start_time": "2024-07-13T19:59:23.330Z"
   },
   {
    "duration": 7,
    "start_time": "2024-07-13T19:59:30.918Z"
   },
   {
    "duration": 10,
    "start_time": "2024-07-13T19:59:35.382Z"
   },
   {
    "duration": 106,
    "start_time": "2024-07-13T19:59:44.482Z"
   },
   {
    "duration": 9,
    "start_time": "2024-07-13T20:01:59.726Z"
   },
   {
    "duration": 126,
    "start_time": "2024-07-13T20:02:04.017Z"
   },
   {
    "duration": 7731,
    "start_time": "2024-07-13T20:05:46.457Z"
   },
   {
    "duration": 1839,
    "start_time": "2024-07-13T20:05:54.190Z"
   },
   {
    "duration": 3,
    "start_time": "2024-07-13T20:05:56.030Z"
   },
   {
    "duration": 495,
    "start_time": "2024-07-13T20:05:56.037Z"
   },
   {
    "duration": 51,
    "start_time": "2024-07-13T20:05:56.533Z"
   },
   {
    "duration": 37,
    "start_time": "2024-07-13T20:05:56.586Z"
   },
   {
    "duration": 100,
    "start_time": "2024-07-13T20:05:56.625Z"
   },
   {
    "duration": 219,
    "start_time": "2024-07-13T20:05:56.727Z"
   },
   {
    "duration": 7,
    "start_time": "2024-07-13T20:05:56.948Z"
   },
   {
    "duration": 73,
    "start_time": "2024-07-13T20:05:56.958Z"
   },
   {
    "duration": 42,
    "start_time": "2024-07-13T20:05:57.033Z"
   },
   {
    "duration": 196,
    "start_time": "2024-07-13T20:05:57.077Z"
   },
   {
    "duration": 50,
    "start_time": "2024-07-13T20:05:57.275Z"
   },
   {
    "duration": 14,
    "start_time": "2024-07-13T20:05:57.327Z"
   },
   {
    "duration": 12,
    "start_time": "2024-07-13T20:05:57.343Z"
   },
   {
    "duration": 72,
    "start_time": "2024-07-13T20:05:57.356Z"
   },
   {
    "duration": 25,
    "start_time": "2024-07-13T20:05:57.429Z"
   },
   {
    "duration": 1106,
    "start_time": "2024-07-13T20:05:57.455Z"
   },
   {
    "duration": 15,
    "start_time": "2024-07-13T20:05:58.562Z"
   },
   {
    "duration": 12,
    "start_time": "2024-07-13T20:05:58.579Z"
   },
   {
    "duration": 8,
    "start_time": "2024-07-13T20:05:58.605Z"
   },
   {
    "duration": 12,
    "start_time": "2024-07-13T20:05:58.614Z"
   },
   {
    "duration": 13,
    "start_time": "2024-07-13T20:05:58.628Z"
   },
   {
    "duration": 105,
    "start_time": "2024-07-13T20:05:58.642Z"
   },
   {
    "duration": 15,
    "start_time": "2024-07-13T20:05:58.749Z"
   },
   {
    "duration": 127,
    "start_time": "2024-07-13T20:05:58.765Z"
   },
   {
    "duration": 14,
    "start_time": "2024-07-13T20:05:58.894Z"
   },
   {
    "duration": 46,
    "start_time": "2024-07-13T20:05:58.911Z"
   },
   {
    "duration": 14,
    "start_time": "2024-07-13T20:05:58.958Z"
   },
   {
    "duration": 4,
    "start_time": "2024-07-13T20:05:58.974Z"
   },
   {
    "duration": 17,
    "start_time": "2024-07-13T20:05:58.979Z"
   },
   {
    "duration": 34,
    "start_time": "2024-07-13T20:05:58.998Z"
   },
   {
    "duration": 1130,
    "start_time": "2024-07-13T20:05:59.033Z"
   },
   {
    "duration": 17,
    "start_time": "2024-07-13T20:06:00.165Z"
   },
   {
    "duration": 196,
    "start_time": "2024-07-13T20:06:00.184Z"
   },
   {
    "duration": 181,
    "start_time": "2024-07-13T20:06:00.382Z"
   },
   {
    "duration": 194,
    "start_time": "2024-07-13T20:06:00.565Z"
   },
   {
    "duration": 260,
    "start_time": "2024-07-13T20:06:00.762Z"
   },
   {
    "duration": 174,
    "start_time": "2024-07-13T20:06:01.024Z"
   },
   {
    "duration": 253,
    "start_time": "2024-07-13T20:06:01.205Z"
   },
   {
    "duration": 206,
    "start_time": "2024-07-13T20:06:01.460Z"
   },
   {
    "duration": 251,
    "start_time": "2024-07-13T20:06:01.669Z"
   },
   {
    "duration": 194,
    "start_time": "2024-07-13T20:06:01.922Z"
   },
   {
    "duration": 208,
    "start_time": "2024-07-13T20:06:02.117Z"
   },
   {
    "duration": 155,
    "start_time": "2024-07-13T20:06:02.326Z"
   },
   {
    "duration": 45,
    "start_time": "2024-07-13T20:06:02.483Z"
   },
   {
    "duration": 30,
    "start_time": "2024-07-13T20:06:02.530Z"
   },
   {
    "duration": 50,
    "start_time": "2024-07-13T20:06:02.562Z"
   },
   {
    "duration": 33998,
    "start_time": "2024-07-13T20:06:02.614Z"
   },
   {
    "duration": 30708,
    "start_time": "2024-07-13T20:06:36.614Z"
   },
   {
    "duration": 4558,
    "start_time": "2024-07-13T20:07:07.324Z"
   },
   {
    "duration": 23,
    "start_time": "2024-07-13T20:07:11.883Z"
   },
   {
    "duration": 27,
    "start_time": "2024-07-13T20:07:11.908Z"
   },
   {
    "duration": 8,
    "start_time": "2024-07-13T20:07:11.936Z"
   },
   {
    "duration": 5,
    "start_time": "2024-07-13T20:07:11.946Z"
   },
   {
    "duration": 21,
    "start_time": "2024-07-13T20:07:11.952Z"
   },
   {
    "duration": 215376,
    "start_time": "2024-07-13T20:07:11.975Z"
   },
   {
    "duration": 67,
    "start_time": "2024-07-13T20:10:47.353Z"
   },
   {
    "duration": 316,
    "start_time": "2024-07-13T20:10:47.421Z"
   },
   {
    "duration": 79,
    "start_time": "2024-07-13T20:10:47.738Z"
   },
   {
    "duration": 76,
    "start_time": "2024-07-13T20:10:47.819Z"
   },
   {
    "duration": 7727,
    "start_time": "2024-07-13T21:19:12.885Z"
   },
   {
    "duration": 1917,
    "start_time": "2024-07-13T21:19:20.614Z"
   },
   {
    "duration": 2,
    "start_time": "2024-07-13T21:19:22.533Z"
   },
   {
    "duration": 414,
    "start_time": "2024-07-13T21:19:22.537Z"
   },
   {
    "duration": 54,
    "start_time": "2024-07-13T21:19:22.952Z"
   },
   {
    "duration": 25,
    "start_time": "2024-07-13T21:19:23.008Z"
   },
   {
    "duration": 99,
    "start_time": "2024-07-13T21:19:23.035Z"
   },
   {
    "duration": 214,
    "start_time": "2024-07-13T21:19:23.136Z"
   },
   {
    "duration": 8,
    "start_time": "2024-07-13T21:19:23.351Z"
   },
   {
    "duration": 70,
    "start_time": "2024-07-13T21:19:23.362Z"
   },
   {
    "duration": 42,
    "start_time": "2024-07-13T21:19:23.434Z"
   },
   {
    "duration": 190,
    "start_time": "2024-07-13T21:19:23.478Z"
   },
   {
    "duration": 56,
    "start_time": "2024-07-13T21:19:23.669Z"
   },
   {
    "duration": 14,
    "start_time": "2024-07-13T21:19:23.726Z"
   },
   {
    "duration": 11,
    "start_time": "2024-07-13T21:19:23.742Z"
   },
   {
    "duration": 66,
    "start_time": "2024-07-13T21:19:23.754Z"
   },
   {
    "duration": 23,
    "start_time": "2024-07-13T21:19:23.822Z"
   },
   {
    "duration": 1087,
    "start_time": "2024-07-13T21:19:23.846Z"
   },
   {
    "duration": 21,
    "start_time": "2024-07-13T21:19:24.935Z"
   },
   {
    "duration": 14,
    "start_time": "2024-07-13T21:19:24.958Z"
   },
   {
    "duration": 8,
    "start_time": "2024-07-13T21:19:24.974Z"
   },
   {
    "duration": 31,
    "start_time": "2024-07-13T21:19:24.984Z"
   },
   {
    "duration": 22,
    "start_time": "2024-07-13T21:19:25.017Z"
   },
   {
    "duration": 129,
    "start_time": "2024-07-13T21:19:25.040Z"
   },
   {
    "duration": 17,
    "start_time": "2024-07-13T21:19:25.171Z"
   },
   {
    "duration": 180,
    "start_time": "2024-07-13T21:19:25.190Z"
   },
   {
    "duration": 7,
    "start_time": "2024-07-13T21:19:25.371Z"
   },
   {
    "duration": 8,
    "start_time": "2024-07-13T21:19:25.383Z"
   },
   {
    "duration": 14,
    "start_time": "2024-07-13T21:19:25.392Z"
   },
   {
    "duration": 20,
    "start_time": "2024-07-13T21:19:25.408Z"
   },
   {
    "duration": 36,
    "start_time": "2024-07-13T21:19:25.430Z"
   },
   {
    "duration": 1226,
    "start_time": "2024-07-13T21:19:25.468Z"
   },
   {
    "duration": 30,
    "start_time": "2024-07-13T21:19:26.696Z"
   },
   {
    "duration": 100,
    "start_time": "2024-07-13T21:19:26.727Z"
   },
   {
    "duration": 223,
    "start_time": "2024-07-13T21:19:26.829Z"
   },
   {
    "duration": 186,
    "start_time": "2024-07-13T21:19:27.054Z"
   },
   {
    "duration": 396,
    "start_time": "2024-07-13T21:19:27.242Z"
   },
   {
    "duration": 185,
    "start_time": "2024-07-13T21:19:27.640Z"
   },
   {
    "duration": 273,
    "start_time": "2024-07-13T21:19:27.827Z"
   },
   {
    "duration": 221,
    "start_time": "2024-07-13T21:19:28.102Z"
   },
   {
    "duration": 245,
    "start_time": "2024-07-13T21:19:28.324Z"
   },
   {
    "duration": 186,
    "start_time": "2024-07-13T21:19:28.571Z"
   },
   {
    "duration": 216,
    "start_time": "2024-07-13T21:19:28.758Z"
   },
   {
    "duration": 138,
    "start_time": "2024-07-13T21:19:28.976Z"
   },
   {
    "duration": 38,
    "start_time": "2024-07-13T21:19:29.115Z"
   },
   {
    "duration": 28,
    "start_time": "2024-07-13T21:19:29.155Z"
   },
   {
    "duration": 68,
    "start_time": "2024-07-13T21:19:29.185Z"
   },
   {
    "duration": 34542,
    "start_time": "2024-07-13T21:19:29.255Z"
   },
   {
    "duration": 31819,
    "start_time": "2024-07-13T21:20:03.799Z"
   },
   {
    "duration": 4771,
    "start_time": "2024-07-13T21:20:35.621Z"
   },
   {
    "duration": 20,
    "start_time": "2024-07-13T21:20:40.394Z"
   },
   {
    "duration": 73,
    "start_time": "2024-07-13T21:20:40.416Z"
   },
   {
    "duration": 80,
    "start_time": "2024-07-13T21:20:40.491Z"
   },
   {
    "duration": 9,
    "start_time": "2024-07-13T21:20:40.573Z"
   },
   {
    "duration": 4,
    "start_time": "2024-07-13T21:20:40.584Z"
   },
   {
    "duration": 19,
    "start_time": "2024-07-13T21:20:40.589Z"
   },
   {
    "duration": 14652,
    "start_time": "2024-07-14T08:18:15.873Z"
   },
   {
    "duration": 2068,
    "start_time": "2024-07-14T08:18:30.527Z"
   },
   {
    "duration": 3,
    "start_time": "2024-07-14T08:18:32.597Z"
   },
   {
    "duration": 483,
    "start_time": "2024-07-14T08:18:32.602Z"
   },
   {
    "duration": 57,
    "start_time": "2024-07-14T08:18:33.086Z"
   },
   {
    "duration": 48,
    "start_time": "2024-07-14T08:18:33.145Z"
   },
   {
    "duration": 122,
    "start_time": "2024-07-14T08:18:33.195Z"
   },
   {
    "duration": 275,
    "start_time": "2024-07-14T08:18:33.319Z"
   },
   {
    "duration": 12,
    "start_time": "2024-07-14T08:18:33.596Z"
   },
   {
    "duration": 82,
    "start_time": "2024-07-14T08:18:33.610Z"
   },
   {
    "duration": 50,
    "start_time": "2024-07-14T08:18:33.694Z"
   },
   {
    "duration": 237,
    "start_time": "2024-07-14T08:18:33.745Z"
   },
   {
    "duration": 43,
    "start_time": "2024-07-14T08:18:33.984Z"
   },
   {
    "duration": 27,
    "start_time": "2024-07-14T08:18:34.029Z"
   },
   {
    "duration": 20,
    "start_time": "2024-07-14T08:18:34.058Z"
   },
   {
    "duration": 70,
    "start_time": "2024-07-14T08:18:34.080Z"
   },
   {
    "duration": 23,
    "start_time": "2024-07-14T08:18:34.152Z"
   },
   {
    "duration": 1105,
    "start_time": "2024-07-14T08:18:34.177Z"
   },
   {
    "duration": 19,
    "start_time": "2024-07-14T08:18:35.284Z"
   },
   {
    "duration": 19,
    "start_time": "2024-07-14T08:18:35.304Z"
   },
   {
    "duration": 8,
    "start_time": "2024-07-14T08:18:35.325Z"
   },
   {
    "duration": 68,
    "start_time": "2024-07-14T08:18:35.334Z"
   },
   {
    "duration": 14,
    "start_time": "2024-07-14T08:18:35.404Z"
   },
   {
    "duration": 96,
    "start_time": "2024-07-14T08:18:35.420Z"
   },
   {
    "duration": 40,
    "start_time": "2024-07-14T08:18:35.518Z"
   },
   {
    "duration": 131,
    "start_time": "2024-07-14T08:18:35.560Z"
   },
   {
    "duration": 7,
    "start_time": "2024-07-14T08:18:35.693Z"
   },
   {
    "duration": 10,
    "start_time": "2024-07-14T08:18:35.704Z"
   },
   {
    "duration": 14,
    "start_time": "2024-07-14T08:18:35.715Z"
   },
   {
    "duration": 19,
    "start_time": "2024-07-14T08:18:35.730Z"
   },
   {
    "duration": 63,
    "start_time": "2024-07-14T08:18:35.751Z"
   },
   {
    "duration": 1194,
    "start_time": "2024-07-14T08:18:35.816Z"
   },
   {
    "duration": 18,
    "start_time": "2024-07-14T08:18:37.011Z"
   },
   {
    "duration": 127,
    "start_time": "2024-07-14T08:18:37.031Z"
   },
   {
    "duration": 191,
    "start_time": "2024-07-14T08:18:37.160Z"
   },
   {
    "duration": 197,
    "start_time": "2024-07-14T08:18:37.353Z"
   },
   {
    "duration": 248,
    "start_time": "2024-07-14T08:18:37.552Z"
   },
   {
    "duration": 202,
    "start_time": "2024-07-14T08:18:37.802Z"
   },
   {
    "duration": 275,
    "start_time": "2024-07-14T08:18:38.006Z"
   },
   {
    "duration": 208,
    "start_time": "2024-07-14T08:18:38.283Z"
   },
   {
    "duration": 265,
    "start_time": "2024-07-14T08:18:38.493Z"
   },
   {
    "duration": 218,
    "start_time": "2024-07-14T08:18:38.760Z"
   },
   {
    "duration": 220,
    "start_time": "2024-07-14T08:18:38.983Z"
   },
   {
    "duration": 151,
    "start_time": "2024-07-14T08:18:39.204Z"
   },
   {
    "duration": 49,
    "start_time": "2024-07-14T08:18:39.356Z"
   },
   {
    "duration": 32,
    "start_time": "2024-07-14T08:18:39.407Z"
   },
   {
    "duration": 49,
    "start_time": "2024-07-14T08:18:39.441Z"
   },
   {
    "duration": 37258,
    "start_time": "2024-07-14T08:18:39.492Z"
   },
   {
    "duration": 34409,
    "start_time": "2024-07-14T08:19:16.752Z"
   },
   {
    "duration": 4968,
    "start_time": "2024-07-14T08:19:51.162Z"
   },
   {
    "duration": 17,
    "start_time": "2024-07-14T08:19:56.132Z"
   },
   {
    "duration": 43,
    "start_time": "2024-07-14T08:19:56.151Z"
   },
   {
    "duration": 93,
    "start_time": "2024-07-14T08:19:56.196Z"
   },
   {
    "duration": 9,
    "start_time": "2024-07-14T08:19:56.290Z"
   },
   {
    "duration": 6,
    "start_time": "2024-07-14T08:19:56.301Z"
   },
   {
    "duration": 8,
    "start_time": "2024-07-14T08:19:56.309Z"
   },
   {
    "duration": 13841,
    "start_time": "2024-07-14T17:41:33.943Z"
   },
   {
    "duration": 1877,
    "start_time": "2024-07-14T17:41:47.786Z"
   },
   {
    "duration": 2,
    "start_time": "2024-07-14T17:41:49.665Z"
   },
   {
    "duration": 380,
    "start_time": "2024-07-14T17:41:49.669Z"
   },
   {
    "duration": 48,
    "start_time": "2024-07-14T17:41:50.050Z"
   },
   {
    "duration": 26,
    "start_time": "2024-07-14T17:41:50.099Z"
   },
   {
    "duration": 105,
    "start_time": "2024-07-14T17:41:50.126Z"
   },
   {
    "duration": 218,
    "start_time": "2024-07-14T17:41:50.233Z"
   },
   {
    "duration": 8,
    "start_time": "2024-07-14T17:41:50.453Z"
   },
   {
    "duration": 70,
    "start_time": "2024-07-14T17:41:50.464Z"
   },
   {
    "duration": 47,
    "start_time": "2024-07-14T17:41:50.535Z"
   },
   {
    "duration": 176,
    "start_time": "2024-07-14T17:41:50.584Z"
   },
   {
    "duration": 47,
    "start_time": "2024-07-14T17:41:50.761Z"
   },
   {
    "duration": 12,
    "start_time": "2024-07-14T17:41:50.810Z"
   },
   {
    "duration": 24,
    "start_time": "2024-07-14T17:41:50.823Z"
   },
   {
    "duration": 52,
    "start_time": "2024-07-14T17:41:50.848Z"
   },
   {
    "duration": 21,
    "start_time": "2024-07-14T17:41:50.902Z"
   },
   {
    "duration": 977,
    "start_time": "2024-07-14T17:41:50.924Z"
   },
   {
    "duration": 14,
    "start_time": "2024-07-14T17:41:51.903Z"
   },
   {
    "duration": 13,
    "start_time": "2024-07-14T17:41:51.918Z"
   },
   {
    "duration": 7,
    "start_time": "2024-07-14T17:41:51.933Z"
   },
   {
    "duration": 49,
    "start_time": "2024-07-14T17:41:51.941Z"
   },
   {
    "duration": 21,
    "start_time": "2024-07-14T17:41:51.992Z"
   },
   {
    "duration": 101,
    "start_time": "2024-07-14T17:41:52.015Z"
   },
   {
    "duration": 14,
    "start_time": "2024-07-14T17:41:52.118Z"
   },
   {
    "duration": 119,
    "start_time": "2024-07-14T17:41:52.133Z"
   },
   {
    "duration": 5,
    "start_time": "2024-07-14T17:41:52.254Z"
   },
   {
    "duration": 7,
    "start_time": "2024-07-14T17:41:52.262Z"
   },
   {
    "duration": 19,
    "start_time": "2024-07-14T17:41:52.270Z"
   },
   {
    "duration": 40,
    "start_time": "2024-07-14T17:41:52.291Z"
   },
   {
    "duration": 52,
    "start_time": "2024-07-14T17:41:52.332Z"
   },
   {
    "duration": 1180,
    "start_time": "2024-07-14T17:41:52.385Z"
   },
   {
    "duration": 19,
    "start_time": "2024-07-14T17:41:53.567Z"
   },
   {
    "duration": 80,
    "start_time": "2024-07-14T17:41:53.587Z"
   },
   {
    "duration": 169,
    "start_time": "2024-07-14T17:41:53.669Z"
   },
   {
    "duration": 174,
    "start_time": "2024-07-14T17:41:53.839Z"
   },
   {
    "duration": 211,
    "start_time": "2024-07-14T17:41:54.014Z"
   },
   {
    "duration": 164,
    "start_time": "2024-07-14T17:41:54.226Z"
   },
   {
    "duration": 238,
    "start_time": "2024-07-14T17:41:54.391Z"
   },
   {
    "duration": 296,
    "start_time": "2024-07-14T17:41:54.630Z"
   },
   {
    "duration": 118,
    "start_time": "2024-07-14T17:41:54.927Z"
   },
   {
    "duration": 178,
    "start_time": "2024-07-14T17:41:55.047Z"
   },
   {
    "duration": 187,
    "start_time": "2024-07-14T17:41:55.226Z"
   },
   {
    "duration": 132,
    "start_time": "2024-07-14T17:41:55.414Z"
   },
   {
    "duration": 46,
    "start_time": "2024-07-14T17:41:55.548Z"
   },
   {
    "duration": 29,
    "start_time": "2024-07-14T17:41:55.595Z"
   },
   {
    "duration": 30,
    "start_time": "2024-07-14T17:41:55.625Z"
   },
   {
    "duration": 34749,
    "start_time": "2024-07-14T17:41:55.657Z"
   },
   {
    "duration": 30827,
    "start_time": "2024-07-14T17:42:30.408Z"
   },
   {
    "duration": 4791,
    "start_time": "2024-07-14T17:43:01.236Z"
   },
   {
    "duration": 15,
    "start_time": "2024-07-14T17:43:06.029Z"
   },
   {
    "duration": 37,
    "start_time": "2024-07-14T17:43:06.045Z"
   },
   {
    "duration": 72,
    "start_time": "2024-07-14T17:43:06.084Z"
   },
   {
    "duration": 6,
    "start_time": "2024-07-14T17:43:06.158Z"
   },
   {
    "duration": 25,
    "start_time": "2024-07-14T17:43:06.165Z"
   },
   {
    "duration": 19,
    "start_time": "2024-07-14T17:43:06.191Z"
   },
   {
    "duration": 472323,
    "start_time": "2024-07-14T17:43:06.212Z"
   },
   {
    "duration": 69,
    "start_time": "2024-07-14T17:50:58.536Z"
   },
   {
    "duration": 309,
    "start_time": "2024-07-14T17:50:58.606Z"
   },
   {
    "duration": 79,
    "start_time": "2024-07-14T17:50:58.917Z"
   },
   {
    "duration": 123,
    "start_time": "2024-07-14T17:50:58.998Z"
   },
   {
    "duration": 4,
    "start_time": "2024-07-14T17:54:18.768Z"
   },
   {
    "duration": 117,
    "start_time": "2024-07-14T17:54:34.643Z"
   },
   {
    "duration": 130,
    "start_time": "2024-07-14T17:55:08.552Z"
   }
  ],
  "kernelspec": {
   "display_name": "Python 3 (ipykernel)",
   "language": "python",
   "name": "python3"
  },
  "language_info": {
   "codemirror_mode": {
    "name": "ipython",
    "version": 3
   },
   "file_extension": ".py",
   "mimetype": "text/x-python",
   "name": "python",
   "nbconvert_exporter": "python",
   "pygments_lexer": "ipython3",
   "version": "3.9.5"
  },
  "toc": {
   "base_numbering": 1,
   "nav_menu": {},
   "number_sections": true,
   "sideBar": true,
   "skip_h1_title": true,
   "title_cell": "Table of Contents",
   "title_sidebar": "Contents",
   "toc_cell": false,
   "toc_position": {
    "height": "calc(100% - 180px)",
    "left": "10px",
    "top": "150px",
    "width": "303.825px"
   },
   "toc_section_display": true,
   "toc_window_display": true
  }
 },
 "nbformat": 4,
 "nbformat_minor": 5
}
